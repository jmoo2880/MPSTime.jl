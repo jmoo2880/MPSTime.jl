{
 "cells": [
  {
   "cell_type": "code",
   "execution_count": 1,
   "metadata": {},
   "outputs": [
    {
     "name": "stderr",
     "output_type": "stream",
     "text": [
      "\u001b[32m\u001b[1m  Activating\u001b[22m\u001b[39m project at `~/Documents/QML Project/QuantumInspiredML`\n"
     ]
    },
    {
     "data": {
      "text/plain": [
       "loadMPS (generic function with 1 method)"
      ]
     },
     "metadata": {},
     "output_type": "display_data"
    }
   ],
   "source": [
    "using Pkg\n",
    "Pkg.activate(\"../Project.toml\")\n",
    "\n",
    "using ITensors\n",
    "import NDTensors\n",
    "include(\"summary.jl\")\n",
    "include(\"utils.jl\")"
   ]
  },
  {
   "cell_type": "code",
   "execution_count": 2,
   "metadata": {},
   "outputs": [
    {
     "data": {
      "text/plain": [
       "generate_startingMPS (generic function with 1 method)"
      ]
     },
     "metadata": {},
     "output_type": "display_data"
    }
   ],
   "source": [
    "function generate_startingMPS(χ_init, site_indices::Vector{Index{Int64}};\n",
    "    num_classes = 2, random_state=nothing)\n",
    "    \"\"\"Generate the starting weight MPS, W using values sampled from a \n",
    "    Gaussian (normal) distribution. Accepts a χ_init parameter which\n",
    "    specifies the initial (uniform) bond dimension of the MPS.\"\"\"\n",
    "    \n",
    "    if random_state !== nothing\n",
    "        # use seed if specified\n",
    "        Random.seed!(random_state)\n",
    "        println(\"Generating initial weight MPS with bond dimension χ = $χ_init\n",
    "        using random state $random_state.\")\n",
    "    else\n",
    "        println(\"Generating initial weight MPS with bond dimension χ = $χ_init.\")\n",
    "    end\n",
    "\n",
    "    W = randomMPS(ComplexF64,site_indices, linkdims=χ_init)\n",
    "\n",
    "    label_idx = Index(num_classes, \"f(x)\")\n",
    "\n",
    "    # get the site of interest and copy over the indices at the last site where we attach the label \n",
    "    old_site_idxs = inds(W[end])\n",
    "    new_site_idxs = old_site_idxs, label_idx\n",
    "    new_site = randomITensor(new_site_idxs)\n",
    "\n",
    "    # add the new site back into the MPS\n",
    "    W[end] = new_site\n",
    "\n",
    "    # normalise the MPS\n",
    "    normalize!(W)\n",
    "\n",
    "    # canonicalise - bring MPS into canonical form by making all tensors 1,...,j-1 left orthogonal\n",
    "    # here we assume we start at the right most index\n",
    "    last_site = length(site_indices)\n",
    "    orthogonalize!(W, last_site)\n",
    "\n",
    "    return W\n",
    "\n",
    "end\n"
   ]
  },
  {
   "cell_type": "code",
   "execution_count": 3,
   "metadata": {},
   "outputs": [
    {
     "name": "stdout",
     "output_type": "stream",
     "text": [
      "Using χ_init=4 and a maximum of nsweep sweeps...\n",
      "Using 9 iterations per update.\n",
      "Initialising train states.\n",
      "Initialising valid states.\n",
      "Initialising test states.\n",
      "Generating initial weight MPS with bond dimension χ = 4\n",
      "        using random state 123456.\n"
     ]
    }
   ],
   "source": [
    "random_state=123456\n",
    "update_iters = 9\n",
    "χ_init = 4\n",
    "(X_train, y_train), (X_val, y_val), (X_test, y_test) = load_splits_txt(\"datasets/ECG_train.txt\", \n",
    "    \"datasets/ECG_val.txt\", \"datasets/ECG_test.txt\")\n",
    "\n",
    "X_train = vcat(X_train, X_val)\n",
    "y_train = vcat(y_train, y_val)   \n",
    "   \n",
    "# first, create the site indices for the MPS and product states \n",
    "num_mps_sites = size(X_train)[2]\n",
    "sites = siteinds(\"S=1/2\", num_mps_sites)\n",
    "println(\"Using χ_init=$χ_init and a maximum of $nsweep sweeps...\")\n",
    "println(\"Using $update_iters iterations per update.\")\n",
    "\n",
    "# now let's handle the training/validation/testing data\n",
    "# rescale using a robust sigmoid transform\n",
    "scaler = fit_scaler(RobustSigmoidTransform, X_train; positive=true);\n",
    "X_train_scaled = transform_data(scaler, X_train)\n",
    "X_val_scaled = transform_data(scaler, X_val)\n",
    "X_test_scaled = transform_data(scaler, X_test)\n",
    "\n",
    "# generate product states using rescaled data\n",
    "\n",
    "training_states = generate_all_product_states(X_train_scaled, y_train, \"train\", sites)\n",
    "validation_states = generate_all_product_states(X_val_scaled, y_val, \"valid\", sites)\n",
    "testing_states = generate_all_product_states(X_test_scaled, y_test, \"test\", sites)\n",
    "\n",
    "# generate the starting MPS with unfirom bond dimension χ_init and random values (with seed if provided)\n",
    "num_classes = length(unique(y_train))\n",
    "W = generate_startingMPS(χ_init, sites; num_classes=num_classes, random_state=random_state)\n",
    "\n",
    "\n",
    "    ;"
   ]
  },
  {
   "cell_type": "code",
   "execution_count": 9,
   "metadata": {},
   "outputs": [
    {
     "data": {
      "text/plain": [
       "ITensor ord=1 (dim=2|id=335|\"S=1/2,Site,n=4\")\n",
       "NDTensors.Dense{ComplexF64, Vector{ComplexF64}}"
      ]
     },
     "metadata": {},
     "output_type": "display_data"
    }
   ],
   "source": [
    "ps = testing_states[1].pstate[4]\n",
    "psc = conj(testing_states[1].pstate)[4]"
   ]
  },
  {
   "cell_type": "code",
   "execution_count": 10,
   "metadata": {},
   "outputs": [
    {
     "name": "stdout",
     "output_type": "stream",
     "text": [
      "ps[2] = -0.18403182251595995 + 0.9809770924363289im\n",
      "psc[2] = -0.18403182251595995 - 0.9809770924363289im\n"
     ]
    },
    {
     "data": {
      "text/plain": [
       "-0.18403182251595995 - 0.9809770924363289im"
      ]
     },
     "metadata": {},
     "output_type": "display_data"
    }
   ],
   "source": [
    "@show ps[2]\n",
    "\n",
    "@show psc[2]"
   ]
  },
  {
   "cell_type": "code",
   "execution_count": 20,
   "metadata": {},
   "outputs": [],
   "source": [
    "W2 = loadMPS(\"saved/test\", \"W\");"
   ]
  },
  {
   "cell_type": "code",
   "execution_count": 21,
   "metadata": {},
   "outputs": [
    {
     "data": {
      "text/plain": [
       "true"
      ]
     },
     "metadata": {},
     "output_type": "display_data"
    }
   ],
   "source": [
    "isapprox(W,W2)"
   ]
  },
  {
   "cell_type": "code",
   "execution_count": 23,
   "metadata": {},
   "outputs": [
    {
     "data": {
      "text/plain": [
       "ITensor ord=2 (dim=2|id=723|\"S=1/2,Site,n=1\") (dim=2|id=813|\"Link,l=1\")\n",
       "NDTensors.Dense{ComplexF64, Vector{ComplexF64}}"
      ]
     },
     "metadata": {},
     "output_type": "display_data"
    }
   ],
   "source": []
  },
  {
   "cell_type": "code",
   "execution_count": null,
   "metadata": {},
   "outputs": [],
   "source": []
  }
 ],
 "metadata": {
  "kernelspec": {
   "display_name": "Julia 1.10.2",
   "language": "julia",
   "name": "julia-1.10"
  },
  "language_info": {
   "file_extension": ".jl",
   "mimetype": "application/julia",
   "name": "julia",
   "version": "1.10.2"
  }
 },
 "nbformat": 4,
 "nbformat_minor": 2
}
