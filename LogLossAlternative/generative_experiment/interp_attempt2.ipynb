{
 "cells": [
  {
   "cell_type": "code",
   "execution_count": 208,
   "metadata": {},
   "outputs": [],
   "source": [
    "using ITensors\n",
    "using Random\n",
    "using Plots\n",
    "using QuadGK\n",
    "using Roots\n",
    "using StatsBase"
   ]
  },
  {
   "cell_type": "code",
   "execution_count": 209,
   "metadata": {},
   "outputs": [
    {
     "data": {
      "text/plain": [
       "sample_state_from_rdm (generic function with 1 method)"
      ]
     },
     "metadata": {},
     "output_type": "display_data"
    }
   ],
   "source": [
    "function get_probability_density(x::Float64, rdm::Matrix)\n",
    "    \"\"\"Takes in the 1-site reduced density matrix and \n",
    "    returns the probability of a given time series value, x \n",
    "    (note, x is before applying encoding, NOT ϕ(x)).\"\"\"\n",
    "    # convert time series value to encoded state by applying feature map\n",
    "    # our complex feature map\n",
    "    state = [exp(1im * (3π/2) * x) * cospi(0.5 * x), exp(-1im * (3π/2) * x) * sinpi(0.5 * x)]\n",
    "    return abs(state' * rdm * state) # |<x|ρ|x>|\n",
    "end\n",
    "\n",
    "function get_normalisation_constant(rdm::Matrix)\n",
    "    \"\"\"Get the normalisation constant Z for the pdf\"\"\"\n",
    "    prob_density_wrapper(x) = get_probability_density(x, rdm)\n",
    "    norm_const, _ = quadgk(prob_density_wrapper, 0, 1) # integrate over data/x domain\n",
    "    return norm_const\n",
    "end\n",
    "\n",
    "function get_cdf(x::Float64, rdm::Matrix, integral_norm_const::Float64)\n",
    "    \"\"\"Get the cumulative distribution function via numerical integration of\n",
    "    the probability density function.\n",
    "\n",
    "        Returns cdf evaluated at x where x is the proposed value i.e., F(x).\"\"\"\n",
    "\n",
    "    prob_density_wrapper(x_prime) = (1/integral_norm_const) * get_probability_density(x_prime, rdm)\n",
    "\n",
    "    cdf_val, _ = quadgk(prob_density_wrapper, 0, x) # pdf has support on the interval [0, 1] so integrate accordingly\n",
    "    \n",
    "    return cdf_val\n",
    "end\n",
    "\n",
    "function sample_state_from_rdm(rdm)\n",
    "    \"\"\"Given a 1 site RDM, samples a random value according to the\n",
    "    conditional distribution encapsulated by the rdm using inverse transform sampling.\n",
    "    Returns both the sampled value x (the un-feature mapped value) and the feature mapped\n",
    "    value ϕ(x).\"\"\"\n",
    "    norm_factor = get_normalisation_constant(rdm)\n",
    "    u = rand() # sample a uniform random value from ~U(0,1)\n",
    "    # solve for x by defining an auxilary function g(x) such that g(x) = F(x) - u and then use root finder to solve for x such that g(x) = 0\n",
    "    cdf_wrapper(x) = get_cdf(x, rdm, norm_factor) - u\n",
    "    sampled_x = find_zero(cdf_wrapper, (0, 1); rtol=0)\n",
    "    # map sampled value back to a state\n",
    "    sampled_state = [exp(1im * (3π/2) * sampled_x) * cospi(0.5 * sampled_x), exp(-1im * (3π/2) * sampled_x) * sinpi(0.5 * sampled_x)]\n",
    "    \n",
    "    return sampled_x, sampled_state\n",
    "\n",
    "end"
   ]
  },
  {
   "cell_type": "markdown",
   "metadata": {},
   "source": [
    "# Shrinking MPS approach"
   ]
  },
  {
   "cell_type": "markdown",
   "metadata": {},
   "source": [
    "6 site MPS, condition at sites 3, 5 - interpolate the rest. Resulting mps after conditioning should be 4 sites long and consist of the original sites 1,2,4,6"
   ]
  },
  {
   "cell_type": "code",
   "execution_count": 210,
   "metadata": {},
   "outputs": [],
   "source": [
    "s = siteinds(\"S=1/2\", 6)\n",
    "mps = randomMPS(ComplexF64, s; linkdims=4);"
   ]
  },
  {
   "cell_type": "markdown",
   "metadata": {},
   "source": [
    "Start by measuring at site 3"
   ]
  },
  {
   "cell_type": "code",
   "execution_count": 211,
   "metadata": {},
   "outputs": [
    {
     "data": {
      "text/plain": [
       "MPS\n",
       "[1] ((dim=2|id=733|\"S=1/2,Site,n=1\"), (dim=2|id=618|\"Link,l=1\"))\n",
       "[2] ((dim=2|id=555|\"S=1/2,Site,n=2\"), (dim=2|id=618|\"Link,l=1\"), (dim=4|id=361|\"Link,l=2\"))\n",
       "[3] ((dim=2|id=95|\"S=1/2,Site,n=3\"), (dim=4|id=242|\"Link,l=3\"), (dim=4|id=361|\"Link,l=2\"))\n",
       "[4] ((dim=4|id=242|\"Link,l=3\"), (dim=2|id=122|\"S=1/2,Site,n=4\"), (dim=4|id=903|\"Link,l=4\"))\n",
       "[5] ((dim=4|id=903|\"Link,l=4\"), (dim=2|id=567|\"S=1/2,Site,n=5\"), (dim=2|id=222|\"Link,l=5\"))\n",
       "[6] ((dim=2|id=222|\"Link,l=5\"), (dim=2|id=680|\"S=1/2,Site,n=6\"))\n"
      ]
     },
     "metadata": {},
     "output_type": "display_data"
    }
   ],
   "source": [
    "orthogonalize!(mps, 3)"
   ]
  },
  {
   "cell_type": "code",
   "execution_count": 212,
   "metadata": {},
   "outputs": [
    {
     "data": {
      "text/plain": [
       "ITensor ord=3 (dim=2|id=122|\"S=1/2,Site,n=4\") (dim=4|id=903|\"Link,l=4\") (dim=4|id=361|\"Link,l=2\")\n",
       "NDTensors.Dense{ComplexF64, Vector{ComplexF64}}"
      ]
     },
     "metadata": {},
     "output_type": "display_data"
    }
   ],
   "source": [
    "A = mps[3];\n",
    "rdm = prime(A, s[3]) * dag(A)\n",
    "rdm_m = matrix(rdm);\n",
    "known_x = 0.3\n",
    "known_state = [exp(1im * (3π/2) * known_x) * cospi(0.5 * known_x), exp(-1im * (3π/2) * known_x) * sinpi(0.5 * known_x)]\n",
    "known_state_as_ITensor = ITensor(known_state, s[3]);\n",
    "Am = A * dag(known_state_as_ITensor)\n",
    "# absorb into right site\n",
    "A_new = mps[4] * Am"
   ]
  },
  {
   "cell_type": "code",
   "execution_count": 213,
   "metadata": {},
   "outputs": [],
   "source": [
    "proba_state = get_probability_density(known_x, rdm_m)\n",
    "A_new *= 1/sqrt(proba_state);"
   ]
  },
  {
   "cell_type": "code",
   "execution_count": 214,
   "metadata": {},
   "outputs": [
    {
     "data": {
      "text/plain": [
       "0.9999999999999997"
      ]
     },
     "metadata": {},
     "output_type": "display_data"
    }
   ],
   "source": [
    "norm(A_new)"
   ]
  },
  {
   "cell_type": "markdown",
   "metadata": {},
   "source": [
    "Store new mps. Contains all sites from original MPS except measurement site and it's right neighbour (which is now updated)."
   ]
  },
  {
   "cell_type": "code",
   "execution_count": 215,
   "metadata": {},
   "outputs": [
    {
     "data": {
      "text/plain": [
       "5:6"
      ]
     },
     "metadata": {},
     "output_type": "display_data"
    }
   ],
   "source": [
    "current_site = 3\n",
    "prev = 1:current_site-1\n",
    "next = (current_site+2):length(mps)"
   ]
  },
  {
   "cell_type": "code",
   "execution_count": 216,
   "metadata": {},
   "outputs": [
    {
     "data": {
      "text/plain": [
       "MPS\n",
       "[1] ((dim=2|id=733|\"S=1/2,Site,n=1\"), (dim=2|id=618|\"Link,l=1\"))\n",
       "[2] ((dim=2|id=555|\"S=1/2,Site,n=2\"), (dim=2|id=618|\"Link,l=1\"), (dim=4|id=361|\"Link,l=2\"))\n",
       "[3] ((dim=2|id=122|\"S=1/2,Site,n=4\"), (dim=4|id=903|\"Link,l=4\"), (dim=4|id=361|\"Link,l=2\"))\n",
       "[4] ((dim=4|id=903|\"Link,l=4\"), (dim=2|id=567|\"S=1/2,Site,n=5\"), (dim=2|id=222|\"Link,l=5\"))\n",
       "[5] ((dim=2|id=222|\"Link,l=5\"), (dim=2|id=680|\"S=1/2,Site,n=6\"))\n"
      ]
     },
     "metadata": {},
     "output_type": "display_data"
    }
   ],
   "source": [
    "new_mps = MPS(vcat(mps[prev], A_new, mps[next]))"
   ]
  },
  {
   "cell_type": "code",
   "execution_count": 217,
   "metadata": {},
   "outputs": [
    {
     "data": {
      "text/plain": [
       "0.9999999999999993"
      ]
     },
     "metadata": {},
     "output_type": "display_data"
    }
   ],
   "source": [
    "norm(new_mps)"
   ]
  },
  {
   "cell_type": "markdown",
   "metadata": {},
   "source": [
    "Now measure site 5"
   ]
  },
  {
   "cell_type": "code",
   "execution_count": 219,
   "metadata": {},
   "outputs": [
    {
     "data": {
      "text/plain": [
       "4"
      ]
     },
     "metadata": {},
     "output_type": "display_data"
    }
   ],
   "source": [
    "site_5_loc = findsite(new_mps, s[5])"
   ]
  },
  {
   "cell_type": "code",
   "execution_count": 221,
   "metadata": {},
   "outputs": [
    {
     "data": {
      "text/plain": [
       "MPS\n",
       "[1] ((dim=2|id=733|\"S=1/2,Site,n=1\"), (dim=2|id=811|\"Link,l=1\"))\n",
       "[2] ((dim=2|id=555|\"S=1/2,Site,n=2\"), (dim=2|id=811|\"Link,l=1\"), (dim=4|id=866|\"Link,l=2\"))\n",
       "[3] ((dim=2|id=122|\"S=1/2,Site,n=4\"), (dim=4|id=866|\"Link,l=2\"), (dim=4|id=319|\"Link,l=4\"))\n",
       "[4] ((dim=2|id=567|\"S=1/2,Site,n=5\"), (dim=4|id=319|\"Link,l=4\"), (dim=2|id=926|\"Link,l=5\"))\n",
       "[5] ((dim=2|id=680|\"S=1/2,Site,n=6\"), (dim=2|id=926|\"Link,l=5\"))\n"
      ]
     },
     "metadata": {},
     "output_type": "display_data"
    }
   ],
   "source": [
    "orthogonalize!(new_mps, site_5_loc)"
   ]
  },
  {
   "cell_type": "code",
   "execution_count": 222,
   "metadata": {},
   "outputs": [
    {
     "data": {
      "text/plain": [
       "ITensor ord=3 (dim=2|id=567|\"S=1/2,Site,n=5\") (dim=4|id=319|\"Link,l=4\") (dim=2|id=926|\"Link,l=5\")\n",
       "NDTensors.Dense{ComplexF64, Vector{ComplexF64}}"
      ]
     },
     "metadata": {},
     "output_type": "display_data"
    }
   ],
   "source": [
    "A = new_mps[site_5_loc]"
   ]
  },
  {
   "cell_type": "code",
   "execution_count": 223,
   "metadata": {},
   "outputs": [
    {
     "data": {
      "text/plain": [
       "ITensor ord=2 (dim=2|id=680|\"S=1/2,Site,n=6\") (dim=4|id=319|\"Link,l=4\")\n",
       "NDTensors.Dense{ComplexF64, Vector{ComplexF64}}"
      ]
     },
     "metadata": {},
     "output_type": "display_data"
    }
   ],
   "source": [
    "rdm = prime(A, s[5]) * dag(A)\n",
    "rdm_m = matrix(rdm);\n",
    "known_x = 0.9\n",
    "known_state = [exp(1im * (3π/2) * known_x) * cospi(0.5 * known_x), exp(-1im * (3π/2) * known_x) * sinpi(0.5 * known_x)]\n",
    "known_state_as_ITensor = ITensor(known_state, s[5]);\n",
    "Am = A * dag(known_state_as_ITensor)\n",
    "# absorb into right site\n",
    "A_new = new_mps[(site_5_loc+1)] * Am"
   ]
  },
  {
   "cell_type": "code",
   "execution_count": 224,
   "metadata": {},
   "outputs": [],
   "source": [
    "proba_state = get_probability_density(known_x, rdm_m)\n",
    "A_new *= 1/sqrt(proba_state);"
   ]
  },
  {
   "cell_type": "code",
   "execution_count": 225,
   "metadata": {},
   "outputs": [
    {
     "data": {
      "text/plain": [
       "1.0"
      ]
     },
     "metadata": {},
     "output_type": "display_data"
    }
   ],
   "source": [
    "norm(A_new)"
   ]
  },
  {
   "cell_type": "code",
   "execution_count": 228,
   "metadata": {},
   "outputs": [
    {
     "data": {
      "text/plain": [
       "MPS\n",
       "[1] ((dim=2|id=733|\"S=1/2,Site,n=1\"), (dim=2|id=811|\"Link,l=1\"))\n",
       "[2] ((dim=2|id=555|\"S=1/2,Site,n=2\"), (dim=2|id=811|\"Link,l=1\"), (dim=4|id=866|\"Link,l=2\"))\n",
       "[3] ((dim=2|id=122|\"S=1/2,Site,n=4\"), (dim=4|id=866|\"Link,l=2\"), (dim=4|id=319|\"Link,l=4\"))\n",
       "[4] ((dim=2|id=567|\"S=1/2,Site,n=5\"), (dim=4|id=319|\"Link,l=4\"), (dim=2|id=926|\"Link,l=5\"))\n",
       "[5] ((dim=2|id=680|\"S=1/2,Site,n=6\"), (dim=2|id=926|\"Link,l=5\"))\n"
      ]
     },
     "metadata": {},
     "output_type": "display_data"
    }
   ],
   "source": [
    "new_mps"
   ]
  },
  {
   "cell_type": "markdown",
   "metadata": {},
   "source": [
    "Store new mps"
   ]
  },
  {
   "cell_type": "code",
   "execution_count": 233,
   "metadata": {},
   "outputs": [
    {
     "data": {
      "text/plain": [
       "6:5"
      ]
     },
     "metadata": {},
     "output_type": "display_data"
    }
   ],
   "source": [
    "current_site = site_5_loc\n",
    "prev = 1:current_site-1\n",
    "next = (current_site+2):length(new_mps)"
   ]
  },
  {
   "cell_type": "code",
   "execution_count": 235,
   "metadata": {},
   "outputs": [
    {
     "data": {
      "text/plain": [
       "MPS\n",
       "[1] ((dim=2|id=733|\"S=1/2,Site,n=1\"), (dim=2|id=811|\"Link,l=1\"))\n",
       "[2] ((dim=2|id=555|\"S=1/2,Site,n=2\"), (dim=2|id=811|\"Link,l=1\"), (dim=4|id=866|\"Link,l=2\"))\n",
       "[3] ((dim=2|id=122|\"S=1/2,Site,n=4\"), (dim=4|id=866|\"Link,l=2\"), (dim=4|id=319|\"Link,l=4\"))\n",
       "[4] ((dim=2|id=680|\"S=1/2,Site,n=6\"), (dim=4|id=319|\"Link,l=4\"))\n"
      ]
     },
     "metadata": {},
     "output_type": "display_data"
    }
   ],
   "source": [
    "new_mps2 = MPS(vcat(new_mps[prev], A_new))"
   ]
  },
  {
   "cell_type": "code",
   "execution_count": 236,
   "metadata": {},
   "outputs": [
    {
     "data": {
      "text/plain": [
       "0.9999999999999998"
      ]
     },
     "metadata": {},
     "output_type": "display_data"
    }
   ],
   "source": [
    "norm(new_mps2)"
   ]
  },
  {
   "cell_type": "markdown",
   "metadata": {},
   "source": [
    "### Trial 2\n",
    "\n",
    "Measure sites 1, 3, 5 in a 6 site mps -> remaining mps should be original sites 2, 4, 6"
   ]
  },
  {
   "cell_type": "code",
   "execution_count": 237,
   "metadata": {},
   "outputs": [],
   "source": [
    "s = siteinds(\"S=1/2\", 6)\n",
    "mps = randomMPS(ComplexF64, s; linkdims=4);"
   ]
  },
  {
   "cell_type": "code",
   "execution_count": 239,
   "metadata": {},
   "outputs": [],
   "source": [
    "orthogonalize!(mps, 1);"
   ]
  },
  {
   "cell_type": "code",
   "execution_count": 240,
   "metadata": {},
   "outputs": [
    {
     "data": {
      "text/plain": [
       "ITensor ord=2 (dim=2|id=546|\"S=1/2,Site,n=2\") (dim=4|id=352|\"Link,l=2\")\n",
       "NDTensors.Dense{ComplexF64, Vector{ComplexF64}}"
      ]
     },
     "metadata": {},
     "output_type": "display_data"
    }
   ],
   "source": [
    "A = mps[1];\n",
    "rdm = prime(A, s[1]) * dag(A)\n",
    "rdm_m = matrix(rdm);\n",
    "known_x = 0.4866\n",
    "known_state = [exp(1im * (3π/2) * known_x) * cospi(0.5 * known_x), exp(-1im * (3π/2) * known_x) * sinpi(0.5 * known_x)]\n",
    "known_state_as_ITensor = ITensor(known_state, s[1]);\n",
    "Am = A * dag(known_state_as_ITensor)\n",
    "# absorb into right site\n",
    "A_new = mps[2] * Am"
   ]
  },
  {
   "cell_type": "code",
   "execution_count": 241,
   "metadata": {},
   "outputs": [],
   "source": [
    "proba_state = get_probability_density(known_x, rdm_m)\n",
    "A_new *= 1/sqrt(proba_state);"
   ]
  },
  {
   "cell_type": "code",
   "execution_count": 242,
   "metadata": {},
   "outputs": [
    {
     "data": {
      "text/plain": [
       "0.9999999999999997"
      ]
     },
     "metadata": {},
     "output_type": "display_data"
    }
   ],
   "source": [
    "norm(A_new)"
   ]
  },
  {
   "cell_type": "markdown",
   "metadata": {},
   "source": [
    "If current site = 1, then no prev, and if current site = length of current mps, then no next"
   ]
  },
  {
   "cell_type": "code",
   "execution_count": 243,
   "metadata": {},
   "outputs": [
    {
     "data": {
      "text/plain": [
       "3:6"
      ]
     },
     "metadata": {},
     "output_type": "display_data"
    }
   ],
   "source": [
    "current_site = 1\n",
    "next = (current_site+2):length(mps)"
   ]
  },
  {
   "cell_type": "code",
   "execution_count": 244,
   "metadata": {},
   "outputs": [
    {
     "data": {
      "text/plain": [
       "MPS\n",
       "[1] ((dim=2|id=546|\"S=1/2,Site,n=2\"), (dim=4|id=352|\"Link,l=2\"))\n",
       "[2] ((dim=4|id=352|\"Link,l=2\"), (dim=2|id=200|\"S=1/2,Site,n=3\"), (dim=4|id=341|\"Link,l=3\"))\n",
       "[3] ((dim=4|id=341|\"Link,l=3\"), (dim=2|id=61|\"S=1/2,Site,n=4\"), (dim=4|id=823|\"Link,l=4\"))\n",
       "[4] ((dim=4|id=823|\"Link,l=4\"), (dim=2|id=275|\"S=1/2,Site,n=5\"), (dim=2|id=92|\"Link,l=5\"))\n",
       "[5] ((dim=2|id=92|\"Link,l=5\"), (dim=2|id=605|\"S=1/2,Site,n=6\"))\n"
      ]
     },
     "metadata": {},
     "output_type": "display_data"
    }
   ],
   "source": [
    "new_mps = MPS(vcat(A_new, mps[next]))"
   ]
  },
  {
   "cell_type": "code",
   "execution_count": 245,
   "metadata": {},
   "outputs": [
    {
     "data": {
      "text/plain": [
       "0.9999999999999997"
      ]
     },
     "metadata": {},
     "output_type": "display_data"
    }
   ],
   "source": [
    "norm(new_mps)"
   ]
  },
  {
   "cell_type": "markdown",
   "metadata": {},
   "source": [
    "now measure site 3..."
   ]
  },
  {
   "cell_type": "code",
   "execution_count": 246,
   "metadata": {},
   "outputs": [
    {
     "data": {
      "text/plain": [
       "2"
      ]
     },
     "metadata": {},
     "output_type": "display_data"
    }
   ],
   "source": [
    "site_3_loc = findsite(new_mps, s[3])"
   ]
  },
  {
   "cell_type": "code",
   "execution_count": 249,
   "metadata": {},
   "outputs": [],
   "source": [
    "orthogonalize!(new_mps, site_3_loc);"
   ]
  },
  {
   "cell_type": "code",
   "execution_count": 252,
   "metadata": {},
   "outputs": [
    {
     "data": {
      "text/plain": [
       "ITensor ord=3 (dim=2|id=61|\"S=1/2,Site,n=4\") (dim=4|id=780|\"Link,l=4\") (dim=2|id=865|\"Link,l=2\")\n",
       "NDTensors.Dense{ComplexF64, Vector{ComplexF64}}"
      ]
     },
     "metadata": {},
     "output_type": "display_data"
    }
   ],
   "source": [
    "A = new_mps[site_3_loc];\n",
    "rdm = prime(A, s[3]) * dag(A)\n",
    "rdm_m = matrix(rdm);\n",
    "known_x = 0.95\n",
    "known_state = [exp(1im * (3π/2) * known_x) * cospi(0.5 * known_x), exp(-1im * (3π/2) * known_x) * sinpi(0.5 * known_x)]\n",
    "known_state_as_ITensor = ITensor(known_state, s[3]);\n",
    "Am = A * dag(known_state_as_ITensor)\n",
    "# absorb into right site\n",
    "A_new = new_mps[site_3_loc+1] * Am"
   ]
  },
  {
   "cell_type": "code",
   "execution_count": 253,
   "metadata": {},
   "outputs": [],
   "source": [
    "proba_state = get_probability_density(known_x, rdm_m)\n",
    "A_new *= 1/sqrt(proba_state);"
   ]
  },
  {
   "cell_type": "code",
   "execution_count": 254,
   "metadata": {},
   "outputs": [
    {
     "data": {
      "text/plain": [
       "1.0"
      ]
     },
     "metadata": {},
     "output_type": "display_data"
    }
   ],
   "source": [
    "norm(A_new)"
   ]
  },
  {
   "cell_type": "code",
   "execution_count": 255,
   "metadata": {},
   "outputs": [
    {
     "data": {
      "text/plain": [
       "4:5"
      ]
     },
     "metadata": {},
     "output_type": "display_data"
    }
   ],
   "source": [
    "current_site = site_3_loc\n",
    "prev = 1:current_site-1\n",
    "next = (current_site+2):length(new_mps)"
   ]
  },
  {
   "cell_type": "code",
   "execution_count": 258,
   "metadata": {},
   "outputs": [
    {
     "data": {
      "text/plain": [
       "MPS\n",
       "[1] ((dim=2|id=546|\"S=1/2,Site,n=2\"), (dim=2|id=865|\"Link,l=2\"))\n",
       "[2] ((dim=2|id=61|\"S=1/2,Site,n=4\"), (dim=4|id=780|\"Link,l=4\"), (dim=2|id=865|\"Link,l=2\"))\n",
       "[3] ((dim=2|id=275|\"S=1/2,Site,n=5\"), (dim=2|id=862|\"Link,l=5\"), (dim=4|id=780|\"Link,l=4\"))\n",
       "[4] ((dim=2|id=605|\"S=1/2,Site,n=6\"), (dim=2|id=862|\"Link,l=5\"))\n"
      ]
     },
     "metadata": {},
     "output_type": "display_data"
    }
   ],
   "source": [
    "new_mps2 = MPS(vcat(new_mps[prev], A_new, new_mps[next]))"
   ]
  },
  {
   "cell_type": "code",
   "execution_count": 259,
   "metadata": {},
   "outputs": [
    {
     "data": {
      "text/plain": [
       "1.0"
      ]
     },
     "metadata": {},
     "output_type": "display_data"
    }
   ],
   "source": [
    "norm(new_mps2)"
   ]
  },
  {
   "cell_type": "markdown",
   "metadata": {},
   "source": [
    "Now measure site 5"
   ]
  },
  {
   "cell_type": "code",
   "execution_count": 261,
   "metadata": {},
   "outputs": [
    {
     "data": {
      "text/plain": [
       "3"
      ]
     },
     "metadata": {},
     "output_type": "display_data"
    }
   ],
   "source": [
    "site_5_loc = findsite(new_mps2, s[5])"
   ]
  },
  {
   "cell_type": "code",
   "execution_count": 262,
   "metadata": {},
   "outputs": [],
   "source": [
    "orthogonalize!(new_mps2, site_5_loc);"
   ]
  },
  {
   "cell_type": "code",
   "execution_count": 263,
   "metadata": {},
   "outputs": [
    {
     "data": {
      "text/plain": [
       "ITensor ord=2 (dim=2|id=605|\"S=1/2,Site,n=6\") (dim=4|id=118|\"Link,l=4\")\n",
       "NDTensors.Dense{ComplexF64, Vector{ComplexF64}}"
      ]
     },
     "metadata": {},
     "output_type": "display_data"
    }
   ],
   "source": [
    "A = new_mps2[site_5_loc];\n",
    "rdm = prime(A, s[5]) * dag(A)\n",
    "rdm_m = matrix(rdm);\n",
    "known_x = 0.7\n",
    "known_state = [exp(1im * (3π/2) * known_x) * cospi(0.5 * known_x), exp(-1im * (3π/2) * known_x) * sinpi(0.5 * known_x)]\n",
    "known_state_as_ITensor = ITensor(known_state, s[5]);\n",
    "Am = A * dag(known_state_as_ITensor)\n",
    "# absorb into right site\n",
    "A_new = new_mps2[site_5_loc+1] * Am"
   ]
  },
  {
   "cell_type": "code",
   "execution_count": 264,
   "metadata": {},
   "outputs": [],
   "source": [
    "proba_state = get_probability_density(known_x, rdm_m)\n",
    "A_new *= 1/sqrt(proba_state);"
   ]
  },
  {
   "cell_type": "code",
   "execution_count": 265,
   "metadata": {},
   "outputs": [
    {
     "data": {
      "text/plain": [
       "1.0000000000000004"
      ]
     },
     "metadata": {},
     "output_type": "display_data"
    }
   ],
   "source": [
    "norm(A_new)"
   ]
  },
  {
   "cell_type": "code",
   "execution_count": 269,
   "metadata": {},
   "outputs": [
    {
     "data": {
      "text/plain": [
       "5:4"
      ]
     },
     "metadata": {},
     "output_type": "display_data"
    }
   ],
   "source": [
    "current_site = site_5_loc\n",
    "prev = 1:current_site-1\n",
    "next = (current_site+2):length(new_mps2)"
   ]
  },
  {
   "cell_type": "code",
   "execution_count": 270,
   "metadata": {},
   "outputs": [
    {
     "data": {
      "text/plain": [
       "MPS\n",
       "[1] ((dim=2|id=546|\"S=1/2,Site,n=2\"), (dim=2|id=673|\"Link,l=2\"))\n",
       "[2] ((dim=2|id=61|\"S=1/2,Site,n=4\"), (dim=2|id=673|\"Link,l=2\"), (dim=4|id=118|\"Link,l=4\"))\n",
       "[3] ((dim=2|id=605|\"S=1/2,Site,n=6\"), (dim=4|id=118|\"Link,l=4\"))\n"
      ]
     },
     "metadata": {},
     "output_type": "display_data"
    }
   ],
   "source": [
    "new_mps3 = MPS(vcat(new_mps2[prev], A_new))"
   ]
  },
  {
   "cell_type": "code",
   "execution_count": 271,
   "metadata": {},
   "outputs": [
    {
     "data": {
      "text/plain": [
       "1.0000000000000002"
      ]
     },
     "metadata": {},
     "output_type": "display_data"
    }
   ],
   "source": [
    "norm(new_mps3)"
   ]
  },
  {
   "cell_type": "code",
   "execution_count": 415,
   "metadata": {},
   "outputs": [],
   "source": [
    "s = siteinds(\"S=1/2\", 100)\n",
    "mps = randomMPS(ComplexF64, s; linkdims=4);\n",
    "ts = rand(100);"
   ]
  },
  {
   "cell_type": "code",
   "execution_count": 423,
   "metadata": {},
   "outputs": [
    {
     "data": {
      "text/plain": [
       "interpolate_acausal (generic function with 1 method)"
      ]
     },
     "metadata": {},
     "output_type": "display_data"
    }
   ],
   "source": [
    "function interpolate_acausal(label_mps::MPS, time_series::Vector{Float64},\n",
    "    interpolate_sites::Vector{Int})\n",
    "\n",
    "    mps = deepcopy(label_mps)\n",
    "    s = siteinds(mps)\n",
    "    known_sites = setdiff(collect(1:length(mps)), interpolate_sites)\n",
    "    x_samps = Vector{Float64}(undef, length(mps))\n",
    "    original_mps_length = length(mps)\n",
    "\n",
    "    # condition the mps on known values\n",
    "    for i in 1:original_mps_length\n",
    "        if i in known_sites\n",
    "            #println(\"Conditioning MPS at site n = $i using known value\")\n",
    "            site_loc = findsite(mps, s[i]) # use original site indices\n",
    "            #println(\"Site Loc: $site_loc\")\n",
    "            known_x = time_series[i]\n",
    "            x_samps[i] = known_x\n",
    "            orthogonalize!(mps, site_loc)\n",
    "            A = mps[site_loc]\n",
    "            # get the rdm\n",
    "            rdm = prime(A, s[i]) * dag(A)\n",
    "            rdm_m = matrix(rdm) # convert to matrix\n",
    "            known_state = [exp(1im * (3π/2) * known_x) * cospi(0.5 * known_x), exp(-1im * (3π/2) * known_x) * sinpi(0.5 * known_x)]\n",
    "            known_state_as_ITensor = ITensor(known_state, s[i]);\n",
    "            # make measurement by contracting with the site\n",
    "            Am = A * dag(known_state_as_ITensor)\n",
    "            # absorb into next site if it exists\n",
    "            if site_loc != length(mps)\n",
    "\n",
    "                A_new = mps[(site_loc+1)] * Am\n",
    "            else\n",
    "                # absorb into previous site\n",
    "                A_new = mps[(site_loc-1)] * Am\n",
    "            end\n",
    "            # normalise by the probability\n",
    "            proba_state = get_probability_density(known_x, rdm_m)\n",
    "            A_new *= 1/sqrt(proba_state);\n",
    "            # check the norm\n",
    "            if !isapprox(norm(A_new), 1.0)\n",
    "                error(\"Site not normalised\")\n",
    "            end\n",
    "\n",
    "            # make a new mps\n",
    "            current_site = site_loc\n",
    "\n",
    "            if current_site == 1\n",
    "                next = (current_site+2):length(mps)\n",
    "                new_mps = MPS(vcat(A_new, mps[next]))\n",
    "            elseif current_site == length(mps)\n",
    "                prev = 1:(current_site-2)\n",
    "                new_mps = MPS(vcat(mps[prev], A_new))\n",
    "            else\n",
    "                prev = 1:current_site-1\n",
    "                next = (current_site+2):length(mps)\n",
    "                new_mps = MPS(vcat(mps[prev], A_new, mps[next]))\n",
    "            end\n",
    "\n",
    "            mps = new_mps\n",
    "            #println(mps)\n",
    "\n",
    "        end\n",
    "\n",
    "    end\n",
    "\n",
    "    # now sample from the interpolation sites\n",
    "    # check the normalisation of the mps\n",
    "    if !isapprox(norm(mps), 1.0)\n",
    "        error(\"MPS is not normalised after conditioning: $(norm(mps))\")\n",
    "    end\n",
    "\n",
    "    # place the mps into right canonical form\n",
    "    #samples = []\n",
    "    orthogonalize!(mps, 1)\n",
    "    s = siteinds(mps)\n",
    "    A = mps[1]\n",
    "    count = 1\n",
    "    for i in eachindex(mps)\n",
    "        rdm = prime(A, s[i]) * dag(A)\n",
    "        rdm_m = matrix(rdm)\n",
    "        sampled_x, sampled_state = sample_state_from_rdm(rdm_m)\n",
    "        # use the site index to determine the location to save to\n",
    "        x_samps[interpolate_sites[count]] = sampled_x\n",
    "        #push!(samples, sampled_x)\n",
    "        if i != length(mps)\n",
    "            sampled_state_as_ITensor = ITensor(sampled_state, s[i])\n",
    "            proba_state = get_probability_density(sampled_x, rdm_m)\n",
    "            Am = A * dag(sampled_state_as_ITensor)\n",
    "            A_new = mps[(i+1)] * Am\n",
    "            A_new *= 1/sqrt(proba_state)\n",
    "            A = A_new\n",
    "        end\n",
    "        count += 1\n",
    "    end\n",
    "\n",
    "    return x_samps\n",
    "    \n",
    "end\n"
   ]
  },
  {
   "cell_type": "code",
   "execution_count": 434,
   "metadata": {},
   "outputs": [
    {
     "data": {
      "text/plain": [
       "100-element Vector{Float64}:\n",
       " 0.4356037774499279\n",
       " 0.9475631985540723\n",
       " 0.46821957597587543\n",
       " 0.3694785918560186\n",
       " 0.0992452216171611\n",
       " 0.43979010722301326\n",
       " 0.3189901254944145\n",
       " 0.14201105537088243\n",
       " 0.2790174754620762\n",
       " 0.7853199402776373\n",
       " ⋮\n",
       " 0.502483963385861\n",
       " 0.6523215937559151\n",
       " 0.0604228471968582\n",
       " 0.9339363322653922\n",
       " 0.017088994818340364\n",
       " 0.7929774714539313\n",
       " 0.34869381234206975\n",
       " 0.2224496867895035\n",
       " 0.1975398770783755"
      ]
     },
     "metadata": {},
     "output_type": "display_data"
    }
   ],
   "source": [
    "out = interpolate_acausal(mps, ts, [1, 2, 3]);\n",
    "out"
   ]
  },
  {
   "cell_type": "code",
   "execution_count": 440,
   "metadata": {},
   "outputs": [],
   "source": [
    "outs_all = Matrix{Float64}(undef, 100, 100)\n",
    "for i in 1:100\n",
    "    outs_all[i, :] = interpolate_acausal(mps, ts, collect(30:1:50));\n",
    "end"
   ]
  },
  {
   "cell_type": "code",
   "execution_count": 442,
   "metadata": {},
   "outputs": [],
   "source": [
    "mean_ts = mean(outs_all, dims=1)[1, :]\n",
    "std_ts = std(outs_all, dims=1)[1,:];"
   ]
  },
  {
   "cell_type": "code",
   "execution_count": 443,
   "metadata": {},
   "outputs": [
    {
     "data": {
      "image/png": "[encoded data removed]",
      "image/svg+xml": [
       "<?xml version=\"1.0\" encoding=\"utf-8\"?>\n",
       "<svg xmlns=\"http://www.w3.org/2000/svg\" xmlns:xlink=\"http://www.w3.org/1999/xlink\" width=\"600\" height=\"400\" viewBox=\"0 0 2400 1600\">\n",
       "<defs>\n",
       "  <clipPath id=\"clip980\">\n",
       "    <rect x=\"0\" y=\"0\" width=\"2400\" height=\"1600\"/>\n",
       "  </clipPath>\n",
       "</defs>\n",
       "<path clip-path=\"url(#clip980)\" d=\"M0 1600 L2400 1600 L2400 8.88178e-14 L0 8.88178e-14  Z\" fill=\"#ffffff\" fill-rule=\"evenodd\" fill-opacity=\"1\"/>\n",
       "<defs>\n",
       "  <clipPath id=\"clip981\">\n",
       "    <rect x=\"480\" y=\"0\" width=\"1681\" height=\"1600\"/>\n",
       "  </clipPath>\n",
       "</defs>\n",
       "<path clip-path=\"url(#clip980)\" d=\"M186.274 1486.45 L2352.76 1486.45 L2352.76 47.2441 L186.274 47.2441  Z\" fill=\"#ffffff\" fill-rule=\"evenodd\" fill-opacity=\"1\"/>\n",
       "<defs>\n",
       "  <clipPath id=\"clip982\">\n",
       "    <rect x=\"186\" y=\"47\" width=\"2167\" height=\"1440\"/>\n",
       "  </clipPath>\n",
       "</defs>\n",
       "<polyline clip-path=\"url(#clip982)\" style=\"stroke:#000000; stroke-linecap:round; stroke-linejoin:round; stroke-width:2; stroke-opacity:0.1; fill:none\" points=\"226.945,1486.45 226.945,47.2441 \"/>\n",
       "<polyline clip-path=\"url(#clip982)\" style=\"stroke:#000000; stroke-linecap:round; stroke-linejoin:round; stroke-width:2; stroke-opacity:0.1; fill:none\" points=\"743.069,1486.45 743.069,47.2441 \"/>\n",
       "<polyline clip-path=\"url(#clip982)\" style=\"stroke:#000000; stroke-linecap:round; stroke-linejoin:round; stroke-width:2; stroke-opacity:0.1; fill:none\" points=\"1259.19,1486.45 1259.19,47.2441 \"/>\n",
       "<polyline clip-path=\"url(#clip982)\" style=\"stroke:#000000; stroke-linecap:round; stroke-linejoin:round; stroke-width:2; stroke-opacity:0.1; fill:none\" points=\"1775.32,1486.45 1775.32,47.2441 \"/>\n",
       "<polyline clip-path=\"url(#clip982)\" style=\"stroke:#000000; stroke-linecap:round; stroke-linejoin:round; stroke-width:2; stroke-opacity:0.1; fill:none\" points=\"2291.44,1486.45 2291.44,47.2441 \"/>\n",
       "<polyline clip-path=\"url(#clip980)\" style=\"stroke:#000000; stroke-linecap:round; stroke-linejoin:round; stroke-width:4; stroke-opacity:1; fill:none\" points=\"186.274,1486.45 2352.76,1486.45 \"/>\n",
       "<polyline clip-path=\"url(#clip980)\" style=\"stroke:#000000; stroke-linecap:round; stroke-linejoin:round; stroke-width:4; stroke-opacity:1; fill:none\" points=\"226.945,1486.45 226.945,1467.55 \"/>\n",
       "<polyline clip-path=\"url(#clip980)\" style=\"stroke:#000000; stroke-linecap:round; stroke-linejoin:round; stroke-width:4; stroke-opacity:1; fill:none\" points=\"743.069,1486.45 743.069,1467.55 \"/>\n",
       "<polyline clip-path=\"url(#clip980)\" style=\"stroke:#000000; stroke-linecap:round; stroke-linejoin:round; stroke-width:4; stroke-opacity:1; fill:none\" points=\"1259.19,1486.45 1259.19,1467.55 \"/>\n",
       "<polyline clip-path=\"url(#clip980)\" style=\"stroke:#000000; stroke-linecap:round; stroke-linejoin:round; stroke-width:4; stroke-opacity:1; fill:none\" points=\"1775.32,1486.45 1775.32,1467.55 \"/>\n",
       "<polyline clip-path=\"url(#clip980)\" style=\"stroke:#000000; stroke-linecap:round; stroke-linejoin:round; stroke-width:4; stroke-opacity:1; fill:none\" points=\"2291.44,1486.45 2291.44,1467.55 \"/>\n",
       "<path clip-path=\"url(#clip980)\" d=\"M226.945 1517.37 Q223.333 1517.37 221.505 1520.93 Q219.699 1524.47 219.699 1531.6 Q219.699 1538.71 221.505 1542.27 Q223.333 1545.82 226.945 1545.82 Q230.579 1545.82 232.384 1542.27 Q234.213 1538.71 234.213 1531.6 Q234.213 1524.47 232.384 1520.93 Q230.579 1517.37 226.945 1517.37 M226.945 1513.66 Q232.755 1513.66 235.81 1518.27 Q238.889 1522.85 238.889 1531.6 Q238.889 1540.33 235.81 1544.94 Q232.755 1549.52 226.945 1549.52 Q221.134 1549.52 218.056 1544.94 Q215 1540.33 215 1531.6 Q215 1522.85 218.056 1518.27 Q221.134 1513.66 226.945 1513.66 Z\" fill=\"#000000\" fill-rule=\"nonzero\" fill-opacity=\"1\" /><path clip-path=\"url(#clip980)\" d=\"M722.339 1544.91 L738.659 1544.91 L738.659 1548.85 L716.714 1548.85 L716.714 1544.91 Q719.377 1542.16 723.96 1537.53 Q728.566 1532.88 729.747 1531.53 Q731.992 1529.01 732.872 1527.27 Q733.775 1525.51 733.775 1523.82 Q733.775 1521.07 731.83 1519.33 Q729.909 1517.6 726.807 1517.6 Q724.608 1517.6 722.154 1518.36 Q719.724 1519.13 716.946 1520.68 L716.946 1515.95 Q719.77 1514.82 722.224 1514.24 Q724.677 1513.66 726.714 1513.66 Q732.085 1513.66 735.279 1516.35 Q738.474 1519.03 738.474 1523.52 Q738.474 1525.65 737.663 1527.57 Q736.876 1529.47 734.77 1532.07 Q734.191 1532.74 731.089 1535.95 Q727.988 1539.15 722.339 1544.91 Z\" fill=\"#000000\" fill-rule=\"nonzero\" fill-opacity=\"1\" /><path clip-path=\"url(#clip980)\" d=\"M748.52 1514.29 L766.876 1514.29 L766.876 1518.22 L752.802 1518.22 L752.802 1526.7 Q753.821 1526.35 754.839 1526.19 Q755.858 1526 756.876 1526 Q762.663 1526 766.043 1529.17 Q769.423 1532.34 769.423 1537.76 Q769.423 1543.34 765.95 1546.44 Q762.478 1549.52 756.159 1549.52 Q753.983 1549.52 751.714 1549.15 Q749.469 1548.78 747.062 1548.04 L747.062 1543.34 Q749.145 1544.47 751.367 1545.03 Q753.589 1545.58 756.066 1545.58 Q760.071 1545.58 762.409 1543.48 Q764.747 1541.37 764.747 1537.76 Q764.747 1534.15 762.409 1532.04 Q760.071 1529.94 756.066 1529.94 Q754.191 1529.94 752.316 1530.35 Q750.464 1530.77 748.52 1531.65 L748.52 1514.29 Z\" fill=\"#000000\" fill-rule=\"nonzero\" fill-opacity=\"1\" /><path clip-path=\"url(#clip980)\" d=\"M1233.89 1514.29 L1252.25 1514.29 L1252.25 1518.22 L1238.17 1518.22 L1238.17 1526.7 Q1239.19 1526.35 1240.21 1526.19 Q1241.23 1526 1242.25 1526 Q1248.04 1526 1251.41 1529.17 Q1254.79 1532.34 1254.79 1537.76 Q1254.79 1543.34 1251.32 1546.44 Q1247.85 1549.52 1241.53 1549.52 Q1239.35 1549.52 1237.09 1549.15 Q1234.84 1548.78 1232.43 1548.04 L1232.43 1543.34 Q1234.52 1544.47 1236.74 1545.03 Q1238.96 1545.58 1241.44 1545.58 Q1245.44 1545.58 1247.78 1543.48 Q1250.12 1541.37 1250.12 1537.76 Q1250.12 1534.15 1247.78 1532.04 Q1245.44 1529.94 1241.44 1529.94 Q1239.56 1529.94 1237.69 1530.35 Q1235.84 1530.77 1233.89 1531.65 L1233.89 1514.29 Z\" fill=\"#000000\" fill-rule=\"nonzero\" fill-opacity=\"1\" /><path clip-path=\"url(#clip980)\" d=\"M1274.01 1517.37 Q1270.4 1517.37 1268.57 1520.93 Q1266.76 1524.47 1266.76 1531.6 Q1266.76 1538.71 1268.57 1542.27 Q1270.4 1545.82 1274.01 1545.82 Q1277.64 1545.82 1279.45 1542.27 Q1281.28 1538.71 1281.28 1531.6 Q1281.28 1524.47 1279.45 1520.93 Q1277.64 1517.37 1274.01 1517.37 M1274.01 1513.66 Q1279.82 1513.66 1282.87 1518.27 Q1285.95 1522.85 1285.95 1531.6 Q1285.95 1540.33 1282.87 1544.94 Q1279.82 1549.52 1274.01 1549.52 Q1268.2 1549.52 1265.12 1544.94 Q1262.06 1540.33 1262.06 1531.6 Q1262.06 1522.85 1265.12 1518.27 Q1268.2 1513.66 1274.01 1513.66 Z\" fill=\"#000000\" fill-rule=\"nonzero\" fill-opacity=\"1\" /><path clip-path=\"url(#clip980)\" d=\"M1749.17 1514.29 L1771.39 1514.29 L1771.39 1516.28 L1758.85 1548.85 L1753.96 1548.85 L1765.77 1518.22 L1749.17 1518.22 L1749.17 1514.29 Z\" fill=\"#000000\" fill-rule=\"nonzero\" fill-opacity=\"1\" /><path clip-path=\"url(#clip980)\" d=\"M1780.56 1514.29 L1798.92 1514.29 L1798.92 1518.22 L1784.84 1518.22 L1784.84 1526.7 Q1785.86 1526.35 1786.88 1526.19 Q1787.9 1526 1788.92 1526 Q1794.7 1526 1798.08 1529.17 Q1801.46 1532.34 1801.46 1537.76 Q1801.46 1543.34 1797.99 1546.44 Q1794.52 1549.52 1788.2 1549.52 Q1786.02 1549.52 1783.75 1549.15 Q1781.51 1548.78 1779.1 1548.04 L1779.1 1543.34 Q1781.18 1544.47 1783.41 1545.03 Q1785.63 1545.58 1788.11 1545.58 Q1792.11 1545.58 1794.45 1543.48 Q1796.79 1541.37 1796.79 1537.76 Q1796.79 1534.15 1794.45 1532.04 Q1792.11 1529.94 1788.11 1529.94 Q1786.23 1529.94 1784.36 1530.35 Q1782.5 1530.77 1780.56 1531.65 L1780.56 1514.29 Z\" fill=\"#000000\" fill-rule=\"nonzero\" fill-opacity=\"1\" /><path clip-path=\"url(#clip980)\" d=\"M2251.05 1544.91 L2258.69 1544.91 L2258.69 1518.55 L2250.38 1520.21 L2250.38 1515.95 L2258.64 1514.29 L2263.32 1514.29 L2263.32 1544.91 L2270.95 1544.91 L2270.95 1548.85 L2251.05 1548.85 L2251.05 1544.91 Z\" fill=\"#000000\" fill-rule=\"nonzero\" fill-opacity=\"1\" /><path clip-path=\"url(#clip980)\" d=\"M2290.4 1517.37 Q2286.79 1517.37 2284.96 1520.93 Q2283.15 1524.47 2283.15 1531.6 Q2283.15 1538.71 2284.96 1542.27 Q2286.79 1545.82 2290.4 1545.82 Q2294.03 1545.82 2295.84 1542.27 Q2297.67 1538.71 2297.67 1531.6 Q2297.67 1524.47 2295.84 1520.93 Q2294.03 1517.37 2290.4 1517.37 M2290.4 1513.66 Q2296.21 1513.66 2299.26 1518.27 Q2302.34 1522.85 2302.34 1531.6 Q2302.34 1540.33 2299.26 1544.94 Q2296.21 1549.52 2290.4 1549.52 Q2284.59 1549.52 2281.51 1544.94 Q2278.45 1540.33 2278.45 1531.6 Q2278.45 1522.85 2281.51 1518.27 Q2284.59 1513.66 2290.4 1513.66 Z\" fill=\"#000000\" fill-rule=\"nonzero\" fill-opacity=\"1\" /><path clip-path=\"url(#clip980)\" d=\"M2320.56 1517.37 Q2316.95 1517.37 2315.12 1520.93 Q2313.32 1524.47 2313.32 1531.6 Q2313.32 1538.71 2315.12 1542.27 Q2316.95 1545.82 2320.56 1545.82 Q2324.19 1545.82 2326 1542.27 Q2327.83 1538.71 2327.83 1531.6 Q2327.83 1524.47 2326 1520.93 Q2324.19 1517.37 2320.56 1517.37 M2320.56 1513.66 Q2326.37 1513.66 2329.43 1518.27 Q2332.5 1522.85 2332.5 1531.6 Q2332.5 1540.33 2329.43 1544.94 Q2326.37 1549.52 2320.56 1549.52 Q2314.75 1549.52 2311.67 1544.94 Q2308.62 1540.33 2308.62 1531.6 Q2308.62 1522.85 2311.67 1518.27 Q2314.75 1513.66 2320.56 1513.66 Z\" fill=\"#000000\" fill-rule=\"nonzero\" fill-opacity=\"1\" /><polyline clip-path=\"url(#clip982)\" style=\"stroke:#000000; stroke-linecap:round; stroke-linejoin:round; stroke-width:2; stroke-opacity:0.1; fill:none\" points=\"186.274,1469.46 2352.76,1469.46 \"/>\n",
       "<polyline clip-path=\"url(#clip982)\" style=\"stroke:#000000; stroke-linecap:round; stroke-linejoin:round; stroke-width:2; stroke-opacity:0.1; fill:none\" points=\"186.274,1122.12 2352.76,1122.12 \"/>\n",
       "<polyline clip-path=\"url(#clip982)\" style=\"stroke:#000000; stroke-linecap:round; stroke-linejoin:round; stroke-width:2; stroke-opacity:0.1; fill:none\" points=\"186.274,774.787 2352.76,774.787 \"/>\n",
       "<polyline clip-path=\"url(#clip982)\" style=\"stroke:#000000; stroke-linecap:round; stroke-linejoin:round; stroke-width:2; stroke-opacity:0.1; fill:none\" points=\"186.274,427.452 2352.76,427.452 \"/>\n",
       "<polyline clip-path=\"url(#clip982)\" style=\"stroke:#000000; stroke-linecap:round; stroke-linejoin:round; stroke-width:2; stroke-opacity:0.1; fill:none\" points=\"186.274,80.116 2352.76,80.116 \"/>\n",
       "<polyline clip-path=\"url(#clip980)\" style=\"stroke:#000000; stroke-linecap:round; stroke-linejoin:round; stroke-width:4; stroke-opacity:1; fill:none\" points=\"186.274,1486.45 186.274,47.2441 \"/>\n",
       "<polyline clip-path=\"url(#clip980)\" style=\"stroke:#000000; stroke-linecap:round; stroke-linejoin:round; stroke-width:4; stroke-opacity:1; fill:none\" points=\"186.274,1469.46 205.172,1469.46 \"/>\n",
       "<polyline clip-path=\"url(#clip980)\" style=\"stroke:#000000; stroke-linecap:round; stroke-linejoin:round; stroke-width:4; stroke-opacity:1; fill:none\" points=\"186.274,1122.12 205.172,1122.12 \"/>\n",
       "<polyline clip-path=\"url(#clip980)\" style=\"stroke:#000000; stroke-linecap:round; stroke-linejoin:round; stroke-width:4; stroke-opacity:1; fill:none\" points=\"186.274,774.787 205.172,774.787 \"/>\n",
       "<polyline clip-path=\"url(#clip980)\" style=\"stroke:#000000; stroke-linecap:round; stroke-linejoin:round; stroke-width:4; stroke-opacity:1; fill:none\" points=\"186.274,427.452 205.172,427.452 \"/>\n",
       "<polyline clip-path=\"url(#clip980)\" style=\"stroke:#000000; stroke-linecap:round; stroke-linejoin:round; stroke-width:4; stroke-opacity:1; fill:none\" points=\"186.274,80.116 205.172,80.116 \"/>\n",
       "<path clip-path=\"url(#clip980)\" d=\"M62.9365 1455.26 Q59.3254 1455.26 57.4967 1458.82 Q55.6912 1462.36 55.6912 1469.49 Q55.6912 1476.6 57.4967 1480.16 Q59.3254 1483.71 62.9365 1483.71 Q66.5707 1483.71 68.3763 1480.16 Q70.205 1476.6 70.205 1469.49 Q70.205 1462.36 68.3763 1458.82 Q66.5707 1455.26 62.9365 1455.26 M62.9365 1451.55 Q68.7467 1451.55 71.8022 1456.16 Q74.8809 1460.74 74.8809 1469.49 Q74.8809 1478.22 71.8022 1482.83 Q68.7467 1487.41 62.9365 1487.41 Q57.1264 1487.41 54.0477 1482.83 Q50.9921 1478.22 50.9921 1469.49 Q50.9921 1460.74 54.0477 1456.16 Q57.1264 1451.55 62.9365 1451.55 Z\" fill=\"#000000\" fill-rule=\"nonzero\" fill-opacity=\"1\" /><path clip-path=\"url(#clip980)\" d=\"M83.0984 1480.86 L87.9827 1480.86 L87.9827 1486.74 L83.0984 1486.74 L83.0984 1480.86 Z\" fill=\"#000000\" fill-rule=\"nonzero\" fill-opacity=\"1\" /><path clip-path=\"url(#clip980)\" d=\"M108.168 1455.26 Q104.557 1455.26 102.728 1458.82 Q100.922 1462.36 100.922 1469.49 Q100.922 1476.6 102.728 1480.16 Q104.557 1483.71 108.168 1483.71 Q111.802 1483.71 113.608 1480.16 Q115.436 1476.6 115.436 1469.49 Q115.436 1462.36 113.608 1458.82 Q111.802 1455.26 108.168 1455.26 M108.168 1451.55 Q113.978 1451.55 117.033 1456.16 Q120.112 1460.74 120.112 1469.49 Q120.112 1478.22 117.033 1482.83 Q113.978 1487.41 108.168 1487.41 Q102.358 1487.41 99.2789 1482.83 Q96.2234 1478.22 96.2234 1469.49 Q96.2234 1460.74 99.2789 1456.16 Q102.358 1451.55 108.168 1451.55 Z\" fill=\"#000000\" fill-rule=\"nonzero\" fill-opacity=\"1\" /><path clip-path=\"url(#clip980)\" d=\"M138.33 1455.26 Q134.719 1455.26 132.89 1458.82 Q131.084 1462.36 131.084 1469.49 Q131.084 1476.6 132.89 1480.16 Q134.719 1483.71 138.33 1483.71 Q141.964 1483.71 143.769 1480.16 Q145.598 1476.6 145.598 1469.49 Q145.598 1462.36 143.769 1458.82 Q141.964 1455.26 138.33 1455.26 M138.33 1451.55 Q144.14 1451.55 147.195 1456.16 Q150.274 1460.74 150.274 1469.49 Q150.274 1478.22 147.195 1482.83 Q144.14 1487.41 138.33 1487.41 Q132.519 1487.41 129.441 1482.83 Q126.385 1478.22 126.385 1469.49 Q126.385 1460.74 129.441 1456.16 Q132.519 1451.55 138.33 1451.55 Z\" fill=\"#000000\" fill-rule=\"nonzero\" fill-opacity=\"1\" /><path clip-path=\"url(#clip980)\" d=\"M63.9319 1107.92 Q60.3208 1107.92 58.4921 1111.49 Q56.6865 1115.03 56.6865 1122.16 Q56.6865 1129.26 58.4921 1132.83 Q60.3208 1136.37 63.9319 1136.37 Q67.5661 1136.37 69.3717 1132.83 Q71.2004 1129.26 71.2004 1122.16 Q71.2004 1115.03 69.3717 1111.49 Q67.5661 1107.92 63.9319 1107.92 M63.9319 1104.22 Q69.742 1104.22 72.7976 1108.82 Q75.8763 1113.41 75.8763 1122.16 Q75.8763 1130.88 72.7976 1135.49 Q69.742 1140.07 63.9319 1140.07 Q58.1217 1140.07 55.043 1135.49 Q51.9875 1130.88 51.9875 1122.16 Q51.9875 1113.41 55.043 1108.82 Q58.1217 1104.22 63.9319 1104.22 Z\" fill=\"#000000\" fill-rule=\"nonzero\" fill-opacity=\"1\" /><path clip-path=\"url(#clip980)\" d=\"M84.0938 1133.52 L88.978 1133.52 L88.978 1139.4 L84.0938 1139.4 L84.0938 1133.52 Z\" fill=\"#000000\" fill-rule=\"nonzero\" fill-opacity=\"1\" /><path clip-path=\"url(#clip980)\" d=\"M103.191 1135.47 L119.51 1135.47 L119.51 1139.4 L97.566 1139.4 L97.566 1135.47 Q100.228 1132.71 104.811 1128.08 Q109.418 1123.43 110.598 1122.09 Q112.844 1119.56 113.723 1117.83 Q114.626 1116.07 114.626 1114.38 Q114.626 1111.62 112.682 1109.89 Q110.76 1108.15 107.658 1108.15 Q105.459 1108.15 103.006 1108.92 Q100.575 1109.68 97.7974 1111.23 L97.7974 1106.51 Q100.621 1105.38 103.075 1104.8 Q105.529 1104.22 107.566 1104.22 Q112.936 1104.22 116.131 1106.9 Q119.325 1109.59 119.325 1114.08 Q119.325 1116.21 118.515 1118.13 Q117.728 1120.03 115.621 1122.62 Q115.043 1123.29 111.941 1126.51 Q108.839 1129.7 103.191 1135.47 Z\" fill=\"#000000\" fill-rule=\"nonzero\" fill-opacity=\"1\" /><path clip-path=\"url(#clip980)\" d=\"M129.371 1104.84 L147.728 1104.84 L147.728 1108.78 L133.654 1108.78 L133.654 1117.25 Q134.672 1116.9 135.691 1116.74 Q136.709 1116.56 137.728 1116.56 Q143.515 1116.56 146.894 1119.73 Q150.274 1122.9 150.274 1128.31 Q150.274 1133.89 146.802 1137 Q143.33 1140.07 137.01 1140.07 Q134.834 1140.07 132.566 1139.7 Q130.32 1139.33 127.913 1138.59 L127.913 1133.89 Q129.996 1135.03 132.219 1135.58 Q134.441 1136.14 136.918 1136.14 Q140.922 1136.14 143.26 1134.03 Q145.598 1131.93 145.598 1128.31 Q145.598 1124.7 143.26 1122.6 Q140.922 1120.49 136.918 1120.49 Q135.043 1120.49 133.168 1120.91 Q131.316 1121.32 129.371 1122.2 L129.371 1104.84 Z\" fill=\"#000000\" fill-rule=\"nonzero\" fill-opacity=\"1\" /><path clip-path=\"url(#clip980)\" d=\"M62.9365 760.586 Q59.3254 760.586 57.4967 764.151 Q55.6912 767.692 55.6912 774.822 Q55.6912 781.928 57.4967 785.493 Q59.3254 789.035 62.9365 789.035 Q66.5707 789.035 68.3763 785.493 Q70.205 781.928 70.205 774.822 Q70.205 767.692 68.3763 764.151 Q66.5707 760.586 62.9365 760.586 M62.9365 756.882 Q68.7467 756.882 71.8022 761.489 Q74.8809 766.072 74.8809 774.822 Q74.8809 783.549 71.8022 788.155 Q68.7467 792.738 62.9365 792.738 Q57.1264 792.738 54.0477 788.155 Q50.9921 783.549 50.9921 774.822 Q50.9921 766.072 54.0477 761.489 Q57.1264 756.882 62.9365 756.882 Z\" fill=\"#000000\" fill-rule=\"nonzero\" fill-opacity=\"1\" /><path clip-path=\"url(#clip980)\" d=\"M83.0984 786.187 L87.9827 786.187 L87.9827 792.067 L83.0984 792.067 L83.0984 786.187 Z\" fill=\"#000000\" fill-rule=\"nonzero\" fill-opacity=\"1\" /><path clip-path=\"url(#clip980)\" d=\"M98.2141 757.507 L116.57 757.507 L116.57 761.442 L102.496 761.442 L102.496 769.914 Q103.515 769.567 104.534 769.405 Q105.552 769.22 106.571 769.22 Q112.358 769.22 115.737 772.391 Q119.117 775.563 119.117 780.979 Q119.117 786.558 115.645 789.66 Q112.172 792.738 105.853 792.738 Q103.677 792.738 101.409 792.368 Q99.1632 791.998 96.7558 791.257 L96.7558 786.558 Q98.8391 787.692 101.061 788.248 Q103.284 788.803 105.76 788.803 Q109.765 788.803 112.103 786.697 Q114.441 784.59 114.441 780.979 Q114.441 777.368 112.103 775.262 Q109.765 773.155 105.76 773.155 Q103.885 773.155 102.01 773.572 Q100.159 773.988 98.2141 774.868 L98.2141 757.507 Z\" fill=\"#000000\" fill-rule=\"nonzero\" fill-opacity=\"1\" /><path clip-path=\"url(#clip980)\" d=\"M138.33 760.586 Q134.719 760.586 132.89 764.151 Q131.084 767.692 131.084 774.822 Q131.084 781.928 132.89 785.493 Q134.719 789.035 138.33 789.035 Q141.964 789.035 143.769 785.493 Q145.598 781.928 145.598 774.822 Q145.598 767.692 143.769 764.151 Q141.964 760.586 138.33 760.586 M138.33 756.882 Q144.14 756.882 147.195 761.489 Q150.274 766.072 150.274 774.822 Q150.274 783.549 147.195 788.155 Q144.14 792.738 138.33 792.738 Q132.519 792.738 129.441 788.155 Q126.385 783.549 126.385 774.822 Q126.385 766.072 129.441 761.489 Q132.519 756.882 138.33 756.882 Z\" fill=\"#000000\" fill-rule=\"nonzero\" fill-opacity=\"1\" /><path clip-path=\"url(#clip980)\" d=\"M63.9319 413.25 Q60.3208 413.25 58.4921 416.815 Q56.6865 420.357 56.6865 427.486 Q56.6865 434.593 58.4921 438.158 Q60.3208 441.699 63.9319 441.699 Q67.5661 441.699 69.3717 438.158 Q71.2004 434.593 71.2004 427.486 Q71.2004 420.357 69.3717 416.815 Q67.5661 413.25 63.9319 413.25 M63.9319 409.547 Q69.742 409.547 72.7976 414.153 Q75.8763 418.736 75.8763 427.486 Q75.8763 436.213 72.7976 440.82 Q69.742 445.403 63.9319 445.403 Q58.1217 445.403 55.043 440.82 Q51.9875 436.213 51.9875 427.486 Q51.9875 418.736 55.043 414.153 Q58.1217 409.547 63.9319 409.547 Z\" fill=\"#000000\" fill-rule=\"nonzero\" fill-opacity=\"1\" /><path clip-path=\"url(#clip980)\" d=\"M84.0938 438.852 L88.978 438.852 L88.978 444.732 L84.0938 444.732 L84.0938 438.852 Z\" fill=\"#000000\" fill-rule=\"nonzero\" fill-opacity=\"1\" /><path clip-path=\"url(#clip980)\" d=\"M97.9826 410.172 L120.205 410.172 L120.205 412.162 L107.658 444.732 L102.774 444.732 L114.58 414.107 L97.9826 414.107 L97.9826 410.172 Z\" fill=\"#000000\" fill-rule=\"nonzero\" fill-opacity=\"1\" /><path clip-path=\"url(#clip980)\" d=\"M129.371 410.172 L147.728 410.172 L147.728 414.107 L133.654 414.107 L133.654 422.579 Q134.672 422.232 135.691 422.07 Q136.709 421.884 137.728 421.884 Q143.515 421.884 146.894 425.056 Q150.274 428.227 150.274 433.644 Q150.274 439.222 146.802 442.324 Q143.33 445.403 137.01 445.403 Q134.834 445.403 132.566 445.032 Q130.32 444.662 127.913 443.921 L127.913 439.222 Q129.996 440.357 132.219 440.912 Q134.441 441.468 136.918 441.468 Q140.922 441.468 143.26 439.361 Q145.598 437.255 145.598 433.644 Q145.598 430.033 143.26 427.926 Q140.922 425.82 136.918 425.82 Q135.043 425.82 133.168 426.236 Q131.316 426.653 129.371 427.533 L129.371 410.172 Z\" fill=\"#000000\" fill-rule=\"nonzero\" fill-opacity=\"1\" /><path clip-path=\"url(#clip980)\" d=\"M53.7467 93.4608 L61.3856 93.4608 L61.3856 67.0952 L53.0754 68.7619 L53.0754 64.5027 L61.3393 62.836 L66.0152 62.836 L66.0152 93.4608 L73.654 93.4608 L73.654 97.396 L53.7467 97.396 L53.7467 93.4608 Z\" fill=\"#000000\" fill-rule=\"nonzero\" fill-opacity=\"1\" /><path clip-path=\"url(#clip980)\" d=\"M83.0984 91.5164 L87.9827 91.5164 L87.9827 97.396 L83.0984 97.396 L83.0984 91.5164 Z\" fill=\"#000000\" fill-rule=\"nonzero\" fill-opacity=\"1\" /><path clip-path=\"url(#clip980)\" d=\"M108.168 65.9147 Q104.557 65.9147 102.728 69.4795 Q100.922 73.0211 100.922 80.1507 Q100.922 87.2572 102.728 90.822 Q104.557 94.3636 108.168 94.3636 Q111.802 94.3636 113.608 90.822 Q115.436 87.2572 115.436 80.1507 Q115.436 73.0211 113.608 69.4795 Q111.802 65.9147 108.168 65.9147 M108.168 62.211 Q113.978 62.211 117.033 66.8175 Q120.112 71.4008 120.112 80.1507 Q120.112 88.8775 117.033 93.484 Q113.978 98.0673 108.168 98.0673 Q102.358 98.0673 99.2789 93.484 Q96.2234 88.8775 96.2234 80.1507 Q96.2234 71.4008 99.2789 66.8175 Q102.358 62.211 108.168 62.211 Z\" fill=\"#000000\" fill-rule=\"nonzero\" fill-opacity=\"1\" /><path clip-path=\"url(#clip980)\" d=\"M138.33 65.9147 Q134.719 65.9147 132.89 69.4795 Q131.084 73.0211 131.084 80.1507 Q131.084 87.2572 132.89 90.822 Q134.719 94.3636 138.33 94.3636 Q141.964 94.3636 143.769 90.822 Q145.598 87.2572 145.598 80.1507 Q145.598 73.0211 143.769 69.4795 Q141.964 65.9147 138.33 65.9147 M138.33 62.211 Q144.14 62.211 147.195 66.8175 Q150.274 71.4008 150.274 80.1507 Q150.274 88.8775 147.195 93.484 Q144.14 98.0673 138.33 98.0673 Q132.519 98.0673 129.441 93.484 Q126.385 88.8775 126.385 80.1507 Q126.385 71.4008 129.441 66.8175 Q132.519 62.211 138.33 62.211 Z\" fill=\"#000000\" fill-rule=\"nonzero\" fill-opacity=\"1\" /><path clip-path=\"url(#clip982)\" d=\"M247.59 633.512 L268.234 461.279 L288.879 450.98 L309.524 956.126 L330.169 1331.57 L350.814 858.439 L371.459 1026.27 L392.104 1272.16 L412.749 1081.81 L433.394 378.38 L454.039 515.32 L474.684 1365.91 L495.329 1332.14 L515.974 1189.58 L536.619 416.862 L557.264 1130.19 L577.909 796.925 L598.554 1423.53 L619.199 447.13 L639.844 1173.66 L660.489 808.774 L681.134 112.18 L701.779 391.644 L722.424 1144.69 L743.069 785.778 L763.713 1224.89 L784.358 950.021 L805.003 90.623 L825.648 565.647 L846.293 1021.44 L866.938 1163.15 L887.583 1061.01 L908.228 1108.43 L928.873 1132.26 L949.518 1080.24 L970.163 1040.37 L990.808 1103.92 L1011.45 1087.29 L1032.1 1080.4 L1052.74 1153.21 L1073.39 1100.26 L1094.03 1158.87 L1114.68 1104.7 L1135.32 1214.59 L1155.97 1186.08 L1176.61 1158.36 L1197.26 1196.96 L1217.9 1219.55 L1238.55 1129.02 L1259.19 1241.79 L1279.84 1031.63 L1300.48 243.812 L1321.13 149.153 L1341.77 210.155 L1362.42 747.752 L1383.06 230.174 L1403.71 87.9763 L1424.35 351.901 L1445 402.789 L1465.64 927.92 L1486.29 1419.4 L1506.93 1025.5 L1527.58 1015.73 L1548.22 1292.8 L1568.87 101.685 L1589.51 1126.89 L1610.16 1153.92 L1630.8 1340.47 L1651.45 1268.63 L1672.09 1201.68 L1692.74 1341.91 L1713.38 339.607 L1734.03 699.286 L1754.67 741.337 L1775.32 367.507 L1795.96 374.036 L1816.61 1341.32 L1837.25 262.93 L1857.9 521.729 L1878.54 1011.74 L1899.19 1250.85 L1919.83 495.529 L1940.48 1041.04 L1961.12 1050.08 L1981.77 94.992 L2002.41 723.557 L2023.06 1250.91 L2043.7 1111.54 L2064.35 595.612 L2084.99 930.34 L2105.64 977.941 L2126.28 771.336 L2146.93 563.16 L2167.57 1385.51 L2188.22 171.901 L2208.86 1445.72 L2229.51 367.741 L2250.15 985.003 L2270.8 1160.4 L2291.44 1195.01 L2291.44 1195.01 L2270.8 1160.4 L2250.15 985.003 L2229.51 367.741 L2208.86 1445.72 L2188.22 171.901 L2167.57 1385.51 L2146.93 563.16 L2126.28 771.336 L2105.64 977.941 L2084.99 930.34 L2064.35 595.612 L2043.7 1111.54 L2023.06 1250.91 L2002.41 723.557 L1981.77 94.992 L1961.12 1050.08 L1940.48 1041.04 L1919.83 495.529 L1899.19 1250.85 L1878.54 1011.74 L1857.9 521.729 L1837.25 262.93 L1816.61 1341.32 L1795.96 374.036 L1775.32 367.507 L1754.67 741.337 L1734.03 699.286 L1713.38 339.607 L1692.74 1341.91 L1672.09 1201.68 L1651.45 1268.63 L1630.8 1340.47 L1610.16 1153.92 L1589.51 1126.89 L1568.87 101.685 L1548.22 1292.8 L1527.58 1015.73 L1506.93 1025.5 L1486.29 1419.4 L1465.64 927.92 L1445 402.789 L1424.35 351.901 L1403.71 87.9763 L1383.06 230.174 L1362.42 747.752 L1341.77 210.155 L1321.13 149.153 L1300.48 243.812 L1279.84 1031.63 L1259.19 416.721 L1238.55 303.839 L1217.9 450.68 L1197.26 435.786 L1176.61 322.395 L1155.97 345.466 L1135.32 487.871 L1114.68 272.256 L1094.03 352.025 L1073.39 300.321 L1052.74 385.323 L1032.1 273.774 L1011.45 245.279 L990.808 264.426 L970.163 296.816 L949.518 305.978 L928.873 316.732 L908.228 365.597 L887.583 288.184 L866.938 371.732 L846.293 327.656 L825.648 565.647 L805.003 90.623 L784.358 950.021 L763.713 1224.89 L743.069 785.778 L722.424 1144.69 L701.779 391.644 L681.134 112.18 L660.489 808.774 L639.844 1173.66 L619.199 447.13 L598.554 1423.53 L577.909 796.925 L557.264 1130.19 L536.619 416.862 L515.974 1189.58 L495.329 1332.14 L474.684 1365.91 L454.039 515.32 L433.394 378.38 L412.749 1081.81 L392.104 1272.16 L371.459 1026.27 L350.814 858.439 L330.169 1331.57 L309.524 956.126 L288.879 450.98 L268.234 461.279 L247.59 633.512  Z\" fill=\"#009af9\" fill-rule=\"evenodd\" fill-opacity=\"0.5\"/>\n",
       "<polyline clip-path=\"url(#clip982)\" style=\"stroke:#009af9; stroke-linecap:round; stroke-linejoin:round; stroke-width:4; stroke-opacity:1; fill:none\" points=\"247.59,633.512 268.234,461.279 288.879,450.98 309.524,956.126 330.169,1331.57 350.814,858.439 371.459,1026.27 392.104,1272.16 412.749,1081.81 433.394,378.38 454.039,515.32 474.684,1365.91 495.329,1332.14 515.974,1189.58 536.619,416.862 557.264,1130.19 577.909,796.925 598.554,1423.53 619.199,447.13 639.844,1173.66 660.489,808.774 681.134,112.18 701.779,391.644 722.424,1144.69 743.069,785.778 763.713,1224.89 784.358,950.021 805.003,90.623 825.648,565.647 846.293,674.547 866.938,767.443 887.583,674.596 908.228,737.014 928.873,724.496 949.518,693.11 970.163,668.591 990.808,684.174 1011.45,666.284 1032.1,677.088 1052.74,769.268 1073.39,700.289 1094.03,755.449 1114.68,688.476 1135.32,851.228 1155.97,765.773 1176.61,740.376 1197.26,816.372 1217.9,835.115 1238.55,716.428 1259.19,829.257 1279.84,1031.63 1300.48,243.812 1321.13,149.153 1341.77,210.155 1362.42,747.752 1383.06,230.174 1403.71,87.9763 1424.35,351.901 1445,402.789 1465.64,927.92 1486.29,1419.4 1506.93,1025.5 1527.58,1015.73 1548.22,1292.8 1568.87,101.685 1589.51,1126.89 1610.16,1153.92 1630.8,1340.47 1651.45,1268.63 1672.09,1201.68 1692.74,1341.91 1713.38,339.607 1734.03,699.286 1754.67,741.337 1775.32,367.507 1795.96,374.036 1816.61,1341.32 1837.25,262.93 1857.9,521.729 1878.54,1011.74 1899.19,1250.85 1919.83,495.529 1940.48,1041.04 1961.12,1050.08 1981.77,94.992 2002.41,723.557 2023.06,1250.91 2043.7,1111.54 2064.35,595.612 2084.99,930.34 2105.64,977.941 2126.28,771.336 2146.93,563.16 2167.57,1385.51 2188.22,171.901 2208.86,1445.72 2229.51,367.741 2250.15,985.003 2270.8,1160.4 2291.44,1195.01 \"/>\n",
       "<path clip-path=\"url(#clip980)\" d=\"M258.49 198.898 L527.569 198.898 L527.569 95.2176 L258.49 95.2176  Z\" fill=\"#ffffff\" fill-rule=\"evenodd\" fill-opacity=\"1\"/>\n",
       "<polyline clip-path=\"url(#clip980)\" style=\"stroke:#000000; stroke-linecap:round; stroke-linejoin:round; stroke-width:4; stroke-opacity:1; fill:none\" points=\"258.49,198.898 527.569,198.898 527.569,95.2176 258.49,95.2176 258.49,198.898 \"/>\n",
       "<polyline clip-path=\"url(#clip980)\" style=\"stroke:#009af9; stroke-linecap:round; stroke-linejoin:round; stroke-width:4; stroke-opacity:1; fill:none\" points=\"282.562,147.058 426.994,147.058 \"/>\n",
       "<path clip-path=\"url(#clip980)\" d=\"M464.909 166.745 Q463.103 171.375 461.39 172.787 Q459.677 174.199 456.807 174.199 L453.404 174.199 L453.404 170.634 L455.904 170.634 Q457.663 170.634 458.636 169.8 Q459.608 168.967 460.788 165.865 L461.552 163.921 L451.066 138.412 L455.58 138.412 L463.682 158.689 L471.784 138.412 L476.298 138.412 L464.909 166.745 Z\" fill=\"#000000\" fill-rule=\"nonzero\" fill-opacity=\"1\" /><path clip-path=\"url(#clip980)\" d=\"M483.589 160.402 L491.228 160.402 L491.228 134.037 L482.918 135.703 L482.918 131.444 L491.182 129.778 L495.858 129.778 L495.858 160.402 L503.497 160.402 L503.497 164.338 L483.589 164.338 L483.589 160.402 Z\" fill=\"#000000\" fill-rule=\"nonzero\" fill-opacity=\"1\" /></svg>\n"
      ],
      "text/html": [
       "<?xml version=\"1.0\" encoding=\"utf-8\"?>\n",
       "<svg xmlns=\"http://www.w3.org/2000/svg\" xmlns:xlink=\"http://www.w3.org/1999/xlink\" width=\"600\" height=\"400\" viewBox=\"0 0 2400 1600\">\n",
       "<defs>\n",
       "  <clipPath id=\"clip030\">\n",
       "    <rect x=\"0\" y=\"0\" width=\"2400\" height=\"1600\"/>\n",
       "  </clipPath>\n",
       "</defs>\n",
       "<path clip-path=\"url(#clip030)\" d=\"M0 1600 L2400 1600 L2400 8.88178e-14 L0 8.88178e-14  Z\" fill=\"#ffffff\" fill-rule=\"evenodd\" fill-opacity=\"1\"/>\n",
       "<defs>\n",
       "  <clipPath id=\"clip031\">\n",
       "    <rect x=\"480\" y=\"0\" width=\"1681\" height=\"1600\"/>\n",
       "  </clipPath>\n",
       "</defs>\n",
       "<path clip-path=\"url(#clip030)\" d=\"M186.274 1486.45 L2352.76 1486.45 L2352.76 47.2441 L186.274 47.2441  Z\" fill=\"#ffffff\" fill-rule=\"evenodd\" fill-opacity=\"1\"/>\n",
       "<defs>\n",
       "  <clipPath id=\"clip032\">\n",
       "    <rect x=\"186\" y=\"47\" width=\"2167\" height=\"1440\"/>\n",
       "  </clipPath>\n",
       "</defs>\n",
       "<polyline clip-path=\"url(#clip032)\" style=\"stroke:#000000; stroke-linecap:round; stroke-linejoin:round; stroke-width:2; stroke-opacity:0.1; fill:none\" points=\"226.945,1486.45 226.945,47.2441 \"/>\n",
       "<polyline clip-path=\"url(#clip032)\" style=\"stroke:#000000; stroke-linecap:round; stroke-linejoin:round; stroke-width:2; stroke-opacity:0.1; fill:none\" points=\"743.069,1486.45 743.069,47.2441 \"/>\n",
       "<polyline clip-path=\"url(#clip032)\" style=\"stroke:#000000; stroke-linecap:round; stroke-linejoin:round; stroke-width:2; stroke-opacity:0.1; fill:none\" points=\"1259.19,1486.45 1259.19,47.2441 \"/>\n",
       "<polyline clip-path=\"url(#clip032)\" style=\"stroke:#000000; stroke-linecap:round; stroke-linejoin:round; stroke-width:2; stroke-opacity:0.1; fill:none\" points=\"1775.32,1486.45 1775.32,47.2441 \"/>\n",
       "<polyline clip-path=\"url(#clip032)\" style=\"stroke:#000000; stroke-linecap:round; stroke-linejoin:round; stroke-width:2; stroke-opacity:0.1; fill:none\" points=\"2291.44,1486.45 2291.44,47.2441 \"/>\n",
       "<polyline clip-path=\"url(#clip030)\" style=\"stroke:#000000; stroke-linecap:round; stroke-linejoin:round; stroke-width:4; stroke-opacity:1; fill:none\" points=\"186.274,1486.45 2352.76,1486.45 \"/>\n",
       "<polyline clip-path=\"url(#clip030)\" style=\"stroke:#000000; stroke-linecap:round; stroke-linejoin:round; stroke-width:4; stroke-opacity:1; fill:none\" points=\"226.945,1486.45 226.945,1467.55 \"/>\n",
       "<polyline clip-path=\"url(#clip030)\" style=\"stroke:#000000; stroke-linecap:round; stroke-linejoin:round; stroke-width:4; stroke-opacity:1; fill:none\" points=\"743.069,1486.45 743.069,1467.55 \"/>\n",
       "<polyline clip-path=\"url(#clip030)\" style=\"stroke:#000000; stroke-linecap:round; stroke-linejoin:round; stroke-width:4; stroke-opacity:1; fill:none\" points=\"1259.19,1486.45 1259.19,1467.55 \"/>\n",
       "<polyline clip-path=\"url(#clip030)\" style=\"stroke:#000000; stroke-linecap:round; stroke-linejoin:round; stroke-width:4; stroke-opacity:1; fill:none\" points=\"1775.32,1486.45 1775.32,1467.55 \"/>\n",
       "<polyline clip-path=\"url(#clip030)\" style=\"stroke:#000000; stroke-linecap:round; stroke-linejoin:round; stroke-width:4; stroke-opacity:1; fill:none\" points=\"2291.44,1486.45 2291.44,1467.55 \"/>\n",
       "<path clip-path=\"url(#clip030)\" d=\"M226.945 1517.37 Q223.333 1517.37 221.505 1520.93 Q219.699 1524.47 219.699 1531.6 Q219.699 1538.71 221.505 1542.27 Q223.333 1545.82 226.945 1545.82 Q230.579 1545.82 232.384 1542.27 Q234.213 1538.71 234.213 1531.6 Q234.213 1524.47 232.384 1520.93 Q230.579 1517.37 226.945 1517.37 M226.945 1513.66 Q232.755 1513.66 235.81 1518.27 Q238.889 1522.85 238.889 1531.6 Q238.889 1540.33 235.81 1544.94 Q232.755 1549.52 226.945 1549.52 Q221.134 1549.52 218.056 1544.94 Q215 1540.33 215 1531.6 Q215 1522.85 218.056 1518.27 Q221.134 1513.66 226.945 1513.66 Z\" fill=\"#000000\" fill-rule=\"nonzero\" fill-opacity=\"1\" /><path clip-path=\"url(#clip030)\" d=\"M722.339 1544.91 L738.659 1544.91 L738.659 1548.85 L716.714 1548.85 L716.714 1544.91 Q719.377 1542.16 723.96 1537.53 Q728.566 1532.88 729.747 1531.53 Q731.992 1529.01 732.872 1527.27 Q733.775 1525.51 733.775 1523.82 Q733.775 1521.07 731.83 1519.33 Q729.909 1517.6 726.807 1517.6 Q724.608 1517.6 722.154 1518.36 Q719.724 1519.13 716.946 1520.68 L716.946 1515.95 Q719.77 1514.82 722.224 1514.24 Q724.677 1513.66 726.714 1513.66 Q732.085 1513.66 735.279 1516.35 Q738.474 1519.03 738.474 1523.52 Q738.474 1525.65 737.663 1527.57 Q736.876 1529.47 734.77 1532.07 Q734.191 1532.74 731.089 1535.95 Q727.988 1539.15 722.339 1544.91 Z\" fill=\"#000000\" fill-rule=\"nonzero\" fill-opacity=\"1\" /><path clip-path=\"url(#clip030)\" d=\"M748.52 1514.29 L766.876 1514.29 L766.876 1518.22 L752.802 1518.22 L752.802 1526.7 Q753.821 1526.35 754.839 1526.19 Q755.858 1526 756.876 1526 Q762.663 1526 766.043 1529.17 Q769.423 1532.34 769.423 1537.76 Q769.423 1543.34 765.95 1546.44 Q762.478 1549.52 756.159 1549.52 Q753.983 1549.52 751.714 1549.15 Q749.469 1548.78 747.062 1548.04 L747.062 1543.34 Q749.145 1544.47 751.367 1545.03 Q753.589 1545.58 756.066 1545.58 Q760.071 1545.58 762.409 1543.48 Q764.747 1541.37 764.747 1537.76 Q764.747 1534.15 762.409 1532.04 Q760.071 1529.94 756.066 1529.94 Q754.191 1529.94 752.316 1530.35 Q750.464 1530.77 748.52 1531.65 L748.52 1514.29 Z\" fill=\"#000000\" fill-rule=\"nonzero\" fill-opacity=\"1\" /><path clip-path=\"url(#clip030)\" d=\"M1233.89 1514.29 L1252.25 1514.29 L1252.25 1518.22 L1238.17 1518.22 L1238.17 1526.7 Q1239.19 1526.35 1240.21 1526.19 Q1241.23 1526 1242.25 1526 Q1248.04 1526 1251.41 1529.17 Q1254.79 1532.34 1254.79 1537.76 Q1254.79 1543.34 1251.32 1546.44 Q1247.85 1549.52 1241.53 1549.52 Q1239.35 1549.52 1237.09 1549.15 Q1234.84 1548.78 1232.43 1548.04 L1232.43 1543.34 Q1234.52 1544.47 1236.74 1545.03 Q1238.96 1545.58 1241.44 1545.58 Q1245.44 1545.58 1247.78 1543.48 Q1250.12 1541.37 1250.12 1537.76 Q1250.12 1534.15 1247.78 1532.04 Q1245.44 1529.94 1241.44 1529.94 Q1239.56 1529.94 1237.69 1530.35 Q1235.84 1530.77 1233.89 1531.65 L1233.89 1514.29 Z\" fill=\"#000000\" fill-rule=\"nonzero\" fill-opacity=\"1\" /><path clip-path=\"url(#clip030)\" d=\"M1274.01 1517.37 Q1270.4 1517.37 1268.57 1520.93 Q1266.76 1524.47 1266.76 1531.6 Q1266.76 1538.71 1268.57 1542.27 Q1270.4 1545.82 1274.01 1545.82 Q1277.64 1545.82 1279.45 1542.27 Q1281.28 1538.71 1281.28 1531.6 Q1281.28 1524.47 1279.45 1520.93 Q1277.64 1517.37 1274.01 1517.37 M1274.01 1513.66 Q1279.82 1513.66 1282.87 1518.27 Q1285.95 1522.85 1285.95 1531.6 Q1285.95 1540.33 1282.87 1544.94 Q1279.82 1549.52 1274.01 1549.52 Q1268.2 1549.52 1265.12 1544.94 Q1262.06 1540.33 1262.06 1531.6 Q1262.06 1522.85 1265.12 1518.27 Q1268.2 1513.66 1274.01 1513.66 Z\" fill=\"#000000\" fill-rule=\"nonzero\" fill-opacity=\"1\" /><path clip-path=\"url(#clip030)\" d=\"M1749.17 1514.29 L1771.39 1514.29 L1771.39 1516.28 L1758.85 1548.85 L1753.96 1548.85 L1765.77 1518.22 L1749.17 1518.22 L1749.17 1514.29 Z\" fill=\"#000000\" fill-rule=\"nonzero\" fill-opacity=\"1\" /><path clip-path=\"url(#clip030)\" d=\"M1780.56 1514.29 L1798.92 1514.29 L1798.92 1518.22 L1784.84 1518.22 L1784.84 1526.7 Q1785.86 1526.35 1786.88 1526.19 Q1787.9 1526 1788.92 1526 Q1794.7 1526 1798.08 1529.17 Q1801.46 1532.34 1801.46 1537.76 Q1801.46 1543.34 1797.99 1546.44 Q1794.52 1549.52 1788.2 1549.52 Q1786.02 1549.52 1783.75 1549.15 Q1781.51 1548.78 1779.1 1548.04 L1779.1 1543.34 Q1781.18 1544.47 1783.41 1545.03 Q1785.63 1545.58 1788.11 1545.58 Q1792.11 1545.58 1794.45 1543.48 Q1796.79 1541.37 1796.79 1537.76 Q1796.79 1534.15 1794.45 1532.04 Q1792.11 1529.94 1788.11 1529.94 Q1786.23 1529.94 1784.36 1530.35 Q1782.5 1530.77 1780.56 1531.65 L1780.56 1514.29 Z\" fill=\"#000000\" fill-rule=\"nonzero\" fill-opacity=\"1\" /><path clip-path=\"url(#clip030)\" d=\"M2251.05 1544.91 L2258.69 1544.91 L2258.69 1518.55 L2250.38 1520.21 L2250.38 1515.95 L2258.64 1514.29 L2263.32 1514.29 L2263.32 1544.91 L2270.95 1544.91 L2270.95 1548.85 L2251.05 1548.85 L2251.05 1544.91 Z\" fill=\"#000000\" fill-rule=\"nonzero\" fill-opacity=\"1\" /><path clip-path=\"url(#clip030)\" d=\"M2290.4 1517.37 Q2286.79 1517.37 2284.96 1520.93 Q2283.15 1524.47 2283.15 1531.6 Q2283.15 1538.71 2284.96 1542.27 Q2286.79 1545.82 2290.4 1545.82 Q2294.03 1545.82 2295.84 1542.27 Q2297.67 1538.71 2297.67 1531.6 Q2297.67 1524.47 2295.84 1520.93 Q2294.03 1517.37 2290.4 1517.37 M2290.4 1513.66 Q2296.21 1513.66 2299.26 1518.27 Q2302.34 1522.85 2302.34 1531.6 Q2302.34 1540.33 2299.26 1544.94 Q2296.21 1549.52 2290.4 1549.52 Q2284.59 1549.52 2281.51 1544.94 Q2278.45 1540.33 2278.45 1531.6 Q2278.45 1522.85 2281.51 1518.27 Q2284.59 1513.66 2290.4 1513.66 Z\" fill=\"#000000\" fill-rule=\"nonzero\" fill-opacity=\"1\" /><path clip-path=\"url(#clip030)\" d=\"M2320.56 1517.37 Q2316.95 1517.37 2315.12 1520.93 Q2313.32 1524.47 2313.32 1531.6 Q2313.32 1538.71 2315.12 1542.27 Q2316.95 1545.82 2320.56 1545.82 Q2324.19 1545.82 2326 1542.27 Q2327.83 1538.71 2327.83 1531.6 Q2327.83 1524.47 2326 1520.93 Q2324.19 1517.37 2320.56 1517.37 M2320.56 1513.66 Q2326.37 1513.66 2329.43 1518.27 Q2332.5 1522.85 2332.5 1531.6 Q2332.5 1540.33 2329.43 1544.94 Q2326.37 1549.52 2320.56 1549.52 Q2314.75 1549.52 2311.67 1544.94 Q2308.62 1540.33 2308.62 1531.6 Q2308.62 1522.85 2311.67 1518.27 Q2314.75 1513.66 2320.56 1513.66 Z\" fill=\"#000000\" fill-rule=\"nonzero\" fill-opacity=\"1\" /><polyline clip-path=\"url(#clip032)\" style=\"stroke:#000000; stroke-linecap:round; stroke-linejoin:round; stroke-width:2; stroke-opacity:0.1; fill:none\" points=\"186.274,1469.46 2352.76,1469.46 \"/>\n",
       "<polyline clip-path=\"url(#clip032)\" style=\"stroke:#000000; stroke-linecap:round; stroke-linejoin:round; stroke-width:2; stroke-opacity:0.1; fill:none\" points=\"186.274,1122.12 2352.76,1122.12 \"/>\n",
       "<polyline clip-path=\"url(#clip032)\" style=\"stroke:#000000; stroke-linecap:round; stroke-linejoin:round; stroke-width:2; stroke-opacity:0.1; fill:none\" points=\"186.274,774.787 2352.76,774.787 \"/>\n",
       "<polyline clip-path=\"url(#clip032)\" style=\"stroke:#000000; stroke-linecap:round; stroke-linejoin:round; stroke-width:2; stroke-opacity:0.1; fill:none\" points=\"186.274,427.452 2352.76,427.452 \"/>\n",
       "<polyline clip-path=\"url(#clip032)\" style=\"stroke:#000000; stroke-linecap:round; stroke-linejoin:round; stroke-width:2; stroke-opacity:0.1; fill:none\" points=\"186.274,80.116 2352.76,80.116 \"/>\n",
       "<polyline clip-path=\"url(#clip030)\" style=\"stroke:#000000; stroke-linecap:round; stroke-linejoin:round; stroke-width:4; stroke-opacity:1; fill:none\" points=\"186.274,1486.45 186.274,47.2441 \"/>\n",
       "<polyline clip-path=\"url(#clip030)\" style=\"stroke:#000000; stroke-linecap:round; stroke-linejoin:round; stroke-width:4; stroke-opacity:1; fill:none\" points=\"186.274,1469.46 205.172,1469.46 \"/>\n",
       "<polyline clip-path=\"url(#clip030)\" style=\"stroke:#000000; stroke-linecap:round; stroke-linejoin:round; stroke-width:4; stroke-opacity:1; fill:none\" points=\"186.274,1122.12 205.172,1122.12 \"/>\n",
       "<polyline clip-path=\"url(#clip030)\" style=\"stroke:#000000; stroke-linecap:round; stroke-linejoin:round; stroke-width:4; stroke-opacity:1; fill:none\" points=\"186.274,774.787 205.172,774.787 \"/>\n",
       "<polyline clip-path=\"url(#clip030)\" style=\"stroke:#000000; stroke-linecap:round; stroke-linejoin:round; stroke-width:4; stroke-opacity:1; fill:none\" points=\"186.274,427.452 205.172,427.452 \"/>\n",
       "<polyline clip-path=\"url(#clip030)\" style=\"stroke:#000000; stroke-linecap:round; stroke-linejoin:round; stroke-width:4; stroke-opacity:1; fill:none\" points=\"186.274,80.116 205.172,80.116 \"/>\n",
       "<path clip-path=\"url(#clip030)\" d=\"M62.9365 1455.26 Q59.3254 1455.26 57.4967 1458.82 Q55.6912 1462.36 55.6912 1469.49 Q55.6912 1476.6 57.4967 1480.16 Q59.3254 1483.71 62.9365 1483.71 Q66.5707 1483.71 68.3763 1480.16 Q70.205 1476.6 70.205 1469.49 Q70.205 1462.36 68.3763 1458.82 Q66.5707 1455.26 62.9365 1455.26 M62.9365 1451.55 Q68.7467 1451.55 71.8022 1456.16 Q74.8809 1460.74 74.8809 1469.49 Q74.8809 1478.22 71.8022 1482.83 Q68.7467 1487.41 62.9365 1487.41 Q57.1264 1487.41 54.0477 1482.83 Q50.9921 1478.22 50.9921 1469.49 Q50.9921 1460.74 54.0477 1456.16 Q57.1264 1451.55 62.9365 1451.55 Z\" fill=\"#000000\" fill-rule=\"nonzero\" fill-opacity=\"1\" /><path clip-path=\"url(#clip030)\" d=\"M83.0984 1480.86 L87.9827 1480.86 L87.9827 1486.74 L83.0984 1486.74 L83.0984 1480.86 Z\" fill=\"#000000\" fill-rule=\"nonzero\" fill-opacity=\"1\" /><path clip-path=\"url(#clip030)\" d=\"M108.168 1455.26 Q104.557 1455.26 102.728 1458.82 Q100.922 1462.36 100.922 1469.49 Q100.922 1476.6 102.728 1480.16 Q104.557 1483.71 108.168 1483.71 Q111.802 1483.71 113.608 1480.16 Q115.436 1476.6 115.436 1469.49 Q115.436 1462.36 113.608 1458.82 Q111.802 1455.26 108.168 1455.26 M108.168 1451.55 Q113.978 1451.55 117.033 1456.16 Q120.112 1460.74 120.112 1469.49 Q120.112 1478.22 117.033 1482.83 Q113.978 1487.41 108.168 1487.41 Q102.358 1487.41 99.2789 1482.83 Q96.2234 1478.22 96.2234 1469.49 Q96.2234 1460.74 99.2789 1456.16 Q102.358 1451.55 108.168 1451.55 Z\" fill=\"#000000\" fill-rule=\"nonzero\" fill-opacity=\"1\" /><path clip-path=\"url(#clip030)\" d=\"M138.33 1455.26 Q134.719 1455.26 132.89 1458.82 Q131.084 1462.36 131.084 1469.49 Q131.084 1476.6 132.89 1480.16 Q134.719 1483.71 138.33 1483.71 Q141.964 1483.71 143.769 1480.16 Q145.598 1476.6 145.598 1469.49 Q145.598 1462.36 143.769 1458.82 Q141.964 1455.26 138.33 1455.26 M138.33 1451.55 Q144.14 1451.55 147.195 1456.16 Q150.274 1460.74 150.274 1469.49 Q150.274 1478.22 147.195 1482.83 Q144.14 1487.41 138.33 1487.41 Q132.519 1487.41 129.441 1482.83 Q126.385 1478.22 126.385 1469.49 Q126.385 1460.74 129.441 1456.16 Q132.519 1451.55 138.33 1451.55 Z\" fill=\"#000000\" fill-rule=\"nonzero\" fill-opacity=\"1\" /><path clip-path=\"url(#clip030)\" d=\"M63.9319 1107.92 Q60.3208 1107.92 58.4921 1111.49 Q56.6865 1115.03 56.6865 1122.16 Q56.6865 1129.26 58.4921 1132.83 Q60.3208 1136.37 63.9319 1136.37 Q67.5661 1136.37 69.3717 1132.83 Q71.2004 1129.26 71.2004 1122.16 Q71.2004 1115.03 69.3717 1111.49 Q67.5661 1107.92 63.9319 1107.92 M63.9319 1104.22 Q69.742 1104.22 72.7976 1108.82 Q75.8763 1113.41 75.8763 1122.16 Q75.8763 1130.88 72.7976 1135.49 Q69.742 1140.07 63.9319 1140.07 Q58.1217 1140.07 55.043 1135.49 Q51.9875 1130.88 51.9875 1122.16 Q51.9875 1113.41 55.043 1108.82 Q58.1217 1104.22 63.9319 1104.22 Z\" fill=\"#000000\" fill-rule=\"nonzero\" fill-opacity=\"1\" /><path clip-path=\"url(#clip030)\" d=\"M84.0938 1133.52 L88.978 1133.52 L88.978 1139.4 L84.0938 1139.4 L84.0938 1133.52 Z\" fill=\"#000000\" fill-rule=\"nonzero\" fill-opacity=\"1\" /><path clip-path=\"url(#clip030)\" d=\"M103.191 1135.47 L119.51 1135.47 L119.51 1139.4 L97.566 1139.4 L97.566 1135.47 Q100.228 1132.71 104.811 1128.08 Q109.418 1123.43 110.598 1122.09 Q112.844 1119.56 113.723 1117.83 Q114.626 1116.07 114.626 1114.38 Q114.626 1111.62 112.682 1109.89 Q110.76 1108.15 107.658 1108.15 Q105.459 1108.15 103.006 1108.92 Q100.575 1109.68 97.7974 1111.23 L97.7974 1106.51 Q100.621 1105.38 103.075 1104.8 Q105.529 1104.22 107.566 1104.22 Q112.936 1104.22 116.131 1106.9 Q119.325 1109.59 119.325 1114.08 Q119.325 1116.21 118.515 1118.13 Q117.728 1120.03 115.621 1122.62 Q115.043 1123.29 111.941 1126.51 Q108.839 1129.7 103.191 1135.47 Z\" fill=\"#000000\" fill-rule=\"nonzero\" fill-opacity=\"1\" /><path clip-path=\"url(#clip030)\" d=\"M129.371 1104.84 L147.728 1104.84 L147.728 1108.78 L133.654 1108.78 L133.654 1117.25 Q134.672 1116.9 135.691 1116.74 Q136.709 1116.56 137.728 1116.56 Q143.515 1116.56 146.894 1119.73 Q150.274 1122.9 150.274 1128.31 Q150.274 1133.89 146.802 1137 Q143.33 1140.07 137.01 1140.07 Q134.834 1140.07 132.566 1139.7 Q130.32 1139.33 127.913 1138.59 L127.913 1133.89 Q129.996 1135.03 132.219 1135.58 Q134.441 1136.14 136.918 1136.14 Q140.922 1136.14 143.26 1134.03 Q145.598 1131.93 145.598 1128.31 Q145.598 1124.7 143.26 1122.6 Q140.922 1120.49 136.918 1120.49 Q135.043 1120.49 133.168 1120.91 Q131.316 1121.32 129.371 1122.2 L129.371 1104.84 Z\" fill=\"#000000\" fill-rule=\"nonzero\" fill-opacity=\"1\" /><path clip-path=\"url(#clip030)\" d=\"M62.9365 760.586 Q59.3254 760.586 57.4967 764.151 Q55.6912 767.692 55.6912 774.822 Q55.6912 781.928 57.4967 785.493 Q59.3254 789.035 62.9365 789.035 Q66.5707 789.035 68.3763 785.493 Q70.205 781.928 70.205 774.822 Q70.205 767.692 68.3763 764.151 Q66.5707 760.586 62.9365 760.586 M62.9365 756.882 Q68.7467 756.882 71.8022 761.489 Q74.8809 766.072 74.8809 774.822 Q74.8809 783.549 71.8022 788.155 Q68.7467 792.738 62.9365 792.738 Q57.1264 792.738 54.0477 788.155 Q50.9921 783.549 50.9921 774.822 Q50.9921 766.072 54.0477 761.489 Q57.1264 756.882 62.9365 756.882 Z\" fill=\"#000000\" fill-rule=\"nonzero\" fill-opacity=\"1\" /><path clip-path=\"url(#clip030)\" d=\"M83.0984 786.187 L87.9827 786.187 L87.9827 792.067 L83.0984 792.067 L83.0984 786.187 Z\" fill=\"#000000\" fill-rule=\"nonzero\" fill-opacity=\"1\" /><path clip-path=\"url(#clip030)\" d=\"M98.2141 757.507 L116.57 757.507 L116.57 761.442 L102.496 761.442 L102.496 769.914 Q103.515 769.567 104.534 769.405 Q105.552 769.22 106.571 769.22 Q112.358 769.22 115.737 772.391 Q119.117 775.563 119.117 780.979 Q119.117 786.558 115.645 789.66 Q112.172 792.738 105.853 792.738 Q103.677 792.738 101.409 792.368 Q99.1632 791.998 96.7558 791.257 L96.7558 786.558 Q98.8391 787.692 101.061 788.248 Q103.284 788.803 105.76 788.803 Q109.765 788.803 112.103 786.697 Q114.441 784.59 114.441 780.979 Q114.441 777.368 112.103 775.262 Q109.765 773.155 105.76 773.155 Q103.885 773.155 102.01 773.572 Q100.159 773.988 98.2141 774.868 L98.2141 757.507 Z\" fill=\"#000000\" fill-rule=\"nonzero\" fill-opacity=\"1\" /><path clip-path=\"url(#clip030)\" d=\"M138.33 760.586 Q134.719 760.586 132.89 764.151 Q131.084 767.692 131.084 774.822 Q131.084 781.928 132.89 785.493 Q134.719 789.035 138.33 789.035 Q141.964 789.035 143.769 785.493 Q145.598 781.928 145.598 774.822 Q145.598 767.692 143.769 764.151 Q141.964 760.586 138.33 760.586 M138.33 756.882 Q144.14 756.882 147.195 761.489 Q150.274 766.072 150.274 774.822 Q150.274 783.549 147.195 788.155 Q144.14 792.738 138.33 792.738 Q132.519 792.738 129.441 788.155 Q126.385 783.549 126.385 774.822 Q126.385 766.072 129.441 761.489 Q132.519 756.882 138.33 756.882 Z\" fill=\"#000000\" fill-rule=\"nonzero\" fill-opacity=\"1\" /><path clip-path=\"url(#clip030)\" d=\"M63.9319 413.25 Q60.3208 413.25 58.4921 416.815 Q56.6865 420.357 56.6865 427.486 Q56.6865 434.593 58.4921 438.158 Q60.3208 441.699 63.9319 441.699 Q67.5661 441.699 69.3717 438.158 Q71.2004 434.593 71.2004 427.486 Q71.2004 420.357 69.3717 416.815 Q67.5661 413.25 63.9319 413.25 M63.9319 409.547 Q69.742 409.547 72.7976 414.153 Q75.8763 418.736 75.8763 427.486 Q75.8763 436.213 72.7976 440.82 Q69.742 445.403 63.9319 445.403 Q58.1217 445.403 55.043 440.82 Q51.9875 436.213 51.9875 427.486 Q51.9875 418.736 55.043 414.153 Q58.1217 409.547 63.9319 409.547 Z\" fill=\"#000000\" fill-rule=\"nonzero\" fill-opacity=\"1\" /><path clip-path=\"url(#clip030)\" d=\"M84.0938 438.852 L88.978 438.852 L88.978 444.732 L84.0938 444.732 L84.0938 438.852 Z\" fill=\"#000000\" fill-rule=\"nonzero\" fill-opacity=\"1\" /><path clip-path=\"url(#clip030)\" d=\"M97.9826 410.172 L120.205 410.172 L120.205 412.162 L107.658 444.732 L102.774 444.732 L114.58 414.107 L97.9826 414.107 L97.9826 410.172 Z\" fill=\"#000000\" fill-rule=\"nonzero\" fill-opacity=\"1\" /><path clip-path=\"url(#clip030)\" d=\"M129.371 410.172 L147.728 410.172 L147.728 414.107 L133.654 414.107 L133.654 422.579 Q134.672 422.232 135.691 422.07 Q136.709 421.884 137.728 421.884 Q143.515 421.884 146.894 425.056 Q150.274 428.227 150.274 433.644 Q150.274 439.222 146.802 442.324 Q143.33 445.403 137.01 445.403 Q134.834 445.403 132.566 445.032 Q130.32 444.662 127.913 443.921 L127.913 439.222 Q129.996 440.357 132.219 440.912 Q134.441 441.468 136.918 441.468 Q140.922 441.468 143.26 439.361 Q145.598 437.255 145.598 433.644 Q145.598 430.033 143.26 427.926 Q140.922 425.82 136.918 425.82 Q135.043 425.82 133.168 426.236 Q131.316 426.653 129.371 427.533 L129.371 410.172 Z\" fill=\"#000000\" fill-rule=\"nonzero\" fill-opacity=\"1\" /><path clip-path=\"url(#clip030)\" d=\"M53.7467 93.4608 L61.3856 93.4608 L61.3856 67.0952 L53.0754 68.7619 L53.0754 64.5027 L61.3393 62.836 L66.0152 62.836 L66.0152 93.4608 L73.654 93.4608 L73.654 97.396 L53.7467 97.396 L53.7467 93.4608 Z\" fill=\"#000000\" fill-rule=\"nonzero\" fill-opacity=\"1\" /><path clip-path=\"url(#clip030)\" d=\"M83.0984 91.5164 L87.9827 91.5164 L87.9827 97.396 L83.0984 97.396 L83.0984 91.5164 Z\" fill=\"#000000\" fill-rule=\"nonzero\" fill-opacity=\"1\" /><path clip-path=\"url(#clip030)\" d=\"M108.168 65.9147 Q104.557 65.9147 102.728 69.4795 Q100.922 73.0211 100.922 80.1507 Q100.922 87.2572 102.728 90.822 Q104.557 94.3636 108.168 94.3636 Q111.802 94.3636 113.608 90.822 Q115.436 87.2572 115.436 80.1507 Q115.436 73.0211 113.608 69.4795 Q111.802 65.9147 108.168 65.9147 M108.168 62.211 Q113.978 62.211 117.033 66.8175 Q120.112 71.4008 120.112 80.1507 Q120.112 88.8775 117.033 93.484 Q113.978 98.0673 108.168 98.0673 Q102.358 98.0673 99.2789 93.484 Q96.2234 88.8775 96.2234 80.1507 Q96.2234 71.4008 99.2789 66.8175 Q102.358 62.211 108.168 62.211 Z\" fill=\"#000000\" fill-rule=\"nonzero\" fill-opacity=\"1\" /><path clip-path=\"url(#clip030)\" d=\"M138.33 65.9147 Q134.719 65.9147 132.89 69.4795 Q131.084 73.0211 131.084 80.1507 Q131.084 87.2572 132.89 90.822 Q134.719 94.3636 138.33 94.3636 Q141.964 94.3636 143.769 90.822 Q145.598 87.2572 145.598 80.1507 Q145.598 73.0211 143.769 69.4795 Q141.964 65.9147 138.33 65.9147 M138.33 62.211 Q144.14 62.211 147.195 66.8175 Q150.274 71.4008 150.274 80.1507 Q150.274 88.8775 147.195 93.484 Q144.14 98.0673 138.33 98.0673 Q132.519 98.0673 129.441 93.484 Q126.385 88.8775 126.385 80.1507 Q126.385 71.4008 129.441 66.8175 Q132.519 62.211 138.33 62.211 Z\" fill=\"#000000\" fill-rule=\"nonzero\" fill-opacity=\"1\" /><path clip-path=\"url(#clip032)\" d=\"M247.59 633.512 L268.234 461.279 L288.879 450.98 L309.524 956.126 L330.169 1331.57 L350.814 858.439 L371.459 1026.27 L392.104 1272.16 L412.749 1081.81 L433.394 378.38 L454.039 515.32 L474.684 1365.91 L495.329 1332.14 L515.974 1189.58 L536.619 416.862 L557.264 1130.19 L577.909 796.925 L598.554 1423.53 L619.199 447.13 L639.844 1173.66 L660.489 808.774 L681.134 112.18 L701.779 391.644 L722.424 1144.69 L743.069 785.778 L763.713 1224.89 L784.358 950.021 L805.003 90.623 L825.648 565.647 L846.293 1021.44 L866.938 1163.15 L887.583 1061.01 L908.228 1108.43 L928.873 1132.26 L949.518 1080.24 L970.163 1040.37 L990.808 1103.92 L1011.45 1087.29 L1032.1 1080.4 L1052.74 1153.21 L1073.39 1100.26 L1094.03 1158.87 L1114.68 1104.7 L1135.32 1214.59 L1155.97 1186.08 L1176.61 1158.36 L1197.26 1196.96 L1217.9 1219.55 L1238.55 1129.02 L1259.19 1241.79 L1279.84 1031.63 L1300.48 243.812 L1321.13 149.153 L1341.77 210.155 L1362.42 747.752 L1383.06 230.174 L1403.71 87.9763 L1424.35 351.901 L1445 402.789 L1465.64 927.92 L1486.29 1419.4 L1506.93 1025.5 L1527.58 1015.73 L1548.22 1292.8 L1568.87 101.685 L1589.51 1126.89 L1610.16 1153.92 L1630.8 1340.47 L1651.45 1268.63 L1672.09 1201.68 L1692.74 1341.91 L1713.38 339.607 L1734.03 699.286 L1754.67 741.337 L1775.32 367.507 L1795.96 374.036 L1816.61 1341.32 L1837.25 262.93 L1857.9 521.729 L1878.54 1011.74 L1899.19 1250.85 L1919.83 495.529 L1940.48 1041.04 L1961.12 1050.08 L1981.77 94.992 L2002.41 723.557 L2023.06 1250.91 L2043.7 1111.54 L2064.35 595.612 L2084.99 930.34 L2105.64 977.941 L2126.28 771.336 L2146.93 563.16 L2167.57 1385.51 L2188.22 171.901 L2208.86 1445.72 L2229.51 367.741 L2250.15 985.003 L2270.8 1160.4 L2291.44 1195.01 L2291.44 1195.01 L2270.8 1160.4 L2250.15 985.003 L2229.51 367.741 L2208.86 1445.72 L2188.22 171.901 L2167.57 1385.51 L2146.93 563.16 L2126.28 771.336 L2105.64 977.941 L2084.99 930.34 L2064.35 595.612 L2043.7 1111.54 L2023.06 1250.91 L2002.41 723.557 L1981.77 94.992 L1961.12 1050.08 L1940.48 1041.04 L1919.83 495.529 L1899.19 1250.85 L1878.54 1011.74 L1857.9 521.729 L1837.25 262.93 L1816.61 1341.32 L1795.96 374.036 L1775.32 367.507 L1754.67 741.337 L1734.03 699.286 L1713.38 339.607 L1692.74 1341.91 L1672.09 1201.68 L1651.45 1268.63 L1630.8 1340.47 L1610.16 1153.92 L1589.51 1126.89 L1568.87 101.685 L1548.22 1292.8 L1527.58 1015.73 L1506.93 1025.5 L1486.29 1419.4 L1465.64 927.92 L1445 402.789 L1424.35 351.901 L1403.71 87.9763 L1383.06 230.174 L1362.42 747.752 L1341.77 210.155 L1321.13 149.153 L1300.48 243.812 L1279.84 1031.63 L1259.19 416.721 L1238.55 303.839 L1217.9 450.68 L1197.26 435.786 L1176.61 322.395 L1155.97 345.466 L1135.32 487.871 L1114.68 272.256 L1094.03 352.025 L1073.39 300.321 L1052.74 385.323 L1032.1 273.774 L1011.45 245.279 L990.808 264.426 L970.163 296.816 L949.518 305.978 L928.873 316.732 L908.228 365.597 L887.583 288.184 L866.938 371.732 L846.293 327.656 L825.648 565.647 L805.003 90.623 L784.358 950.021 L763.713 1224.89 L743.069 785.778 L722.424 1144.69 L701.779 391.644 L681.134 112.18 L660.489 808.774 L639.844 1173.66 L619.199 447.13 L598.554 1423.53 L577.909 796.925 L557.264 1130.19 L536.619 416.862 L515.974 1189.58 L495.329 1332.14 L474.684 1365.91 L454.039 515.32 L433.394 378.38 L412.749 1081.81 L392.104 1272.16 L371.459 1026.27 L350.814 858.439 L330.169 1331.57 L309.524 956.126 L288.879 450.98 L268.234 461.279 L247.59 633.512  Z\" fill=\"#009af9\" fill-rule=\"evenodd\" fill-opacity=\"0.5\"/>\n",
       "<polyline clip-path=\"url(#clip032)\" style=\"stroke:#009af9; stroke-linecap:round; stroke-linejoin:round; stroke-width:4; stroke-opacity:1; fill:none\" points=\"247.59,633.512 268.234,461.279 288.879,450.98 309.524,956.126 330.169,1331.57 350.814,858.439 371.459,1026.27 392.104,1272.16 412.749,1081.81 433.394,378.38 454.039,515.32 474.684,1365.91 495.329,1332.14 515.974,1189.58 536.619,416.862 557.264,1130.19 577.909,796.925 598.554,1423.53 619.199,447.13 639.844,1173.66 660.489,808.774 681.134,112.18 701.779,391.644 722.424,1144.69 743.069,785.778 763.713,1224.89 784.358,950.021 805.003,90.623 825.648,565.647 846.293,674.547 866.938,767.443 887.583,674.596 908.228,737.014 928.873,724.496 949.518,693.11 970.163,668.591 990.808,684.174 1011.45,666.284 1032.1,677.088 1052.74,769.268 1073.39,700.289 1094.03,755.449 1114.68,688.476 1135.32,851.228 1155.97,765.773 1176.61,740.376 1197.26,816.372 1217.9,835.115 1238.55,716.428 1259.19,829.257 1279.84,1031.63 1300.48,243.812 1321.13,149.153 1341.77,210.155 1362.42,747.752 1383.06,230.174 1403.71,87.9763 1424.35,351.901 1445,402.789 1465.64,927.92 1486.29,1419.4 1506.93,1025.5 1527.58,1015.73 1548.22,1292.8 1568.87,101.685 1589.51,1126.89 1610.16,1153.92 1630.8,1340.47 1651.45,1268.63 1672.09,1201.68 1692.74,1341.91 1713.38,339.607 1734.03,699.286 1754.67,741.337 1775.32,367.507 1795.96,374.036 1816.61,1341.32 1837.25,262.93 1857.9,521.729 1878.54,1011.74 1899.19,1250.85 1919.83,495.529 1940.48,1041.04 1961.12,1050.08 1981.77,94.992 2002.41,723.557 2023.06,1250.91 2043.7,1111.54 2064.35,595.612 2084.99,930.34 2105.64,977.941 2126.28,771.336 2146.93,563.16 2167.57,1385.51 2188.22,171.901 2208.86,1445.72 2229.51,367.741 2250.15,985.003 2270.8,1160.4 2291.44,1195.01 \"/>\n",
       "<path clip-path=\"url(#clip030)\" d=\"M258.49 198.898 L527.569 198.898 L527.569 95.2176 L258.49 95.2176  Z\" fill=\"#ffffff\" fill-rule=\"evenodd\" fill-opacity=\"1\"/>\n",
       "<polyline clip-path=\"url(#clip030)\" style=\"stroke:#000000; stroke-linecap:round; stroke-linejoin:round; stroke-width:4; stroke-opacity:1; fill:none\" points=\"258.49,198.898 527.569,198.898 527.569,95.2176 258.49,95.2176 258.49,198.898 \"/>\n",
       "<polyline clip-path=\"url(#clip030)\" style=\"stroke:#009af9; stroke-linecap:round; stroke-linejoin:round; stroke-width:4; stroke-opacity:1; fill:none\" points=\"282.562,147.058 426.994,147.058 \"/>\n",
       "<path clip-path=\"url(#clip030)\" d=\"M464.909 166.745 Q463.103 171.375 461.39 172.787 Q459.677 174.199 456.807 174.199 L453.404 174.199 L453.404 170.634 L455.904 170.634 Q457.663 170.634 458.636 169.8 Q459.608 168.967 460.788 165.865 L461.552 163.921 L451.066 138.412 L455.58 138.412 L463.682 158.689 L471.784 138.412 L476.298 138.412 L464.909 166.745 Z\" fill=\"#000000\" fill-rule=\"nonzero\" fill-opacity=\"1\" /><path clip-path=\"url(#clip030)\" d=\"M483.589 160.402 L491.228 160.402 L491.228 134.037 L482.918 135.703 L482.918 131.444 L491.182 129.778 L495.858 129.778 L495.858 160.402 L503.497 160.402 L503.497 164.338 L483.589 164.338 L483.589 160.402 Z\" fill=\"#000000\" fill-rule=\"nonzero\" fill-opacity=\"1\" /></svg>\n"
      ]
     },
     "metadata": {},
     "output_type": "display_data"
    }
   ],
   "source": [
    "plot(mean_ts, ribbon=std_ts)"
   ]
  },
  {
   "cell_type": "code",
   "execution_count": null,
   "metadata": {},
   "outputs": [],
   "source": []
  }
 ],
 "metadata": {
  "kernelspec": {
   "display_name": "Julia 1.10.2",
   "language": "julia",
   "name": "julia-1.10"
  },
  "language_info": {
   "file_extension": ".jl",
   "mimetype": "application/julia",
   "name": "julia",
   "version": "1.10.2"
  }
 },
 "nbformat": 4,
 "nbformat_minor": 2
}
