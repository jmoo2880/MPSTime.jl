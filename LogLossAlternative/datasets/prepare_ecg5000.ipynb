{
 "cells": [
  {
   "cell_type": "code",
   "execution_count": 86,
   "metadata": {},
   "outputs": [],
   "source": [
    "from sklearn.model_selection import train_test_split\n",
    "import numpy as np\n",
    "import matplotlib.pyplot as plt\n",
    "import random"
   ]
  },
  {
   "cell_type": "code",
   "execution_count": 10,
   "metadata": {},
   "outputs": [],
   "source": [
    "ecg_train = np.loadtxt(\"ECG5000_TRAIN.txt\")\n",
    "ecg_test = np.loadtxt(\"ECG5000_TEST.txt\")"
   ]
  },
  {
   "cell_type": "code",
   "execution_count": 20,
   "metadata": {},
   "outputs": [],
   "source": [
    "combined_data = np.vstack([ecg_train, ecg_test])\n",
    "X = combined_data[:, 1:]\n",
    "y = combined_data[:, 0]"
   ]
  },
  {
   "cell_type": "markdown",
   "metadata": {},
   "source": [
    "Form new split"
   ]
  },
  {
   "cell_type": "code",
   "execution_count": 42,
   "metadata": {},
   "outputs": [
    {
     "name": "stdout",
     "output_type": "stream",
     "text": [
      "Class 1 Count:  2919\n",
      "Class 2 Count:  1767\n",
      "Class 3 Count:  96\n",
      "Class 4 Count:  194\n",
      "Class 5 Count:  24\n"
     ]
    }
   ],
   "source": [
    "print(\"Class 1 Count: \", list(y).count(1))\n",
    "print(\"Class 2 Count: \", list(y).count(2))\n",
    "print(\"Class 3 Count: \", list(y).count(3))\n",
    "print(\"Class 4 Count: \", list(y).count(4))\n",
    "print(\"Class 5 Count: \", list(y).count(5))"
   ]
  },
  {
   "cell_type": "markdown",
   "metadata": {},
   "source": [
    "Let's simplify the problem. Binary classification between class 1 and 2. Train on 1500, test on 200."
   ]
  },
  {
   "cell_type": "code",
   "execution_count": 59,
   "metadata": {},
   "outputs": [],
   "source": [
    "class_1_idxs = np.argwhere(y == 1).flatten()\n",
    "class_2_idxs = np.argwhere(y == 2).flatten()"
   ]
  },
  {
   "cell_type": "code",
   "execution_count": 56,
   "metadata": {},
   "outputs": [
    {
     "data": {
      "text/plain": [
       "(5000, 140)"
      ]
     },
     "execution_count": 56,
     "metadata": {},
     "output_type": "execute_result"
    }
   ],
   "source": [
    "X.shape"
   ]
  },
  {
   "cell_type": "code",
   "execution_count": 66,
   "metadata": {},
   "outputs": [],
   "source": [
    "c1_subset = X[class_1_idxs, :]\n",
    "c1_y_subset = y[class_1_idxs]\n",
    "c2_subset = X[class_2_idxs, :]\n",
    "c2_y_subset = y[class_2_idxs]"
   ]
  },
  {
   "cell_type": "code",
   "execution_count": 97,
   "metadata": {},
   "outputs": [],
   "source": [
    "np.random.seed(42)\n",
    "class_1_subset_idxs = random.sample(range(len(c1_y_subset)), 1700) # force balanced classes, 1700 each\n",
    "class_2_subset_idxs = random.sample(range(len(c2_y_subset)), 1700)\n",
    "X_final = np.vstack([c1_subset[class_1_subset_idxs, :], c2_subset[class_2_subset_idxs, :]])\n",
    "y_final = np.concatenate([c1_y_subset[class_1_subset_idxs], c2_y_subset[class_2_subset_idxs]])"
   ]
  },
  {
   "cell_type": "code",
   "execution_count": 106,
   "metadata": {},
   "outputs": [],
   "source": [
    "X_train, X_test, y_train, y_test = train_test_split(X_final, y_final, test_size=0.12, stratify=y_final)"
   ]
  },
  {
   "cell_type": "markdown",
   "metadata": {},
   "source": [
    "Make labels one-hot "
   ]
  },
  {
   "cell_type": "code",
   "execution_count": 113,
   "metadata": {},
   "outputs": [],
   "source": [
    "y_test = y_test - 1"
   ]
  },
  {
   "cell_type": "code",
   "execution_count": 115,
   "metadata": {},
   "outputs": [],
   "source": [
    "y_train = y_train - 1"
   ]
  },
  {
   "cell_type": "code",
   "execution_count": 122,
   "metadata": {},
   "outputs": [],
   "source": [
    "#np.savetxt(\"./ecg2000_train.txt\", np.hstack([np.array(y_train).reshape(-1, 1), X_train])) # append labels to first column of each row\n",
    "#np.savetxt(\"ecg2000_test.txt\", np.hstack([np.array(y_test).reshape(-1, 1), X_test]))"
   ]
  },
  {
   "cell_type": "code",
   "execution_count": null,
   "metadata": {},
   "outputs": [],
   "source": []
  }
 ],
 "metadata": {
  "kernelspec": {
   "display_name": "Python 3",
   "language": "python",
   "name": "python3"
  },
  "language_info": {
   "codemirror_mode": {
    "name": "ipython",
    "version": 3
   },
   "file_extension": ".py",
   "mimetype": "text/x-python",
   "name": "python",
   "nbconvert_exporter": "python",
   "pygments_lexer": "ipython3",
   "version": "3.9.6"
  }
 },
 "nbformat": 4,
 "nbformat_minor": 2
}
