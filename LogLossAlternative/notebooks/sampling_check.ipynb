{
 "cells": [
  {
   "cell_type": "code",
   "execution_count": 1,
   "metadata": {},
   "outputs": [],
   "source": [
    "using ITensors\n",
    "using Random\n",
    "using HDF5\n",
    "using QuadGK, Roots\n",
    "using Plots"
   ]
  },
  {
   "cell_type": "code",
   "execution_count": 2,
   "metadata": {},
   "outputs": [
    {
     "data": {
      "text/plain": [
       "loadMPS (generic function with 1 method)"
      ]
     },
     "metadata": {},
     "output_type": "display_data"
    }
   ],
   "source": [
    "function loadMPS(path::String; id::String=\"W\")\n",
    "    \"\"\"Loads an MPS from a .h5 file. Returns and ITensor MPS.\"\"\"\n",
    "        file = path[end-2:end] != \".h5\" ? path * \".h5\" : path\n",
    "        f = h5open(\"$file\",\"r\")\n",
    "        mps = read(f, \"$id\", MPS)\n",
    "        close(f)\n",
    "        return mps\n",
    "end"
   ]
  },
  {
   "cell_type": "code",
   "execution_count": 3,
   "metadata": {},
   "outputs": [
    {
     "data": {
      "text/plain": [
       "sliceMPS (generic function with 1 method)"
      ]
     },
     "metadata": {},
     "output_type": "display_data"
    }
   ],
   "source": [
    "function sliceMPS(W::MPS, class_label::Int)\n",
    "    \"\"\"General function to slice the MPS and return the state corresponding to a specific class label.\"\"\"\n",
    "    ψ = deepcopy(W)\n",
    "    decision_idx = findindex(ψ[4], \"f(x)\")\n",
    "    decision_state = onehot(decision_idx => (class_label + 1))\n",
    "    ψ[4] *= decision_state\n",
    "    normalize!(ψ)\n",
    "\n",
    "    return ψ\n",
    "end"
   ]
  },
  {
   "cell_type": "code",
   "execution_count": 5,
   "metadata": {},
   "outputs": [
    {
     "data": {
      "text/plain": [
       "sample_mps_with_contractions (generic function with 1 method)"
      ]
     },
     "metadata": {},
     "output_type": "display_data"
    }
   ],
   "source": [
    "function get_probability_density(x::Float64, rdm::Matrix)\n",
    "    \"\"\"Takes in the 1-site reduced density matrix and \n",
    "    returns the probability of a given time series value, x \n",
    "    (note, x is before applying encoding, NOT ϕ(x)).\"\"\"\n",
    "    # convert time series value to encoded state by applying feature map\n",
    "    # our complex feature map\n",
    "    state = [exp(1im * (3π/2) * x) * cospi(0.5 * x), exp(-1im * (3π/2) * x) * sinpi(0.5 * x)]\n",
    "    return real(state' * rdm * state) # |<x|ρ|x>|\n",
    "end\n",
    "\n",
    "function get_normalisation_constant(rdm::Matrix)\n",
    "    \"\"\"Get the normalisation constant Z for the pdf\"\"\"\n",
    "    prob_density_wrapper(x) = get_probability_density(x, rdm)\n",
    "    norm_const, _ = quadgk(prob_density_wrapper, 0, 1) # integrate over data/x domain\n",
    "    return norm_const\n",
    "end\n",
    "\n",
    "function get_cdf(x::Float64, rdm::Matrix, integral_norm_const::Float64)\n",
    "    \"\"\"Get the cumulative distribution function via numerical integration of\n",
    "    the probability density function.\n",
    "\n",
    "        Returns cdf evaluated at x where x is the proposed value i.e., F(x).\"\"\"\n",
    "\n",
    "    prob_density_wrapper(x_prime) = (1/integral_norm_const) * get_probability_density(x_prime, rdm)\n",
    "    cdf_val, _ = quadgk(prob_density_wrapper, 0, x) # pdf has support on the interval [0, 1] so integrate accordingly\n",
    "    \n",
    "    return cdf_val\n",
    "end\n",
    "\n",
    "function sample_state_from_rdm(rdm)\n",
    "    \"\"\"Given a 1 site RDM, samples a random value according to the\n",
    "    conditional distribution encapsulated by the rdm using inverse transform sampling.\n",
    "    Returns both the sampled value x (the un-feature mapped value) and the feature mapped\n",
    "    value ϕ(x).\"\"\"\n",
    "    norm_factor = get_normalisation_constant(rdm)\n",
    "    u = rand() # sample a uniform random value from ~U(0,1)\n",
    "    # solve for x by defining an auxilary function g(x) such that g(x) = F(x) - u and then use root finder to solve for x such that g(x) = 0\n",
    "    cdf_wrapper(x) = get_cdf(x, rdm, norm_factor) - u\n",
    "    sampled_x = find_zero(cdf_wrapper, (0, 1))\n",
    "    # map sampled value back to a state\n",
    "    sampled_state = [exp(1im * (3π/2) * sampled_x) * cospi(0.5 * sampled_x), exp(-1im * (3π/2) * sampled_x) * sinpi(0.5 * sampled_x)]\n",
    "    \n",
    "    return sampled_x, sampled_state\n",
    "end\n",
    "\n",
    "function sample_mps_with_contractions(label_mps::MPS)\n",
    "    \"\"\"Using the perfect sampling approach described in Vidal et al.'s paper\n",
    "    on sampling from Unitaary Tensor Networks.\"\"\"\n",
    "    # do initial checks on the mps\n",
    "    @assert isapprox(norm(label_mps), 1.0) \"WARNING: MPS NOT NORMALISED!\"\n",
    "    # make a copy of the mps\n",
    "    mps = deepcopy(label_mps)\n",
    "    s = siteinds(mps)\n",
    "    # put the mps into right canonical form - orthogonality center is set to the first site\n",
    "    orthogonalize!(mps, 1)\n",
    "    # create storage for samples\n",
    "    x_samps = Vector{Float64}(undef, length(mps))\n",
    "    #println(length(x_samps))\n",
    "\n",
    "    # set A to the first mps site\n",
    "    A = mps[1]\n",
    "\n",
    "    for i in 1:length(mps)\n",
    "\n",
    "        # get the reduced density matrix at site i\n",
    "        rdm = prime(A, s[i]) * dag(A)\n",
    "        # convert to matrix type\n",
    "        rdm_matrix = matrix(rdm)\n",
    "        # sample a state from the rdm using inverse transform sampling\n",
    "        sampled_x, sampled_state = sample_state_from_rdm(rdm_matrix)\n",
    "        x_samps[i] = sampled_x\n",
    "        if i != length(mps)\n",
    "            sampled_state_as_ITensor = ITensor(sampled_state, s[i])\n",
    "            # get the probability of the state for normalising the next site\n",
    "            proba_state = get_probability_density(sampled_x, rdm_matrix)\n",
    "            println(\"Prob of sampled state: $proba_state\")\n",
    "            # check that the trace of the rdm is equal to one\n",
    "            sampled_x, sampled_state = sample_state_from_rdm(rdm_matrix)\n",
    "            # make the measurment of the site\n",
    "            Am = A * dag(sampled_state_as_ITensor)\n",
    "            # absorb into the next site\n",
    "            A_new = mps[(i+1)] * Am\n",
    "            # normalise by the probability\n",
    "            A_new *= 1/sqrt(proba_state)\n",
    "            # set A to A_new\n",
    "            A = A_new\n",
    "        end\n",
    "        println(\"Trace of ρ$i: $(real(tr(rdm_matrix)))\")\n",
    "    end\n",
    "\n",
    "    return x_samps\n",
    "\n",
    "end"
   ]
  },
  {
   "cell_type": "code",
   "execution_count": 6,
   "metadata": {},
   "outputs": [
    {
     "data": {
      "text/plain": [
       "MPS\n",
       "[1] ((dim=2|id=172|\"S=1/2,Site,n=1\"), (dim=2|id=626|\"Link,l=1\"))\n",
       "[2] ((dim=2|id=284|\"S=1/2,Site,n=2\"), (dim=4|id=833|\"Link,l=2\"), (dim=2|id=626|\"Link,l=1\"))\n",
       "[3] ((dim=2|id=918|\"S=1/2,Site,n=3\"), (dim=6|id=438|\"Link,l=3\"), (dim=4|id=833|\"Link,l=2\"))\n",
       "[4] ((dim=3|id=902|\"f(x)\"), (dim=2|id=146|\"S=1/2,Site,n=4\"), (dim=6|id=438|\"Link,l=3\"))\n"
      ]
     },
     "metadata": {},
     "output_type": "display_data"
    }
   ],
   "source": [
    "mps = loadMPS(\"/Users/joshua/Documents/QuantumInspiredML/LogLossAlternative/notebooks/iris2.h5\")"
   ]
  },
  {
   "cell_type": "code",
   "execution_count": 7,
   "metadata": {},
   "outputs": [
    {
     "data": {
      "text/plain": [
       "0.9999999999999994"
      ]
     },
     "metadata": {},
     "output_type": "display_data"
    }
   ],
   "source": [
    "norm(mps)"
   ]
  },
  {
   "cell_type": "code",
   "execution_count": 8,
   "metadata": {},
   "outputs": [
    {
     "data": {
      "text/plain": [
       "MPS\n",
       "[1] ((dim=2|id=172|\"S=1/2,Site,n=1\"), (dim=2|id=229|\"Link,l=1\"))\n",
       "[2] ((dim=2|id=284|\"S=1/2,Site,n=2\"), (dim=4|id=95|\"Link,l=2\"), (dim=2|id=229|\"Link,l=1\"))\n",
       "[3] ((dim=2|id=918|\"S=1/2,Site,n=3\"), (dim=2|id=811|\"Link,l=3\"), (dim=4|id=95|\"Link,l=2\"))\n",
       "[4] ((dim=2|id=146|\"S=1/2,Site,n=4\"), (dim=2|id=811|\"Link,l=3\"))\n"
      ]
     },
     "metadata": {},
     "output_type": "display_data"
    }
   ],
   "source": [
    "state0 = sliceMPS(mps, 0)\n",
    "mps = deepcopy(state0)\n",
    "s = siteinds(mps)\n",
    "orthogonalize!(mps, 1)"
   ]
  },
  {
   "cell_type": "code",
   "execution_count": 9,
   "metadata": {},
   "outputs": [
    {
     "data": {
      "text/plain": [
       "MPS\n",
       "[1] ((dim=2|id=172|\"S=1/2,Site,n=1\"), (dim=2|id=229|\"Link,l=1\"))\n",
       "[2] ((dim=2|id=284|\"S=1/2,Site,n=2\"), (dim=4|id=95|\"Link,l=2\"), (dim=2|id=229|\"Link,l=1\"))\n",
       "[3] ((dim=2|id=918|\"S=1/2,Site,n=3\"), (dim=2|id=811|\"Link,l=3\"), (dim=4|id=95|\"Link,l=2\"))\n",
       "[4] ((dim=2|id=146|\"S=1/2,Site,n=4\"), (dim=2|id=811|\"Link,l=3\"))\n"
      ]
     },
     "metadata": {},
     "output_type": "display_data"
    }
   ],
   "source": [
    "mps"
   ]
  },
  {
   "cell_type": "markdown",
   "metadata": {},
   "source": [
    "# Site 1"
   ]
  },
  {
   "cell_type": "code",
   "execution_count": 310,
   "metadata": {},
   "outputs": [
    {
     "data": {
      "text/plain": [
       "ITensor ord=2 (dim=2|id=172|\"S=1/2,Site,n=1\")' (dim=2|id=172|\"S=1/2,Site,n=1\")\n",
       "NDTensors.Dense{ComplexF64, Vector{ComplexF64}}"
      ]
     },
     "metadata": {},
     "output_type": "display_data"
    }
   ],
   "source": [
    "rdm1 = prime(mps[1], s[1]) * dag(mps[1])"
   ]
  },
  {
   "cell_type": "code",
   "execution_count": 311,
   "metadata": {},
   "outputs": [
    {
     "data": {
      "text/plain": [
       "Dim 1: (dim=2|id=172|\"S=1/2,Site,n=1\")'\n",
       "Dim 2: (dim=2|id=172|\"S=1/2,Site,n=1\")\n",
       "NDTensors.Dense{ComplexF64, Vector{ComplexF64}}\n",
       " 2×2\n",
       " 0.23804645328291676 + 0.0im                   …  0.4254524703050361 + 0.007158687684322989im\n",
       "  0.4254524703050361 - 0.007158687684322989im     0.7619535467170835 + 0.0im"
      ]
     },
     "metadata": {},
     "output_type": "display_data"
    }
   ],
   "source": [
    "rdm1.tensor"
   ]
  },
  {
   "cell_type": "code",
   "execution_count": 312,
   "metadata": {},
   "outputs": [
    {
     "data": {
      "text/plain": [
       "2×2 Matrix{ComplexF64}:\n",
       " 0.238046+0.0im         0.425452+0.00715869im\n",
       " 0.425452-0.00715869im  0.761954+0.0im"
      ]
     },
     "metadata": {},
     "output_type": "display_data"
    }
   ],
   "source": [
    "rdm1_mat = matrix(rdm)"
   ]
  },
  {
   "cell_type": "code",
   "execution_count": 313,
   "metadata": {},
   "outputs": [
    {
     "data": {
      "text/plain": [
       "(0.48886395137841476, ComplexF64[-0.48128765785576116 + 0.5346504340041781im, -0.4647376557992283 - 0.5162654502260419im])"
      ]
     },
     "metadata": {},
     "output_type": "display_data"
    }
   ],
   "source": [
    "sampled_x, sampled_state = sample_state_from_rdm(rdm1_mat)"
   ]
  },
  {
   "cell_type": "code",
   "execution_count": 314,
   "metadata": {},
   "outputs": [
    {
     "data": {
      "text/plain": [
       "0.48886395137841476"
      ]
     },
     "metadata": {},
     "output_type": "display_data"
    }
   ],
   "source": [
    "sampled_x"
   ]
  },
  {
   "cell_type": "code",
   "execution_count": 315,
   "metadata": {},
   "outputs": [
    {
     "data": {
      "text/plain": [
       "ITensor ord=1 (dim=2|id=172|\"S=1/2,Site,n=1\")\n",
       "NDTensors.Dense{ComplexF64, Vector{ComplexF64}}"
      ]
     },
     "metadata": {},
     "output_type": "display_data"
    }
   ],
   "source": [
    "site_1_state = ITensor(sampled_state, s[1])"
   ]
  },
  {
   "cell_type": "code",
   "execution_count": 316,
   "metadata": {},
   "outputs": [
    {
     "data": {
      "text/plain": [
       "0.43917843946843815"
      ]
     },
     "metadata": {},
     "output_type": "display_data"
    }
   ],
   "source": [
    "proba_site_1 = get_probability_density(sampled_x, rdm1_mat)"
   ]
  },
  {
   "cell_type": "markdown",
   "metadata": {},
   "source": [
    "Contract at site 1"
   ]
  },
  {
   "cell_type": "code",
   "execution_count": 317,
   "metadata": {},
   "outputs": [
    {
     "data": {
      "text/plain": [
       "ITensor ord=1 (dim=2|id=222|\"Link,l=1\")\n",
       "NDTensors.Dense{ComplexF64, Vector{ComplexF64}}"
      ]
     },
     "metadata": {},
     "output_type": "display_data"
    }
   ],
   "source": [
    "mps[1] *= site_1_measured"
   ]
  },
  {
   "cell_type": "code",
   "execution_count": 318,
   "metadata": {},
   "outputs": [
    {
     "data": {
      "text/plain": [
       "MPS\n",
       "[1] ((dim=2|id=222|\"Link,l=1\"),)\n",
       "[2] ((dim=2|id=284|\"S=1/2,Site,n=2\"), (dim=4|id=705|\"Link,l=2\"), (dim=2|id=222|\"Link,l=1\"))\n",
       "[3] ((dim=2|id=918|\"S=1/2,Site,n=3\"), (dim=2|id=727|\"Link,l=3\"), (dim=4|id=705|\"Link,l=2\"))\n",
       "[4] ((dim=2|id=146|\"S=1/2,Site,n=4\"), (dim=2|id=727|\"Link,l=3\"))\n"
      ]
     },
     "metadata": {},
     "output_type": "display_data"
    }
   ],
   "source": [
    "mps"
   ]
  },
  {
   "cell_type": "code",
   "execution_count": 319,
   "metadata": {},
   "outputs": [
    {
     "data": {
      "text/plain": [
       "ITensor ord=2 (dim=2|id=284|\"S=1/2,Site,n=2\") (dim=4|id=705|\"Link,l=2\")\n",
       "NDTensors.Dense{ComplexF64, Vector{ComplexF64}}"
      ]
     },
     "metadata": {},
     "output_type": "display_data"
    }
   ],
   "source": [
    "mps[2]*=mps[1]"
   ]
  },
  {
   "cell_type": "code",
   "execution_count": 320,
   "metadata": {},
   "outputs": [
    {
     "data": {
      "text/plain": [
       "MPS\n",
       "[1] ((dim=2|id=222|\"Link,l=1\"),)\n",
       "[2] ((dim=2|id=284|\"S=1/2,Site,n=2\"), (dim=4|id=705|\"Link,l=2\"))\n",
       "[3] ((dim=2|id=918|\"S=1/2,Site,n=3\"), (dim=2|id=727|\"Link,l=3\"), (dim=4|id=705|\"Link,l=2\"))\n",
       "[4] ((dim=2|id=146|\"S=1/2,Site,n=4\"), (dim=2|id=727|\"Link,l=3\"))\n"
      ]
     },
     "metadata": {},
     "output_type": "display_data"
    }
   ],
   "source": [
    "mps"
   ]
  },
  {
   "cell_type": "code",
   "execution_count": 321,
   "metadata": {},
   "outputs": [
    {
     "data": {
      "text/plain": [
       "MPS\n",
       "[1] ((dim=2|id=284|\"S=1/2,Site,n=2\"), (dim=4|id=705|\"Link,l=2\"))\n",
       "[2] ((dim=2|id=918|\"S=1/2,Site,n=3\"), (dim=2|id=727|\"Link,l=3\"), (dim=4|id=705|\"Link,l=2\"))\n",
       "[3] ((dim=2|id=146|\"S=1/2,Site,n=4\"), (dim=2|id=727|\"Link,l=3\"))\n"
      ]
     },
     "metadata": {},
     "output_type": "display_data"
    }
   ],
   "source": [
    "mps_updated = MPS(mps[2:end])"
   ]
  },
  {
   "cell_type": "code",
   "execution_count": 322,
   "metadata": {},
   "outputs": [
    {
     "data": {
      "text/plain": [
       "ITensor ord=2 (dim=2|id=284|\"S=1/2,Site,n=2\") (dim=4|id=705|\"Link,l=2\")\n",
       "NDTensors.Dense{ComplexF64, Vector{ComplexF64}}"
      ]
     },
     "metadata": {},
     "output_type": "display_data"
    }
   ],
   "source": [
    "mps_updated[1] *= 1/sqrt(proba_site_1)"
   ]
  },
  {
   "cell_type": "code",
   "execution_count": 323,
   "metadata": {},
   "outputs": [
    {
     "data": {
      "text/plain": [
       "1.2445832776923553"
      ]
     },
     "metadata": {},
     "output_type": "display_data"
    }
   ],
   "source": [
    "norm(mps_updated[1])"
   ]
  },
  {
   "cell_type": "markdown",
   "metadata": {},
   "source": [
    "Site 2"
   ]
  },
  {
   "cell_type": "code",
   "execution_count": 324,
   "metadata": {},
   "outputs": [],
   "source": [
    "s_updated = siteinds(mps_updated);"
   ]
  },
  {
   "cell_type": "code",
   "execution_count": 325,
   "metadata": {},
   "outputs": [],
   "source": [
    "rdm2 = prime(mps_updated[1], s_updated[1]) * dag(mps_updated[1]);\n",
    "abs(tr(rdm2))\n",
    "rdm2_mat = matrix(rdm2);"
   ]
  },
  {
   "cell_type": "code",
   "execution_count": 326,
   "metadata": {},
   "outputs": [],
   "source": [
    "sampled_x, sampled_state = sample_state_from_rdm(rdm2_mat);"
   ]
  },
  {
   "cell_type": "code",
   "execution_count": 327,
   "metadata": {},
   "outputs": [],
   "source": [
    "site_2_state = ITensor(sampled_state, s_updated[1]);\n",
    "proba_site_2 = get_probability_density(sampled_x, rdm2_mat);"
   ]
  },
  {
   "cell_type": "code",
   "execution_count": 328,
   "metadata": {},
   "outputs": [
    {
     "data": {
      "text/plain": [
       "ITensor ord=1 (dim=4|id=705|\"Link,l=2\")\n",
       "NDTensors.Dense{ComplexF64, Vector{ComplexF64}}"
      ]
     },
     "metadata": {},
     "output_type": "display_data"
    }
   ],
   "source": [
    "mps_updated[1] *= site_2_state"
   ]
  },
  {
   "cell_type": "code",
   "execution_count": 329,
   "metadata": {},
   "outputs": [
    {
     "data": {
      "text/plain": [
       "ITensor ord=2 (dim=2|id=918|\"S=1/2,Site,n=3\") (dim=2|id=727|\"Link,l=3\")\n",
       "NDTensors.Dense{ComplexF64, Vector{ComplexF64}}"
      ]
     },
     "metadata": {},
     "output_type": "display_data"
    }
   ],
   "source": [
    "mps_updated[2]*=mps_updated[1]"
   ]
  },
  {
   "cell_type": "code",
   "execution_count": 330,
   "metadata": {},
   "outputs": [
    {
     "data": {
      "text/plain": [
       "MPS\n",
       "[1] ((dim=2|id=918|\"S=1/2,Site,n=3\"), (dim=2|id=727|\"Link,l=3\"))\n",
       "[2] ((dim=2|id=146|\"S=1/2,Site,n=4\"), (dim=2|id=727|\"Link,l=3\"))\n"
      ]
     },
     "metadata": {},
     "output_type": "display_data"
    }
   ],
   "source": [
    "mps_updated = MPS(mps_updated[2:end])"
   ]
  },
  {
   "cell_type": "code",
   "execution_count": 331,
   "metadata": {},
   "outputs": [
    {
     "data": {
      "text/plain": [
       "ITensor ord=2 (dim=2|id=918|\"S=1/2,Site,n=3\") (dim=2|id=727|\"Link,l=3\")\n",
       "NDTensors.Dense{ComplexF64, Vector{ComplexF64}}"
      ]
     },
     "metadata": {},
     "output_type": "display_data"
    }
   ],
   "source": [
    "mps_updated[1] *= 1/sqrt(proba_site_2)"
   ]
  },
  {
   "cell_type": "code",
   "execution_count": 332,
   "metadata": {},
   "outputs": [
    {
     "data": {
      "text/plain": [
       "1.2172610767918528"
      ]
     },
     "metadata": {},
     "output_type": "display_data"
    }
   ],
   "source": [
    "norm(mps_updated)"
   ]
  },
  {
   "cell_type": "markdown",
   "metadata": {},
   "source": [
    "----"
   ]
  },
  {
   "cell_type": "code",
   "execution_count": 411,
   "metadata": {},
   "outputs": [
    {
     "data": {
      "text/plain": [
       "MPS\n",
       "[1] ((dim=2|id=172|\"S=1/2,Site,n=1\"), (dim=2|id=626|\"Link,l=1\"))\n",
       "[2] ((dim=2|id=284|\"S=1/2,Site,n=2\"), (dim=4|id=833|\"Link,l=2\"), (dim=2|id=626|\"Link,l=1\"))\n",
       "[3] ((dim=2|id=918|\"S=1/2,Site,n=3\"), (dim=6|id=438|\"Link,l=3\"), (dim=4|id=833|\"Link,l=2\"))\n",
       "[4] ((dim=3|id=902|\"f(x)\"), (dim=2|id=146|\"S=1/2,Site,n=4\"), (dim=6|id=438|\"Link,l=3\"))\n"
      ]
     },
     "metadata": {},
     "output_type": "display_data"
    }
   ],
   "source": [
    "mps_loaded = loadMPS(\"/Users/joshua/Documents/QuantumInspiredML/LogLossAlternative/notebooks/iris2.h5\")"
   ]
  },
  {
   "cell_type": "code",
   "execution_count": 412,
   "metadata": {},
   "outputs": [
    {
     "data": {
      "text/plain": [
       "0.9999999999999994"
      ]
     },
     "metadata": {},
     "output_type": "display_data"
    }
   ],
   "source": [
    "norm(mps_loaded)"
   ]
  },
  {
   "cell_type": "code",
   "execution_count": 413,
   "metadata": {},
   "outputs": [
    {
     "data": {
      "text/plain": [
       "MPS\n",
       "[1] ((dim=2|id=172|\"S=1/2,Site,n=1\"), (dim=2|id=425|\"Link,l=1\"))\n",
       "[2] ((dim=2|id=284|\"S=1/2,Site,n=2\"), (dim=4|id=708|\"Link,l=2\"), (dim=2|id=425|\"Link,l=1\"))\n",
       "[3] ((dim=2|id=918|\"S=1/2,Site,n=3\"), (dim=2|id=324|\"Link,l=3\"), (dim=4|id=708|\"Link,l=2\"))\n",
       "[4] ((dim=2|id=146|\"S=1/2,Site,n=4\"), (dim=2|id=324|\"Link,l=3\"))\n"
      ]
     },
     "metadata": {},
     "output_type": "display_data"
    }
   ],
   "source": [
    "state0 = sliceMPS(mps_loaded, 0)\n",
    "mps = deepcopy(state0)\n",
    "s = siteinds(mps)\n",
    "orthogonalize!(mps, 1)"
   ]
  },
  {
   "cell_type": "code",
   "execution_count": 366,
   "metadata": {},
   "outputs": [
    {
     "data": {
      "text/plain": [
       "ITensor ord=2 (dim=2|id=172|\"S=1/2,Site,n=1\") (dim=2|id=424|\"Link,l=1\")\n",
       "NDTensors.Dense{ComplexF64, Vector{ComplexF64}}"
      ]
     },
     "metadata": {},
     "output_type": "display_data"
    }
   ],
   "source": [
    "A = mps[1]"
   ]
  },
  {
   "cell_type": "code",
   "execution_count": 367,
   "metadata": {},
   "outputs": [
    {
     "data": {
      "text/plain": [
       "0.7456362365225491"
      ]
     },
     "metadata": {},
     "output_type": "display_data"
    }
   ],
   "source": [
    "rdm1 = prime(A, s[1]) * dag(A)\n",
    "rdm1_mat = matrix(rdm1)\n",
    "sampled_x, sampled_state = sample_state_from_rdm(rdm1_mat)\n",
    "site_1_state = ITensor(sampled_state, s[1])\n",
    "proba_site_1 = get_probability_density(sampled_x, rdm1_mat)"
   ]
  },
  {
   "cell_type": "code",
   "execution_count": 369,
   "metadata": {},
   "outputs": [
    {
     "data": {
      "text/plain": [
       "1.0000000000000002 + 0.0im"
      ]
     },
     "metadata": {},
     "output_type": "display_data"
    }
   ],
   "source": [
    "tr(rdm1_mat)"
   ]
  },
  {
   "cell_type": "code",
   "execution_count": 377,
   "metadata": {},
   "outputs": [
    {
     "data": {
      "text/plain": [
       "ITensor ord=1 (dim=2|id=424|\"Link,l=1\")\n",
       "NDTensors.Dense{ComplexF64, Vector{ComplexF64}}"
      ]
     },
     "metadata": {},
     "output_type": "display_data"
    }
   ],
   "source": [
    "Am = A * dag(site_1_state)"
   ]
  },
  {
   "cell_type": "code",
   "execution_count": 378,
   "metadata": {},
   "outputs": [
    {
     "data": {
      "text/plain": [
       "ITensor ord=2 (dim=2|id=284|\"S=1/2,Site,n=2\") (dim=4|id=239|\"Link,l=2\")\n",
       "NDTensors.Dense{ComplexF64, Vector{ComplexF64}}"
      ]
     },
     "metadata": {},
     "output_type": "display_data"
    }
   ],
   "source": [
    "A_new = mps[2] * Am"
   ]
  },
  {
   "cell_type": "code",
   "execution_count": 379,
   "metadata": {},
   "outputs": [
    {
     "data": {
      "text/plain": [
       "ITensor ord=2 (dim=2|id=284|\"S=1/2,Site,n=2\") (dim=4|id=239|\"Link,l=2\")\n",
       "NDTensors.Dense{ComplexF64, Vector{ComplexF64}}"
      ]
     },
     "metadata": {},
     "output_type": "display_data"
    }
   ],
   "source": [
    "A_new *= 1/sqrt(proba_site_1)"
   ]
  },
  {
   "cell_type": "code",
   "execution_count": 383,
   "metadata": {},
   "outputs": [
    {
     "data": {
      "text/plain": [
       "0.9273134745222288"
      ]
     },
     "metadata": {},
     "output_type": "display_data"
    }
   ],
   "source": [
    "rdm2 = prime(A_new, s[2]) * dag(A_new)\n",
    "rdm2_mat = matrix(rdm2)\n",
    "sampled_x2, sampled_state2 = sample_state_from_rdm(rdm2_mat)\n",
    "site_2_state = ITensor(sampled_state2, s[2])\n",
    "proba_site_2 = get_probability_density(sampled_x2, rdm2_mat)"
   ]
  },
  {
   "cell_type": "code",
   "execution_count": 384,
   "metadata": {},
   "outputs": [
    {
     "data": {
      "text/plain": [
       "1.0"
      ]
     },
     "metadata": {},
     "output_type": "display_data"
    }
   ],
   "source": [
    "real(tr(rdm2_mat))"
   ]
  },
  {
   "cell_type": "code",
   "execution_count": 385,
   "metadata": {},
   "outputs": [
    {
     "data": {
      "text/plain": [
       "ITensor ord=1 (dim=4|id=239|\"Link,l=2\")\n",
       "NDTensors.Dense{ComplexF64, Vector{ComplexF64}}"
      ]
     },
     "metadata": {},
     "output_type": "display_data"
    }
   ],
   "source": [
    "Am = A_new * dag(site_2_state)"
   ]
  },
  {
   "cell_type": "code",
   "execution_count": 386,
   "metadata": {},
   "outputs": [
    {
     "data": {
      "text/plain": [
       "ITensor ord=2 (dim=2|id=918|\"S=1/2,Site,n=3\") (dim=2|id=678|\"Link,l=3\")\n",
       "NDTensors.Dense{ComplexF64, Vector{ComplexF64}}"
      ]
     },
     "metadata": {},
     "output_type": "display_data"
    }
   ],
   "source": [
    "A_new = mps[3] * Am"
   ]
  },
  {
   "cell_type": "code",
   "execution_count": 387,
   "metadata": {},
   "outputs": [
    {
     "data": {
      "text/plain": [
       "ITensor ord=2 (dim=2|id=918|\"S=1/2,Site,n=3\") (dim=2|id=678|\"Link,l=3\")\n",
       "NDTensors.Dense{ComplexF64, Vector{ComplexF64}}"
      ]
     },
     "metadata": {},
     "output_type": "display_data"
    }
   ],
   "source": [
    "A_new *= 1/sqrt(proba_site_2)"
   ]
  },
  {
   "cell_type": "code",
   "execution_count": 388,
   "metadata": {},
   "outputs": [
    {
     "data": {
      "text/plain": [
       "2×2 Matrix{ComplexF64}:\n",
       "  0.750086+0.0im         -0.432859-0.00949351im\n",
       " -0.432859+0.00949351im   0.249914+0.0im"
      ]
     },
     "metadata": {},
     "output_type": "display_data"
    }
   ],
   "source": [
    "rdm3 = prime(A_new, s[3]) * dag(A_new)\n",
    "rdm3_mat = matrix(rdm3)"
   ]
  },
  {
   "cell_type": "code",
   "execution_count": 389,
   "metadata": {},
   "outputs": [
    {
     "data": {
      "text/plain": [
       "1.0000000000000002 + 0.0im"
      ]
     },
     "metadata": {},
     "output_type": "display_data"
    }
   ],
   "source": [
    "tr(rdm3_mat)"
   ]
  },
  {
   "cell_type": "code",
   "execution_count": 390,
   "metadata": {},
   "outputs": [
    {
     "data": {
      "text/plain": [
       "0.9316188775403768"
      ]
     },
     "metadata": {},
     "output_type": "display_data"
    }
   ],
   "source": [
    "sampled_x3, sampled_state3 = sample_state_from_rdm(rdm3_mat)\n",
    "site_3_state = ITensor(sampled_state3, s[3])\n",
    "proba_site_3 = get_probability_density(sampled_x3, rdm3_mat)"
   ]
  },
  {
   "cell_type": "code",
   "execution_count": 391,
   "metadata": {},
   "outputs": [
    {
     "data": {
      "text/plain": [
       "ITensor ord=1 (dim=2|id=678|\"Link,l=3\")\n",
       "NDTensors.Dense{ComplexF64, Vector{ComplexF64}}"
      ]
     },
     "metadata": {},
     "output_type": "display_data"
    }
   ],
   "source": [
    "Am = A_new * dag(site_3_state)"
   ]
  },
  {
   "cell_type": "code",
   "execution_count": 392,
   "metadata": {},
   "outputs": [
    {
     "data": {
      "text/plain": [
       "ITensor ord=1 (dim=2|id=146|\"S=1/2,Site,n=4\")\n",
       "NDTensors.Dense{ComplexF64, Vector{ComplexF64}}"
      ]
     },
     "metadata": {},
     "output_type": "display_data"
    }
   ],
   "source": [
    "A_new = mps[4] * Am"
   ]
  },
  {
   "cell_type": "code",
   "execution_count": 393,
   "metadata": {},
   "outputs": [
    {
     "data": {
      "text/plain": [
       "ITensor ord=1 (dim=2|id=146|\"S=1/2,Site,n=4\")\n",
       "NDTensors.Dense{ComplexF64, Vector{ComplexF64}}"
      ]
     },
     "metadata": {},
     "output_type": "display_data"
    }
   ],
   "source": [
    "A_new *= 1/sqrt(proba_site_3)"
   ]
  },
  {
   "cell_type": "code",
   "execution_count": 397,
   "metadata": {},
   "outputs": [
    {
     "data": {
      "text/plain": [
       "0.8682851051068828"
      ]
     },
     "metadata": {},
     "output_type": "display_data"
    }
   ],
   "source": [
    "rdm4 = prime(A_new, s[4]) * dag(A_new)\n",
    "rdm4_mat = matrix(rdm4)\n",
    "sampled_x4, sampled_state4 = sample_state_from_rdm(rdm4_mat)\n",
    "site_4_state = ITensor(sampled_state4, s[4])\n",
    "proba_site_4 = get_probability_density(sampled_x4, rdm4_mat)"
   ]
  },
  {
   "cell_type": "code",
   "execution_count": 398,
   "metadata": {},
   "outputs": [
    {
     "data": {
      "text/plain": [
       "1.0000000000000004"
      ]
     },
     "metadata": {},
     "output_type": "display_data"
    }
   ],
   "source": [
    "real(tr(rdm4_mat))"
   ]
  },
  {
   "cell_type": "code",
   "execution_count": 399,
   "metadata": {},
   "outputs": [
    {
     "data": {
      "text/plain": [
       "ITensor ord=0\n",
       "NDTensors.Dense{ComplexF64, Vector{ComplexF64}}"
      ]
     },
     "metadata": {},
     "output_type": "display_data"
    }
   ],
   "source": [
    "Am = A_new * dag(site_4_state)"
   ]
  },
  {
   "cell_type": "code",
   "execution_count": 406,
   "metadata": {},
   "outputs": [
    {
     "name": "stdout",
     "output_type": "stream",
     "text": [
      "0.8243705897047662\n",
      "0.4652274718457367\n",
      "0.39357749219659394\n",
      "0.3320561044280189\n"
     ]
    }
   ],
   "source": [
    "println(sampled_x)\n",
    "println(sampled_x2)\n",
    "println(sampled_x3)\n",
    "println(sampled_x4)"
   ]
  },
  {
   "cell_type": "code",
   "execution_count": 447,
   "metadata": {},
   "outputs": [
    {
     "data": {
      "text/plain": [
       "sample_mps_with_contractions (generic function with 1 method)"
      ]
     },
     "metadata": {},
     "output_type": "display_data"
    }
   ],
   "source": [
    "function sample_mps_with_contractions(label_mps::MPS)\n",
    "    \"\"\"Using the perfect sampling approach described in Vidal et al.'s paper\n",
    "    on sampling from Unitaary Tensor Networks.\"\"\"\n",
    "    # do initial checks on the mps\n",
    "    @assert isapprox(norm(label_mps), 1.0) \"WARNING: MPS NOT NORMALISED!\"\n",
    "    # make a copy of the mps\n",
    "    mps = deepcopy(label_mps)\n",
    "    s = siteinds(mps)\n",
    "    # put the mps into right canonical form - orthogonality center is set to the first site\n",
    "    orthogonalize!(mps, 1)\n",
    "    # create storage for samples\n",
    "    x_samps = Vector{Float64}(undef, length(mps))\n",
    "    #println(length(x_samps))\n",
    "\n",
    "    # set A to the first mps site\n",
    "    A = mps[1]\n",
    "\n",
    "    for i in 1:length(mps)\n",
    "\n",
    "        # get the reduced density matrix at site i\n",
    "        rdm = prime(A, s[i]) * dag(A)\n",
    "        # convert to matrix type\n",
    "        rdm_matrix = matrix(rdm)\n",
    "        # sample a state from the rdm using inverse transform sampling\n",
    "        sampled_x, sampled_state = sample_state_from_rdm(rdm_matrix)\n",
    "        x_samps[i] = sampled_x\n",
    "        if i != length(mps)\n",
    "            sampled_state_as_ITensor = ITensor(sampled_state, s[i])\n",
    "            # get the probability of the state for normalising the next site\n",
    "            proba_state = get_probability_density(sampled_x, rdm_matrix)\n",
    "            println(\"Prob of sampled state: $proba_state\")\n",
    "            # check that the trace of the rdm is equal to one\n",
    "            sampled_x, sampled_state = sample_state_from_rdm(rdm_matrix)\n",
    "            println(\"Trace of ρ$i: $(real(tr(rdm_matrix)))\")\n",
    "            # make the measurment of the site\n",
    "            Am = A * dag(sampled_state_as_ITensor)\n",
    "            # absorb into the next site\n",
    "            A_new = mps[(i+1)] * Am\n",
    "            # normalise by the probability\n",
    "            A_new *= 1/sqrt(proba_state)\n",
    "            # set A to A_new\n",
    "            A = A_new\n",
    "        end\n",
    "    end\n",
    "\n",
    "    return x_samps\n",
    "\n",
    "end"
   ]
  },
  {
   "cell_type": "code",
   "execution_count": 456,
   "metadata": {},
   "outputs": [
    {
     "name": "stdout",
     "output_type": "stream",
     "text": [
      "Prob of sampled state: 0.6736585248342197\n",
      "Trace of ρ1: 1.0000000000000002\n",
      "Prob of sampled state: 0.46599076680053353\n",
      "Trace of ρ2: 1.0000000000000004\n",
      "Prob of sampled state: 0.6825151465517019\n",
      "Trace of ρ3: 0.9999999999999998\n"
     ]
    },
    {
     "data": {
      "text/plain": [
       "4-element Vector{Float64}:\n",
       " 0.8996155414766933\n",
       " 0.03789937958033243\n",
       " 0.0509048476589282\n",
       " 0.055503191778310125"
      ]
     },
     "metadata": {},
     "output_type": "display_data"
    }
   ],
   "source": [
    "out = sample_mps_with_contractions(mps)"
   ]
  },
  {
   "cell_type": "markdown",
   "metadata": {},
   "source": [
    "----"
   ]
  },
  {
   "cell_type": "markdown",
   "metadata": {},
   "source": [
    "# Conditioning on known values"
   ]
  },
  {
   "cell_type": "markdown",
   "metadata": {},
   "source": [
    "Let's pretend we know the value of the first site."
   ]
  },
  {
   "cell_type": "code",
   "execution_count": 86,
   "metadata": {},
   "outputs": [
    {
     "data": {
      "text/plain": [
       "MPS\n",
       "[1] ((dim=2|id=172|\"S=1/2,Site,n=1\"), (dim=2|id=626|\"Link,l=1\"))\n",
       "[2] ((dim=2|id=284|\"S=1/2,Site,n=2\"), (dim=4|id=833|\"Link,l=2\"), (dim=2|id=626|\"Link,l=1\"))\n",
       "[3] ((dim=2|id=918|\"S=1/2,Site,n=3\"), (dim=6|id=438|\"Link,l=3\"), (dim=4|id=833|\"Link,l=2\"))\n",
       "[4] ((dim=3|id=902|\"f(x)\"), (dim=2|id=146|\"S=1/2,Site,n=4\"), (dim=6|id=438|\"Link,l=3\"))\n"
      ]
     },
     "metadata": {},
     "output_type": "display_data"
    }
   ],
   "source": [
    "mps_loaded = loadMPS(\"/Users/joshua/Documents/QuantumInspiredML/LogLossAlternative/notebooks/iris2.h5\")"
   ]
  },
  {
   "cell_type": "code",
   "execution_count": 87,
   "metadata": {},
   "outputs": [
    {
     "data": {
      "text/plain": [
       "0.9999999999999994"
      ]
     },
     "metadata": {},
     "output_type": "display_data"
    }
   ],
   "source": [
    "norm(mps_loaded)"
   ]
  },
  {
   "cell_type": "code",
   "execution_count": 88,
   "metadata": {},
   "outputs": [
    {
     "data": {
      "text/plain": [
       "MPS\n",
       "[1] ((dim=2|id=172|\"S=1/2,Site,n=1\"), (dim=2|id=580|\"Link,l=1\"))\n",
       "[2] ((dim=2|id=284|\"S=1/2,Site,n=2\"), (dim=4|id=639|\"Link,l=2\"), (dim=2|id=580|\"Link,l=1\"))\n",
       "[3] ((dim=2|id=918|\"S=1/2,Site,n=3\"), (dim=2|id=554|\"Link,l=3\"), (dim=4|id=639|\"Link,l=2\"))\n",
       "[4] ((dim=2|id=146|\"S=1/2,Site,n=4\"), (dim=2|id=554|\"Link,l=3\"))\n"
      ]
     },
     "metadata": {},
     "output_type": "display_data"
    }
   ],
   "source": [
    "state0 = sliceMPS(mps_loaded, 0)\n",
    "mps = deepcopy(state0)\n",
    "s = siteinds(mps)\n",
    "orthogonalize!(mps, 1)"
   ]
  },
  {
   "cell_type": "code",
   "execution_count": 54,
   "metadata": {},
   "outputs": [
    {
     "data": {
      "text/plain": [
       "ITensor ord=2 (dim=2|id=172|\"S=1/2,Site,n=1\") (dim=2|id=55|\"Link,l=1\")\n",
       "NDTensors.Dense{ComplexF64, Vector{ComplexF64}}"
      ]
     },
     "metadata": {},
     "output_type": "display_data"
    }
   ],
   "source": [
    "A = mps[1]"
   ]
  },
  {
   "cell_type": "code",
   "execution_count": 55,
   "metadata": {},
   "outputs": [
    {
     "data": {
      "text/plain": [
       "ITensor ord=1 (dim=2|id=172|\"S=1/2,Site,n=1\")\n",
       "NDTensors.Dense{ComplexF64, Vector{ComplexF64}}"
      ]
     },
     "metadata": {},
     "output_type": "display_data"
    }
   ],
   "source": [
    "known_x = 0.7\n",
    "known_state = [exp(1im * (3π/2) * known_x) * cospi(0.5 * known_x), exp(-1im * (3π/2) * known_x) * sinpi(0.5 * known_x)]\n",
    "known_state_as_ITensor = ITensor(known_state, s[1])"
   ]
  },
  {
   "cell_type": "code",
   "execution_count": 56,
   "metadata": {},
   "outputs": [
    {
     "data": {
      "text/plain": [
       "ITensor ord=2 (dim=2|id=172|\"S=1/2,Site,n=1\") (dim=2|id=55|\"Link,l=1\")\n",
       "NDTensors.Dense{ComplexF64, Vector{ComplexF64}}"
      ]
     },
     "metadata": {},
     "output_type": "display_data"
    }
   ],
   "source": [
    "A = mps[1]"
   ]
  },
  {
   "cell_type": "code",
   "execution_count": 57,
   "metadata": {},
   "outputs": [
    {
     "data": {
      "text/plain": [
       "ITensor ord=1 (dim=2|id=55|\"Link,l=1\")\n",
       "NDTensors.Dense{ComplexF64, Vector{ComplexF64}}"
      ]
     },
     "metadata": {},
     "output_type": "display_data"
    }
   ],
   "source": [
    "Am = A * dag(known_state_as_ITensor)"
   ]
  },
  {
   "cell_type": "code",
   "execution_count": 58,
   "metadata": {},
   "outputs": [
    {
     "data": {
      "text/plain": [
       "ITensor ord=2 (dim=2|id=284|\"S=1/2,Site,n=2\") (dim=4|id=691|\"Link,l=2\")\n",
       "NDTensors.Dense{ComplexF64, Vector{ComplexF64}}"
      ]
     },
     "metadata": {},
     "output_type": "display_data"
    }
   ],
   "source": [
    "A_new = mps[2] * Am"
   ]
  },
  {
   "cell_type": "code",
   "execution_count": 59,
   "metadata": {},
   "outputs": [
    {
     "data": {
      "text/plain": [
       "0.983114119394178"
      ]
     },
     "metadata": {},
     "output_type": "display_data"
    }
   ],
   "source": [
    "proba_state = get_probability_density(known_x, matrix(prime(A, s[1]) * dag(A)))"
   ]
  },
  {
   "cell_type": "code",
   "execution_count": 60,
   "metadata": {},
   "outputs": [
    {
     "data": {
      "text/plain": [
       "0.9915211139427027"
      ]
     },
     "metadata": {},
     "output_type": "display_data"
    }
   ],
   "source": [
    "norm(A_new)"
   ]
  },
  {
   "cell_type": "code",
   "execution_count": 61,
   "metadata": {},
   "outputs": [
    {
     "data": {
      "text/plain": [
       "ITensor ord=2 (dim=2|id=284|\"S=1/2,Site,n=2\") (dim=4|id=691|\"Link,l=2\")\n",
       "NDTensors.Dense{ComplexF64, Vector{ComplexF64}}"
      ]
     },
     "metadata": {},
     "output_type": "display_data"
    }
   ],
   "source": [
    "A_new *= 1/sqrt(proba_state)"
   ]
  },
  {
   "cell_type": "code",
   "execution_count": 62,
   "metadata": {},
   "outputs": [
    {
     "data": {
      "text/plain": [
       "1.0"
      ]
     },
     "metadata": {},
     "output_type": "display_data"
    }
   ],
   "source": [
    "norm(A_new)"
   ]
  },
  {
   "cell_type": "markdown",
   "metadata": {},
   "source": [
    "Now sample site 2 from the conditional probability distribution"
   ]
  },
  {
   "cell_type": "code",
   "execution_count": 63,
   "metadata": {},
   "outputs": [
    {
     "data": {
      "text/plain": [
       "ITensor ord=2 (dim=2|id=284|\"S=1/2,Site,n=2\") (dim=4|id=691|\"Link,l=2\")\n",
       "NDTensors.Dense{ComplexF64, Vector{ComplexF64}}"
      ]
     },
     "metadata": {},
     "output_type": "display_data"
    }
   ],
   "source": [
    "A_new"
   ]
  },
  {
   "cell_type": "code",
   "execution_count": 64,
   "metadata": {},
   "outputs": [
    {
     "data": {
      "text/plain": [
       "ITensor ord=2 (dim=2|id=284|\"S=1/2,Site,n=2\")' (dim=2|id=284|\"S=1/2,Site,n=2\")\n",
       "NDTensors.Dense{ComplexF64, Vector{ComplexF64}}"
      ]
     },
     "metadata": {},
     "output_type": "display_data"
    }
   ],
   "source": [
    "rdm = prime(A_new, s[2]) * dag(A_new)"
   ]
  },
  {
   "cell_type": "markdown",
   "metadata": {},
   "source": [
    "Check trace"
   ]
  },
  {
   "cell_type": "code",
   "execution_count": 67,
   "metadata": {},
   "outputs": [
    {
     "data": {
      "text/plain": [
       "1.0"
      ]
     },
     "metadata": {},
     "output_type": "display_data"
    }
   ],
   "source": [
    "real(tr(rdm))"
   ]
  },
  {
   "cell_type": "code",
   "execution_count": 83,
   "metadata": {},
   "outputs": [
    {
     "data": {
      "text/plain": [
       "0.9392019639081092"
      ]
     },
     "metadata": {},
     "output_type": "display_data"
    }
   ],
   "source": [
    "sampled_x, sampled_state = sample_state_from_rdm(matrix(rdm));\n",
    "proba_state = get_probability_density(sampled_x, (matrix(rdm)))"
   ]
  },
  {
   "cell_type": "code",
   "execution_count": 85,
   "metadata": {},
   "outputs": [
    {
     "data": {
      "text/plain": [
       "forecast_mps_sites (generic function with 1 method)"
      ]
     },
     "metadata": {},
     "output_type": "display_data"
    }
   ],
   "source": [
    "function forecast_mps_sites(label_mps::MPS, known_values::Vector{Float64}, forecast_start_site::Int)\n",
    "    \"\"\"Forecasts sites starting at forecast_start_site (inclusive).\n",
    "    Known values are time series values before feature map i.e., x not ϕ(x)\"\"\"\n",
    "    \"\"\"Future versions should use product states as inputs becuase it might be easier to match/infer site indices\"\"\"\n",
    "    # do initial checks on the mps\n",
    "    @assert isapprox(norm(label_mps), 1.0) \"WARNING: MPS NOT NORMALISED!\"\n",
    "    # make a copy of the mps\n",
    "    mps = deepcopy(label_mps)\n",
    "    s = siteinds(mps)\n",
    "    # put the mps into right canonical form - orthogonality center is set to the first site\n",
    "    orthogonalize!(mps, 1)\n",
    "    # create storage for samples\n",
    "    x_samps = Vector{Float64}(undef, length(mps))\n",
    "\n",
    "    # set A to the first MPS site\n",
    "    A = mps[1]\n",
    "\n",
    "    # condition on known sites\n",
    "    for i in 1:length(known_values)\n",
    "        \n",
    "        # map known value to state\n",
    "        known_x = known_values[i]\n",
    "        known_state = [exp(1im * (3π/2) * known_x) * cospi(0.5 * known_x), exp(-1im * (3π/2) * known_x) * sinpi(0.5 * known_x)]\n",
    "        known_state_as_ITensor = ITensor(known_state, s[i])\n",
    "\n",
    "        # make the measurment at the site\n",
    "        Am = A * dag(known_state_as_ITensor)\n",
    "\n",
    "        # absorb orthogonality center into the next site\n",
    "        A_new = mps[(i+1)] * Am\n",
    "        # normalise by the probability of the known state\n",
    "        proba_state = get_probability_density(known_x, matrix(prime(A, s[i]) * dag(A)))\n",
    "        A_new *= 1/sqrt(proba_state)\n",
    "        A = A_new\n",
    "        x_samps[i] = known_x\n",
    "    end\n",
    "\n",
    "    # forecast on the remaining sites, A should now be the first forecasting site\n",
    "    for i in forecast_start_site:length(mps)\n",
    "\n",
    "        # get the reduced density matrix at site i\n",
    "        rdm = prime(A, s[i]) * dag(A)\n",
    "        # convert to matrix type\n",
    "        rdm_matrix = matrix(rdm)\n",
    "        # sample a state from the rdm using inverse transform sampling\n",
    "        sampled_x, sampled_state = sample_state_from_rdm(rdm_matrix)\n",
    "        x_samps[i] = sampled_x\n",
    "        if i != length(mps)\n",
    "            sampled_state_as_ITensor = ITensor(sampled_state, s[i])\n",
    "            # get the probability of the state for normalising the next site\n",
    "            proba_state = get_probability_density(sampled_x, rdm_matrix)\n",
    "            println(\"Prob of sampled state: $proba_state\")\n",
    "            # check that the trace of the rdm is equal to one\n",
    "            sampled_x, sampled_state = sample_state_from_rdm(rdm_matrix)\n",
    "            # make the measurment of the site\n",
    "            Am = A * dag(sampled_state_as_ITensor)\n",
    "            # absorb into the next site\n",
    "            A_new = mps[(i+1)] * Am\n",
    "            # normalise by the probability\n",
    "            A_new *= 1/sqrt(proba_state)\n",
    "            # set A to A_new\n",
    "            A = A_new\n",
    "        end\n",
    "        println(\"Trace of ρ$i: $(real(tr(rdm_matrix)))\")\n",
    "    end\n",
    "\n",
    "    return x_samps\n",
    "\n",
    "end"
   ]
  },
  {
   "cell_type": "code",
   "execution_count": 155,
   "metadata": {},
   "outputs": [
    {
     "name": "stdout",
     "output_type": "stream",
     "text": [
      "Prob of sampled state: 0.8441781009907211\n",
      "Trace of ρ2: 1.0000000000000004\n",
      "Prob of sampled state: 0.9787509319661334\n",
      "Trace of ρ3: 1.0\n",
      "Trace of ρ4: 1.0000000000000002\n"
     ]
    },
    {
     "data": {
      "text/plain": [
       "4-element Vector{Float64}:\n",
       " 0.1\n",
       " 0.4358493922872599\n",
       " 0.36733943008154174\n",
       " 0.4087684677134632"
      ]
     },
     "metadata": {},
     "output_type": "display_data"
    }
   ],
   "source": [
    "forecast_mps_sites(mps, [0.1], 2)"
   ]
  }
 ],
 "metadata": {
  "kernelspec": {
   "display_name": "Julia 1.10.2",
   "language": "julia",
   "name": "julia-1.10"
  },
  "language_info": {
   "file_extension": ".jl",
   "mimetype": "application/julia",
   "name": "julia",
   "version": "1.10.2"
  }
 },
 "nbformat": 4,
 "nbformat_minor": 2
}
