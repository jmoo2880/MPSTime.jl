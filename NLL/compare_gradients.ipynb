{
 "cells": [
  {
   "cell_type": "code",
   "execution_count": 515,
   "metadata": {},
   "outputs": [],
   "source": [
    "using Zygote\n",
    "using ITensors\n",
    "using Random"
   ]
  },
  {
   "cell_type": "code",
   "execution_count": 516,
   "metadata": {},
   "outputs": [
    {
     "data": {
      "text/plain": [
       "angle_encoder (generic function with 1 method)"
      ]
     },
     "metadata": {},
     "output_type": "display_data"
    }
   ],
   "source": [
    "function angle_encoder(x::Float64) \n",
    "    \"\"\"Function to convert normalised time series to an angle encoding.\"\"\"\n",
    "    @assert x <= 1.0 && x >= 0.0 \"Data points must be rescaled between 1 and 0 before encoding using the angle encoder.\"\n",
    "    s1 = exp(1im * (3π/2) * x) * cospi(0.5 * x)\n",
    "    s2 = exp(-1im * (3π/2) * x) * sinpi(0.5 * x)\n",
    "    return [s1, s2]\n",
    " \n",
    "end"
   ]
  },
  {
   "cell_type": "code",
   "execution_count": 517,
   "metadata": {},
   "outputs": [
    {
     "data": {
      "text/plain": [
       "normalised_data_to_product_state (generic function with 1 method)"
      ]
     },
     "metadata": {},
     "output_type": "display_data"
    }
   ],
   "source": [
    "function normalised_data_to_product_state(sample::Vector, site_indices::Vector{Index{Int64}})\n",
    "    \"\"\"Function to convert a single normalised sample to a product state\n",
    "    with local dimension 2, as specified by the feature map.\"\"\"\n",
    "\n",
    "    @assert length(sample) == length(site_indices) \"Mismatch between number of sites and sample length.\"\n",
    "\n",
    "    product_state = MPS([ITensor(angle_encoder(sample[i]), site_indices[i]) for i in eachindex(site_indices)])\n",
    "\n",
    "    return product_state\n",
    "\n",
    "end"
   ]
  },
  {
   "cell_type": "code",
   "execution_count": 518,
   "metadata": {},
   "outputs": [],
   "source": [
    "s = siteinds(\"S=1/2\", 10);\n",
    "mps = randomMPS(ComplexF64, s; linkdims=5);"
   ]
  },
  {
   "cell_type": "code",
   "execution_count": 519,
   "metadata": {},
   "outputs": [
    {
     "data": {
      "text/plain": [
       "10-element Vector{Float64}:\n",
       " 0.5728769140695948\n",
       " 0.3488862895084386\n",
       " 0.5997585730834746\n",
       " 0.46858811619538765\n",
       " 0.5953328064858171\n",
       " 0.9050071477944349\n",
       " 0.028502352500627826\n",
       " 0.10908886624638714\n",
       " 0.5987456154072579\n",
       " 0.19184520680855666"
      ]
     },
     "metadata": {},
     "output_type": "display_data"
    }
   ],
   "source": [
    "sample = rand(10)"
   ]
  },
  {
   "cell_type": "code",
   "execution_count": 520,
   "metadata": {},
   "outputs": [
    {
     "data": {
      "text/plain": [
       "MPS\n",
       "[1] ((dim=2|id=347|\"S=1/2,Site,n=1\"),)\n",
       "[2] ((dim=2|id=668|\"S=1/2,Site,n=2\"),)\n",
       "[3] ((dim=2|id=444|\"S=1/2,Site,n=3\"),)\n",
       "[4] ((dim=2|id=136|\"S=1/2,Site,n=4\"),)\n",
       "[5] ((dim=2|id=861|\"S=1/2,Site,n=5\"),)\n",
       "[6] ((dim=2|id=430|\"S=1/2,Site,n=6\"),)\n",
       "[7] ((dim=2|id=754|\"S=1/2,Site,n=7\"),)\n",
       "[8] ((dim=2|id=420|\"S=1/2,Site,n=8\"),)\n",
       "[9] ((dim=2|id=701|\"S=1/2,Site,n=9\"),)\n",
       "[10] ((dim=2|id=239|\"S=1/2,Site,n=10\"),)\n"
      ]
     },
     "metadata": {},
     "output_type": "display_data"
    }
   ],
   "source": [
    "ps = normalised_data_to_product_state(sample, s)"
   ]
  },
  {
   "cell_type": "code",
   "execution_count": 521,
   "metadata": {},
   "outputs": [
    {
     "data": {
      "text/plain": [
       "raw_overlap (generic function with 1 method)"
      ]
     },
     "metadata": {},
     "output_type": "display_data"
    }
   ],
   "source": [
    "function raw_overlap(ps, mps)\n",
    "    res = conj(ps[1]) * mps[1]\n",
    "    for i in 2:length(mps)\n",
    "        res *= conj(ps[i]) * mps[i]\n",
    "    end\n",
    "    return res[]\n",
    "end"
   ]
  },
  {
   "cell_type": "code",
   "execution_count": 522,
   "metadata": {},
   "outputs": [
    {
     "data": {
      "text/plain": [
       "ITensor ord=3 (dim=2|id=347|\"S=1/2,Site,n=1\") (dim=2|id=668|\"S=1/2,Site,n=2\") (dim=5|id=261|\"Link,l=2\")\n",
       "NDTensors.Dense{ComplexF64, Vector{ComplexF64}}"
      ]
     },
     "metadata": {},
     "output_type": "display_data"
    }
   ],
   "source": [
    "bt = mps[1] * mps[2]"
   ]
  },
  {
   "cell_type": "code",
   "execution_count": 525,
   "metadata": {},
   "outputs": [
    {
     "data": {
      "text/plain": [
       "loss (generic function with 1 method)"
      ]
     },
     "metadata": {},
     "output_type": "display_data"
    }
   ],
   "source": [
    "function loss(bt, mps, ps)\n",
    "    phi_tilde = conj(ps[1]) * conj(ps[2])\n",
    "    for i in 3:10\n",
    "        phi_tilde *= mps[i] * conj(ps[i])\n",
    "    end\n",
    "    yhat = phi_tilde * bt\n",
    "    p = norm(yhat[])^2\n",
    "    return -log(p)\n",
    "end"
   ]
  },
  {
   "cell_type": "code",
   "execution_count": 538,
   "metadata": {},
   "outputs": [
    {
     "data": {
      "text/plain": [
       "#91 (generic function with 1 method)"
      ]
     },
     "metadata": {},
     "output_type": "display_data"
    }
   ],
   "source": [
    "l = x -> loss(x, mps, ps)"
   ]
  },
  {
   "cell_type": "code",
   "execution_count": 539,
   "metadata": {},
   "outputs": [
    {
     "data": {
      "text/plain": [
       "(val = 8.85801398350347, grad = (ITensor ord=3\n",
       "Dim 1: (dim=2|id=347|\"S=1/2,Site,n=1\")\n",
       "Dim 2: (dim=2|id=668|\"S=1/2,Site,n=2\")\n",
       "Dim 3: (dim=5|id=261|\"Link,l=2\")\n",
       "NDTensors.Dense{ComplexF64, Vector{ComplexF64}}\n",
       " 2×2×5\n",
       "[:, :, 1] =\n",
       " 0.8786511812478723 - 1.2441974973547811im   …  -0.41964944316446007 + 0.8296451015251627im\n",
       " 1.9139697506485613 - 0.13799517256384375im      -1.1434498448528752 + 0.25396630069413717im\n",
       "\n",
       "[:, :, 2] =\n",
       " -0.6794419762505125 + 0.8006409544375885im   …  0.3389015285206844 - 0.5440427494300614im\n",
       " -1.3227336391391669 - 0.02228370395221435im     0.8007207762810589 - 0.1044707574625175im\n",
       "\n",
       "[:, :, 3] =\n",
       " -3.974554551017032 + 1.0349836874527731im  …  2.307766163529125 - 0.9793228249629458im\n",
       " -4.183362773767195 - 3.0450453370098027im     2.797605521061895 + 1.4657909330868217im\n",
       "\n",
       "[:, :, 4] =\n",
       " -0.14843414359039986 - 0.7719471458352322im  …   0.15845417312418675 + 0.4529076201259473im\n",
       "   0.6334221264228121 - 0.761278287425299im      -0.31462172711404757 + 0.5161707148253162im\n",
       "\n",
       "[:, :, 5] =\n",
       " -0.8269253513853413 - 1.7493763007494585im  …   0.6553033736718102 + 0.9826391397951503im\n",
       "  1.0435740787648846 - 2.2030692040058115im     -0.4337512045535195 + 1.423364300590187im,))"
      ]
     },
     "metadata": {},
     "output_type": "display_data"
    }
   ],
   "source": [
    "f, (g,) = withgradient(l, bt)"
   ]
  },
  {
   "cell_type": "markdown",
   "metadata": {},
   "source": [
    "Analytical gradient"
   ]
  },
  {
   "cell_type": "code",
   "execution_count": 540,
   "metadata": {},
   "outputs": [],
   "source": [
    "phi_tilde = conj(ps[1]) * conj(ps[2])\n",
    "for i in 3:10\n",
    "    phi_tilde *= mps[i] * conj(ps[i])\n",
    "end"
   ]
  },
  {
   "cell_type": "code",
   "execution_count": 541,
   "metadata": {},
   "outputs": [
    {
     "data": {
      "text/plain": [
       "ITensor ord=3 (dim=2|id=347|\"S=1/2,Site,n=1\") (dim=2|id=668|\"S=1/2,Site,n=2\") (dim=5|id=261|\"Link,l=2\")\n",
       "NDTensors.Dense{ComplexF64, Vector{ComplexF64}}"
      ]
     },
     "metadata": {},
     "output_type": "display_data"
    }
   ],
   "source": [
    "g_analytical = conj(phi_tilde)/conj(yhat)"
   ]
  },
  {
   "cell_type": "code",
   "execution_count": 534,
   "metadata": {},
   "outputs": [
    {
     "name": "stdout",
     "output_type": "stream",
     "text": [
      "g = ITensor ord=3\n",
      "Dim 1: (dim=2|id=347|\"S=1/2,Site,n=1\")\n",
      "Dim 2: (dim=2|id=668|\"S=1/2,Site,n=2\")\n",
      "Dim 3: (dim=5|id=261|\"Link,l=2\")\n",
      "NDTensors.Dense{ComplexF64, Vector{ComplexF64}}\n",
      " 2×2×5\n",
      "[:, :, 1] =\n",
      " 0.8786511812478723 - 1.2441974973547811im   -0.41964944316446007 + 0.8296451015251627im\n",
      " 1.9139697506485613 - 0.13799517256384375im   -1.1434498448528752 + 0.25396630069413717im\n",
      "\n",
      "[:, :, 2] =\n",
      " -0.6794419762505125 + 0.8006409544375885im   0.3389015285206844 - 0.5440427494300614im\n",
      " -1.3227336391391669 - 0.02228370395221435im  0.8007207762810589 - 0.1044707574625175im\n",
      "\n",
      "[:, :, 3] =\n",
      " -3.974554551017032 + 1.0349836874527731im  2.307766163529125 - 0.9793228249629458im\n",
      " -4.183362773767195 - 3.0450453370098027im  2.797605521061895 + 1.4657909330868217im\n",
      "\n",
      "[:, :, 4] =\n",
      " -0.14843414359039986 - 0.7719471458352322im   0.15845417312418675 + 0.4529076201259473im\n",
      "   0.6334221264228121 - 0.761278287425299im   -0.31462172711404757 + 0.5161707148253162im\n",
      "\n",
      "[:, :, 5] =\n",
      " -0.8269253513853413 - 1.7493763007494585im   0.6553033736718102 + 0.9826391397951503im\n",
      "  1.0435740787648846 - 2.2030692040058115im  -0.4337512045535195 + 1.423364300590187im\n"
     ]
    },
    {
     "data": {
      "text/plain": [
       "ITensor ord=3 (dim=2|id=347|\"S=1/2,Site,n=1\") (dim=2|id=668|\"S=1/2,Site,n=2\") (dim=5|id=261|\"Link,l=2\")\n",
       "NDTensors.Dense{ComplexF64, Vector{ComplexF64}}"
      ]
     },
     "metadata": {},
     "output_type": "display_data"
    }
   ],
   "source": [
    "@show g"
   ]
  },
  {
   "cell_type": "code",
   "execution_count": 535,
   "metadata": {},
   "outputs": [
    {
     "name": "stdout",
     "output_type": "stream",
     "text": [
      "g_analytical = ITensor ord=3\n",
      "Dim 1: (dim=2|id=347|\"S=1/2,Site,n=1\")\n",
      "Dim 2: (dim=2|id=668|\"S=1/2,Site,n=2\")\n",
      "Dim 3: (dim=5|id=261|\"Link,l=2\")\n",
      "NDTensors.Dense{ComplexF64, Vector{ComplexF64}}\n",
      " 2×2×5\n",
      "[:, :, 1] =\n",
      "  0.872466753141113 + 0.08047509641817902im   -0.5340146305371377 + 0.029188797862906058im\n",
      " 0.6185852353938848 + 0.9142113719187939im   -0.45503880744939196 - 0.49689824299534385im\n",
      "\n",
      "[:, :, 2] =\n",
      "  -0.5941889195012862 - 0.10861410447688548im  0.3684849690842469 + 0.01261251177116235im\n",
      " -0.36886761175785054 - 0.6656032335314274im   0.2820821854404508 + 0.36903924470528143im\n",
      "\n",
      "[:, :, 3] =\n",
      " -1.6575420609665077 - 1.6834592827617252im    1.150995390912246 + 0.8687824022543147im\n",
      "  0.3158118233975521 - 2.9595647466382746im  0.07315328788595292 + 1.8152921227137608im\n",
      "\n",
      "[:, :, 4] =\n",
      " 0.3420704496564142 - 0.29572631335911664im  -0.18019446139688636 + 0.20907154247046286im\n",
      " 0.5613521901315077 + 0.09698695335016333im   -0.3476198702609363 - 0.008518965163634203im\n",
      "\n",
      "[:, :, 5] =\n",
      " 0.6342795909612343 - 0.9146410953226352im   -0.3014666233147002 + 0.6088554538354202im\n",
      " 1.3977095654856653 - 0.11278214775648408im  -0.8339534276237149 + 0.19271480642021616im\n"
     ]
    },
    {
     "data": {
      "text/plain": [
       "ITensor ord=3 (dim=2|id=347|\"S=1/2,Site,n=1\") (dim=2|id=668|\"S=1/2,Site,n=2\") (dim=5|id=261|\"Link,l=2\")\n",
       "NDTensors.Dense{ComplexF64, Vector{ComplexF64}}"
      ]
     },
     "metadata": {},
     "output_type": "display_data"
    }
   ],
   "source": [
    "@show g_analytical"
   ]
  },
  {
   "cell_type": "code",
   "execution_count": 377,
   "metadata": {},
   "outputs": [
    {
     "name": "stdout",
     "output_type": "stream",
     "text": [
      "0.9747101482636243\n",
      "0.9494859734123181\n",
      "0.9254879825864393\n",
      "0.9026018258464243\n",
      "0.8807284932305783\n",
      "0.8597816814119945\n",
      "0.8396857032719909\n",
      "0.8203738111803388\n",
      "0.8017868393257689\n",
      "0.7838720948104204\n",
      "0.7665824446683752\n",
      "0.7498755586301509\n",
      "0.7337132767606614\n",
      "0.7180610780171822\n",
      "0.7028876309740216\n",
      "0.6881644119082481\n",
      "0.6738653784656469\n",
      "0.6599666894640668\n",
      "0.6464464632132463\n",
      "0.6332845681608003\n",
      "0.6204624408055389\n",
      "0.6079629267202402\n",
      "0.5957701412479696\n",
      "0.5838693470181279\n",
      "0.5722468459003637\n",
      "0.5608898833992414\n",
      "0.5497865638078325\n",
      "0.5389257746980178\n",
      "0.5282971195400475\n",
      "0.5178908574223855\n",
      "0.5076978489917734\n",
      "0.4977095078582302\n",
      "0.48791775681465593\n",
      "0.4783149883092854\n",
      "0.46889402868431584\n",
      "0.45964810575781884\n",
      "0.450570819380475\n",
      "0.4416561146452089\n",
      "0.4328982574677675\n",
      "0.4242918122906346\n",
      "0.41583162169237314\n",
      "0.4075127877101261\n",
      "0.3993306547053042\n",
      "0.3912807936218364\n",
      "0.38335898750325226\n",
      "0.37556121814962723\n",
      "0.3678836538083322\n",
      "0.36032263780387497\n",
      "0.35287467802210487\n",
      "0.34553643717283394\n",
      "0.3383047237626958\n",
      "0.33117648371693487\n",
      "0.32414879259491314\n",
      "0.317218848349512\n",
      "0.31038396458544143\n",
      "0.30364156427573497\n",
      "0.2969891738995475\n",
      "0.2904244179677807\n",
      "0.2839450139061502\n",
      "0.27754876726800987\n",
      "0.27123356725176345\n",
      "0.2649973824998812\n",
      "0.2588382571585384\n",
      "0.2527543071787171\n",
      "0.2467437168412015\n",
      "0.24080473548940917\n",
      "0.23493567445529898\n",
      "0.2291349041648223\n",
      "0.22340085141046984\n",
      "0.2177319967794676\n",
      "0.21212687222708113\n",
      "0.2065840587853011\n",
      "0.20110218439794955\n",
      "0.19567992187391997\n",
      "0.19031598695090118\n",
      "0.185009136462492\n",
      "0.17975816660215982\n",
      "0.174561911277958\n",
      "0.16941924055236435\n",
      "0.16432905916201213\n",
      "0.15929030511244943\n",
      "0.15430194834340613\n",
      "0.14936298946036533\n",
      "0.14447245852852555\n",
      "0.13962941392550204\n",
      "0.13483294124936823\n",
      "0.13008215227886288\n",
      "0.12537618398279982\n",
      "0.12071419757591015\n",
      "0.11609537761853041\n",
      "0.11151893115771383\n",
      "0.10698408690749986\n",
      "0.10249009446620891\n",
      "0.09803622356878965\n",
      "0.09362176337233502\n",
      "0.08924602177302297\n",
      "0.08490832475283833\n",
      "0.08060801575452961\n",
      "0.07634445508334568\n",
      "0.07211701933418643\n"
     ]
    }
   ],
   "source": [
    "# for i in 1:100\n",
    "#     f, (g,) = withgradient(l, bt_old)\n",
    "#     bt_new = bt_old - 0.8 * g\n",
    "#     println(f)\n",
    "#     bt_old = bt_new\n",
    "# end"
   ]
  },
  {
   "cell_type": "code",
   "execution_count": 380,
   "metadata": {},
   "outputs": [
    {
     "data": {
      "text/plain": [
       "ITensor ord=0\n",
       "NDTensors.Dense{ComplexF64, Vector{ComplexF64}}"
      ]
     },
     "metadata": {},
     "output_type": "display_data"
    }
   ],
   "source": [
    "phi_tilde = conj(ps[1]) * conj(ps[2])\n",
    "for i in 3:10\n",
    "    phi_tilde *= mps[i] * conj(ps[i])\n",
    "end\n",
    "yhat = phi_tilde * bt_old"
   ]
  },
  {
   "cell_type": "code",
   "execution_count": null,
   "metadata": {},
   "outputs": [],
   "source": []
  },
  {
   "cell_type": "markdown",
   "metadata": {},
   "source": [
    "-------"
   ]
  },
  {
   "cell_type": "markdown",
   "metadata": {},
   "source": [
    "Alt. formulation"
   ]
  },
  {
   "cell_type": "code",
   "execution_count": 523,
   "metadata": {},
   "outputs": [
    {
     "data": {
      "text/plain": [
       "loss2 (generic function with 1 method)"
      ]
     },
     "metadata": {},
     "output_type": "display_data"
    }
   ],
   "source": [
    "function loss2(bt, mps, ps)\n",
    "    phi_tilde = conj(ps[1]) * conj(ps[2])\n",
    "    for i in 3:10\n",
    "        phi_tilde *= mps[i] * conj(ps[i])\n",
    "    end\n",
    "    yhat = phi_tilde * bt\n",
    "    p = norm(yhat[])^2\n",
    "    return -log(p)\n",
    "end"
   ]
  },
  {
   "cell_type": "code",
   "execution_count": 524,
   "metadata": {},
   "outputs": [
    {
     "data": {
      "text/plain": [
       "ITensor ord=3 (dim=2|id=347|\"S=1/2,Site,n=1\") (dim=2|id=668|\"S=1/2,Site,n=2\") (dim=5|id=261|\"Link,l=2\")\n",
       "NDTensors.Dense{ComplexF64, Vector{ComplexF64}}"
      ]
     },
     "metadata": {},
     "output_type": "display_data"
    }
   ],
   "source": [
    "bt = mps[1] * mps[2]"
   ]
  },
  {
   "cell_type": "code",
   "execution_count": 480,
   "metadata": {},
   "outputs": [
    {
     "data": {
      "text/plain": [
       "#79 (generic function with 1 method)"
      ]
     },
     "metadata": {},
     "output_type": "display_data"
    }
   ],
   "source": [
    "l2 = x -> loss2(x, mps, ps)"
   ]
  },
  {
   "cell_type": "code",
   "execution_count": 481,
   "metadata": {},
   "outputs": [
    {
     "data": {
      "text/plain": [
       "6.789787517503335"
      ]
     },
     "metadata": {},
     "output_type": "display_data"
    }
   ],
   "source": [
    "l2(bt)"
   ]
  },
  {
   "cell_type": "code",
   "execution_count": 482,
   "metadata": {},
   "outputs": [
    {
     "data": {
      "text/plain": [
       "(ITensor ord=3\n",
       "Dim 1: (dim=2|id=718|\"S=1/2,Site,n=1\")\n",
       "Dim 2: (dim=2|id=732|\"S=1/2,Site,n=2\")\n",
       "Dim 3: (dim=5|id=432|\"Link,l=2\")\n",
       "NDTensors.Dense{ComplexF64, Vector{ComplexF64}}\n",
       " 2×2×5\n",
       "[:, :, 1] =\n",
       " -0.05414210766480898 + 0.0594908679666256im  …  0.17746053947913137 + 0.2109003899501478im\n",
       "   1.3590547832759137 - 0.7880791112726404im      -2.059346083334616 - 4.973661666926607im\n",
       "\n",
       "[:, :, 2] =\n",
       " 0.0019243420069964459 - 0.013965008118887097im  …  -0.04655544407735828 - 0.012877784258328147im\n",
       "   -0.1182351308082307 + 0.24863890317183862im        0.7907567184779841 + 0.5144802453209532im\n",
       "\n",
       "[:, :, 3] =\n",
       " 0.01719848219978476 - 0.03201931767150516im  …  -0.10093664313173749 - 0.07295264064605618im\n",
       " -0.5091424036824719 + 0.49463253366578985im         1.44869659446542 + 1.9538358884821951im\n",
       "\n",
       "[:, :, 4] =\n",
       " -0.008303274108484755 - 0.009471652490615887im  …  -0.03593947585002528 + 0.023898916228253887im\n",
       "   0.09869390571110129 + 0.22533743850778318im        0.8101351700168455 - 0.23285835575650804im\n",
       "\n",
       "[:, :, 5] =\n",
       " -0.0016922652266992359 + 0.013138451634976959im  …  0.043853605780442034 + 0.01171420507708497im\n",
       "    0.10903685278243348 - 0.23461992801454576im       -0.7473214080115185 - 0.47687347425086585im,)"
      ]
     },
     "metadata": {},
     "output_type": "display_data"
    }
   ],
   "source": [
    "gradient(l2, bt)"
   ]
  },
  {
   "cell_type": "code",
   "execution_count": 506,
   "metadata": {},
   "outputs": [
    {
     "data": {
      "text/plain": [
       "ITensor ord=0\n",
       "NDTensors.Dense{ComplexF64, Vector{ComplexF64}}"
      ]
     },
     "metadata": {},
     "output_type": "display_data"
    }
   ],
   "source": [
    "phi_tilde = conj(ps[1]) * conj(ps[2])\n",
    "for i in 3:10\n",
    "    phi_tilde *= mps[i] * conj(ps[i])\n",
    "end\n",
    "yhat = phi_tilde * bt"
   ]
  },
  {
   "cell_type": "code",
   "execution_count": 507,
   "metadata": {},
   "outputs": [
    {
     "name": "stdout",
     "output_type": "stream",
     "text": [
      "(-2 * conj(phi_tilde)) / conj(yhat) = ITensor ord=3\n",
      "Dim 1: (dim=2|id=719|\"S=1/2,Site,n=1\")\n",
      "Dim 2: (dim=2|id=828|\"S=1/2,Site,n=2\")\n",
      "Dim 3: (dim=5|id=84|\"Link,l=2\")\n",
      "NDTensors.Dense{ComplexF64, Vector{ComplexF64}}\n",
      " 2×2×5\n",
      "[:, :, 1] =\n",
      " 1.3338437420061697 + 2.868811592181863im    0.5220354065231287 - 1.1511926329302968im\n",
      "  9.043048354887542 + 0.11839265132459656im  -2.318788670926665 - 2.771177428160767im\n",
      "\n",
      "[:, :, 2] =\n",
      " 0.09782524082526582 - 1.0692796979774604im  -0.3495000900870513 + 0.2487790294221231im\n",
      "   -2.63337810074475 - 1.5768718147630123im  0.20784412749922854 + 1.2085950230431786im\n",
      "\n",
      "[:, :, 3] =\n",
      " -2.3123494152892587 + 2.778483084197521im  1.4440733909056411 - 0.022752534511623675im\n",
      "   4.292632123643136 + 9.399480998751487im  1.7306280453219194 - 3.7482879238786277im\n",
      "\n",
      "[:, :, 4] =\n",
      "  -1.3633653712853777 + 0.48951042648966625im  0.5033368469429462 + 0.2856851613297097im\n",
      " -0.42820757742226506 + 4.118698993664228im     1.359603691098526 - 0.9426821734817034im\n",
      "\n",
      "[:, :, 5] =\n",
      " -2.020601971676155 + 1.3063901248869236im  0.9220129918456383 + 0.27214765359707155im\n",
      " 0.8618355374530637 + 6.82394839661798im    1.8434792008748835 - 2.0380127461703914im\n"
     ]
    },
    {
     "data": {
      "text/plain": [
       "ITensor ord=3 (dim=2|id=719|\"S=1/2,Site,n=1\") (dim=2|id=828|\"S=1/2,Site,n=2\") (dim=5|id=84|\"Link,l=2\")\n",
       "NDTensors.Dense{ComplexF64, Vector{ComplexF64}}"
      ]
     },
     "metadata": {},
     "output_type": "display_data"
    }
   ],
   "source": [
    "@show -2*conj(phi_tilde)/conj(yhat)"
   ]
  },
  {
   "cell_type": "markdown",
   "metadata": {},
   "source": [
    "checks out"
   ]
  },
  {
   "cell_type": "code",
   "execution_count": 508,
   "metadata": {},
   "outputs": [
    {
     "data": {
      "text/plain": [
       "ITensor ord=3 (dim=2|id=719|\"S=1/2,Site,n=1\") (dim=2|id=828|\"S=1/2,Site,n=2\") (dim=5|id=84|\"Link,l=2\")\n",
       "NDTensors.Dense{ComplexF64, Vector{ComplexF64}}"
      ]
     },
     "metadata": {},
     "output_type": "display_data"
    }
   ],
   "source": [
    "g = -2*conj(phi_tilde)/conj(yhat)"
   ]
  },
  {
   "cell_type": "code",
   "execution_count": 486,
   "metadata": {},
   "outputs": [
    {
     "data": {
      "text/plain": [
       "ITensor ord=3 (dim=2|id=718|\"S=1/2,Site,n=1\") (dim=2|id=732|\"S=1/2,Site,n=2\") (dim=5|id=432|\"Link,l=2\")\n",
       "NDTensors.Dense{ComplexF64, Vector{ComplexF64}}"
      ]
     },
     "metadata": {},
     "output_type": "display_data"
    }
   ],
   "source": [
    "bt_new = bt - 0.4 * g"
   ]
  },
  {
   "cell_type": "code",
   "execution_count": 487,
   "metadata": {},
   "outputs": [
    {
     "data": {
      "text/plain": [
       "2.3705090817801664"
      ]
     },
     "metadata": {},
     "output_type": "display_data"
    }
   ],
   "source": [
    "l2(bt_new)"
   ]
  },
  {
   "cell_type": "code",
   "execution_count": 491,
   "metadata": {},
   "outputs": [
    {
     "data": {
      "text/plain": [
       "ITensor ord=3 (dim=2|id=718|\"S=1/2,Site,n=1\") (dim=2|id=732|\"S=1/2,Site,n=2\") (dim=5|id=432|\"Link,l=2\")\n",
       "NDTensors.Dense{ComplexF64, Vector{ComplexF64}}"
      ]
     },
     "metadata": {},
     "output_type": "display_data"
    }
   ],
   "source": [
    "bt_old = bt"
   ]
  },
  {
   "cell_type": "code",
   "execution_count": 492,
   "metadata": {},
   "outputs": [
    {
     "name": "stdout",
     "output_type": "stream",
     "text": [
      "6.789787517503335\n",
      "2.3705090817801664\n",
      "2.1840798107752595\n",
      "2.0281574555554274\n",
      "1.8940092592775732\n",
      "1.7762162813743438\n",
      "1.6711750231185483\n",
      "1.5763635253822805\n",
      "1.4899457435870969\n",
      "1.4105423277661053\n",
      "1.337090099139875\n",
      "1.268751887818873\n",
      "1.204856468143833\n",
      "1.1448572614089865\n",
      "1.088303167459855\n"
     ]
    }
   ],
   "source": [
    "for i in 1:15\n",
    "    f, (g,) = withgradient(l2, bt_old)\n",
    "    bt_new = bt_old - 0.4 * g\n",
    "    bt_old = bt_new \n",
    "    println(f)\n",
    "end"
   ]
  },
  {
   "cell_type": "code",
   "execution_count": null,
   "metadata": {},
   "outputs": [],
   "source": []
  }
 ],
 "metadata": {
  "kernelspec": {
   "display_name": "Julia 1.10.2",
   "language": "julia",
   "name": "julia-1.10"
  },
  "language_info": {
   "file_extension": ".jl",
   "mimetype": "application/julia",
   "name": "julia",
   "version": "1.10.2"
  }
 },
 "nbformat": 4,
 "nbformat_minor": 2
}
