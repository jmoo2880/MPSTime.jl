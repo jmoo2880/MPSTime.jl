{
 "cells": [
  {
   "cell_type": "code",
   "execution_count": 449,
   "metadata": {},
   "outputs": [],
   "source": [
    "using Zygote\n",
    "using ITensors\n",
    "using Random"
   ]
  },
  {
   "cell_type": "code",
   "execution_count": 450,
   "metadata": {},
   "outputs": [
    {
     "data": {
      "text/plain": [
       "angle_encoder (generic function with 1 method)"
      ]
     },
     "metadata": {},
     "output_type": "display_data"
    }
   ],
   "source": [
    "function angle_encoder(x::Float64) \n",
    "    \"\"\"Function to convert normalised time series to an angle encoding.\"\"\"\n",
    "    @assert x <= 1.0 && x >= 0.0 \"Data points must be rescaled between 1 and 0 before encoding using the angle encoder.\"\n",
    "    s1 = exp(1im * (3π/2) * x) * cospi(0.5 * x)\n",
    "    s2 = exp(-1im * (3π/2) * x) * sinpi(0.5 * x)\n",
    "    return [s1, s2]\n",
    " \n",
    "end"
   ]
  },
  {
   "cell_type": "code",
   "execution_count": 451,
   "metadata": {},
   "outputs": [
    {
     "data": {
      "text/plain": [
       "normalised_data_to_product_state (generic function with 1 method)"
      ]
     },
     "metadata": {},
     "output_type": "display_data"
    }
   ],
   "source": [
    "function normalised_data_to_product_state(sample::Vector, site_indices::Vector{Index{Int64}})\n",
    "    \"\"\"Function to convert a single normalised sample to a product state\n",
    "    with local dimension 2, as specified by the feature map.\"\"\"\n",
    "\n",
    "    @assert length(sample) == length(site_indices) \"Mismatch between number of sites and sample length.\"\n",
    "\n",
    "    product_state = MPS([ITensor(angle_encoder(sample[i]), site_indices[i]) for i in eachindex(site_indices)])\n",
    "\n",
    "    return product_state\n",
    "\n",
    "end"
   ]
  },
  {
   "cell_type": "code",
   "execution_count": 452,
   "metadata": {},
   "outputs": [],
   "source": [
    "s = siteinds(\"S=1/2\", 10);\n",
    "mps = randomMPS(ComplexF64, s; linkdims=5);"
   ]
  },
  {
   "cell_type": "code",
   "execution_count": 453,
   "metadata": {},
   "outputs": [
    {
     "data": {
      "text/plain": [
       "10-element Vector{Float64}:\n",
       " 0.9674321008861496\n",
       " 0.819229127804589\n",
       " 0.08472206516123992\n",
       " 0.1086790717560383\n",
       " 0.5739626139787982\n",
       " 0.8195350973458074\n",
       " 0.21522023414995883\n",
       " 0.04497022561381525\n",
       " 0.9730120902802789\n",
       " 0.9761161514693381"
      ]
     },
     "metadata": {},
     "output_type": "display_data"
    }
   ],
   "source": [
    "sample = rand(10)"
   ]
  },
  {
   "cell_type": "code",
   "execution_count": 454,
   "metadata": {},
   "outputs": [
    {
     "data": {
      "text/plain": [
       "MPS\n",
       "[1] ((dim=2|id=718|\"S=1/2,Site,n=1\"),)\n",
       "[2] ((dim=2|id=732|\"S=1/2,Site,n=2\"),)\n",
       "[3] ((dim=2|id=60|\"S=1/2,Site,n=3\"),)\n",
       "[4] ((dim=2|id=189|\"S=1/2,Site,n=4\"),)\n",
       "[5] ((dim=2|id=884|\"S=1/2,Site,n=5\"),)\n",
       "[6] ((dim=2|id=218|\"S=1/2,Site,n=6\"),)\n",
       "[7] ((dim=2|id=140|\"S=1/2,Site,n=7\"),)\n",
       "[8] ((dim=2|id=610|\"S=1/2,Site,n=8\"),)\n",
       "[9] ((dim=2|id=334|\"S=1/2,Site,n=9\"),)\n",
       "[10] ((dim=2|id=539|\"S=1/2,Site,n=10\"),)\n"
      ]
     },
     "metadata": {},
     "output_type": "display_data"
    }
   ],
   "source": [
    "ps = normalised_data_to_product_state(sample, s)"
   ]
  },
  {
   "cell_type": "code",
   "execution_count": 474,
   "metadata": {},
   "outputs": [
    {
     "data": {
      "text/plain": [
       "raw_overlap (generic function with 1 method)"
      ]
     },
     "metadata": {},
     "output_type": "display_data"
    }
   ],
   "source": [
    "function raw_overlap(ps, mps)\n",
    "    res = conj(ps[1]) * mps[1]\n",
    "    for i in 2:length(mps)\n",
    "        res *= conj(ps[i]) * mps[i]\n",
    "    end\n",
    "    return res[]\n",
    "end"
   ]
  },
  {
   "cell_type": "code",
   "execution_count": 372,
   "metadata": {},
   "outputs": [
    {
     "data": {
      "text/plain": [
       "ITensor ord=3 (dim=2|id=764|\"S=1/2,Site,n=1\") (dim=2|id=95|\"S=1/2,Site,n=2\") (dim=5|id=649|\"Link,l=2\")\n",
       "NDTensors.Dense{ComplexF64, Vector{ComplexF64}}"
      ]
     },
     "metadata": {},
     "output_type": "display_data"
    }
   ],
   "source": [
    "bt = mps[1] * mps[2]"
   ]
  },
  {
   "cell_type": "code",
   "execution_count": 355,
   "metadata": {},
   "outputs": [
    {
     "data": {
      "text/plain": [
       "loss (generic function with 1 method)"
      ]
     },
     "metadata": {},
     "output_type": "display_data"
    }
   ],
   "source": [
    "function loss(bt, mps, ps)\n",
    "    phi_tilde = conj(ps[1]) * conj(ps[2])\n",
    "    for i in 3:10\n",
    "        phi_tilde *= mps[i] * conj(ps[i])\n",
    "    end\n",
    "    yhat = phi_tilde * bt\n",
    "    norm_val = inner(yhat, yhat)\n",
    "    p = abs(yhat[])^2 / sqrt(norm_val[])\n",
    "    loss = -log(real(p))\n",
    "    return loss\n",
    "end"
   ]
  },
  {
   "cell_type": "code",
   "execution_count": 373,
   "metadata": {},
   "outputs": [
    {
     "data": {
      "text/plain": [
       "#65 (generic function with 1 method)"
      ]
     },
     "metadata": {},
     "output_type": "display_data"
    }
   ],
   "source": [
    "l = x -> loss(x, mps, ps)"
   ]
  },
  {
   "cell_type": "code",
   "execution_count": 374,
   "metadata": {},
   "outputs": [
    {
     "data": {
      "text/plain": [
       "ITensor ord=3 (dim=2|id=764|\"S=1/2,Site,n=1\") (dim=2|id=95|\"S=1/2,Site,n=2\") (dim=5|id=649|\"Link,l=2\")\n",
       "NDTensors.Dense{ComplexF64, Vector{ComplexF64}}"
      ]
     },
     "metadata": {},
     "output_type": "display_data"
    }
   ],
   "source": [
    "bt_old = bt"
   ]
  },
  {
   "cell_type": "code",
   "execution_count": 377,
   "metadata": {},
   "outputs": [
    {
     "name": "stdout",
     "output_type": "stream",
     "text": [
      "0.9747101482636243\n",
      "0.9494859734123181\n",
      "0.9254879825864393\n",
      "0.9026018258464243\n",
      "0.8807284932305783\n",
      "0.8597816814119945\n",
      "0.8396857032719909\n",
      "0.8203738111803388\n",
      "0.8017868393257689\n",
      "0.7838720948104204\n",
      "0.7665824446683752\n",
      "0.7498755586301509\n",
      "0.7337132767606614\n",
      "0.7180610780171822\n",
      "0.7028876309740216\n",
      "0.6881644119082481\n",
      "0.6738653784656469\n",
      "0.6599666894640668\n",
      "0.6464464632132463\n",
      "0.6332845681608003\n",
      "0.6204624408055389\n",
      "0.6079629267202402\n",
      "0.5957701412479696\n",
      "0.5838693470181279\n",
      "0.5722468459003637\n",
      "0.5608898833992414\n",
      "0.5497865638078325\n",
      "0.5389257746980178\n",
      "0.5282971195400475\n",
      "0.5178908574223855\n",
      "0.5076978489917734\n",
      "0.4977095078582302\n",
      "0.48791775681465593\n",
      "0.4783149883092854\n",
      "0.46889402868431584\n",
      "0.45964810575781884\n",
      "0.450570819380475\n",
      "0.4416561146452089\n",
      "0.4328982574677675\n",
      "0.4242918122906346\n",
      "0.41583162169237314\n",
      "0.4075127877101261\n",
      "0.3993306547053042\n",
      "0.3912807936218364\n",
      "0.38335898750325226\n",
      "0.37556121814962723\n",
      "0.3678836538083322\n",
      "0.36032263780387497\n",
      "0.35287467802210487\n",
      "0.34553643717283394\n",
      "0.3383047237626958\n",
      "0.33117648371693487\n",
      "0.32414879259491314\n",
      "0.317218848349512\n",
      "0.31038396458544143\n",
      "0.30364156427573497\n",
      "0.2969891738995475\n",
      "0.2904244179677807\n",
      "0.2839450139061502\n",
      "0.27754876726800987\n",
      "0.27123356725176345\n",
      "0.2649973824998812\n",
      "0.2588382571585384\n",
      "0.2527543071787171\n",
      "0.2467437168412015\n",
      "0.24080473548940917\n",
      "0.23493567445529898\n",
      "0.2291349041648223\n",
      "0.22340085141046984\n",
      "0.2177319967794676\n",
      "0.21212687222708113\n",
      "0.2065840587853011\n",
      "0.20110218439794955\n",
      "0.19567992187391997\n",
      "0.19031598695090118\n",
      "0.185009136462492\n",
      "0.17975816660215982\n",
      "0.174561911277958\n",
      "0.16941924055236435\n",
      "0.16432905916201213\n",
      "0.15929030511244943\n",
      "0.15430194834340613\n",
      "0.14936298946036533\n",
      "0.14447245852852555\n",
      "0.13962941392550204\n",
      "0.13483294124936823\n",
      "0.13008215227886288\n",
      "0.12537618398279982\n",
      "0.12071419757591015\n",
      "0.11609537761853041\n",
      "0.11151893115771383\n",
      "0.10698408690749986\n",
      "0.10249009446620891\n",
      "0.09803622356878965\n",
      "0.09362176337233502\n",
      "0.08924602177302297\n",
      "0.08490832475283833\n",
      "0.08060801575452961\n",
      "0.07634445508334568\n",
      "0.07211701933418643\n"
     ]
    }
   ],
   "source": [
    "for i in 1:100\n",
    "    f, (g,) = withgradient(l, bt_old)\n",
    "    bt_new = bt_old - 0.8 * g\n",
    "    println(f)\n",
    "    bt_old = bt_new\n",
    "end"
   ]
  },
  {
   "cell_type": "code",
   "execution_count": 380,
   "metadata": {},
   "outputs": [
    {
     "data": {
      "text/plain": [
       "ITensor ord=0\n",
       "NDTensors.Dense{ComplexF64, Vector{ComplexF64}}"
      ]
     },
     "metadata": {},
     "output_type": "display_data"
    }
   ],
   "source": [
    "phi_tilde = conj(ps[1]) * conj(ps[2])\n",
    "for i in 3:10\n",
    "    phi_tilde *= mps[i] * conj(ps[i])\n",
    "end\n",
    "yhat = phi_tilde * bt_old"
   ]
  },
  {
   "cell_type": "markdown",
   "metadata": {},
   "source": [
    "-------"
   ]
  },
  {
   "cell_type": "markdown",
   "metadata": {},
   "source": [
    "Alt. formulation"
   ]
  },
  {
   "cell_type": "code",
   "execution_count": 478,
   "metadata": {},
   "outputs": [
    {
     "data": {
      "text/plain": [
       "loss2 (generic function with 1 method)"
      ]
     },
     "metadata": {},
     "output_type": "display_data"
    }
   ],
   "source": [
    "function loss2(bt, mps, ps)\n",
    "    phi_tilde = conj(ps[1]) * conj(ps[2])\n",
    "    for i in 3:10\n",
    "        phi_tilde *= mps[i] * conj(ps[i])\n",
    "    end\n",
    "    yhat = phi_tilde * bt\n",
    "    p = norm(yhat[])^2\n",
    "    return -log(p)\n",
    "end"
   ]
  },
  {
   "cell_type": "code",
   "execution_count": 479,
   "metadata": {},
   "outputs": [
    {
     "data": {
      "text/plain": [
       "ITensor ord=3 (dim=2|id=718|\"S=1/2,Site,n=1\") (dim=2|id=732|\"S=1/2,Site,n=2\") (dim=5|id=432|\"Link,l=2\")\n",
       "NDTensors.Dense{ComplexF64, Vector{ComplexF64}}"
      ]
     },
     "metadata": {},
     "output_type": "display_data"
    }
   ],
   "source": [
    "bt = mps[1] * mps[2]"
   ]
  },
  {
   "cell_type": "code",
   "execution_count": 480,
   "metadata": {},
   "outputs": [
    {
     "data": {
      "text/plain": [
       "#79 (generic function with 1 method)"
      ]
     },
     "metadata": {},
     "output_type": "display_data"
    }
   ],
   "source": [
    "l2 = x -> loss2(x, mps, ps)"
   ]
  },
  {
   "cell_type": "code",
   "execution_count": 481,
   "metadata": {},
   "outputs": [
    {
     "data": {
      "text/plain": [
       "6.789787517503335"
      ]
     },
     "metadata": {},
     "output_type": "display_data"
    }
   ],
   "source": [
    "l2(bt)"
   ]
  },
  {
   "cell_type": "code",
   "execution_count": 482,
   "metadata": {},
   "outputs": [
    {
     "data": {
      "text/plain": [
       "(ITensor ord=3\n",
       "Dim 1: (dim=2|id=718|\"S=1/2,Site,n=1\")\n",
       "Dim 2: (dim=2|id=732|\"S=1/2,Site,n=2\")\n",
       "Dim 3: (dim=5|id=432|\"Link,l=2\")\n",
       "NDTensors.Dense{ComplexF64, Vector{ComplexF64}}\n",
       " 2×2×5\n",
       "[:, :, 1] =\n",
       " -0.05414210766480898 + 0.0594908679666256im  …  0.17746053947913137 + 0.2109003899501478im\n",
       "   1.3590547832759137 - 0.7880791112726404im      -2.059346083334616 - 4.973661666926607im\n",
       "\n",
       "[:, :, 2] =\n",
       " 0.0019243420069964459 - 0.013965008118887097im  …  -0.04655544407735828 - 0.012877784258328147im\n",
       "   -0.1182351308082307 + 0.24863890317183862im        0.7907567184779841 + 0.5144802453209532im\n",
       "\n",
       "[:, :, 3] =\n",
       " 0.01719848219978476 - 0.03201931767150516im  …  -0.10093664313173749 - 0.07295264064605618im\n",
       " -0.5091424036824719 + 0.49463253366578985im         1.44869659446542 + 1.9538358884821951im\n",
       "\n",
       "[:, :, 4] =\n",
       " -0.008303274108484755 - 0.009471652490615887im  …  -0.03593947585002528 + 0.023898916228253887im\n",
       "   0.09869390571110129 + 0.22533743850778318im        0.8101351700168455 - 0.23285835575650804im\n",
       "\n",
       "[:, :, 5] =\n",
       " -0.0016922652266992359 + 0.013138451634976959im  …  0.043853605780442034 + 0.01171420507708497im\n",
       "    0.10903685278243348 - 0.23461992801454576im       -0.7473214080115185 - 0.47687347425086585im,)"
      ]
     },
     "metadata": {},
     "output_type": "display_data"
    }
   ],
   "source": [
    "gradient(l2, bt)"
   ]
  },
  {
   "cell_type": "code",
   "execution_count": 483,
   "metadata": {},
   "outputs": [
    {
     "data": {
      "text/plain": [
       "ITensor ord=0\n",
       "NDTensors.Dense{ComplexF64, Vector{ComplexF64}}"
      ]
     },
     "metadata": {},
     "output_type": "display_data"
    }
   ],
   "source": [
    "phi_tilde = conj(ps[1]) * conj(ps[2])\n",
    "for i in 3:10\n",
    "    phi_tilde *= mps[i] * conj(ps[i])\n",
    "end\n",
    "yhat = phi_tilde * bt"
   ]
  },
  {
   "cell_type": "code",
   "execution_count": 484,
   "metadata": {},
   "outputs": [
    {
     "name": "stdout",
     "output_type": "stream",
     "text": [
      "(-2 * conj(phi_tilde)) / conj(yhat) = ITensor ord=3\n",
      "Dim 1: (dim=2|id=718|\"S=1/2,Site,n=1\")\n",
      "Dim 2: (dim=2|id=732|\"S=1/2,Site,n=2\")\n",
      "Dim 3: (dim=5|id=432|\"Link,l=2\")\n",
      "NDTensors.Dense{ComplexF64, Vector{ComplexF64}}\n",
      " 2×2×5\n",
      "[:, :, 1] =\n",
      " -0.05414210766480897 + 0.05949086796662561im  0.17746053947913143 + 0.2109003899501478im\n",
      "   1.3590547832759137 - 0.7880791112726407im   -2.0593460833346167 - 4.973661666926608im\n",
      "\n",
      "[:, :, 2] =\n",
      " 0.0019243420069964443 - 0.013965008118887099im  -0.04655544407735829 - 0.012877784258328149im\n",
      "  -0.11823513080823068 + 0.2486389031718387im      0.7907567184779842 + 0.514480245320953im\n",
      "\n",
      "[:, :, 3] =\n",
      " 0.01719848219978476 - 0.03201931767150517im  -0.1009366431317375 - 0.07295264064605618im\n",
      " -0.5091424036824718 + 0.4946325336657899im    1.4486965944654204 + 1.9538358884821951im\n",
      "\n",
      "[:, :, 4] =\n",
      " -0.008303274108484757 - 0.009471652490615887im  -0.03593947585002527 + 0.023898916228253894im\n",
      "   0.09869390571110133 + 0.2253374385077832im      0.8101351700168455 - 0.23285835575650812im\n",
      "\n",
      "[:, :, 5] =\n",
      " -0.0016922652266992346 + 0.013138451634976959im  0.04385360578044204 + 0.01171420507708497im\n",
      "    0.10903685278243344 - 0.23461992801454581im   -0.7473214080115186 - 0.4768734742508658im\n"
     ]
    },
    {
     "data": {
      "text/plain": [
       "ITensor ord=3 (dim=2|id=718|\"S=1/2,Site,n=1\") (dim=2|id=732|\"S=1/2,Site,n=2\") (dim=5|id=432|\"Link,l=2\")\n",
       "NDTensors.Dense{ComplexF64, Vector{ComplexF64}}"
      ]
     },
     "metadata": {},
     "output_type": "display_data"
    }
   ],
   "source": [
    "@show -2*conj(phi_tilde)/conj(yhat)"
   ]
  },
  {
   "cell_type": "markdown",
   "metadata": {},
   "source": [
    "checks out"
   ]
  },
  {
   "cell_type": "code",
   "execution_count": 485,
   "metadata": {},
   "outputs": [
    {
     "data": {
      "text/plain": [
       "ITensor ord=3 (dim=2|id=718|\"S=1/2,Site,n=1\") (dim=2|id=732|\"S=1/2,Site,n=2\") (dim=5|id=432|\"Link,l=2\")\n",
       "NDTensors.Dense{ComplexF64, Vector{ComplexF64}}"
      ]
     },
     "metadata": {},
     "output_type": "display_data"
    }
   ],
   "source": [
    "g = -2*conj(phi_tilde)/conj(yhat)"
   ]
  },
  {
   "cell_type": "code",
   "execution_count": 486,
   "metadata": {},
   "outputs": [
    {
     "data": {
      "text/plain": [
       "ITensor ord=3 (dim=2|id=718|\"S=1/2,Site,n=1\") (dim=2|id=732|\"S=1/2,Site,n=2\") (dim=5|id=432|\"Link,l=2\")\n",
       "NDTensors.Dense{ComplexF64, Vector{ComplexF64}}"
      ]
     },
     "metadata": {},
     "output_type": "display_data"
    }
   ],
   "source": [
    "bt_new = bt - 0.4 * g"
   ]
  },
  {
   "cell_type": "code",
   "execution_count": 487,
   "metadata": {},
   "outputs": [
    {
     "data": {
      "text/plain": [
       "2.3705090817801664"
      ]
     },
     "metadata": {},
     "output_type": "display_data"
    }
   ],
   "source": [
    "l2(bt_new)"
   ]
  },
  {
   "cell_type": "code",
   "execution_count": 491,
   "metadata": {},
   "outputs": [
    {
     "data": {
      "text/plain": [
       "ITensor ord=3 (dim=2|id=718|\"S=1/2,Site,n=1\") (dim=2|id=732|\"S=1/2,Site,n=2\") (dim=5|id=432|\"Link,l=2\")\n",
       "NDTensors.Dense{ComplexF64, Vector{ComplexF64}}"
      ]
     },
     "metadata": {},
     "output_type": "display_data"
    }
   ],
   "source": [
    "bt_old = bt"
   ]
  },
  {
   "cell_type": "code",
   "execution_count": 492,
   "metadata": {},
   "outputs": [
    {
     "name": "stdout",
     "output_type": "stream",
     "text": [
      "6.789787517503335\n",
      "2.3705090817801664\n",
      "2.1840798107752595\n",
      "2.0281574555554274\n",
      "1.8940092592775732\n",
      "1.7762162813743438\n",
      "1.6711750231185483\n",
      "1.5763635253822805\n",
      "1.4899457435870969\n",
      "1.4105423277661053\n",
      "1.337090099139875\n",
      "1.268751887818873\n",
      "1.204856468143833\n",
      "1.1448572614089865\n",
      "1.088303167459855\n"
     ]
    }
   ],
   "source": [
    "for i in 1:15\n",
    "    f, (g,) = withgradient(l2, bt_old)\n",
    "    bt_new = bt_old - 0.4 * g\n",
    "    bt_old = bt_new \n",
    "    println(f)\n",
    "end"
   ]
  },
  {
   "cell_type": "code",
   "execution_count": null,
   "metadata": {},
   "outputs": [],
   "source": []
  }
 ],
 "metadata": {
  "kernelspec": {
   "display_name": "Julia 1.10.2",
   "language": "julia",
   "name": "julia-1.10"
  },
  "language_info": {
   "file_extension": ".jl",
   "mimetype": "application/julia",
   "name": "julia",
   "version": "1.10.2"
  }
 },
 "nbformat": 4,
 "nbformat_minor": 2
}
