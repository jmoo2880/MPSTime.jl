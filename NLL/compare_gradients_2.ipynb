{
 "cells": [
  {
   "cell_type": "code",
   "execution_count": 3,
   "metadata": {},
   "outputs": [],
   "source": [
    "using Zygote\n",
    "using ITensors\n",
    "using Random"
   ]
  },
  {
   "cell_type": "code",
   "execution_count": 4,
   "metadata": {},
   "outputs": [
    {
     "data": {
      "text/plain": [
       "angle_encoder (generic function with 1 method)"
      ]
     },
     "metadata": {},
     "output_type": "display_data"
    }
   ],
   "source": [
    "function angle_encoder(x::Float64) \n",
    "    \"\"\"Function to convert normalised time series to an angle encoding.\"\"\"\n",
    "    @assert x <= 1.0 && x >= 0.0 \"Data points must be rescaled between 1 and 0 before encoding using the angle encoder.\"\n",
    "    s1 = exp(1im * (3π/2) * x) * cospi(0.5 * x)\n",
    "    s2 = exp(-1im * (3π/2) * x) * sinpi(0.5 * x)\n",
    "    return [s1, s2]\n",
    " \n",
    "end"
   ]
  },
  {
   "cell_type": "code",
   "execution_count": 5,
   "metadata": {},
   "outputs": [
    {
     "data": {
      "text/plain": [
       "normalised_data_to_product_state (generic function with 1 method)"
      ]
     },
     "metadata": {},
     "output_type": "display_data"
    }
   ],
   "source": [
    "function normalised_data_to_product_state(sample::Vector, site_indices::Vector{Index{Int64}})\n",
    "    \"\"\"Function to convert a single normalised sample to a product state\n",
    "    with local dimension 2, as specified by the feature map.\"\"\"\n",
    "\n",
    "    @assert length(sample) == length(site_indices) \"Mismatch between number of sites and sample length.\"\n",
    "\n",
    "    product_state = MPS([ITensor(angle_encoder(sample[i]), site_indices[i]) for i in eachindex(site_indices)])\n",
    "\n",
    "    return product_state\n",
    "\n",
    "end"
   ]
  },
  {
   "cell_type": "code",
   "execution_count": 12,
   "metadata": {},
   "outputs": [
    {
     "data": {
      "text/plain": [
       "MPS\n",
       "[1] ((dim=2|id=984|\"S=1/2,Site,n=1\"), (dim=5|id=186|\"Link,l=1\"), (dim=2|id=105|\"f(x)\"))\n",
       "[2] ((dim=5|id=186|\"Link,l=1\"), (dim=2|id=242|\"S=1/2,Site,n=2\"), (dim=5|id=255|\"Link,l=2\"))\n",
       "[3] ((dim=5|id=255|\"Link,l=2\"), (dim=2|id=428|\"S=1/2,Site,n=3\"), (dim=5|id=502|\"Link,l=3\"))\n",
       "[4] ((dim=5|id=502|\"Link,l=3\"), (dim=2|id=191|\"S=1/2,Site,n=4\"), (dim=5|id=28|\"Link,l=4\"))\n",
       "[5] ((dim=5|id=28|\"Link,l=4\"), (dim=2|id=965|\"S=1/2,Site,n=5\"), (dim=5|id=115|\"Link,l=5\"))\n",
       "[6] ((dim=5|id=115|\"Link,l=5\"), (dim=2|id=696|\"S=1/2,Site,n=6\"), (dim=5|id=477|\"Link,l=6\"))\n",
       "[7] ((dim=5|id=477|\"Link,l=6\"), (dim=2|id=676|\"S=1/2,Site,n=7\"), (dim=5|id=376|\"Link,l=7\"))\n",
       "[8] ((dim=5|id=376|\"Link,l=7\"), (dim=2|id=334|\"S=1/2,Site,n=8\"), (dim=4|id=416|\"Link,l=8\"))\n",
       "[9] ((dim=4|id=416|\"Link,l=8\"), (dim=2|id=177|\"S=1/2,Site,n=9\"), (dim=2|id=594|\"Link,l=9\"))\n",
       "[10] ((dim=2|id=594|\"Link,l=9\"), (dim=2|id=637|\"S=1/2,Site,n=10\"))\n"
      ]
     },
     "metadata": {},
     "output_type": "display_data"
    }
   ],
   "source": [
    "s = siteinds(\"S=1/2\", 10);\n",
    "mps = randomMPS(ComplexF64, s; linkdims=5);\n",
    "label_index = Index(2, \"f(x)\")\n",
    "label_tensor = randomITensor(label_index);\n",
    "# attach to mps\n",
    "mps[1] *= label_tensor\n",
    "normalize!(mps)"
   ]
  },
  {
   "cell_type": "code",
   "execution_count": 13,
   "metadata": {},
   "outputs": [
    {
     "data": {
      "text/plain": [
       "MPS\n",
       "[1] ((dim=2|id=984|\"S=1/2,Site,n=1\"),)\n",
       "[2] ((dim=2|id=242|\"S=1/2,Site,n=2\"),)\n",
       "[3] ((dim=2|id=428|\"S=1/2,Site,n=3\"),)\n",
       "[4] ((dim=2|id=191|\"S=1/2,Site,n=4\"),)\n",
       "[5] ((dim=2|id=965|\"S=1/2,Site,n=5\"),)\n",
       "[6] ((dim=2|id=696|\"S=1/2,Site,n=6\"),)\n",
       "[7] ((dim=2|id=676|\"S=1/2,Site,n=7\"),)\n",
       "[8] ((dim=2|id=334|\"S=1/2,Site,n=8\"),)\n",
       "[9] ((dim=2|id=177|\"S=1/2,Site,n=9\"),)\n",
       "[10] ((dim=2|id=637|\"S=1/2,Site,n=10\"),)\n"
      ]
     },
     "metadata": {},
     "output_type": "display_data"
    }
   ],
   "source": [
    "sample = rand(10)\n",
    "ps = normalised_data_to_product_state(sample, s)"
   ]
  },
  {
   "cell_type": "code",
   "execution_count": 26,
   "metadata": {},
   "outputs": [
    {
     "data": {
      "text/plain": [
       "overlap (generic function with 1 method)"
      ]
     },
     "metadata": {},
     "output_type": "display_data"
    }
   ],
   "source": [
    "function overlap(ps, mps)\n",
    "    res = 1\n",
    "    for i in 1:10\n",
    "        res *= conj(ps[i]) * mps[i]\n",
    "    end\n",
    "    return res\n",
    "end"
   ]
  },
  {
   "cell_type": "code",
   "execution_count": 79,
   "metadata": {},
   "outputs": [
    {
     "data": {
      "text/plain": [
       "Dim 1: (dim=2|id=105|\"f(x)\")\n",
       "NDTensors.Dense{ComplexF64, Vector{ComplexF64}}\n",
       " 2-element\n",
       " 0.009762478276198694 - 0.0027419903200319117im\n",
       " -0.04158909984160018 + 0.01168114345130324im"
      ]
     },
     "metadata": {},
     "output_type": "display_data"
    }
   ],
   "source": [
    "out = overlap(ps, mps)\n",
    "out.tensor"
   ]
  },
  {
   "cell_type": "markdown",
   "metadata": {},
   "source": [
    "Make a bond tensor"
   ]
  },
  {
   "cell_type": "code",
   "execution_count": 28,
   "metadata": {},
   "outputs": [
    {
     "data": {
      "text/plain": [
       "ITensor ord=4 (dim=2|id=984|\"S=1/2,Site,n=1\") (dim=2|id=105|\"f(x)\") (dim=2|id=242|\"S=1/2,Site,n=2\") (dim=5|id=255|\"Link,l=2\")\n",
       "NDTensors.Dense{ComplexF64, Vector{ComplexF64}}"
      ]
     },
     "metadata": {},
     "output_type": "display_data"
    }
   ],
   "source": [
    "bt = mps[1] * mps[2]"
   ]
  },
  {
   "cell_type": "code",
   "execution_count": 91,
   "metadata": {},
   "outputs": [
    {
     "data": {
      "text/plain": [
       "loss (generic function with 1 method)"
      ]
     },
     "metadata": {},
     "output_type": "display_data"
    }
   ],
   "source": [
    "function loss(bt, mps, ps)\n",
    "    # pretend the ground truth label is y = 1\n",
    "    ground_truth_label = 1\n",
    "    phi_tilde = (ps[1]) * (ps[2])\n",
    "    for i in 3:10\n",
    "        phi_tilde *= (ps[i]) * mps[i]\n",
    "    end\n",
    "    yhat = (phi_tilde) * bt  \n",
    "    # select the \n",
    "    label_idx = first(inds(yhat))\n",
    "    y = onehot(label_idx => (ground_truth_label + 1))\n",
    "    f_ln = first(yhat *y)\n",
    "    loss = -log(abs2.(f_ln))\n",
    "    return loss    \n",
    "end"
   ]
  },
  {
   "cell_type": "markdown",
   "metadata": {},
   "source": [
    "Now, using Zygote to compute the gradient..."
   ]
  },
  {
   "cell_type": "code",
   "execution_count": 92,
   "metadata": {},
   "outputs": [],
   "source": [
    "l = x -> loss(x, mps, ps);"
   ]
  },
  {
   "cell_type": "code",
   "execution_count": 93,
   "metadata": {},
   "outputs": [
    {
     "data": {
      "text/plain": [
       "5.93171340961374"
      ]
     },
     "metadata": {},
     "output_type": "display_data"
    }
   ],
   "source": [
    "l(bt)"
   ]
  },
  {
   "cell_type": "code",
   "execution_count": 94,
   "metadata": {},
   "outputs": [
    {
     "data": {
      "text/plain": [
       "(ITensor ord=4\n",
       "Dim 1: (dim=2|id=984|\"S=1/2,Site,n=1\")\n",
       "Dim 2: (dim=2|id=242|\"S=1/2,Site,n=2\")\n",
       "Dim 3: (dim=5|id=255|\"Link,l=2\")\n",
       "Dim 4: (dim=2|id=105|\"f(x)\")\n",
       "NDTensors.Dense{ComplexF64, Vector{ComplexF64}}\n",
       " 2×2×5×2\n",
       "[:, :, 1, 1] =\n",
       " 0.0 + 0.0im  0.0 + 0.0im\n",
       " 0.0 + 0.0im  0.0 + 0.0im\n",
       "\n",
       "[:, :, 2, 1] =\n",
       " 0.0 + 0.0im  0.0 + 0.0im\n",
       " 0.0 + 0.0im  0.0 + 0.0im\n",
       "\n",
       "[:, :, 3, 1] =\n",
       " 0.0 + 0.0im  0.0 + 0.0im\n",
       " 0.0 + 0.0im  0.0 + 0.0im\n",
       "\n",
       "[:, :, 4, 1] =\n",
       " 0.0 + 0.0im  0.0 + 0.0im\n",
       " 0.0 + 0.0im  0.0 + 0.0im\n",
       "\n",
       "[:, :, 5, 1] =\n",
       " 0.0 + 0.0im  0.0 + 0.0im\n",
       " 0.0 + 0.0im  0.0 + 0.0im\n",
       "\n",
       "[:, :, 1, 2] =\n",
       " -0.13699272724542197 - 0.06672814063163042im  …  1.1542484544093154 - 0.35651522276696856im\n",
       " -0.13292114193147536 + 0.1135326515332268im      0.1535991666847198 - 1.3773189911079966im\n",
       "\n",
       "[:, :, 2, 2] =\n",
       " -0.029365154596603608 + 0.11071489275460314im  …  -0.4302359914675488 - 0.7996977134048106im\n",
       "   0.10300361467439788 + 0.08158837609105445im     -1.0381582911763692 + 0.08630729761959328im\n",
       "\n",
       "[:, :, 3, 2] =\n",
       " -0.030178728327816044 + 0.2458503121349326im   …  -1.1580232764359428 - 1.5859146917812041im\n",
       "   0.24476820913918634 + 0.14432917860762984im     -2.1984005684526564 + 0.4917563503147393im\n",
       "\n",
       "[:, :, 4, 2] =\n",
       " -0.26207616221948443 + 0.21633384157748067im  …  0.34357926020482865 - 2.6721385593710116im\n",
       "   0.1075253027235096 + 0.3747248512526734im      -2.6532480113995796 - 1.5850831724031746im\n",
       "\n",
       "[:, :, 5, 2] =\n",
       " -0.12967874704674678 + 0.3163290363273722im   …  -0.9644058952342874 - 2.532993856180047im\n",
       "  0.27333274266704943 + 0.28126020860580225im     -3.1058837878662913 - 0.14560646866064017im,)"
      ]
     },
     "metadata": {},
     "output_type": "display_data"
    }
   ],
   "source": [
    "out, = gradient(l, bt)"
   ]
  },
  {
   "cell_type": "code",
   "execution_count": 95,
   "metadata": {},
   "outputs": [
    {
     "data": {
      "text/plain": [
       "Dim 1: 2\n",
       "Dim 2: 2\n",
       "Dim 3: 5\n",
       "NDTensors.Dense{ComplexF64, Base.ReshapedArray{ComplexF64, 1, SubArray{ComplexF64, 3, Array{ComplexF64, 4}, Tuple{Base.Slice{Base.OneTo{Int64}}, Base.Slice{Base.OneTo{Int64}}, Base.Slice{Base.OneTo{Int64}}, Int64}, true}, Tuple{}}}\n",
       " 2×2×5\n",
       "[:, :, 1] =\n",
       " -0.13699272724542197 - 0.06672814063163042im  …  1.1542484544093154 - 0.35651522276696856im\n",
       " -0.13292114193147536 + 0.1135326515332268im      0.1535991666847198 - 1.3773189911079966im\n",
       "\n",
       "[:, :, 2] =\n",
       " -0.029365154596603608 + 0.11071489275460314im  …  -0.4302359914675488 - 0.7996977134048106im\n",
       "   0.10300361467439788 + 0.08158837609105445im     -1.0381582911763692 + 0.08630729761959328im\n",
       "\n",
       "[:, :, 3] =\n",
       " -0.030178728327816044 + 0.2458503121349326im   …  -1.1580232764359428 - 1.5859146917812041im\n",
       "   0.24476820913918634 + 0.14432917860762984im     -2.1984005684526564 + 0.4917563503147393im\n",
       "\n",
       "[:, :, 4] =\n",
       " -0.26207616221948443 + 0.21633384157748067im  …  0.34357926020482865 - 2.6721385593710116im\n",
       "   0.1075253027235096 + 0.3747248512526734im      -2.6532480113995796 - 1.5850831724031746im\n",
       "\n",
       "[:, :, 5] =\n",
       " -0.12967874704674678 + 0.3163290363273722im   …  -0.9644058952342874 - 2.532993856180047im\n",
       "  0.27333274266704943 + 0.28126020860580225im     -3.1058837878662913 - 0.14560646866064017im"
      ]
     },
     "metadata": {},
     "output_type": "display_data"
    }
   ],
   "source": [
    "out.tensor[:,:,:,2]"
   ]
  },
  {
   "cell_type": "markdown",
   "metadata": {},
   "source": [
    "Now for the analytical gradient..."
   ]
  },
  {
   "cell_type": "code",
   "execution_count": 96,
   "metadata": {},
   "outputs": [
    {
     "data": {
      "text/plain": [
       "grad_analytical (generic function with 1 method)"
      ]
     },
     "metadata": {},
     "output_type": "display_data"
    }
   ],
   "source": [
    "function grad_analytical(bt, mps, ps)\n",
    "    ground_truth_label = 1\n",
    "    phi_tilde = ps[1] * ps[2]\n",
    "    for i in 3:10\n",
    "        phi_tilde *= ps[i] * mps[i]\n",
    "    end\n",
    "    yhat = phi_tilde * bt\n",
    "    # select the \n",
    "    label_idx = first(inds(yhat))\n",
    "    y = onehot(label_idx => (ground_truth_label + 1))\n",
    "    f_ln = first(yhat * y)\n",
    "    grad = - y * conj(phi_tilde/(f_ln))\n",
    "    return grad\n",
    "    \n",
    "end"
   ]
  },
  {
   "cell_type": "code",
   "execution_count": 97,
   "metadata": {},
   "outputs": [],
   "source": [
    "grad_analyt = grad_analytical(bt, mps, ps);"
   ]
  },
  {
   "cell_type": "code",
   "execution_count": 99,
   "metadata": {},
   "outputs": [
    {
     "data": {
      "text/plain": [
       "Dim 1: 2\n",
       "Dim 2: 2\n",
       "Dim 3: 5\n",
       "NDTensors.Dense{ComplexF64, Vector{ComplexF64}}\n",
       " 2×2×5\n",
       "[:, :, 1] =\n",
       " -0.13699272724542197 - 0.06672814063163042im  …  1.1542484544093154 - 0.35651522276696856im\n",
       " -0.13292114193147536 + 0.1135326515332268im      0.1535991666847198 - 1.3773189911079966im\n",
       "\n",
       "[:, :, 2] =\n",
       " -0.029365154596603604 + 0.11071489275460314im  …  -0.4302359914675488 - 0.7996977134048106im\n",
       "   0.10300361467439788 + 0.08158837609105443im     -1.0381582911763692 + 0.08630729761959328im\n",
       "\n",
       "[:, :, 3] =\n",
       " -0.030178728327816054 + 0.2458503121349326im   …  -1.1580232764359426 - 1.5859146917812041im\n",
       "   0.24476820913918634 + 0.14432917860762984im      -2.198400568452657 + 0.49175635031473935im\n",
       "\n",
       "[:, :, 4] =\n",
       " -0.26207616221948443 + 0.21633384157748067im  …  0.34357926020482854 - 2.6721385593710116im\n",
       "  0.10752530272350962 + 0.3747248512526734im       -2.653248011399579 - 1.5850831724031746im\n",
       "\n",
       "[:, :, 5] =\n",
       " -0.12967874704674678 + 0.3163290363273722im  …  -0.9644058952342874 - 2.532993856180047im\n",
       "  0.27333274266704943 + 0.2812602086058023im     -3.1058837878662913 - 0.14560646866064011im"
      ]
     },
     "metadata": {},
     "output_type": "display_data"
    }
   ],
   "source": [
    "2 * grad_analyt.tensor[2, :, :, :]"
   ]
  },
  {
   "cell_type": "code",
   "execution_count": null,
   "metadata": {},
   "outputs": [],
   "source": []
  }
 ],
 "metadata": {
  "kernelspec": {
   "display_name": "Julia 1.10.2",
   "language": "julia",
   "name": "julia-1.10"
  },
  "language_info": {
   "file_extension": ".jl",
   "mimetype": "application/julia",
   "name": "julia",
   "version": "1.10.2"
  }
 },
 "nbformat": 4,
 "nbformat_minor": 2
}
