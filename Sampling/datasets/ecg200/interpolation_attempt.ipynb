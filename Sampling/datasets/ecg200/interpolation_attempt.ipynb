{
 "cells": [
  {
   "cell_type": "code",
   "execution_count": 4,
   "metadata": {},
   "outputs": [],
   "source": [
    "using ITensors\n",
    "using Random\n",
    "using Plots\n",
    "using QuadGK\n",
    "using Roots\n",
    "using StatsBase"
   ]
  },
  {
   "cell_type": "code",
   "execution_count": 5,
   "metadata": {},
   "outputs": [],
   "source": [
    "s = siteinds(\"S=1/2\", 25);\n",
    "mps = randomMPS(ComplexF64, s; linkdims=4);"
   ]
  },
  {
   "cell_type": "code",
   "execution_count": 6,
   "metadata": {},
   "outputs": [
    {
     "data": {
      "text/plain": [
       "sample_state_from_rdm (generic function with 1 method)"
      ]
     },
     "metadata": {},
     "output_type": "display_data"
    }
   ],
   "source": [
    "function get_probability_density(x::Float64, rdm::Matrix)\n",
    "    \"\"\"Takes in the 1-site reduced density matrix and \n",
    "    returns the probability of a given time series value, x \n",
    "    (note, x is before applying encoding, NOT ϕ(x)).\"\"\"\n",
    "    # convert time series value to encoded state by applying feature map\n",
    "    # our complex feature map\n",
    "    state = [exp(1im * (3π/2) * x) * cospi(0.5 * x), exp(-1im * (3π/2) * x) * sinpi(0.5 * x)]\n",
    "    return abs(state' * rdm * state) # |<x|ρ|x>|\n",
    "end\n",
    "\n",
    "function get_normalisation_constant(rdm::Matrix)\n",
    "    \"\"\"Get the normalisation constant Z for the pdf\"\"\"\n",
    "    prob_density_wrapper(x) = get_probability_density(x, rdm)\n",
    "    norm_const, _ = quadgk(prob_density_wrapper, 0, 1) # integrate over data/x domain\n",
    "    return norm_const\n",
    "end\n",
    "\n",
    "function get_cdf(x::Float64, rdm::Matrix, integral_norm_const::Float64)\n",
    "    \"\"\"Get the cumulative distribution function via numerical integration of\n",
    "    the probability density function.\n",
    "\n",
    "        Returns cdf evaluated at x where x is the proposed value i.e., F(x).\"\"\"\n",
    "\n",
    "    prob_density_wrapper(x_prime) = (1/integral_norm_const) * get_probability_density(x_prime, rdm)\n",
    "\n",
    "    cdf_val, _ = quadgk(prob_density_wrapper, 0, x) # pdf has support on the interval [0, 1] so integrate accordingly\n",
    "    \n",
    "    return cdf_val\n",
    "end\n",
    "\n",
    "function sample_state_from_rdm(rdm)\n",
    "    \"\"\"Given a 1 site RDM, samples a random value according to the\n",
    "    conditional distribution encapsulated by the rdm using inverse transform sampling.\n",
    "    Returns both the sampled value x (the un-feature mapped value) and the feature mapped\n",
    "    value ϕ(x).\"\"\"\n",
    "    norm_factor = get_normalisation_constant(rdm)\n",
    "    u = rand() # sample a uniform random value from ~U(0,1)\n",
    "    # solve for x by defining an auxilary function g(x) such that g(x) = F(x) - u and then use root finder to solve for x such that g(x) = 0\n",
    "    cdf_wrapper(x) = get_cdf(x, rdm, norm_factor) - u\n",
    "    sampled_x = find_zero(cdf_wrapper, (0, 1); rtol=0)\n",
    "    # map sampled value back to a state\n",
    "    sampled_state = [exp(1im * (3π/2) * sampled_x) * cospi(0.5 * sampled_x), exp(-1im * (3π/2) * sampled_x) * sinpi(0.5 * sampled_x)]\n",
    "    \n",
    "    return sampled_x, sampled_state\n",
    "\n",
    "end"
   ]
  },
  {
   "cell_type": "code",
   "execution_count": 110,
   "metadata": {},
   "outputs": [
    {
     "data": {
      "text/plain": [
       "interpolate_time_ordered (generic function with 1 method)"
      ]
     },
     "metadata": {},
     "output_type": "display_data"
    }
   ],
   "source": [
    "function interpolate_time_ordered(label_mps::MPS, time_series::Vector{Float64}, interpolate_sites::Vector{Int})\n",
    "    \"\"\"Approach 1 - interpolate mps from start to finish, obeying time ordering.\n",
    "    Takes the full (normalised) time series sample as input, as well as the indices of the sites to interpolate.\n",
    "    Will treat the interpolation sites as `missing'.\"\"\"\n",
    "\n",
    "    # check that the length of the mps equals the sample length\n",
    "    if length(label_mps) !== length(time_series)\n",
    "        error(\"Time series length does not match MPS length.\")\n",
    "    end\n",
    "    \n",
    "    # check interpolation idxs exist\n",
    "\n",
    "    mps = deepcopy(label_mps) # make a copy\n",
    "    s = siteinds(mps)\n",
    "    # put the mps into right canonical form - orthogonality center is set to the first site\n",
    "    orthogonalize!(mps, 1)\n",
    "    # create storage for samples\n",
    "    x_samps = Vector{Float64}(undef, length(mps)) \n",
    "\n",
    "    # set A to the first MPS site\n",
    "    A = mps[1]\n",
    "\n",
    "    # loop through each site and determine whether to project or sample\n",
    "    for i in eachindex(mps)\n",
    "        # get the reduced density matrix at site i\n",
    "        rdm = prime(A, s[i]) * dag(A)\n",
    "        rdm_m = matrix(rdm) # convert to rdm\n",
    "\n",
    "        if i in interpolate_sites\n",
    "            #println(\"Sampling site $i from the reduced density matrix.\")\n",
    "            # sample a state from the rdm using inverse transform sampling\n",
    "            sampled_x, sampled_state = sample_state_from_rdm(rdm_m)\n",
    "            x_samps[i] = sampled_x\n",
    "            if i != length(mps)\n",
    "                sampled_state_as_ITensor = ITensor(sampled_state, s[i])\n",
    "                # get the probability of the state for normalising the next site\n",
    "                proba_state = get_probability_density(sampled_x, rdm_m)\n",
    "                #println(\"Prob of sampled state: $proba_state\")\n",
    "                # check that the trace of the rdm is equal to one\n",
    "                sampled_x, sampled_state = sample_state_from_rdm(rdm_m)\n",
    "                # make the measurment of the site\n",
    "                Am = A * dag(sampled_state_as_ITensor)\n",
    "                # absorb into the next site\n",
    "                A_new = mps[(i+1)] * Am\n",
    "                # normalise by the probability\n",
    "                A_new *= 1/sqrt(proba_state)\n",
    "                # set A to A_new\n",
    "                A = A_new\n",
    "            end\n",
    "\n",
    "        else\n",
    "            # make a projective measurement using known value\n",
    "            #println(\"Measuring site $i to be a known value: $(time_series[i]).\")\n",
    "            known_x = time_series[i]\n",
    "            known_state = [exp(1im * (3π/2) * known_x) * cospi(0.5 * known_x), exp(-1im * (3π/2) * known_x) * sinpi(0.5 * known_x)]\n",
    "            known_state_as_ITensor = ITensor(known_state, s[i])\n",
    "            \n",
    "            # make the measurment at the site\n",
    "            Am = A * dag(known_state_as_ITensor)\n",
    "\n",
    "            # absorb orthogonality center into the next site\n",
    "            if i != length(mps)\n",
    "                A_new = mps[(i+1)] * Am\n",
    "                # normalise by the probability of the known state\n",
    "                proba_state = get_probability_density(known_x, rdm_m)\n",
    "                A_new *= 1/sqrt(proba_state)\n",
    "                A = A_new\n",
    "            end\n",
    "            x_samps[i] = known_x\n",
    "        end\n",
    "    end\n",
    "\n",
    "    return x_samps\n",
    "\n",
    "end"
   ]
  },
  {
   "cell_type": "code",
   "execution_count": 147,
   "metadata": {},
   "outputs": [
    {
     "data": {
      "text/plain": [
       "4-element Vector{Int64}:\n",
       "  5\n",
       " 10\n",
       " 15\n",
       " 20"
      ]
     },
     "metadata": {},
     "output_type": "display_data"
    }
   ],
   "source": [
    "time_series = rand(25) # make a fake time series\n",
    "interp_idxs = [5, 10, 15, 20]"
   ]
  },
  {
   "cell_type": "code",
   "execution_count": 148,
   "metadata": {},
   "outputs": [],
   "source": [
    "samps = Matrix{Float64}(undef, 1000, 25)\n",
    "for i in 1:1000\n",
    "    samps[i, :] = interpolate_time_ordered(mps, time_series, interp_idxs)\n",
    "end"
   ]
  },
  {
   "cell_type": "code",
   "execution_count": 149,
   "metadata": {},
   "outputs": [
    {
     "data": {
      "text/plain": [
       "1×25 Matrix{Float64}:\n",
       " 2.44371e-15  1.11078e-16  2.33263e-15  …  2.11048e-15  1.11078e-15"
      ]
     },
     "metadata": {},
     "output_type": "display_data"
    }
   ],
   "source": [
    "mean_ts = mean(samps, dims=1)\n",
    "std_ts = std(samps, dims=1)"
   ]
  },
  {
   "cell_type": "code",
   "execution_count": 150,
   "metadata": {},
   "outputs": [
    {
     "data": {
      "image/png": "[encoded data removed]",
      "image/svg+xml": [
       "<?xml version=\"1.0\" encoding=\"utf-8\"?>\n",
       "<svg xmlns=\"http://www.w3.org/2000/svg\" xmlns:xlink=\"http://www.w3.org/1999/xlink\" width=\"600\" height=\"400\" viewBox=\"0 0 2400 1600\">\n",
       "<defs>\n",
       "  <clipPath id=\"clip750\">\n",
       "    <rect x=\"0\" y=\"0\" width=\"2400\" height=\"1600\"/>\n",
       "  </clipPath>\n",
       "</defs>\n",
       "<path clip-path=\"url(#clip750)\" d=\"M0 1600 L2400 1600 L2400 8.88178e-14 L0 8.88178e-14  Z\" fill=\"#ffffff\" fill-rule=\"evenodd\" fill-opacity=\"1\"/>\n",
       "<defs>\n",
       "  <clipPath id=\"clip751\">\n",
       "    <rect x=\"480\" y=\"0\" width=\"1681\" height=\"1600\"/>\n",
       "  </clipPath>\n",
       "</defs>\n",
       "<path clip-path=\"url(#clip750)\" d=\"M186.274 1486.45 L2352.76 1486.45 L2352.76 47.2441 L186.274 47.2441  Z\" fill=\"#ffffff\" fill-rule=\"evenodd\" fill-opacity=\"1\"/>\n",
       "<defs>\n",
       "  <clipPath id=\"clip752\">\n",
       "    <rect x=\"186\" y=\"47\" width=\"2167\" height=\"1440\"/>\n",
       "  </clipPath>\n",
       "</defs>\n",
       "<polyline clip-path=\"url(#clip752)\" style=\"stroke:#000000; stroke-linecap:round; stroke-linejoin:round; stroke-width:2; stroke-opacity:0.1; fill:none\" points=\"588.231,1486.45 588.231,47.2441 \"/>\n",
       "<polyline clip-path=\"url(#clip752)\" style=\"stroke:#000000; stroke-linecap:round; stroke-linejoin:round; stroke-width:2; stroke-opacity:0.1; fill:none\" points=\"1014.03,1486.45 1014.03,47.2441 \"/>\n",
       "<polyline clip-path=\"url(#clip752)\" style=\"stroke:#000000; stroke-linecap:round; stroke-linejoin:round; stroke-width:2; stroke-opacity:0.1; fill:none\" points=\"1439.84,1486.45 1439.84,47.2441 \"/>\n",
       "<polyline clip-path=\"url(#clip752)\" style=\"stroke:#000000; stroke-linecap:round; stroke-linejoin:round; stroke-width:2; stroke-opacity:0.1; fill:none\" points=\"1865.64,1486.45 1865.64,47.2441 \"/>\n",
       "<polyline clip-path=\"url(#clip752)\" style=\"stroke:#000000; stroke-linecap:round; stroke-linejoin:round; stroke-width:2; stroke-opacity:0.1; fill:none\" points=\"2291.44,1486.45 2291.44,47.2441 \"/>\n",
       "<polyline clip-path=\"url(#clip750)\" style=\"stroke:#000000; stroke-linecap:round; stroke-linejoin:round; stroke-width:4; stroke-opacity:1; fill:none\" points=\"186.274,1486.45 2352.76,1486.45 \"/>\n",
       "<polyline clip-path=\"url(#clip750)\" style=\"stroke:#000000; stroke-linecap:round; stroke-linejoin:round; stroke-width:4; stroke-opacity:1; fill:none\" points=\"588.231,1486.45 588.231,1467.55 \"/>\n",
       "<polyline clip-path=\"url(#clip750)\" style=\"stroke:#000000; stroke-linecap:round; stroke-linejoin:round; stroke-width:4; stroke-opacity:1; fill:none\" points=\"1014.03,1486.45 1014.03,1467.55 \"/>\n",
       "<polyline clip-path=\"url(#clip750)\" style=\"stroke:#000000; stroke-linecap:round; stroke-linejoin:round; stroke-width:4; stroke-opacity:1; fill:none\" points=\"1439.84,1486.45 1439.84,1467.55 \"/>\n",
       "<polyline clip-path=\"url(#clip750)\" style=\"stroke:#000000; stroke-linecap:round; stroke-linejoin:round; stroke-width:4; stroke-opacity:1; fill:none\" points=\"1865.64,1486.45 1865.64,1467.55 \"/>\n",
       "<polyline clip-path=\"url(#clip750)\" style=\"stroke:#000000; stroke-linecap:round; stroke-linejoin:round; stroke-width:4; stroke-opacity:1; fill:none\" points=\"2291.44,1486.45 2291.44,1467.55 \"/>\n",
       "<path clip-path=\"url(#clip750)\" d=\"M578.509 1514.29 L596.866 1514.29 L596.866 1518.22 L582.792 1518.22 L582.792 1526.7 Q583.81 1526.35 584.829 1526.19 Q585.847 1526 586.866 1526 Q592.653 1526 596.032 1529.17 Q599.412 1532.34 599.412 1537.76 Q599.412 1543.34 595.94 1546.44 Q592.467 1549.52 586.148 1549.52 Q583.972 1549.52 581.704 1549.15 Q579.458 1548.78 577.051 1548.04 L577.051 1543.34 Q579.134 1544.47 581.356 1545.03 Q583.579 1545.58 586.055 1545.58 Q590.06 1545.58 592.398 1543.48 Q594.736 1541.37 594.736 1537.76 Q594.736 1534.15 592.398 1532.04 Q590.06 1529.94 586.055 1529.94 Q584.18 1529.94 582.305 1530.35 Q580.454 1530.77 578.509 1531.65 L578.509 1514.29 Z\" fill=\"#000000\" fill-rule=\"nonzero\" fill-opacity=\"1\" /><path clip-path=\"url(#clip750)\" d=\"M988.721 1544.91 L996.36 1544.91 L996.36 1518.55 L988.05 1520.21 L988.05 1515.95 L996.314 1514.29 L1000.99 1514.29 L1000.99 1544.91 L1008.63 1544.91 L1008.63 1548.85 L988.721 1548.85 L988.721 1544.91 Z\" fill=\"#000000\" fill-rule=\"nonzero\" fill-opacity=\"1\" /><path clip-path=\"url(#clip750)\" d=\"M1028.07 1517.37 Q1024.46 1517.37 1022.63 1520.93 Q1020.83 1524.47 1020.83 1531.6 Q1020.83 1538.71 1022.63 1542.27 Q1024.46 1545.82 1028.07 1545.82 Q1031.71 1545.82 1033.51 1542.27 Q1035.34 1538.71 1035.34 1531.6 Q1035.34 1524.47 1033.51 1520.93 Q1031.71 1517.37 1028.07 1517.37 M1028.07 1513.66 Q1033.88 1513.66 1036.94 1518.27 Q1040.02 1522.85 1040.02 1531.6 Q1040.02 1540.33 1036.94 1544.94 Q1033.88 1549.52 1028.07 1549.52 Q1022.26 1549.52 1019.18 1544.94 Q1016.13 1540.33 1016.13 1531.6 Q1016.13 1522.85 1019.18 1518.27 Q1022.26 1513.66 1028.07 1513.66 Z\" fill=\"#000000\" fill-rule=\"nonzero\" fill-opacity=\"1\" /><path clip-path=\"url(#clip750)\" d=\"M1415.02 1544.91 L1422.66 1544.91 L1422.66 1518.55 L1414.35 1520.21 L1414.35 1515.95 L1422.61 1514.29 L1427.29 1514.29 L1427.29 1544.91 L1434.93 1544.91 L1434.93 1548.85 L1415.02 1548.85 L1415.02 1544.91 Z\" fill=\"#000000\" fill-rule=\"nonzero\" fill-opacity=\"1\" /><path clip-path=\"url(#clip750)\" d=\"M1444.42 1514.29 L1462.78 1514.29 L1462.78 1518.22 L1448.7 1518.22 L1448.7 1526.7 Q1449.72 1526.35 1450.74 1526.19 Q1451.76 1526 1452.78 1526 Q1458.56 1526 1461.94 1529.17 Q1465.32 1532.34 1465.32 1537.76 Q1465.32 1543.34 1461.85 1546.44 Q1458.38 1549.52 1452.06 1549.52 Q1449.88 1549.52 1447.61 1549.15 Q1445.37 1548.78 1442.96 1548.04 L1442.96 1543.34 Q1445.04 1544.47 1447.27 1545.03 Q1449.49 1545.58 1451.97 1545.58 Q1455.97 1545.58 1458.31 1543.48 Q1460.65 1541.37 1460.65 1537.76 Q1460.65 1534.15 1458.31 1532.04 Q1455.97 1529.94 1451.97 1529.94 Q1450.09 1529.94 1448.22 1530.35 Q1446.36 1530.77 1444.42 1531.65 L1444.42 1514.29 Z\" fill=\"#000000\" fill-rule=\"nonzero\" fill-opacity=\"1\" /><path clip-path=\"url(#clip750)\" d=\"M1844.41 1544.91 L1860.73 1544.91 L1860.73 1548.85 L1838.79 1548.85 L1838.79 1544.91 Q1841.45 1542.16 1846.03 1537.53 Q1850.64 1532.88 1851.82 1531.53 Q1854.06 1529.01 1854.94 1527.27 Q1855.85 1525.51 1855.85 1523.82 Q1855.85 1521.07 1853.9 1519.33 Q1851.98 1517.6 1848.88 1517.6 Q1846.68 1517.6 1844.23 1518.36 Q1841.8 1519.13 1839.02 1520.68 L1839.02 1515.95 Q1841.84 1514.82 1844.3 1514.24 Q1846.75 1513.66 1848.79 1513.66 Q1854.16 1513.66 1857.35 1516.35 Q1860.55 1519.03 1860.55 1523.52 Q1860.55 1525.65 1859.74 1527.57 Q1858.95 1529.47 1856.84 1532.07 Q1856.26 1532.74 1853.16 1535.95 Q1850.06 1539.15 1844.41 1544.91 Z\" fill=\"#000000\" fill-rule=\"nonzero\" fill-opacity=\"1\" /><path clip-path=\"url(#clip750)\" d=\"M1880.55 1517.37 Q1876.93 1517.37 1875.11 1520.93 Q1873.3 1524.47 1873.3 1531.6 Q1873.3 1538.71 1875.11 1542.27 Q1876.93 1545.82 1880.55 1545.82 Q1884.18 1545.82 1885.99 1542.27 Q1887.81 1538.71 1887.81 1531.6 Q1887.81 1524.47 1885.99 1520.93 Q1884.18 1517.37 1880.55 1517.37 M1880.55 1513.66 Q1886.36 1513.66 1889.41 1518.27 Q1892.49 1522.85 1892.49 1531.6 Q1892.49 1540.33 1889.41 1544.94 Q1886.36 1549.52 1880.55 1549.52 Q1874.74 1549.52 1871.66 1544.94 Q1868.6 1540.33 1868.6 1531.6 Q1868.6 1522.85 1871.66 1518.27 Q1874.74 1513.66 1880.55 1513.66 Z\" fill=\"#000000\" fill-rule=\"nonzero\" fill-opacity=\"1\" /><path clip-path=\"url(#clip750)\" d=\"M2270.71 1544.91 L2287.03 1544.91 L2287.03 1548.85 L2265.09 1548.85 L2265.09 1544.91 Q2267.75 1542.16 2272.33 1537.53 Q2276.94 1532.88 2278.12 1531.53 Q2280.36 1529.01 2281.24 1527.27 Q2282.15 1525.51 2282.15 1523.82 Q2282.15 1521.07 2280.2 1519.33 Q2278.28 1517.6 2275.18 1517.6 Q2272.98 1517.6 2270.53 1518.36 Q2268.1 1519.13 2265.32 1520.68 L2265.32 1515.95 Q2268.14 1514.82 2270.6 1514.24 Q2273.05 1513.66 2275.09 1513.66 Q2280.46 1513.66 2283.65 1516.35 Q2286.85 1519.03 2286.85 1523.52 Q2286.85 1525.65 2286.04 1527.57 Q2285.25 1529.47 2283.14 1532.07 Q2282.56 1532.74 2279.46 1535.95 Q2276.36 1539.15 2270.71 1544.91 Z\" fill=\"#000000\" fill-rule=\"nonzero\" fill-opacity=\"1\" /><path clip-path=\"url(#clip750)\" d=\"M2296.89 1514.29 L2315.25 1514.29 L2315.25 1518.22 L2301.17 1518.22 L2301.17 1526.7 Q2302.19 1526.35 2303.21 1526.19 Q2304.23 1526 2305.25 1526 Q2311.04 1526 2314.41 1529.17 Q2317.79 1532.34 2317.79 1537.76 Q2317.79 1543.34 2314.32 1546.44 Q2310.85 1549.52 2304.53 1549.52 Q2302.35 1549.52 2300.09 1549.15 Q2297.84 1548.78 2295.43 1548.04 L2295.43 1543.34 Q2297.52 1544.47 2299.74 1545.03 Q2301.96 1545.58 2304.44 1545.58 Q2308.44 1545.58 2310.78 1543.48 Q2313.12 1541.37 2313.12 1537.76 Q2313.12 1534.15 2310.78 1532.04 Q2308.44 1529.94 2304.44 1529.94 Q2302.56 1529.94 2300.69 1530.35 Q2298.84 1530.77 2296.89 1531.65 L2296.89 1514.29 Z\" fill=\"#000000\" fill-rule=\"nonzero\" fill-opacity=\"1\" /><polyline clip-path=\"url(#clip752)\" style=\"stroke:#000000; stroke-linecap:round; stroke-linejoin:round; stroke-width:2; stroke-opacity:0.1; fill:none\" points=\"186.274,1460.73 2352.76,1460.73 \"/>\n",
       "<polyline clip-path=\"url(#clip752)\" style=\"stroke:#000000; stroke-linecap:round; stroke-linejoin:round; stroke-width:2; stroke-opacity:0.1; fill:none\" points=\"186.274,1111.15 2352.76,1111.15 \"/>\n",
       "<polyline clip-path=\"url(#clip752)\" style=\"stroke:#000000; stroke-linecap:round; stroke-linejoin:round; stroke-width:2; stroke-opacity:0.1; fill:none\" points=\"186.274,761.563 2352.76,761.563 \"/>\n",
       "<polyline clip-path=\"url(#clip752)\" style=\"stroke:#000000; stroke-linecap:round; stroke-linejoin:round; stroke-width:2; stroke-opacity:0.1; fill:none\" points=\"186.274,411.979 2352.76,411.979 \"/>\n",
       "<polyline clip-path=\"url(#clip752)\" style=\"stroke:#000000; stroke-linecap:round; stroke-linejoin:round; stroke-width:2; stroke-opacity:0.1; fill:none\" points=\"186.274,62.395 2352.76,62.395 \"/>\n",
       "<polyline clip-path=\"url(#clip750)\" style=\"stroke:#000000; stroke-linecap:round; stroke-linejoin:round; stroke-width:4; stroke-opacity:1; fill:none\" points=\"186.274,1486.45 186.274,47.2441 \"/>\n",
       "<polyline clip-path=\"url(#clip750)\" style=\"stroke:#000000; stroke-linecap:round; stroke-linejoin:round; stroke-width:4; stroke-opacity:1; fill:none\" points=\"186.274,1460.73 205.172,1460.73 \"/>\n",
       "<polyline clip-path=\"url(#clip750)\" style=\"stroke:#000000; stroke-linecap:round; stroke-linejoin:round; stroke-width:4; stroke-opacity:1; fill:none\" points=\"186.274,1111.15 205.172,1111.15 \"/>\n",
       "<polyline clip-path=\"url(#clip750)\" style=\"stroke:#000000; stroke-linecap:round; stroke-linejoin:round; stroke-width:4; stroke-opacity:1; fill:none\" points=\"186.274,761.563 205.172,761.563 \"/>\n",
       "<polyline clip-path=\"url(#clip750)\" style=\"stroke:#000000; stroke-linecap:round; stroke-linejoin:round; stroke-width:4; stroke-opacity:1; fill:none\" points=\"186.274,411.979 205.172,411.979 \"/>\n",
       "<polyline clip-path=\"url(#clip750)\" style=\"stroke:#000000; stroke-linecap:round; stroke-linejoin:round; stroke-width:4; stroke-opacity:1; fill:none\" points=\"186.274,62.395 205.172,62.395 \"/>\n",
       "<path clip-path=\"url(#clip750)\" d=\"M62.9365 1446.53 Q59.3254 1446.53 57.4967 1450.1 Q55.6912 1453.64 55.6912 1460.77 Q55.6912 1467.87 57.4967 1471.44 Q59.3254 1474.98 62.9365 1474.98 Q66.5707 1474.98 68.3763 1471.44 Q70.205 1467.87 70.205 1460.77 Q70.205 1453.64 68.3763 1450.1 Q66.5707 1446.53 62.9365 1446.53 M62.9365 1442.83 Q68.7467 1442.83 71.8022 1447.43 Q74.8809 1452.02 74.8809 1460.77 Q74.8809 1469.49 71.8022 1474.1 Q68.7467 1478.68 62.9365 1478.68 Q57.1264 1478.68 54.0477 1474.1 Q50.9921 1469.49 50.9921 1460.77 Q50.9921 1452.02 54.0477 1447.43 Q57.1264 1442.83 62.9365 1442.83 Z\" fill=\"#000000\" fill-rule=\"nonzero\" fill-opacity=\"1\" /><path clip-path=\"url(#clip750)\" d=\"M83.0984 1472.13 L87.9827 1472.13 L87.9827 1478.01 L83.0984 1478.01 L83.0984 1472.13 Z\" fill=\"#000000\" fill-rule=\"nonzero\" fill-opacity=\"1\" /><path clip-path=\"url(#clip750)\" d=\"M108.168 1446.53 Q104.557 1446.53 102.728 1450.1 Q100.922 1453.64 100.922 1460.77 Q100.922 1467.87 102.728 1471.44 Q104.557 1474.98 108.168 1474.98 Q111.802 1474.98 113.608 1471.44 Q115.436 1467.87 115.436 1460.77 Q115.436 1453.64 113.608 1450.1 Q111.802 1446.53 108.168 1446.53 M108.168 1442.83 Q113.978 1442.83 117.033 1447.43 Q120.112 1452.02 120.112 1460.77 Q120.112 1469.49 117.033 1474.1 Q113.978 1478.68 108.168 1478.68 Q102.358 1478.68 99.2789 1474.1 Q96.2234 1469.49 96.2234 1460.77 Q96.2234 1452.02 99.2789 1447.43 Q102.358 1442.83 108.168 1442.83 Z\" fill=\"#000000\" fill-rule=\"nonzero\" fill-opacity=\"1\" /><path clip-path=\"url(#clip750)\" d=\"M138.33 1446.53 Q134.719 1446.53 132.89 1450.1 Q131.084 1453.64 131.084 1460.77 Q131.084 1467.87 132.89 1471.44 Q134.719 1474.98 138.33 1474.98 Q141.964 1474.98 143.769 1471.44 Q145.598 1467.87 145.598 1460.77 Q145.598 1453.64 143.769 1450.1 Q141.964 1446.53 138.33 1446.53 M138.33 1442.83 Q144.14 1442.83 147.195 1447.43 Q150.274 1452.02 150.274 1460.77 Q150.274 1469.49 147.195 1474.1 Q144.14 1478.68 138.33 1478.68 Q132.519 1478.68 129.441 1474.1 Q126.385 1469.49 126.385 1460.77 Q126.385 1452.02 129.441 1447.43 Q132.519 1442.83 138.33 1442.83 Z\" fill=\"#000000\" fill-rule=\"nonzero\" fill-opacity=\"1\" /><path clip-path=\"url(#clip750)\" d=\"M63.9319 1096.95 Q60.3208 1096.95 58.4921 1100.51 Q56.6865 1104.05 56.6865 1111.18 Q56.6865 1118.29 58.4921 1121.85 Q60.3208 1125.4 63.9319 1125.4 Q67.5661 1125.4 69.3717 1121.85 Q71.2004 1118.29 71.2004 1111.18 Q71.2004 1104.05 69.3717 1100.51 Q67.5661 1096.95 63.9319 1096.95 M63.9319 1093.24 Q69.742 1093.24 72.7976 1097.85 Q75.8763 1102.43 75.8763 1111.18 Q75.8763 1119.91 72.7976 1124.52 Q69.742 1129.1 63.9319 1129.1 Q58.1217 1129.1 55.043 1124.52 Q51.9875 1119.91 51.9875 1111.18 Q51.9875 1102.43 55.043 1097.85 Q58.1217 1093.24 63.9319 1093.24 Z\" fill=\"#000000\" fill-rule=\"nonzero\" fill-opacity=\"1\" /><path clip-path=\"url(#clip750)\" d=\"M84.0938 1122.55 L88.978 1122.55 L88.978 1128.43 L84.0938 1128.43 L84.0938 1122.55 Z\" fill=\"#000000\" fill-rule=\"nonzero\" fill-opacity=\"1\" /><path clip-path=\"url(#clip750)\" d=\"M103.191 1124.49 L119.51 1124.49 L119.51 1128.43 L97.566 1128.43 L97.566 1124.49 Q100.228 1121.74 104.811 1117.11 Q109.418 1112.46 110.598 1111.11 Q112.844 1108.59 113.723 1106.85 Q114.626 1105.09 114.626 1103.4 Q114.626 1100.65 112.682 1098.91 Q110.76 1097.18 107.658 1097.18 Q105.459 1097.18 103.006 1097.94 Q100.575 1098.71 97.7974 1100.26 L97.7974 1095.53 Q100.621 1094.4 103.075 1093.82 Q105.529 1093.24 107.566 1093.24 Q112.936 1093.24 116.131 1095.93 Q119.325 1098.61 119.325 1103.1 Q119.325 1105.23 118.515 1107.15 Q117.728 1109.05 115.621 1111.65 Q115.043 1112.32 111.941 1115.53 Q108.839 1118.73 103.191 1124.49 Z\" fill=\"#000000\" fill-rule=\"nonzero\" fill-opacity=\"1\" /><path clip-path=\"url(#clip750)\" d=\"M129.371 1093.87 L147.728 1093.87 L147.728 1097.8 L133.654 1097.8 L133.654 1106.27 Q134.672 1105.93 135.691 1105.77 Q136.709 1105.58 137.728 1105.58 Q143.515 1105.58 146.894 1108.75 Q150.274 1111.92 150.274 1117.34 Q150.274 1122.92 146.802 1126.02 Q143.33 1129.1 137.01 1129.1 Q134.834 1129.1 132.566 1128.73 Q130.32 1128.36 127.913 1127.62 L127.913 1122.92 Q129.996 1124.05 132.219 1124.61 Q134.441 1125.16 136.918 1125.16 Q140.922 1125.16 143.26 1123.06 Q145.598 1120.95 145.598 1117.34 Q145.598 1113.73 143.26 1111.62 Q140.922 1109.52 136.918 1109.52 Q135.043 1109.52 133.168 1109.93 Q131.316 1110.35 129.371 1111.23 L129.371 1093.87 Z\" fill=\"#000000\" fill-rule=\"nonzero\" fill-opacity=\"1\" /><path clip-path=\"url(#clip750)\" d=\"M62.9365 747.362 Q59.3254 747.362 57.4967 750.927 Q55.6912 754.469 55.6912 761.598 Q55.6912 768.705 57.4967 772.269 Q59.3254 775.811 62.9365 775.811 Q66.5707 775.811 68.3763 772.269 Q70.205 768.705 70.205 761.598 Q70.205 754.469 68.3763 750.927 Q66.5707 747.362 62.9365 747.362 M62.9365 743.658 Q68.7467 743.658 71.8022 748.265 Q74.8809 752.848 74.8809 761.598 Q74.8809 770.325 71.8022 774.931 Q68.7467 779.515 62.9365 779.515 Q57.1264 779.515 54.0477 774.931 Q50.9921 770.325 50.9921 761.598 Q50.9921 752.848 54.0477 748.265 Q57.1264 743.658 62.9365 743.658 Z\" fill=\"#000000\" fill-rule=\"nonzero\" fill-opacity=\"1\" /><path clip-path=\"url(#clip750)\" d=\"M83.0984 772.964 L87.9827 772.964 L87.9827 778.843 L83.0984 778.843 L83.0984 772.964 Z\" fill=\"#000000\" fill-rule=\"nonzero\" fill-opacity=\"1\" /><path clip-path=\"url(#clip750)\" d=\"M98.2141 744.283 L116.57 744.283 L116.57 748.219 L102.496 748.219 L102.496 756.691 Q103.515 756.344 104.534 756.181 Q105.552 755.996 106.571 755.996 Q112.358 755.996 115.737 759.168 Q119.117 762.339 119.117 767.755 Q119.117 773.334 115.645 776.436 Q112.172 779.515 105.853 779.515 Q103.677 779.515 101.409 779.144 Q99.1632 778.774 96.7558 778.033 L96.7558 773.334 Q98.8391 774.468 101.061 775.024 Q103.284 775.58 105.76 775.58 Q109.765 775.58 112.103 773.473 Q114.441 771.367 114.441 767.755 Q114.441 764.144 112.103 762.038 Q109.765 759.931 105.76 759.931 Q103.885 759.931 102.01 760.348 Q100.159 760.765 98.2141 761.644 L98.2141 744.283 Z\" fill=\"#000000\" fill-rule=\"nonzero\" fill-opacity=\"1\" /><path clip-path=\"url(#clip750)\" d=\"M138.33 747.362 Q134.719 747.362 132.89 750.927 Q131.084 754.469 131.084 761.598 Q131.084 768.705 132.89 772.269 Q134.719 775.811 138.33 775.811 Q141.964 775.811 143.769 772.269 Q145.598 768.705 145.598 761.598 Q145.598 754.469 143.769 750.927 Q141.964 747.362 138.33 747.362 M138.33 743.658 Q144.14 743.658 147.195 748.265 Q150.274 752.848 150.274 761.598 Q150.274 770.325 147.195 774.931 Q144.14 779.515 138.33 779.515 Q132.519 779.515 129.441 774.931 Q126.385 770.325 126.385 761.598 Q126.385 752.848 129.441 748.265 Q132.519 743.658 138.33 743.658 Z\" fill=\"#000000\" fill-rule=\"nonzero\" fill-opacity=\"1\" /><path clip-path=\"url(#clip750)\" d=\"M63.9319 397.778 Q60.3208 397.778 58.4921 401.343 Q56.6865 404.884 56.6865 412.014 Q56.6865 419.12 58.4921 422.685 Q60.3208 426.227 63.9319 426.227 Q67.5661 426.227 69.3717 422.685 Q71.2004 419.12 71.2004 412.014 Q71.2004 404.884 69.3717 401.343 Q67.5661 397.778 63.9319 397.778 M63.9319 394.074 Q69.742 394.074 72.7976 398.681 Q75.8763 403.264 75.8763 412.014 Q75.8763 420.741 72.7976 425.347 Q69.742 429.931 63.9319 429.931 Q58.1217 429.931 55.043 425.347 Q51.9875 420.741 51.9875 412.014 Q51.9875 403.264 55.043 398.681 Q58.1217 394.074 63.9319 394.074 Z\" fill=\"#000000\" fill-rule=\"nonzero\" fill-opacity=\"1\" /><path clip-path=\"url(#clip750)\" d=\"M84.0938 423.38 L88.978 423.38 L88.978 429.259 L84.0938 429.259 L84.0938 423.38 Z\" fill=\"#000000\" fill-rule=\"nonzero\" fill-opacity=\"1\" /><path clip-path=\"url(#clip750)\" d=\"M97.9826 394.699 L120.205 394.699 L120.205 396.69 L107.658 429.259 L102.774 429.259 L114.58 398.634 L97.9826 398.634 L97.9826 394.699 Z\" fill=\"#000000\" fill-rule=\"nonzero\" fill-opacity=\"1\" /><path clip-path=\"url(#clip750)\" d=\"M129.371 394.699 L147.728 394.699 L147.728 398.634 L133.654 398.634 L133.654 407.107 Q134.672 406.759 135.691 406.597 Q136.709 406.412 137.728 406.412 Q143.515 406.412 146.894 409.583 Q150.274 412.755 150.274 418.171 Q150.274 423.75 146.802 426.852 Q143.33 429.931 137.01 429.931 Q134.834 429.931 132.566 429.56 Q130.32 429.19 127.913 428.449 L127.913 423.75 Q129.996 424.884 132.219 425.44 Q134.441 425.995 136.918 425.995 Q140.922 425.995 143.26 423.889 Q145.598 421.782 145.598 418.171 Q145.598 414.56 143.26 412.454 Q140.922 410.347 136.918 410.347 Q135.043 410.347 133.168 410.764 Q131.316 411.181 129.371 412.06 L129.371 394.699 Z\" fill=\"#000000\" fill-rule=\"nonzero\" fill-opacity=\"1\" /><path clip-path=\"url(#clip750)\" d=\"M53.7467 75.7399 L61.3856 75.7399 L61.3856 49.3743 L53.0754 51.0409 L53.0754 46.7817 L61.3393 45.115 L66.0152 45.115 L66.0152 75.7399 L73.654 75.7399 L73.654 79.675 L53.7467 79.675 L53.7467 75.7399 Z\" fill=\"#000000\" fill-rule=\"nonzero\" fill-opacity=\"1\" /><path clip-path=\"url(#clip750)\" d=\"M83.0984 73.7954 L87.9827 73.7954 L87.9827 79.675 L83.0984 79.675 L83.0984 73.7954 Z\" fill=\"#000000\" fill-rule=\"nonzero\" fill-opacity=\"1\" /><path clip-path=\"url(#clip750)\" d=\"M108.168 48.1937 Q104.557 48.1937 102.728 51.7585 Q100.922 55.3002 100.922 62.4298 Q100.922 69.5362 102.728 73.101 Q104.557 76.6426 108.168 76.6426 Q111.802 76.6426 113.608 73.101 Q115.436 69.5362 115.436 62.4298 Q115.436 55.3002 113.608 51.7585 Q111.802 48.1937 108.168 48.1937 M108.168 44.49 Q113.978 44.49 117.033 49.0965 Q120.112 53.6798 120.112 62.4298 Q120.112 71.1566 117.033 75.763 Q113.978 80.3463 108.168 80.3463 Q102.358 80.3463 99.2789 75.763 Q96.2234 71.1566 96.2234 62.4298 Q96.2234 53.6798 99.2789 49.0965 Q102.358 44.49 108.168 44.49 Z\" fill=\"#000000\" fill-rule=\"nonzero\" fill-opacity=\"1\" /><path clip-path=\"url(#clip750)\" d=\"M138.33 48.1937 Q134.719 48.1937 132.89 51.7585 Q131.084 55.3002 131.084 62.4298 Q131.084 69.5362 132.89 73.101 Q134.719 76.6426 138.33 76.6426 Q141.964 76.6426 143.769 73.101 Q145.598 69.5362 145.598 62.4298 Q145.598 55.3002 143.769 51.7585 Q141.964 48.1937 138.33 48.1937 M138.33 44.49 Q144.14 44.49 147.195 49.0965 Q150.274 53.6798 150.274 62.4298 Q150.274 71.1566 147.195 75.763 Q144.14 80.3463 138.33 80.3463 Q132.519 80.3463 129.441 75.763 Q126.385 71.1566 126.385 62.4298 Q126.385 53.6798 129.441 49.0965 Q132.519 44.49 138.33 44.49 Z\" fill=\"#000000\" fill-rule=\"nonzero\" fill-opacity=\"1\" /><path clip-path=\"url(#clip752)\" d=\"M247.59 318.831 L332.75 944.877 L417.91 669.544 L503.071 1394.07 L588.231 1176.36 L673.392 934.291 L758.552 243.32 L843.713 656.718 L928.873 1297.74 L1014.03 1113.75 L1099.19 1445.72 L1184.35 87.9763 L1269.51 449.119 L1354.68 949.228 L1439.84 1125.05 L1525 131.054 L1610.16 562.196 L1695.32 1442.4 L1780.48 1062.12 L1865.64 1144.34 L1950.8 485.206 L2035.96 647.489 L2121.12 765.466 L2206.28 911.354 L2291.44 556.911 L2291.44 556.911 L2206.28 911.354 L2121.12 765.466 L2035.96 647.489 L1950.8 485.206 L1865.64 308.848 L1780.48 1062.12 L1695.32 1442.4 L1610.16 562.196 L1525 131.054 L1439.84 352.784 L1354.68 949.228 L1269.51 449.119 L1184.35 87.9763 L1099.19 1445.72 L1014.03 344.86 L928.873 1297.74 L843.713 656.718 L758.552 243.32 L673.392 934.291 L588.231 409.72 L503.071 1394.07 L417.91 669.544 L332.75 944.877 L247.59 318.831  Z\" fill=\"#009af9\" fill-rule=\"evenodd\" fill-opacity=\"0.5\"/>\n",
       "<polyline clip-path=\"url(#clip752)\" style=\"stroke:#009af9; stroke-linecap:round; stroke-linejoin:round; stroke-width:4; stroke-opacity:1; fill:none\" points=\"247.59,318.831 332.75,944.877 417.91,669.544 503.071,1394.07 588.231,793.042 673.392,934.291 758.552,243.32 843.713,656.718 928.873,1297.74 1014.03,729.303 1099.19,1445.72 1184.35,87.9763 1269.51,449.119 1354.68,949.228 1439.84,738.918 1525,131.054 1610.16,562.196 1695.32,1442.4 1780.48,1062.12 1865.64,726.595 1950.8,485.206 2035.96,647.489 2121.12,765.466 2206.28,911.354 2291.44,556.911 \"/>\n",
       "<path clip-path=\"url(#clip750)\" d=\"M2011.46 198.898 L2280.54 198.898 L2280.54 95.2176 L2011.46 95.2176  Z\" fill=\"#ffffff\" fill-rule=\"evenodd\" fill-opacity=\"1\"/>\n",
       "<polyline clip-path=\"url(#clip750)\" style=\"stroke:#000000; stroke-linecap:round; stroke-linejoin:round; stroke-width:4; stroke-opacity:1; fill:none\" points=\"2011.46,198.898 2280.54,198.898 2280.54,95.2176 2011.46,95.2176 2011.46,198.898 \"/>\n",
       "<polyline clip-path=\"url(#clip750)\" style=\"stroke:#009af9; stroke-linecap:round; stroke-linejoin:round; stroke-width:4; stroke-opacity:1; fill:none\" points=\"2035.53,147.058 2179.97,147.058 \"/>\n",
       "<path clip-path=\"url(#clip750)\" d=\"M2217.88 166.745 Q2216.07 171.375 2214.36 172.787 Q2212.65 174.199 2209.78 174.199 L2206.38 174.199 L2206.38 170.634 L2208.88 170.634 Q2210.63 170.634 2211.61 169.8 Q2212.58 168.967 2213.76 165.865 L2214.52 163.921 L2204.04 138.412 L2208.55 138.412 L2216.65 158.689 L2224.76 138.412 L2229.27 138.412 L2217.88 166.745 Z\" fill=\"#000000\" fill-rule=\"nonzero\" fill-opacity=\"1\" /><path clip-path=\"url(#clip750)\" d=\"M2236.56 160.402 L2244.2 160.402 L2244.2 134.037 L2235.89 135.703 L2235.89 131.444 L2244.15 129.778 L2248.83 129.778 L2248.83 160.402 L2256.47 160.402 L2256.47 164.338 L2236.56 164.338 L2236.56 160.402 Z\" fill=\"#000000\" fill-rule=\"nonzero\" fill-opacity=\"1\" /></svg>\n"
      ],
      "text/html": [
       "<?xml version=\"1.0\" encoding=\"utf-8\"?>\n",
       "<svg xmlns=\"http://www.w3.org/2000/svg\" xmlns:xlink=\"http://www.w3.org/1999/xlink\" width=\"600\" height=\"400\" viewBox=\"0 0 2400 1600\">\n",
       "<defs>\n",
       "  <clipPath id=\"clip800\">\n",
       "    <rect x=\"0\" y=\"0\" width=\"2400\" height=\"1600\"/>\n",
       "  </clipPath>\n",
       "</defs>\n",
       "<path clip-path=\"url(#clip800)\" d=\"M0 1600 L2400 1600 L2400 8.88178e-14 L0 8.88178e-14  Z\" fill=\"#ffffff\" fill-rule=\"evenodd\" fill-opacity=\"1\"/>\n",
       "<defs>\n",
       "  <clipPath id=\"clip801\">\n",
       "    <rect x=\"480\" y=\"0\" width=\"1681\" height=\"1600\"/>\n",
       "  </clipPath>\n",
       "</defs>\n",
       "<path clip-path=\"url(#clip800)\" d=\"M186.274 1486.45 L2352.76 1486.45 L2352.76 47.2441 L186.274 47.2441  Z\" fill=\"#ffffff\" fill-rule=\"evenodd\" fill-opacity=\"1\"/>\n",
       "<defs>\n",
       "  <clipPath id=\"clip802\">\n",
       "    <rect x=\"186\" y=\"47\" width=\"2167\" height=\"1440\"/>\n",
       "  </clipPath>\n",
       "</defs>\n",
       "<polyline clip-path=\"url(#clip802)\" style=\"stroke:#000000; stroke-linecap:round; stroke-linejoin:round; stroke-width:2; stroke-opacity:0.1; fill:none\" points=\"588.231,1486.45 588.231,47.2441 \"/>\n",
       "<polyline clip-path=\"url(#clip802)\" style=\"stroke:#000000; stroke-linecap:round; stroke-linejoin:round; stroke-width:2; stroke-opacity:0.1; fill:none\" points=\"1014.03,1486.45 1014.03,47.2441 \"/>\n",
       "<polyline clip-path=\"url(#clip802)\" style=\"stroke:#000000; stroke-linecap:round; stroke-linejoin:round; stroke-width:2; stroke-opacity:0.1; fill:none\" points=\"1439.84,1486.45 1439.84,47.2441 \"/>\n",
       "<polyline clip-path=\"url(#clip802)\" style=\"stroke:#000000; stroke-linecap:round; stroke-linejoin:round; stroke-width:2; stroke-opacity:0.1; fill:none\" points=\"1865.64,1486.45 1865.64,47.2441 \"/>\n",
       "<polyline clip-path=\"url(#clip802)\" style=\"stroke:#000000; stroke-linecap:round; stroke-linejoin:round; stroke-width:2; stroke-opacity:0.1; fill:none\" points=\"2291.44,1486.45 2291.44,47.2441 \"/>\n",
       "<polyline clip-path=\"url(#clip800)\" style=\"stroke:#000000; stroke-linecap:round; stroke-linejoin:round; stroke-width:4; stroke-opacity:1; fill:none\" points=\"186.274,1486.45 2352.76,1486.45 \"/>\n",
       "<polyline clip-path=\"url(#clip800)\" style=\"stroke:#000000; stroke-linecap:round; stroke-linejoin:round; stroke-width:4; stroke-opacity:1; fill:none\" points=\"588.231,1486.45 588.231,1467.55 \"/>\n",
       "<polyline clip-path=\"url(#clip800)\" style=\"stroke:#000000; stroke-linecap:round; stroke-linejoin:round; stroke-width:4; stroke-opacity:1; fill:none\" points=\"1014.03,1486.45 1014.03,1467.55 \"/>\n",
       "<polyline clip-path=\"url(#clip800)\" style=\"stroke:#000000; stroke-linecap:round; stroke-linejoin:round; stroke-width:4; stroke-opacity:1; fill:none\" points=\"1439.84,1486.45 1439.84,1467.55 \"/>\n",
       "<polyline clip-path=\"url(#clip800)\" style=\"stroke:#000000; stroke-linecap:round; stroke-linejoin:round; stroke-width:4; stroke-opacity:1; fill:none\" points=\"1865.64,1486.45 1865.64,1467.55 \"/>\n",
       "<polyline clip-path=\"url(#clip800)\" style=\"stroke:#000000; stroke-linecap:round; stroke-linejoin:round; stroke-width:4; stroke-opacity:1; fill:none\" points=\"2291.44,1486.45 2291.44,1467.55 \"/>\n",
       "<path clip-path=\"url(#clip800)\" d=\"M578.509 1514.29 L596.866 1514.29 L596.866 1518.22 L582.792 1518.22 L582.792 1526.7 Q583.81 1526.35 584.829 1526.19 Q585.847 1526 586.866 1526 Q592.653 1526 596.032 1529.17 Q599.412 1532.34 599.412 1537.76 Q599.412 1543.34 595.94 1546.44 Q592.467 1549.52 586.148 1549.52 Q583.972 1549.52 581.704 1549.15 Q579.458 1548.78 577.051 1548.04 L577.051 1543.34 Q579.134 1544.47 581.356 1545.03 Q583.579 1545.58 586.055 1545.58 Q590.06 1545.58 592.398 1543.48 Q594.736 1541.37 594.736 1537.76 Q594.736 1534.15 592.398 1532.04 Q590.06 1529.94 586.055 1529.94 Q584.18 1529.94 582.305 1530.35 Q580.454 1530.77 578.509 1531.65 L578.509 1514.29 Z\" fill=\"#000000\" fill-rule=\"nonzero\" fill-opacity=\"1\" /><path clip-path=\"url(#clip800)\" d=\"M988.721 1544.91 L996.36 1544.91 L996.36 1518.55 L988.05 1520.21 L988.05 1515.95 L996.314 1514.29 L1000.99 1514.29 L1000.99 1544.91 L1008.63 1544.91 L1008.63 1548.85 L988.721 1548.85 L988.721 1544.91 Z\" fill=\"#000000\" fill-rule=\"nonzero\" fill-opacity=\"1\" /><path clip-path=\"url(#clip800)\" d=\"M1028.07 1517.37 Q1024.46 1517.37 1022.63 1520.93 Q1020.83 1524.47 1020.83 1531.6 Q1020.83 1538.71 1022.63 1542.27 Q1024.46 1545.82 1028.07 1545.82 Q1031.71 1545.82 1033.51 1542.27 Q1035.34 1538.71 1035.34 1531.6 Q1035.34 1524.47 1033.51 1520.93 Q1031.71 1517.37 1028.07 1517.37 M1028.07 1513.66 Q1033.88 1513.66 1036.94 1518.27 Q1040.02 1522.85 1040.02 1531.6 Q1040.02 1540.33 1036.94 1544.94 Q1033.88 1549.52 1028.07 1549.52 Q1022.26 1549.52 1019.18 1544.94 Q1016.13 1540.33 1016.13 1531.6 Q1016.13 1522.85 1019.18 1518.27 Q1022.26 1513.66 1028.07 1513.66 Z\" fill=\"#000000\" fill-rule=\"nonzero\" fill-opacity=\"1\" /><path clip-path=\"url(#clip800)\" d=\"M1415.02 1544.91 L1422.66 1544.91 L1422.66 1518.55 L1414.35 1520.21 L1414.35 1515.95 L1422.61 1514.29 L1427.29 1514.29 L1427.29 1544.91 L1434.93 1544.91 L1434.93 1548.85 L1415.02 1548.85 L1415.02 1544.91 Z\" fill=\"#000000\" fill-rule=\"nonzero\" fill-opacity=\"1\" /><path clip-path=\"url(#clip800)\" d=\"M1444.42 1514.29 L1462.78 1514.29 L1462.78 1518.22 L1448.7 1518.22 L1448.7 1526.7 Q1449.72 1526.35 1450.74 1526.19 Q1451.76 1526 1452.78 1526 Q1458.56 1526 1461.94 1529.17 Q1465.32 1532.34 1465.32 1537.76 Q1465.32 1543.34 1461.85 1546.44 Q1458.38 1549.52 1452.06 1549.52 Q1449.88 1549.52 1447.61 1549.15 Q1445.37 1548.78 1442.96 1548.04 L1442.96 1543.34 Q1445.04 1544.47 1447.27 1545.03 Q1449.49 1545.58 1451.97 1545.58 Q1455.97 1545.58 1458.31 1543.48 Q1460.65 1541.37 1460.65 1537.76 Q1460.65 1534.15 1458.31 1532.04 Q1455.97 1529.94 1451.97 1529.94 Q1450.09 1529.94 1448.22 1530.35 Q1446.36 1530.77 1444.42 1531.65 L1444.42 1514.29 Z\" fill=\"#000000\" fill-rule=\"nonzero\" fill-opacity=\"1\" /><path clip-path=\"url(#clip800)\" d=\"M1844.41 1544.91 L1860.73 1544.91 L1860.73 1548.85 L1838.79 1548.85 L1838.79 1544.91 Q1841.45 1542.16 1846.03 1537.53 Q1850.64 1532.88 1851.82 1531.53 Q1854.06 1529.01 1854.94 1527.27 Q1855.85 1525.51 1855.85 1523.82 Q1855.85 1521.07 1853.9 1519.33 Q1851.98 1517.6 1848.88 1517.6 Q1846.68 1517.6 1844.23 1518.36 Q1841.8 1519.13 1839.02 1520.68 L1839.02 1515.95 Q1841.84 1514.82 1844.3 1514.24 Q1846.75 1513.66 1848.79 1513.66 Q1854.16 1513.66 1857.35 1516.35 Q1860.55 1519.03 1860.55 1523.52 Q1860.55 1525.65 1859.74 1527.57 Q1858.95 1529.47 1856.84 1532.07 Q1856.26 1532.74 1853.16 1535.95 Q1850.06 1539.15 1844.41 1544.91 Z\" fill=\"#000000\" fill-rule=\"nonzero\" fill-opacity=\"1\" /><path clip-path=\"url(#clip800)\" d=\"M1880.55 1517.37 Q1876.93 1517.37 1875.11 1520.93 Q1873.3 1524.47 1873.3 1531.6 Q1873.3 1538.71 1875.11 1542.27 Q1876.93 1545.82 1880.55 1545.82 Q1884.18 1545.82 1885.99 1542.27 Q1887.81 1538.71 1887.81 1531.6 Q1887.81 1524.47 1885.99 1520.93 Q1884.18 1517.37 1880.55 1517.37 M1880.55 1513.66 Q1886.36 1513.66 1889.41 1518.27 Q1892.49 1522.85 1892.49 1531.6 Q1892.49 1540.33 1889.41 1544.94 Q1886.36 1549.52 1880.55 1549.52 Q1874.74 1549.52 1871.66 1544.94 Q1868.6 1540.33 1868.6 1531.6 Q1868.6 1522.85 1871.66 1518.27 Q1874.74 1513.66 1880.55 1513.66 Z\" fill=\"#000000\" fill-rule=\"nonzero\" fill-opacity=\"1\" /><path clip-path=\"url(#clip800)\" d=\"M2270.71 1544.91 L2287.03 1544.91 L2287.03 1548.85 L2265.09 1548.85 L2265.09 1544.91 Q2267.75 1542.16 2272.33 1537.53 Q2276.94 1532.88 2278.12 1531.53 Q2280.36 1529.01 2281.24 1527.27 Q2282.15 1525.51 2282.15 1523.82 Q2282.15 1521.07 2280.2 1519.33 Q2278.28 1517.6 2275.18 1517.6 Q2272.98 1517.6 2270.53 1518.36 Q2268.1 1519.13 2265.32 1520.68 L2265.32 1515.95 Q2268.14 1514.82 2270.6 1514.24 Q2273.05 1513.66 2275.09 1513.66 Q2280.46 1513.66 2283.65 1516.35 Q2286.85 1519.03 2286.85 1523.52 Q2286.85 1525.65 2286.04 1527.57 Q2285.25 1529.47 2283.14 1532.07 Q2282.56 1532.74 2279.46 1535.95 Q2276.36 1539.15 2270.71 1544.91 Z\" fill=\"#000000\" fill-rule=\"nonzero\" fill-opacity=\"1\" /><path clip-path=\"url(#clip800)\" d=\"M2296.89 1514.29 L2315.25 1514.29 L2315.25 1518.22 L2301.17 1518.22 L2301.17 1526.7 Q2302.19 1526.35 2303.21 1526.19 Q2304.23 1526 2305.25 1526 Q2311.04 1526 2314.41 1529.17 Q2317.79 1532.34 2317.79 1537.76 Q2317.79 1543.34 2314.32 1546.44 Q2310.85 1549.52 2304.53 1549.52 Q2302.35 1549.52 2300.09 1549.15 Q2297.84 1548.78 2295.43 1548.04 L2295.43 1543.34 Q2297.52 1544.47 2299.74 1545.03 Q2301.96 1545.58 2304.44 1545.58 Q2308.44 1545.58 2310.78 1543.48 Q2313.12 1541.37 2313.12 1537.76 Q2313.12 1534.15 2310.78 1532.04 Q2308.44 1529.94 2304.44 1529.94 Q2302.56 1529.94 2300.69 1530.35 Q2298.84 1530.77 2296.89 1531.65 L2296.89 1514.29 Z\" fill=\"#000000\" fill-rule=\"nonzero\" fill-opacity=\"1\" /><polyline clip-path=\"url(#clip802)\" style=\"stroke:#000000; stroke-linecap:round; stroke-linejoin:round; stroke-width:2; stroke-opacity:0.1; fill:none\" points=\"186.274,1460.73 2352.76,1460.73 \"/>\n",
       "<polyline clip-path=\"url(#clip802)\" style=\"stroke:#000000; stroke-linecap:round; stroke-linejoin:round; stroke-width:2; stroke-opacity:0.1; fill:none\" points=\"186.274,1111.15 2352.76,1111.15 \"/>\n",
       "<polyline clip-path=\"url(#clip802)\" style=\"stroke:#000000; stroke-linecap:round; stroke-linejoin:round; stroke-width:2; stroke-opacity:0.1; fill:none\" points=\"186.274,761.563 2352.76,761.563 \"/>\n",
       "<polyline clip-path=\"url(#clip802)\" style=\"stroke:#000000; stroke-linecap:round; stroke-linejoin:round; stroke-width:2; stroke-opacity:0.1; fill:none\" points=\"186.274,411.979 2352.76,411.979 \"/>\n",
       "<polyline clip-path=\"url(#clip802)\" style=\"stroke:#000000; stroke-linecap:round; stroke-linejoin:round; stroke-width:2; stroke-opacity:0.1; fill:none\" points=\"186.274,62.395 2352.76,62.395 \"/>\n",
       "<polyline clip-path=\"url(#clip800)\" style=\"stroke:#000000; stroke-linecap:round; stroke-linejoin:round; stroke-width:4; stroke-opacity:1; fill:none\" points=\"186.274,1486.45 186.274,47.2441 \"/>\n",
       "<polyline clip-path=\"url(#clip800)\" style=\"stroke:#000000; stroke-linecap:round; stroke-linejoin:round; stroke-width:4; stroke-opacity:1; fill:none\" points=\"186.274,1460.73 205.172,1460.73 \"/>\n",
       "<polyline clip-path=\"url(#clip800)\" style=\"stroke:#000000; stroke-linecap:round; stroke-linejoin:round; stroke-width:4; stroke-opacity:1; fill:none\" points=\"186.274,1111.15 205.172,1111.15 \"/>\n",
       "<polyline clip-path=\"url(#clip800)\" style=\"stroke:#000000; stroke-linecap:round; stroke-linejoin:round; stroke-width:4; stroke-opacity:1; fill:none\" points=\"186.274,761.563 205.172,761.563 \"/>\n",
       "<polyline clip-path=\"url(#clip800)\" style=\"stroke:#000000; stroke-linecap:round; stroke-linejoin:round; stroke-width:4; stroke-opacity:1; fill:none\" points=\"186.274,411.979 205.172,411.979 \"/>\n",
       "<polyline clip-path=\"url(#clip800)\" style=\"stroke:#000000; stroke-linecap:round; stroke-linejoin:round; stroke-width:4; stroke-opacity:1; fill:none\" points=\"186.274,62.395 205.172,62.395 \"/>\n",
       "<path clip-path=\"url(#clip800)\" d=\"M62.9365 1446.53 Q59.3254 1446.53 57.4967 1450.1 Q55.6912 1453.64 55.6912 1460.77 Q55.6912 1467.87 57.4967 1471.44 Q59.3254 1474.98 62.9365 1474.98 Q66.5707 1474.98 68.3763 1471.44 Q70.205 1467.87 70.205 1460.77 Q70.205 1453.64 68.3763 1450.1 Q66.5707 1446.53 62.9365 1446.53 M62.9365 1442.83 Q68.7467 1442.83 71.8022 1447.43 Q74.8809 1452.02 74.8809 1460.77 Q74.8809 1469.49 71.8022 1474.1 Q68.7467 1478.68 62.9365 1478.68 Q57.1264 1478.68 54.0477 1474.1 Q50.9921 1469.49 50.9921 1460.77 Q50.9921 1452.02 54.0477 1447.43 Q57.1264 1442.83 62.9365 1442.83 Z\" fill=\"#000000\" fill-rule=\"nonzero\" fill-opacity=\"1\" /><path clip-path=\"url(#clip800)\" d=\"M83.0984 1472.13 L87.9827 1472.13 L87.9827 1478.01 L83.0984 1478.01 L83.0984 1472.13 Z\" fill=\"#000000\" fill-rule=\"nonzero\" fill-opacity=\"1\" /><path clip-path=\"url(#clip800)\" d=\"M108.168 1446.53 Q104.557 1446.53 102.728 1450.1 Q100.922 1453.64 100.922 1460.77 Q100.922 1467.87 102.728 1471.44 Q104.557 1474.98 108.168 1474.98 Q111.802 1474.98 113.608 1471.44 Q115.436 1467.87 115.436 1460.77 Q115.436 1453.64 113.608 1450.1 Q111.802 1446.53 108.168 1446.53 M108.168 1442.83 Q113.978 1442.83 117.033 1447.43 Q120.112 1452.02 120.112 1460.77 Q120.112 1469.49 117.033 1474.1 Q113.978 1478.68 108.168 1478.68 Q102.358 1478.68 99.2789 1474.1 Q96.2234 1469.49 96.2234 1460.77 Q96.2234 1452.02 99.2789 1447.43 Q102.358 1442.83 108.168 1442.83 Z\" fill=\"#000000\" fill-rule=\"nonzero\" fill-opacity=\"1\" /><path clip-path=\"url(#clip800)\" d=\"M138.33 1446.53 Q134.719 1446.53 132.89 1450.1 Q131.084 1453.64 131.084 1460.77 Q131.084 1467.87 132.89 1471.44 Q134.719 1474.98 138.33 1474.98 Q141.964 1474.98 143.769 1471.44 Q145.598 1467.87 145.598 1460.77 Q145.598 1453.64 143.769 1450.1 Q141.964 1446.53 138.33 1446.53 M138.33 1442.83 Q144.14 1442.83 147.195 1447.43 Q150.274 1452.02 150.274 1460.77 Q150.274 1469.49 147.195 1474.1 Q144.14 1478.68 138.33 1478.68 Q132.519 1478.68 129.441 1474.1 Q126.385 1469.49 126.385 1460.77 Q126.385 1452.02 129.441 1447.43 Q132.519 1442.83 138.33 1442.83 Z\" fill=\"#000000\" fill-rule=\"nonzero\" fill-opacity=\"1\" /><path clip-path=\"url(#clip800)\" d=\"M63.9319 1096.95 Q60.3208 1096.95 58.4921 1100.51 Q56.6865 1104.05 56.6865 1111.18 Q56.6865 1118.29 58.4921 1121.85 Q60.3208 1125.4 63.9319 1125.4 Q67.5661 1125.4 69.3717 1121.85 Q71.2004 1118.29 71.2004 1111.18 Q71.2004 1104.05 69.3717 1100.51 Q67.5661 1096.95 63.9319 1096.95 M63.9319 1093.24 Q69.742 1093.24 72.7976 1097.85 Q75.8763 1102.43 75.8763 1111.18 Q75.8763 1119.91 72.7976 1124.52 Q69.742 1129.1 63.9319 1129.1 Q58.1217 1129.1 55.043 1124.52 Q51.9875 1119.91 51.9875 1111.18 Q51.9875 1102.43 55.043 1097.85 Q58.1217 1093.24 63.9319 1093.24 Z\" fill=\"#000000\" fill-rule=\"nonzero\" fill-opacity=\"1\" /><path clip-path=\"url(#clip800)\" d=\"M84.0938 1122.55 L88.978 1122.55 L88.978 1128.43 L84.0938 1128.43 L84.0938 1122.55 Z\" fill=\"#000000\" fill-rule=\"nonzero\" fill-opacity=\"1\" /><path clip-path=\"url(#clip800)\" d=\"M103.191 1124.49 L119.51 1124.49 L119.51 1128.43 L97.566 1128.43 L97.566 1124.49 Q100.228 1121.74 104.811 1117.11 Q109.418 1112.46 110.598 1111.11 Q112.844 1108.59 113.723 1106.85 Q114.626 1105.09 114.626 1103.4 Q114.626 1100.65 112.682 1098.91 Q110.76 1097.18 107.658 1097.18 Q105.459 1097.18 103.006 1097.94 Q100.575 1098.71 97.7974 1100.26 L97.7974 1095.53 Q100.621 1094.4 103.075 1093.82 Q105.529 1093.24 107.566 1093.24 Q112.936 1093.24 116.131 1095.93 Q119.325 1098.61 119.325 1103.1 Q119.325 1105.23 118.515 1107.15 Q117.728 1109.05 115.621 1111.65 Q115.043 1112.32 111.941 1115.53 Q108.839 1118.73 103.191 1124.49 Z\" fill=\"#000000\" fill-rule=\"nonzero\" fill-opacity=\"1\" /><path clip-path=\"url(#clip800)\" d=\"M129.371 1093.87 L147.728 1093.87 L147.728 1097.8 L133.654 1097.8 L133.654 1106.27 Q134.672 1105.93 135.691 1105.77 Q136.709 1105.58 137.728 1105.58 Q143.515 1105.58 146.894 1108.75 Q150.274 1111.92 150.274 1117.34 Q150.274 1122.92 146.802 1126.02 Q143.33 1129.1 137.01 1129.1 Q134.834 1129.1 132.566 1128.73 Q130.32 1128.36 127.913 1127.62 L127.913 1122.92 Q129.996 1124.05 132.219 1124.61 Q134.441 1125.16 136.918 1125.16 Q140.922 1125.16 143.26 1123.06 Q145.598 1120.95 145.598 1117.34 Q145.598 1113.73 143.26 1111.62 Q140.922 1109.52 136.918 1109.52 Q135.043 1109.52 133.168 1109.93 Q131.316 1110.35 129.371 1111.23 L129.371 1093.87 Z\" fill=\"#000000\" fill-rule=\"nonzero\" fill-opacity=\"1\" /><path clip-path=\"url(#clip800)\" d=\"M62.9365 747.362 Q59.3254 747.362 57.4967 750.927 Q55.6912 754.469 55.6912 761.598 Q55.6912 768.705 57.4967 772.269 Q59.3254 775.811 62.9365 775.811 Q66.5707 775.811 68.3763 772.269 Q70.205 768.705 70.205 761.598 Q70.205 754.469 68.3763 750.927 Q66.5707 747.362 62.9365 747.362 M62.9365 743.658 Q68.7467 743.658 71.8022 748.265 Q74.8809 752.848 74.8809 761.598 Q74.8809 770.325 71.8022 774.931 Q68.7467 779.515 62.9365 779.515 Q57.1264 779.515 54.0477 774.931 Q50.9921 770.325 50.9921 761.598 Q50.9921 752.848 54.0477 748.265 Q57.1264 743.658 62.9365 743.658 Z\" fill=\"#000000\" fill-rule=\"nonzero\" fill-opacity=\"1\" /><path clip-path=\"url(#clip800)\" d=\"M83.0984 772.964 L87.9827 772.964 L87.9827 778.843 L83.0984 778.843 L83.0984 772.964 Z\" fill=\"#000000\" fill-rule=\"nonzero\" fill-opacity=\"1\" /><path clip-path=\"url(#clip800)\" d=\"M98.2141 744.283 L116.57 744.283 L116.57 748.219 L102.496 748.219 L102.496 756.691 Q103.515 756.344 104.534 756.181 Q105.552 755.996 106.571 755.996 Q112.358 755.996 115.737 759.168 Q119.117 762.339 119.117 767.755 Q119.117 773.334 115.645 776.436 Q112.172 779.515 105.853 779.515 Q103.677 779.515 101.409 779.144 Q99.1632 778.774 96.7558 778.033 L96.7558 773.334 Q98.8391 774.468 101.061 775.024 Q103.284 775.58 105.76 775.58 Q109.765 775.58 112.103 773.473 Q114.441 771.367 114.441 767.755 Q114.441 764.144 112.103 762.038 Q109.765 759.931 105.76 759.931 Q103.885 759.931 102.01 760.348 Q100.159 760.765 98.2141 761.644 L98.2141 744.283 Z\" fill=\"#000000\" fill-rule=\"nonzero\" fill-opacity=\"1\" /><path clip-path=\"url(#clip800)\" d=\"M138.33 747.362 Q134.719 747.362 132.89 750.927 Q131.084 754.469 131.084 761.598 Q131.084 768.705 132.89 772.269 Q134.719 775.811 138.33 775.811 Q141.964 775.811 143.769 772.269 Q145.598 768.705 145.598 761.598 Q145.598 754.469 143.769 750.927 Q141.964 747.362 138.33 747.362 M138.33 743.658 Q144.14 743.658 147.195 748.265 Q150.274 752.848 150.274 761.598 Q150.274 770.325 147.195 774.931 Q144.14 779.515 138.33 779.515 Q132.519 779.515 129.441 774.931 Q126.385 770.325 126.385 761.598 Q126.385 752.848 129.441 748.265 Q132.519 743.658 138.33 743.658 Z\" fill=\"#000000\" fill-rule=\"nonzero\" fill-opacity=\"1\" /><path clip-path=\"url(#clip800)\" d=\"M63.9319 397.778 Q60.3208 397.778 58.4921 401.343 Q56.6865 404.884 56.6865 412.014 Q56.6865 419.12 58.4921 422.685 Q60.3208 426.227 63.9319 426.227 Q67.5661 426.227 69.3717 422.685 Q71.2004 419.12 71.2004 412.014 Q71.2004 404.884 69.3717 401.343 Q67.5661 397.778 63.9319 397.778 M63.9319 394.074 Q69.742 394.074 72.7976 398.681 Q75.8763 403.264 75.8763 412.014 Q75.8763 420.741 72.7976 425.347 Q69.742 429.931 63.9319 429.931 Q58.1217 429.931 55.043 425.347 Q51.9875 420.741 51.9875 412.014 Q51.9875 403.264 55.043 398.681 Q58.1217 394.074 63.9319 394.074 Z\" fill=\"#000000\" fill-rule=\"nonzero\" fill-opacity=\"1\" /><path clip-path=\"url(#clip800)\" d=\"M84.0938 423.38 L88.978 423.38 L88.978 429.259 L84.0938 429.259 L84.0938 423.38 Z\" fill=\"#000000\" fill-rule=\"nonzero\" fill-opacity=\"1\" /><path clip-path=\"url(#clip800)\" d=\"M97.9826 394.699 L120.205 394.699 L120.205 396.69 L107.658 429.259 L102.774 429.259 L114.58 398.634 L97.9826 398.634 L97.9826 394.699 Z\" fill=\"#000000\" fill-rule=\"nonzero\" fill-opacity=\"1\" /><path clip-path=\"url(#clip800)\" d=\"M129.371 394.699 L147.728 394.699 L147.728 398.634 L133.654 398.634 L133.654 407.107 Q134.672 406.759 135.691 406.597 Q136.709 406.412 137.728 406.412 Q143.515 406.412 146.894 409.583 Q150.274 412.755 150.274 418.171 Q150.274 423.75 146.802 426.852 Q143.33 429.931 137.01 429.931 Q134.834 429.931 132.566 429.56 Q130.32 429.19 127.913 428.449 L127.913 423.75 Q129.996 424.884 132.219 425.44 Q134.441 425.995 136.918 425.995 Q140.922 425.995 143.26 423.889 Q145.598 421.782 145.598 418.171 Q145.598 414.56 143.26 412.454 Q140.922 410.347 136.918 410.347 Q135.043 410.347 133.168 410.764 Q131.316 411.181 129.371 412.06 L129.371 394.699 Z\" fill=\"#000000\" fill-rule=\"nonzero\" fill-opacity=\"1\" /><path clip-path=\"url(#clip800)\" d=\"M53.7467 75.7399 L61.3856 75.7399 L61.3856 49.3743 L53.0754 51.0409 L53.0754 46.7817 L61.3393 45.115 L66.0152 45.115 L66.0152 75.7399 L73.654 75.7399 L73.654 79.675 L53.7467 79.675 L53.7467 75.7399 Z\" fill=\"#000000\" fill-rule=\"nonzero\" fill-opacity=\"1\" /><path clip-path=\"url(#clip800)\" d=\"M83.0984 73.7954 L87.9827 73.7954 L87.9827 79.675 L83.0984 79.675 L83.0984 73.7954 Z\" fill=\"#000000\" fill-rule=\"nonzero\" fill-opacity=\"1\" /><path clip-path=\"url(#clip800)\" d=\"M108.168 48.1937 Q104.557 48.1937 102.728 51.7585 Q100.922 55.3002 100.922 62.4298 Q100.922 69.5362 102.728 73.101 Q104.557 76.6426 108.168 76.6426 Q111.802 76.6426 113.608 73.101 Q115.436 69.5362 115.436 62.4298 Q115.436 55.3002 113.608 51.7585 Q111.802 48.1937 108.168 48.1937 M108.168 44.49 Q113.978 44.49 117.033 49.0965 Q120.112 53.6798 120.112 62.4298 Q120.112 71.1566 117.033 75.763 Q113.978 80.3463 108.168 80.3463 Q102.358 80.3463 99.2789 75.763 Q96.2234 71.1566 96.2234 62.4298 Q96.2234 53.6798 99.2789 49.0965 Q102.358 44.49 108.168 44.49 Z\" fill=\"#000000\" fill-rule=\"nonzero\" fill-opacity=\"1\" /><path clip-path=\"url(#clip800)\" d=\"M138.33 48.1937 Q134.719 48.1937 132.89 51.7585 Q131.084 55.3002 131.084 62.4298 Q131.084 69.5362 132.89 73.101 Q134.719 76.6426 138.33 76.6426 Q141.964 76.6426 143.769 73.101 Q145.598 69.5362 145.598 62.4298 Q145.598 55.3002 143.769 51.7585 Q141.964 48.1937 138.33 48.1937 M138.33 44.49 Q144.14 44.49 147.195 49.0965 Q150.274 53.6798 150.274 62.4298 Q150.274 71.1566 147.195 75.763 Q144.14 80.3463 138.33 80.3463 Q132.519 80.3463 129.441 75.763 Q126.385 71.1566 126.385 62.4298 Q126.385 53.6798 129.441 49.0965 Q132.519 44.49 138.33 44.49 Z\" fill=\"#000000\" fill-rule=\"nonzero\" fill-opacity=\"1\" /><path clip-path=\"url(#clip802)\" d=\"M247.59 318.831 L332.75 944.877 L417.91 669.544 L503.071 1394.07 L588.231 1176.36 L673.392 934.291 L758.552 243.32 L843.713 656.718 L928.873 1297.74 L1014.03 1113.75 L1099.19 1445.72 L1184.35 87.9763 L1269.51 449.119 L1354.68 949.228 L1439.84 1125.05 L1525 131.054 L1610.16 562.196 L1695.32 1442.4 L1780.48 1062.12 L1865.64 1144.34 L1950.8 485.206 L2035.96 647.489 L2121.12 765.466 L2206.28 911.354 L2291.44 556.911 L2291.44 556.911 L2206.28 911.354 L2121.12 765.466 L2035.96 647.489 L1950.8 485.206 L1865.64 308.848 L1780.48 1062.12 L1695.32 1442.4 L1610.16 562.196 L1525 131.054 L1439.84 352.784 L1354.68 949.228 L1269.51 449.119 L1184.35 87.9763 L1099.19 1445.72 L1014.03 344.86 L928.873 1297.74 L843.713 656.718 L758.552 243.32 L673.392 934.291 L588.231 409.72 L503.071 1394.07 L417.91 669.544 L332.75 944.877 L247.59 318.831  Z\" fill=\"#009af9\" fill-rule=\"evenodd\" fill-opacity=\"0.5\"/>\n",
       "<polyline clip-path=\"url(#clip802)\" style=\"stroke:#009af9; stroke-linecap:round; stroke-linejoin:round; stroke-width:4; stroke-opacity:1; fill:none\" points=\"247.59,318.831 332.75,944.877 417.91,669.544 503.071,1394.07 588.231,793.042 673.392,934.291 758.552,243.32 843.713,656.718 928.873,1297.74 1014.03,729.303 1099.19,1445.72 1184.35,87.9763 1269.51,449.119 1354.68,949.228 1439.84,738.918 1525,131.054 1610.16,562.196 1695.32,1442.4 1780.48,1062.12 1865.64,726.595 1950.8,485.206 2035.96,647.489 2121.12,765.466 2206.28,911.354 2291.44,556.911 \"/>\n",
       "<path clip-path=\"url(#clip800)\" d=\"M2011.46 198.898 L2280.54 198.898 L2280.54 95.2176 L2011.46 95.2176  Z\" fill=\"#ffffff\" fill-rule=\"evenodd\" fill-opacity=\"1\"/>\n",
       "<polyline clip-path=\"url(#clip800)\" style=\"stroke:#000000; stroke-linecap:round; stroke-linejoin:round; stroke-width:4; stroke-opacity:1; fill:none\" points=\"2011.46,198.898 2280.54,198.898 2280.54,95.2176 2011.46,95.2176 2011.46,198.898 \"/>\n",
       "<polyline clip-path=\"url(#clip800)\" style=\"stroke:#009af9; stroke-linecap:round; stroke-linejoin:round; stroke-width:4; stroke-opacity:1; fill:none\" points=\"2035.53,147.058 2179.97,147.058 \"/>\n",
       "<path clip-path=\"url(#clip800)\" d=\"M2217.88 166.745 Q2216.07 171.375 2214.36 172.787 Q2212.65 174.199 2209.78 174.199 L2206.38 174.199 L2206.38 170.634 L2208.88 170.634 Q2210.63 170.634 2211.61 169.8 Q2212.58 168.967 2213.76 165.865 L2214.52 163.921 L2204.04 138.412 L2208.55 138.412 L2216.65 158.689 L2224.76 138.412 L2229.27 138.412 L2217.88 166.745 Z\" fill=\"#000000\" fill-rule=\"nonzero\" fill-opacity=\"1\" /><path clip-path=\"url(#clip800)\" d=\"M2236.56 160.402 L2244.2 160.402 L2244.2 134.037 L2235.89 135.703 L2235.89 131.444 L2244.15 129.778 L2248.83 129.778 L2248.83 160.402 L2256.47 160.402 L2256.47 164.338 L2236.56 164.338 L2236.56 160.402 Z\" fill=\"#000000\" fill-rule=\"nonzero\" fill-opacity=\"1\" /></svg>\n"
      ]
     },
     "metadata": {},
     "output_type": "display_data"
    }
   ],
   "source": [
    "plot(mean_ts[1,:], ribbon=std_ts[1,:])"
   ]
  },
  {
   "cell_type": "markdown",
   "metadata": {},
   "source": [
    "# Approach 2"
   ]
  },
  {
   "cell_type": "code",
   "execution_count": 233,
   "metadata": {},
   "outputs": [],
   "source": [
    "s = siteinds(\"S=1/2\", 6);\n",
    "mps = randomMPS(ComplexF64, s; linkdims=4);"
   ]
  },
  {
   "cell_type": "code",
   "execution_count": 234,
   "metadata": {},
   "outputs": [
    {
     "data": {
      "text/plain": [
       "MPS\n",
       "[1] ((dim=2|id=268|\"S=1/2,Site,n=1\"), (dim=2|id=530|\"Link,l=1\"))\n",
       "[2] ((dim=2|id=605|\"S=1/2,Site,n=2\"), (dim=4|id=744|\"Link,l=2\"), (dim=2|id=530|\"Link,l=1\"))\n",
       "[3] ((dim=4|id=744|\"Link,l=2\"), (dim=2|id=374|\"S=1/2,Site,n=3\"), (dim=4|id=612|\"Link,l=3\"))\n",
       "[4] ((dim=4|id=612|\"Link,l=3\"), (dim=2|id=878|\"S=1/2,Site,n=4\"), (dim=4|id=42|\"Link,l=4\"))\n",
       "[5] ((dim=4|id=42|\"Link,l=4\"), (dim=2|id=792|\"S=1/2,Site,n=5\"), (dim=2|id=990|\"Link,l=5\"))\n",
       "[6] ((dim=2|id=990|\"Link,l=5\"), (dim=2|id=498|\"S=1/2,Site,n=6\"))\n"
      ]
     },
     "metadata": {},
     "output_type": "display_data"
    }
   ],
   "source": [
    "orthogonalize!(mps, 2)"
   ]
  },
  {
   "cell_type": "code",
   "execution_count": 235,
   "metadata": {},
   "outputs": [
    {
     "data": {
      "text/plain": [
       "2×2 Matrix{ComplexF64}:\n",
       "  0.397111-1.85151e-18im  -0.120561+0.204667im\n",
       " -0.120561-0.204667im      0.602889-1.82335e-18im"
      ]
     },
     "metadata": {},
     "output_type": "display_data"
    }
   ],
   "source": [
    "A = mps[2];\n",
    "rdm = prime(A, s[2]) * dag(A)\n",
    "rdm_m = matrix(rdm) # convert to rdm"
   ]
  },
  {
   "cell_type": "code",
   "execution_count": 236,
   "metadata": {},
   "outputs": [
    {
     "data": {
      "text/plain": [
       "ITensor ord=3 (dim=2|id=374|\"S=1/2,Site,n=3\") (dim=4|id=612|\"Link,l=3\") (dim=2|id=530|\"Link,l=1\")\n",
       "NDTensors.Dense{ComplexF64, Vector{ComplexF64}}"
      ]
     },
     "metadata": {},
     "output_type": "display_data"
    }
   ],
   "source": [
    "known_x = 0.3\n",
    "known_state = [exp(1im * (3π/2) * known_x) * cospi(0.5 * known_x), exp(-1im * (3π/2) * known_x) * sinpi(0.5 * known_x)]\n",
    "known_state_as_ITensor = ITensor(known_state, s[2]);\n",
    "Am = A * dag(known_state_as_ITensor)\n",
    "A_new = mps[3] * Am"
   ]
  },
  {
   "cell_type": "code",
   "execution_count": 237,
   "metadata": {},
   "outputs": [
    {
     "data": {
      "text/plain": [
       "0.5834525318438778"
      ]
     },
     "metadata": {},
     "output_type": "display_data"
    }
   ],
   "source": [
    "proba_state = get_probability_density(known_x, rdm_m)"
   ]
  },
  {
   "cell_type": "code",
   "execution_count": 238,
   "metadata": {},
   "outputs": [
    {
     "data": {
      "text/plain": [
       "ITensor ord=3 (dim=2|id=374|\"S=1/2,Site,n=3\") (dim=4|id=612|\"Link,l=3\") (dim=2|id=530|\"Link,l=1\")\n",
       "NDTensors.Dense{ComplexF64, Vector{ComplexF64}}"
      ]
     },
     "metadata": {},
     "output_type": "display_data"
    }
   ],
   "source": [
    "A_new *= 1/sqrt(proba_state)"
   ]
  },
  {
   "cell_type": "code",
   "execution_count": 239,
   "metadata": {},
   "outputs": [
    {
     "data": {
      "text/plain": [
       "1.0"
      ]
     },
     "metadata": {},
     "output_type": "display_data"
    }
   ],
   "source": [
    "norm(A_new)"
   ]
  },
  {
   "cell_type": "code",
   "execution_count": 240,
   "metadata": {},
   "outputs": [
    {
     "data": {
      "text/plain": [
       "MPS\n",
       "#undef\n",
       "#undef\n",
       "#undef\n",
       "#undef\n",
       "#undef\n"
      ]
     },
     "metadata": {},
     "output_type": "display_data"
    }
   ],
   "source": [
    "MPS_after_s2 = MPS(5)"
   ]
  },
  {
   "cell_type": "code",
   "execution_count": 241,
   "metadata": {},
   "outputs": [
    {
     "data": {
      "text/plain": [
       "ITensor ord=2 (dim=2|id=990|\"Link,l=5\") (dim=2|id=498|\"S=1/2,Site,n=6\")\n",
       "NDTensors.Dense{ComplexF64, Vector{ComplexF64}}"
      ]
     },
     "metadata": {},
     "output_type": "display_data"
    }
   ],
   "source": [
    "MPS_after_s2[1] = mps[1]\n",
    "MPS_after_s2[2] = A_new\n",
    "MPS_after_s2[3] = mps[4]\n",
    "MPS_after_s2[4] = mps[5]\n",
    "MPS_after_s2[5] = mps[6]"
   ]
  },
  {
   "cell_type": "code",
   "execution_count": 242,
   "metadata": {},
   "outputs": [
    {
     "data": {
      "text/plain": [
       "0.9999999999999999"
      ]
     },
     "metadata": {},
     "output_type": "display_data"
    }
   ],
   "source": [
    "norm(MPS_after_s2)"
   ]
  },
  {
   "cell_type": "markdown",
   "metadata": {},
   "source": [
    "Condition site 5 which is now at mps index 4"
   ]
  },
  {
   "cell_type": "code",
   "execution_count": 226,
   "metadata": {},
   "outputs": [
    {
     "data": {
      "text/plain": [
       "4"
      ]
     },
     "metadata": {},
     "output_type": "display_data"
    }
   ],
   "source": [
    "site_5_loc = findsite(MPS_after_s2, s[5])"
   ]
  },
  {
   "cell_type": "code",
   "execution_count": 227,
   "metadata": {},
   "outputs": [
    {
     "data": {
      "text/plain": [
       "MPS\n",
       "[1] ((dim=2|id=171|\"S=1/2,Site,n=1\"), (dim=2|id=19|\"Link,l=1\"))\n",
       "[2] ((dim=2|id=175|\"S=1/2,Site,n=3\"), (dim=2|id=19|\"Link,l=1\"), (dim=4|id=332|\"Link,l=3\"))\n",
       "[3] ((dim=2|id=177|\"S=1/2,Site,n=4\"), (dim=4|id=332|\"Link,l=3\"), (dim=4|id=585|\"Link,l=4\"))\n",
       "[4] ((dim=2|id=110|\"S=1/2,Site,n=5\"), (dim=4|id=585|\"Link,l=4\"), (dim=2|id=787|\"Link,l=5\"))\n",
       "[5] ((dim=2|id=734|\"S=1/2,Site,n=6\"), (dim=2|id=787|\"Link,l=5\"))\n"
      ]
     },
     "metadata": {},
     "output_type": "display_data"
    }
   ],
   "source": [
    "orthogonalize!(MPS_after_s2, site_5_loc)"
   ]
  },
  {
   "cell_type": "code",
   "execution_count": 228,
   "metadata": {},
   "outputs": [
    {
     "data": {
      "text/plain": [
       "2×2 Matrix{ComplexF64}:\n",
       " 0.554672+4.56775e-18im  0.212994-0.173207im\n",
       " 0.212994+0.173207im     0.445328-1.57325e-18im"
      ]
     },
     "metadata": {},
     "output_type": "display_data"
    }
   ],
   "source": [
    "A = MPS_after_s2[site_5_loc];\n",
    "rdm = prime(A, s[5]) * dag(A) # old s[5] is now s[4]\n",
    "rdm_m = matrix(rdm) # convert to rdm"
   ]
  },
  {
   "cell_type": "code",
   "execution_count": 229,
   "metadata": {},
   "outputs": [
    {
     "data": {
      "text/plain": [
       "ITensor ord=2 (dim=2|id=734|\"S=1/2,Site,n=6\") (dim=4|id=585|\"Link,l=4\")\n",
       "NDTensors.Dense{ComplexF64, Vector{ComplexF64}}"
      ]
     },
     "metadata": {},
     "output_type": "display_data"
    }
   ],
   "source": [
    "known_x = 0.9\n",
    "known_state = [exp(1im * (3π/2) * known_x) * cospi(0.5 * known_x), exp(-1im * (3π/2) * known_x) * sinpi(0.5 * known_x)]\n",
    "known_state_as_ITensor = ITensor(known_state, s[5]);\n",
    "Am = A * dag(known_state_as_ITensor)\n",
    "A_new = MPS_after_s2[5] * Am"
   ]
  },
  {
   "cell_type": "code",
   "execution_count": 230,
   "metadata": {},
   "outputs": [
    {
     "data": {
      "text/plain": [
       "0.3660151423647971"
      ]
     },
     "metadata": {},
     "output_type": "display_data"
    }
   ],
   "source": [
    "proba_state = get_probability_density(known_x, rdm_m)"
   ]
  },
  {
   "cell_type": "code",
   "execution_count": 231,
   "metadata": {},
   "outputs": [
    {
     "data": {
      "text/plain": [
       "ITensor ord=2 (dim=2|id=734|\"S=1/2,Site,n=6\") (dim=4|id=585|\"Link,l=4\")\n",
       "NDTensors.Dense{ComplexF64, Vector{ComplexF64}}"
      ]
     },
     "metadata": {},
     "output_type": "display_data"
    }
   ],
   "source": [
    "A_new *= 1/sqrt(proba_state)"
   ]
  },
  {
   "cell_type": "code",
   "execution_count": 232,
   "metadata": {},
   "outputs": [
    {
     "data": {
      "text/plain": [
       "0.9999999999999999"
      ]
     },
     "metadata": {},
     "output_type": "display_data"
    }
   ],
   "source": [
    "norm(A_new)"
   ]
  },
  {
   "cell_type": "code",
   "execution_count": 201,
   "metadata": {},
   "outputs": [
    {
     "data": {
      "text/plain": [
       "MPS\n",
       "#undef\n",
       "#undef\n",
       "#undef\n",
       "#undef\n"
      ]
     },
     "metadata": {},
     "output_type": "display_data"
    }
   ],
   "source": [
    "MPS_after_s5 = MPS(4)"
   ]
  },
  {
   "cell_type": "code",
   "execution_count": 202,
   "metadata": {},
   "outputs": [
    {
     "data": {
      "text/plain": [
       "MPS\n",
       "[1] ((dim=2|id=88|\"S=1/2,Site,n=1\"), (dim=2|id=0|\"Link,l=1\"))\n",
       "[2] ((dim=2|id=286|\"S=1/2,Site,n=3\"), (dim=2|id=0|\"Link,l=1\"), (dim=4|id=51|\"Link,l=3\"))\n",
       "[3] ((dim=2|id=161|\"S=1/2,Site,n=4\"), (dim=4|id=51|\"Link,l=3\"), (dim=4|id=523|\"Link,l=4\"))\n",
       "[4] ((dim=2|id=986|\"S=1/2,Site,n=5\"), (dim=4|id=523|\"Link,l=4\"), (dim=2|id=320|\"Link,l=5\"))\n",
       "[5] ((dim=2|id=919|\"S=1/2,Site,n=6\"), (dim=2|id=320|\"Link,l=5\"))\n"
      ]
     },
     "metadata": {},
     "output_type": "display_data"
    }
   ],
   "source": [
    "MPS_after_s2"
   ]
  },
  {
   "cell_type": "code",
   "execution_count": 203,
   "metadata": {},
   "outputs": [
    {
     "data": {
      "text/plain": [
       "ITensor ord=2 (dim=2|id=919|\"S=1/2,Site,n=6\") (dim=4|id=523|\"Link,l=4\")\n",
       "NDTensors.Dense{ComplexF64, Vector{ComplexF64}}"
      ]
     },
     "metadata": {},
     "output_type": "display_data"
    }
   ],
   "source": [
    "MPS_after_s5[1] = MPS_after_s2[1]\n",
    "MPS_after_s5[2] = MPS_after_s2[2]\n",
    "MPS_after_s5[3] = MPS_after_s2[3]\n",
    "MPS_after_s5[4] = A_new"
   ]
  },
  {
   "cell_type": "code",
   "execution_count": 204,
   "metadata": {},
   "outputs": [
    {
     "data": {
      "text/plain": [
       "MPS\n",
       "[1] ((dim=2|id=88|\"S=1/2,Site,n=1\"), (dim=2|id=0|\"Link,l=1\"))\n",
       "[2] ((dim=2|id=286|\"S=1/2,Site,n=3\"), (dim=2|id=0|\"Link,l=1\"), (dim=4|id=51|\"Link,l=3\"))\n",
       "[3] ((dim=2|id=161|\"S=1/2,Site,n=4\"), (dim=4|id=51|\"Link,l=3\"), (dim=4|id=523|\"Link,l=4\"))\n",
       "[4] ((dim=2|id=919|\"S=1/2,Site,n=6\"), (dim=4|id=523|\"Link,l=4\"))\n"
      ]
     },
     "metadata": {},
     "output_type": "display_data"
    }
   ],
   "source": [
    "MPS_after_s5"
   ]
  },
  {
   "cell_type": "code",
   "execution_count": 205,
   "metadata": {},
   "outputs": [
    {
     "data": {
      "text/plain": [
       "1.0"
      ]
     },
     "metadata": {},
     "output_type": "display_data"
    }
   ],
   "source": [
    "norm(MPS_after_s5)"
   ]
  },
  {
   "cell_type": "markdown",
   "metadata": {},
   "source": [
    "Now sample from the remaining MPS"
   ]
  },
  {
   "cell_type": "code",
   "execution_count": 207,
   "metadata": {},
   "outputs": [],
   "source": [
    "mps_conditioned = deepcopy(MPS_after_s5);"
   ]
  },
  {
   "cell_type": "code",
   "execution_count": 212,
   "metadata": {},
   "outputs": [
    {
     "data": {
      "text/plain": [
       "4-element Vector{Index{Int64}}:\n",
       " (dim=2|id=88|\"S=1/2,Site,n=1\")\n",
       " (dim=2|id=286|\"S=1/2,Site,n=3\")\n",
       " (dim=2|id=161|\"S=1/2,Site,n=4\")\n",
       " (dim=2|id=919|\"S=1/2,Site,n=6\")"
      ]
     },
     "metadata": {},
     "output_type": "display_data"
    }
   ],
   "source": [
    "s = siteinds(mps_conditioned)"
   ]
  },
  {
   "cell_type": "code",
   "execution_count": 209,
   "metadata": {},
   "outputs": [],
   "source": [
    "orthogonalize!(mps_conditioned, 1);"
   ]
  },
  {
   "cell_type": "code",
   "execution_count": 223,
   "metadata": {},
   "outputs": [
    {
     "name": "stdout",
     "output_type": "stream",
     "text": [
      "0.6142836626106772\n"
     ]
    },
    {
     "data": {
      "text/plain": [
       "ITensor ord=2 (dim=2|id=286|\"S=1/2,Site,n=3\") (dim=4|id=875|\"Link,l=3\")\n",
       "NDTensors.Dense{ComplexF64, Vector{ComplexF64}}"
      ]
     },
     "metadata": {},
     "output_type": "display_data"
    }
   ],
   "source": [
    "A = mps_conditioned[1];\n",
    "rdm = prime(A, s[1]) * dag(A);\n",
    "rdm_m = matrix(rdm);\n",
    "sampled_x, sampled_state = sample_state_from_rdm(rdm_m);\n",
    "println(sampled_x)\n",
    "sampled_state_as_ITensor = ITensor(sampled_state, s[1]);\n",
    "proba_state = get_probability_density(sampled_x, rdm_m);\n",
    "Am = A * dag(sampled_state_as_ITensor)\n",
    "A_new = mps_conditioned[2] * Am\n",
    "A_new *= 1/sqrt(proba_state)\n",
    "A = A_new"
   ]
  },
  {
   "cell_type": "code",
   "execution_count": 225,
   "metadata": {},
   "outputs": [
    {
     "name": "stdout",
     "output_type": "stream",
     "text": [
      "0.9759395949990134\n"
     ]
    },
    {
     "data": {
      "text/plain": [
       "ITensor ord=2 (dim=2|id=161|\"S=1/2,Site,n=4\") (dim=2|id=873|\"Link,l=4\")\n",
       "NDTensors.Dense{ComplexF64, Vector{ComplexF64}}"
      ]
     },
     "metadata": {},
     "output_type": "display_data"
    }
   ],
   "source": [
    "rdm = prime(A, s[2]) * dag(A);\n",
    "rdm_m = matrix(rdm);\n",
    "sampled_x, sampled_state = sample_state_from_rdm(rdm_m);\n",
    "println(sampled_x)\n",
    "sampled_state_as_ITensor = ITensor(sampled_state, s[2]);\n",
    "proba_state = get_probability_density(sampled_x, rdm_m);\n",
    "Am = A * dag(sampled_state_as_ITensor)\n",
    "A_new = mps_conditioned[3] * Am\n",
    "A_new *= 1/sqrt(proba_state)\n",
    "A = A_new"
   ]
  },
  {
   "cell_type": "code",
   "execution_count": 226,
   "metadata": {},
   "outputs": [
    {
     "name": "stdout",
     "output_type": "stream",
     "text": [
      "0.8198966792109809\n"
     ]
    },
    {
     "data": {
      "text/plain": [
       "ITensor ord=1 (dim=2|id=919|\"S=1/2,Site,n=6\")\n",
       "NDTensors.Dense{ComplexF64, Vector{ComplexF64}}"
      ]
     },
     "metadata": {},
     "output_type": "display_data"
    }
   ],
   "source": [
    "rdm = prime(A, s[3]) * dag(A);\n",
    "rdm_m = matrix(rdm);\n",
    "sampled_x, sampled_state = sample_state_from_rdm(rdm_m);\n",
    "println(sampled_x)\n",
    "sampled_state_as_ITensor = ITensor(sampled_state, s[3]);\n",
    "proba_state = get_probability_density(sampled_x, rdm_m);\n",
    "Am = A * dag(sampled_state_as_ITensor)\n",
    "A_new = mps_conditioned[4] * Am\n",
    "A_new *= 1/sqrt(proba_state)\n",
    "A = A_new"
   ]
  },
  {
   "cell_type": "code",
   "execution_count": 228,
   "metadata": {},
   "outputs": [
    {
     "name": "stdout",
     "output_type": "stream",
     "text": [
      "0.06587761063661192\n"
     ]
    }
   ],
   "source": [
    "rdm = prime(A, s[4]) * dag(A);\n",
    "rdm_m = matrix(rdm);\n",
    "sampled_x, sampled_state = sample_state_from_rdm(rdm_m);\n",
    "println(sampled_x)\n",
    "sampled_state_as_ITensor = ITensor(sampled_state, s[4]);"
   ]
  },
  {
   "cell_type": "code",
   "execution_count": 236,
   "metadata": {},
   "outputs": [
    {
     "name": "stdout",
     "output_type": "stream",
     "text": [
      "2\n",
      "3\n",
      "6\n",
      "7\n",
      "8\n",
      "9\n",
      "10\n",
      "11\n",
      "12\n",
      "13\n",
      "14\n",
      "15\n",
      "16\n",
      "17\n",
      "18\n",
      "19\n",
      "20\n",
      "21\n",
      "22\n",
      "23\n",
      "24\n",
      "25\n",
      "26\n",
      "27\n",
      "28\n",
      "29\n",
      "30\n",
      "31\n",
      "32\n",
      "33\n",
      "34\n",
      "35\n",
      "36\n",
      "37\n",
      "38\n",
      "39\n",
      "40\n",
      "41\n",
      "42\n",
      "43\n",
      "44\n",
      "45\n",
      "46\n",
      "47\n",
      "48\n",
      "49\n",
      "50\n",
      "51\n",
      "52\n",
      "53\n",
      "54\n",
      "55\n",
      "56\n",
      "57\n",
      "58\n",
      "59\n",
      "60\n",
      "61\n",
      "62\n",
      "63\n",
      "64\n",
      "65\n",
      "66\n",
      "67\n",
      "68\n",
      "69\n",
      "70\n",
      "71\n",
      "72\n",
      "73\n",
      "74\n",
      "75\n",
      "76\n",
      "77\n",
      "78\n",
      "79\n",
      "80\n",
      "81\n",
      "82\n",
      "83\n",
      "84\n",
      "85\n",
      "86\n",
      "87\n",
      "88\n",
      "89\n",
      "90\n",
      "91\n",
      "92\n",
      "93\n",
      "94\n",
      "95\n",
      "96\n",
      "97\n",
      "98\n",
      "99\n",
      "100\n"
     ]
    }
   ],
   "source": [
    "known_sites = [1, 4, 5]\n",
    "s_test = siteinds(\"S=1/2\", 100)\n",
    "mps_test = randomMPS(ComplexF64, s_test; linkdims=4);\n",
    "for i in eachindex(mps_test)\n",
    "    if i ∉ known_sites\n",
    "        println(i)\n",
    "    end\n",
    "end"
   ]
  },
  {
   "cell_type": "code",
   "execution_count": 10,
   "metadata": {},
   "outputs": [],
   "source": [
    "s = siteinds(\"S=1/2\", 5);"
   ]
  },
  {
   "cell_type": "code",
   "execution_count": 40,
   "metadata": {},
   "outputs": [
    {
     "data": {
      "text/plain": [
       "1-element Vector{Int64}:\n",
       " 4"
      ]
     },
     "metadata": {},
     "output_type": "display_data"
    }
   ],
   "source": [
    "mps_new_test = randomMPS(s; linkdims=4);\n",
    "ts = rand(5);\n",
    "interp_sites = [4]"
   ]
  },
  {
   "cell_type": "code",
   "execution_count": 13,
   "metadata": {},
   "outputs": [
    {
     "data": {
      "text/plain": [
       "MPS\n",
       "[1] ((dim=2|id=874|\"S=1/2,Site,n=1\"), (dim=4|id=523|\"Link,l=1\"))\n",
       "[2] ((dim=4|id=523|\"Link,l=1\"), (dim=2|id=320|\"S=1/2,Site,n=2\"), (dim=4|id=306|\"Link,l=2\"))\n",
       "[3] ((dim=4|id=306|\"Link,l=2\"), (dim=2|id=999|\"S=1/2,Site,n=3\"), (dim=4|id=796|\"Link,l=3\"))\n",
       "[4] ((dim=4|id=796|\"Link,l=3\"), (dim=2|id=931|\"S=1/2,Site,n=4\"), (dim=2|id=538|\"Link,l=4\"))\n",
       "[5] ((dim=2|id=538|\"Link,l=4\"), (dim=2|id=90|\"S=1/2,Site,n=5\"))\n"
      ]
     },
     "metadata": {},
     "output_type": "display_data"
    }
   ],
   "source": [
    "mps_new_test"
   ]
  },
  {
   "cell_type": "code",
   "execution_count": 15,
   "metadata": {},
   "outputs": [
    {
     "data": {
      "text/plain": [
       "MPS\n",
       "[1] ((dim=2|id=874|\"S=1/2,Site,n=1\"), (dim=4|id=523|\"Link,l=1\"))\n",
       "[2] ((dim=4|id=523|\"Link,l=1\"), (dim=2|id=320|\"S=1/2,Site,n=2\"), (dim=4|id=306|\"Link,l=2\"))\n",
       "[3] ((dim=4|id=306|\"Link,l=2\"), (dim=2|id=999|\"S=1/2,Site,n=3\"), (dim=4|id=796|\"Link,l=3\"))\n",
       "[4] ((dim=4|id=796|\"Link,l=3\"), (dim=2|id=931|\"S=1/2,Site,n=4\"), (dim=2|id=538|\"Link,l=4\"))\n",
       "[5] ((dim=2|id=538|\"Link,l=4\"), (dim=2|id=90|\"S=1/2,Site,n=5\"))\n"
      ]
     },
     "metadata": {},
     "output_type": "display_data"
    }
   ],
   "source": [
    "orthogonalize!(mps_new_test, 1)"
   ]
  },
  {
   "cell_type": "code",
   "execution_count": 17,
   "metadata": {},
   "outputs": [
    {
     "data": {
      "text/plain": [
       "ITensor ord=2 (dim=2|id=874|\"S=1/2,Site,n=1\")' (dim=2|id=874|\"S=1/2,Site,n=1\")\n",
       "NDTensors.Dense{Float64, Vector{Float64}}"
      ]
     },
     "metadata": {},
     "output_type": "display_data"
    }
   ],
   "source": [
    "A = mps_new_test[1]\n",
    "rdm = prime(A, s[1]) * dag(A)"
   ]
  },
  {
   "cell_type": "code",
   "execution_count": 19,
   "metadata": {},
   "outputs": [
    {
     "data": {
      "text/plain": [
       "ITensor ord=1 (dim=4|id=523|\"Link,l=1\")\n",
       "NDTensors.Dense{ComplexF64, Vector{ComplexF64}}"
      ]
     },
     "metadata": {},
     "output_type": "display_data"
    }
   ],
   "source": [
    "known_x = 0.3\n",
    "known_state = [exp(1im * (3π/2) * known_x) * cospi(0.5 * known_x), exp(-1im * (3π/2) * known_x) * sinpi(0.5 * known_x)]\n",
    "known_state_as_ITensor = ITensor(known_state, s[1]);\n",
    "Am = A * dag(known_state_as_ITensor)"
   ]
  },
  {
   "cell_type": "code",
   "execution_count": 22,
   "metadata": {},
   "outputs": [
    {
     "data": {
      "text/plain": [
       "ITensor ord=1 (dim=4|id=523|\"Link,l=1\")\n",
       "NDTensors.Dense{ComplexF64, Vector{ComplexF64}}"
      ]
     },
     "metadata": {},
     "output_type": "display_data"
    }
   ],
   "source": [
    "proba_state = get_probability_density(known_x, matrix(rdm))\n",
    "Am *= 1/sqrt(proba_state)"
   ]
  },
  {
   "cell_type": "code",
   "execution_count": 27,
   "metadata": {},
   "outputs": [
    {
     "data": {
      "text/plain": [
       "ITensor ord=1 (dim=4|id=523|\"Link,l=1\")\n",
       "NDTensors.Dense{ComplexF64, Vector{ComplexF64}}"
      ]
     },
     "metadata": {},
     "output_type": "display_data"
    }
   ],
   "source": [
    "mps_new_test[1] *= dag(known_state_as_ITensor)"
   ]
  },
  {
   "cell_type": "code",
   "execution_count": 28,
   "metadata": {},
   "outputs": [
    {
     "data": {
      "text/plain": [
       "ITensor ord=1 (dim=4|id=523|\"Link,l=1\")\n",
       "NDTensors.Dense{ComplexF64, Vector{ComplexF64}}"
      ]
     },
     "metadata": {},
     "output_type": "display_data"
    }
   ],
   "source": [
    "mps_new_test[1] *= 1/sqrt(proba_state)"
   ]
  },
  {
   "cell_type": "code",
   "execution_count": 31,
   "metadata": {},
   "outputs": [
    {
     "data": {
      "text/plain": [
       "ITensor ord=2 (dim=2|id=320|\"S=1/2,Site,n=2\") (dim=4|id=306|\"Link,l=2\")\n",
       "NDTensors.Dense{ComplexF64, Vector{ComplexF64}}"
      ]
     },
     "metadata": {},
     "output_type": "display_data"
    }
   ],
   "source": [
    "mps_new_test[2] *= mps_new_test[1]"
   ]
  },
  {
   "cell_type": "code",
   "execution_count": 37,
   "metadata": {},
   "outputs": [
    {
     "data": {
      "text/plain": [
       "MPS\n",
       "[1] ((dim=2|id=320|\"S=1/2,Site,n=2\"), (dim=4|id=306|\"Link,l=2\"))\n",
       "[2] ((dim=4|id=306|\"Link,l=2\"), (dim=2|id=999|\"S=1/2,Site,n=3\"), (dim=4|id=796|\"Link,l=3\"))\n",
       "[3] ((dim=4|id=796|\"Link,l=3\"), (dim=2|id=931|\"S=1/2,Site,n=4\"), (dim=2|id=538|\"Link,l=4\"))\n",
       "[4] ((dim=2|id=538|\"Link,l=4\"), (dim=2|id=90|\"S=1/2,Site,n=5\"))\n"
      ]
     },
     "metadata": {},
     "output_type": "display_data"
    }
   ],
   "source": [
    "mps_updated = MPS(mps_new_test[2:5])"
   ]
  },
  {
   "cell_type": "code",
   "execution_count": 267,
   "metadata": {},
   "outputs": [
    {
     "data": {
      "text/plain": [
       "interpolate_non_sequential (generic function with 1 method)"
      ]
     },
     "metadata": {},
     "output_type": "display_data"
    }
   ],
   "source": [
    "function interpolate_non_sequential(label_mps::MPS, time_series::Vector{Float64}, \n",
    "    interpolate_sites::Vector{Int})\n",
    "\n",
    "    # pre-condition MPS on all known sites\n",
    "    mps = deepcopy(label_mps)\n",
    "    s = siteinds(mps)\n",
    "    known_sites = setdiff(collect(1:length(mps)), interpolate_sites)\n",
    "\n",
    "    x_samps = Vector{Float64}(undef, length(mps))\n",
    "\n",
    "    for i in 1:length(mps)\n",
    "        if i in known_sites\n",
    "            # value is known\n",
    "            known_x = time_series[i]\n",
    "            x_samps[i] = known_x\n",
    "            # contract known site with mps\n",
    "            orthogonalize!(mps, i)\n",
    "            A = mps[i]\n",
    "            rdm = prime(A, s[i]) * dag(A)\n",
    "            rdm_m = matrix(rdm) # convert to rdm\n",
    "            known_state = [exp(1im * (3π/2) * known_x) * cospi(0.5 * known_x), exp(-1im * (3π/2) * known_x) * sinpi(0.5 * known_x)]\n",
    "            known_state_as_ITensor = ITensor(known_state, s[i]);\n",
    "            Am = A * dag(known_state_as_ITensor)\n",
    "            A_new = mps[(i+1)] * Am\n",
    "            proba_state = get_probability_density(known_x, rdm_m)\n",
    "            A_new *= 1/sqrt(proba_state)\n",
    "            new_mps_length = length(mps) - 1\n",
    "            mps_after_measurement = MPS(new_mps_length)\n",
    "            for j in eachindex(mps_after_measurement)\n",
    "                # re-assign sites\n",
    "                if j < i\n",
    "                    # direct copy over\n",
    "                    mps_after_measurement[j] = mps[j]\n",
    "                elseif j == i\n",
    "                    mps_after_measurement[j] = A_new\n",
    "                else\n",
    "                    mps_after_measurement[j] = mps[(j+1)]\n",
    "                end\n",
    "            end\n",
    "\n",
    "            mps = mps_after_measurement\n",
    "            s = siteinds(mps)\n",
    "\n",
    "        end\n",
    "\n",
    "    end\n",
    "\n",
    "end"
   ]
  },
  {
   "cell_type": "code",
   "execution_count": 149,
   "metadata": {},
   "outputs": [
    {
     "data": {
      "text/plain": [
       "interpolate_non_sequential2 (generic function with 1 method)"
      ]
     },
     "metadata": {},
     "output_type": "display_data"
    }
   ],
   "source": [
    "function interpolate_non_sequential2(label_mps::MPS, time_series::Vector{Float64},\n",
    "    interpolate_sites::Vector{Int})\n",
    "    # pre-condition MPS on all known sites\n",
    "    mps = deepcopy(label_mps)\n",
    "    s = siteinds(mps)\n",
    "    known_sites = setdiff(collect(1:length(mps)), interpolate_sites)\n",
    "    x_samps = Vector{Float64}(undef, length(mps))\n",
    "\n",
    "    # part 1 - condition MPS on known values using MPOs\n",
    "    for i in eachindex(mps)\n",
    "        if i in known_sites\n",
    "            # value is known\n",
    "            x = time_series[i]\n",
    "            state = [exp(1im * (3π/2) * x) * cospi(0.5 * x), exp(-1im * (3π/2) * x) * sinpi(0.5 * x)]\n",
    "            # make projector\n",
    "            projector = state * state'\n",
    "            # check properties\n",
    "            if !isapprox(tr(projector), 1.0) @warn \"tr(|x⟩⟨x| != 1 @ site $i)\" end\n",
    "            println(projector)\n",
    "            # convert into single site MPO at site id\n",
    "            println(\"Making projector operator @ site $i\")\n",
    "            proj_op = op(projector, s, i)            \n",
    "            # apply projector to the mps\n",
    "            mps_projected = apply(proj_op, mps)\n",
    "            normalize!(mps_projected) # should be fine, if not, need to normalise by 1/sqrt(prob) of state\n",
    "            # done, proceed to next known site\n",
    "            mps = mps_projected            \n",
    "        end\n",
    "    end\n",
    "\n",
    "    # part 2 - interpolate unknown sites\n",
    "    orthogonalize!(mps, 1) # put mps into right canonical form and start at site 1\n",
    "    s = siteinds(mps)\n",
    "    A = mps[1]\n",
    "    ps = []\n",
    "    for i in eachindex(mps)\n",
    "        # determine whether site is known\n",
    "        rdm = prime(A, s[i]) * dag(A)\n",
    "        rdm_m = matrix(rdm) # convert to rdm\n",
    "        println(\"TR @ site $i: $(tr(rdm_m))\")\n",
    "        if i in known_sites\n",
    "            # site is known \n",
    "            known_x = time_series[i]\n",
    "            known_state = [exp(1im * (3π/2) * known_x) * cospi(0.5 * known_x), exp(-1im * (3π/2) * known_x) * sinpi(0.5 * known_x)]\n",
    "            known_state_as_ITensor = ITensor(known_state, s[i])\n",
    "            # make the measurment at the site\n",
    "            Am = A * dag(known_state_as_ITensor)\n",
    "            if i != length(mps)\n",
    "                A_new = mps[(i+1)] * Am\n",
    "                # normalise by the probability of the known state\n",
    "                proba_state = get_probability_density(known_x, rdm_m)\n",
    "                #println(\"Probability of known state: $proba_state\")\n",
    "                A_new *= 1/sqrt(proba_state)\n",
    "                A = A_new\n",
    "            end\n",
    "            x_samps[i] = known_x\n",
    "        else\n",
    "            # site is unkown - interpolate\n",
    "            println(\"Interpolating site $i\")\n",
    "            sampled_x, sampled_state = sample_state_from_rdm(rdm_m)\n",
    "            x_samps[i] = sampled_x\n",
    "            if i != length(mps)\n",
    "                sampled_state_as_ITensor = ITensor(sampled_state, s[i])\n",
    "                # get the probability of the state for normalising the next site\n",
    "                proba_state = get_probability_density(sampled_x, rdm_m)\n",
    "                #println(\"Prob of sampled state: $proba_state\")\n",
    "                # check that the trace of the rdm is equal to one\n",
    "                #sampled_x, sampled_state = sample_state_from_rdm(rdm_m)\n",
    "                # make the measurment of the site\n",
    "                Am = A * dag(sampled_state_as_ITensor)\n",
    "                # absorb into the next site\n",
    "                A_new = mps[(i+1)] * Am\n",
    "                # normalise by the probability\n",
    "                A_new *= 1/sqrt(proba_state)\n",
    "                # set A to A_new\n",
    "                A = A_new\n",
    "            end\n",
    "        end\n",
    "    end\n",
    "\n",
    "    return x_samps\n",
    "    \n",
    "end"
   ]
  },
  {
   "cell_type": "code",
   "execution_count": 117,
   "metadata": {},
   "outputs": [],
   "source": [
    "s = siteinds(\"S=1/2\", 50)\n",
    "mps_new_test = randomMPS(s; linkdims=4);\n",
    "ts = rand(50);"
   ]
  },
  {
   "cell_type": "code",
   "execution_count": 122,
   "metadata": {},
   "outputs": [
    {
     "data": {
      "text/plain": [
       "11-element Vector{Int64}:\n",
       " 20\n",
       " 21\n",
       " 22\n",
       " 23\n",
       " 24\n",
       " 25\n",
       " 26\n",
       " 27\n",
       " 28\n",
       " 29\n",
       " 30"
      ]
     },
     "metadata": {},
     "output_type": "display_data"
    }
   ],
   "source": [
    "interp_sites = collect(20:1:30)"
   ]
  },
  {
   "cell_type": "code",
   "execution_count": 147,
   "metadata": {},
   "outputs": [
    {
     "data": {
      "text/plain": [
       "50-element Vector{Float64}:\n",
       " 0.6746844142666839\n",
       " 0.02147376988379457\n",
       " 0.15654934824068878\n",
       " 0.17789252764813746\n",
       " 0.7878583103004093\n",
       " 0.2739255029462173\n",
       " 0.12539014480851263\n",
       " 0.02918549924777325\n",
       " 0.1372157835843918\n",
       " 0.2261585917758876\n",
       " ⋮\n",
       " 0.8445966465450395\n",
       " 0.7506204876543182\n",
       " 0.4121729491103244\n",
       " 0.7213926229541072\n",
       " 0.7797568111917544\n",
       " 0.8677835867891348\n",
       " 0.6699770280004347\n",
       " 0.10075500661532355\n",
       " 0.2638732929941714"
      ]
     },
     "metadata": {},
     "output_type": "display_data"
    }
   ],
   "source": [
    "interpolate_non_sequential2(mps_new_test, ts, interp_sites)"
   ]
  },
  {
   "cell_type": "code",
   "execution_count": 127,
   "metadata": {},
   "outputs": [
    {
     "ename": "InterruptException",
     "evalue": "InterruptException:",
     "output_type": "error",
     "traceback": [
      "InterruptException:\n",
      "\n",
      "Stacktrace:\n",
      " [1] replaceind(::ITensor, ::Index{Int64}, ::Vararg{Index{Int64}}; kwargs::@Kwargs{})\n",
      "   @ ITensors ~/.julia/packages/ITensors/QoOwA/src/itensor.jl:1554\n",
      " [2] factorize(A::ITensor, Linds::Vector{Index{Int64}}; mindim::Nothing, maxdim::Nothing, cutoff::Nothing, ortho::Nothing, tags::TagSet, plev::Nothing, which_decomp::Nothing, eigen_perturbation::Nothing, svd_alg::Nothing, use_absolute_cutoff::Nothing, use_relative_cutoff::Nothing, min_blockdim::Nothing, singular_values!::Nothing, dir::Nothing)\n",
      "   @ ITensors ~/.julia/packages/ITensors/QoOwA/src/tensor_operations/matrix_decomposition.jl:851\n",
      " [3] orthogonalize!(M::MPS, j::Int64; maxdim::Nothing, normalize::Nothing)\n",
      "   @ ITensors.ITensorMPS ~/.julia/packages/ITensors/QoOwA/src/ITensorMPS/abstractmps.jl:1631\n",
      " [4] orthogonalize!\n",
      "   @ ~/.julia/packages/ITensors/QoOwA/src/ITensorMPS/abstractmps.jl:1593 [inlined]\n",
      " [5] interpolate_non_sequential2(label_mps::MPS, time_series::Vector{Float64}, interpolate_sites::Vector{Int64})\n",
      "   @ Main ~/Documents/QuantumInspiredML/LogLossAlternative/generative_experiment/interpolation_attempt.ipynb:32\n",
      " [6] top-level scope\n",
      "   @ ~/Documents/QuantumInspiredML/LogLossAlternative/generative_experiment/interpolation_attempt.ipynb:3"
     ]
    }
   ],
   "source": [
    "outs_all = Matrix{Float64}(undef, 1000, 50);\n",
    "for i in 1:1000\n",
    "    outs_all[i, :] = interpolate_non_sequential2(mps_new_test, ts, interp_sites)\n",
    "end"
   ]
  },
  {
   "cell_type": "code",
   "execution_count": 125,
   "metadata": {},
   "outputs": [
    {
     "data": {
      "text/plain": [
       "50-element Vector{Float64}:\n",
       " 4.443114211273408e-16\n",
       " 1.3537613612473663e-16\n",
       " 6.664671316910112e-16\n",
       " 3.8877249348642313e-16\n",
       " 1.5550899739456925e-15\n",
       " 6.664671316910112e-16\n",
       " 3.610030296659644e-16\n",
       " 1.0413548932672049e-16\n",
       " 5.55389276409176e-17\n",
       " 9.44161769895599e-16\n",
       " ⋮\n",
       " 3.110179947891385e-15\n",
       " 1.3329342633820224e-15\n",
       " 2.7769463820458796e-16\n",
       " 3.3323356584550558e-15\n",
       " 3.2212578031732204e-15\n",
       " 2.7769463820458797e-15\n",
       " 2.443712816200374e-15\n",
       " 3.8877249348642313e-16\n",
       " 1.1663174804592695e-15"
      ]
     },
     "metadata": {},
     "output_type": "display_data"
    }
   ],
   "source": [
    "mean_ts = mean(outs_all, dims=1)[1,:]\n",
    "std_ts = std(outs_all, dims=1)[1,:]"
   ]
  },
  {
   "cell_type": "code",
   "execution_count": 126,
   "metadata": {},
   "outputs": [
    {
     "data": {
      "image/png": "[encoded data removed]",
      "image/svg+xml": [
       "<?xml version=\"1.0\" encoding=\"utf-8\"?>\n",
       "<svg xmlns=\"http://www.w3.org/2000/svg\" xmlns:xlink=\"http://www.w3.org/1999/xlink\" width=\"600\" height=\"400\" viewBox=\"0 0 2400 1600\">\n",
       "<defs>\n",
       "  <clipPath id=\"clip060\">\n",
       "    <rect x=\"0\" y=\"0\" width=\"2400\" height=\"1600\"/>\n",
       "  </clipPath>\n",
       "</defs>\n",
       "<path clip-path=\"url(#clip060)\" d=\"M0 1600 L2400 1600 L2400 8.88178e-14 L0 8.88178e-14  Z\" fill=\"#ffffff\" fill-rule=\"evenodd\" fill-opacity=\"1\"/>\n",
       "<defs>\n",
       "  <clipPath id=\"clip061\">\n",
       "    <rect x=\"480\" y=\"0\" width=\"1681\" height=\"1600\"/>\n",
       "  </clipPath>\n",
       "</defs>\n",
       "<path clip-path=\"url(#clip060)\" d=\"M156.598 1486.45 L2352.76 1486.45 L2352.76 47.2441 L156.598 47.2441  Z\" fill=\"#ffffff\" fill-rule=\"evenodd\" fill-opacity=\"1\"/>\n",
       "<defs>\n",
       "  <clipPath id=\"clip062\">\n",
       "    <rect x=\"156\" y=\"47\" width=\"2197\" height=\"1440\"/>\n",
       "  </clipPath>\n",
       "</defs>\n",
       "<polyline clip-path=\"url(#clip062)\" style=\"stroke:#000000; stroke-linecap:round; stroke-linejoin:round; stroke-width:2; stroke-opacity:0.1; fill:none\" points=\"176.471,1486.45 176.471,47.2441 \"/>\n",
       "<polyline clip-path=\"url(#clip062)\" style=\"stroke:#000000; stroke-linecap:round; stroke-linejoin:round; stroke-width:2; stroke-opacity:0.1; fill:none\" points=\"599.297,1486.45 599.297,47.2441 \"/>\n",
       "<polyline clip-path=\"url(#clip062)\" style=\"stroke:#000000; stroke-linecap:round; stroke-linejoin:round; stroke-width:2; stroke-opacity:0.1; fill:none\" points=\"1022.12,1486.45 1022.12,47.2441 \"/>\n",
       "<polyline clip-path=\"url(#clip062)\" style=\"stroke:#000000; stroke-linecap:round; stroke-linejoin:round; stroke-width:2; stroke-opacity:0.1; fill:none\" points=\"1444.95,1486.45 1444.95,47.2441 \"/>\n",
       "<polyline clip-path=\"url(#clip062)\" style=\"stroke:#000000; stroke-linecap:round; stroke-linejoin:round; stroke-width:2; stroke-opacity:0.1; fill:none\" points=\"1867.77,1486.45 1867.77,47.2441 \"/>\n",
       "<polyline clip-path=\"url(#clip062)\" style=\"stroke:#000000; stroke-linecap:round; stroke-linejoin:round; stroke-width:2; stroke-opacity:0.1; fill:none\" points=\"2290.6,1486.45 2290.6,47.2441 \"/>\n",
       "<polyline clip-path=\"url(#clip060)\" style=\"stroke:#000000; stroke-linecap:round; stroke-linejoin:round; stroke-width:4; stroke-opacity:1; fill:none\" points=\"156.598,1486.45 2352.76,1486.45 \"/>\n",
       "<polyline clip-path=\"url(#clip060)\" style=\"stroke:#000000; stroke-linecap:round; stroke-linejoin:round; stroke-width:4; stroke-opacity:1; fill:none\" points=\"176.471,1486.45 176.471,1467.55 \"/>\n",
       "<polyline clip-path=\"url(#clip060)\" style=\"stroke:#000000; stroke-linecap:round; stroke-linejoin:round; stroke-width:4; stroke-opacity:1; fill:none\" points=\"599.297,1486.45 599.297,1467.55 \"/>\n",
       "<polyline clip-path=\"url(#clip060)\" style=\"stroke:#000000; stroke-linecap:round; stroke-linejoin:round; stroke-width:4; stroke-opacity:1; fill:none\" points=\"1022.12,1486.45 1022.12,1467.55 \"/>\n",
       "<polyline clip-path=\"url(#clip060)\" style=\"stroke:#000000; stroke-linecap:round; stroke-linejoin:round; stroke-width:4; stroke-opacity:1; fill:none\" points=\"1444.95,1486.45 1444.95,1467.55 \"/>\n",
       "<polyline clip-path=\"url(#clip060)\" style=\"stroke:#000000; stroke-linecap:round; stroke-linejoin:round; stroke-width:4; stroke-opacity:1; fill:none\" points=\"1867.77,1486.45 1867.77,1467.55 \"/>\n",
       "<polyline clip-path=\"url(#clip060)\" style=\"stroke:#000000; stroke-linecap:round; stroke-linejoin:round; stroke-width:4; stroke-opacity:1; fill:none\" points=\"2290.6,1486.45 2290.6,1467.55 \"/>\n",
       "<path clip-path=\"url(#clip060)\" d=\"M176.471 1517.37 Q172.86 1517.37 171.031 1520.93 Q169.226 1524.47 169.226 1531.6 Q169.226 1538.71 171.031 1542.27 Q172.86 1545.82 176.471 1545.82 Q180.105 1545.82 181.911 1542.27 Q183.74 1538.71 183.74 1531.6 Q183.74 1524.47 181.911 1520.93 Q180.105 1517.37 176.471 1517.37 M176.471 1513.66 Q182.281 1513.66 185.337 1518.27 Q188.415 1522.85 188.415 1531.6 Q188.415 1540.33 185.337 1544.94 Q182.281 1549.52 176.471 1549.52 Q170.661 1549.52 167.582 1544.94 Q164.527 1540.33 164.527 1531.6 Q164.527 1522.85 167.582 1518.27 Q170.661 1513.66 176.471 1513.66 Z\" fill=\"#000000\" fill-rule=\"nonzero\" fill-opacity=\"1\" /><path clip-path=\"url(#clip060)\" d=\"M573.985 1544.91 L581.623 1544.91 L581.623 1518.55 L573.313 1520.21 L573.313 1515.95 L581.577 1514.29 L586.253 1514.29 L586.253 1544.91 L593.892 1544.91 L593.892 1548.85 L573.985 1548.85 L573.985 1544.91 Z\" fill=\"#000000\" fill-rule=\"nonzero\" fill-opacity=\"1\" /><path clip-path=\"url(#clip060)\" d=\"M613.336 1517.37 Q609.725 1517.37 607.896 1520.93 Q606.091 1524.47 606.091 1531.6 Q606.091 1538.71 607.896 1542.27 Q609.725 1545.82 613.336 1545.82 Q616.97 1545.82 618.776 1542.27 Q620.605 1538.71 620.605 1531.6 Q620.605 1524.47 618.776 1520.93 Q616.97 1517.37 613.336 1517.37 M613.336 1513.66 Q619.146 1513.66 622.202 1518.27 Q625.281 1522.85 625.281 1531.6 Q625.281 1540.33 622.202 1544.94 Q619.146 1549.52 613.336 1549.52 Q607.526 1549.52 604.447 1544.94 Q601.392 1540.33 601.392 1531.6 Q601.392 1522.85 604.447 1518.27 Q607.526 1513.66 613.336 1513.66 Z\" fill=\"#000000\" fill-rule=\"nonzero\" fill-opacity=\"1\" /><path clip-path=\"url(#clip060)\" d=\"M1000.9 1544.91 L1017.22 1544.91 L1017.22 1548.85 L995.271 1548.85 L995.271 1544.91 Q997.933 1542.16 1002.52 1537.53 Q1007.12 1532.88 1008.3 1531.53 Q1010.55 1529.01 1011.43 1527.27 Q1012.33 1525.51 1012.33 1523.82 Q1012.33 1521.07 1010.39 1519.33 Q1008.47 1517.6 1005.36 1517.6 Q1003.16 1517.6 1000.71 1518.36 Q998.28 1519.13 995.503 1520.68 L995.503 1515.95 Q998.327 1514.82 1000.78 1514.24 Q1003.23 1513.66 1005.27 1513.66 Q1010.64 1513.66 1013.84 1516.35 Q1017.03 1519.03 1017.03 1523.52 Q1017.03 1525.65 1016.22 1527.57 Q1015.43 1529.47 1013.33 1532.07 Q1012.75 1532.74 1009.65 1535.95 Q1006.54 1539.15 1000.9 1544.91 Z\" fill=\"#000000\" fill-rule=\"nonzero\" fill-opacity=\"1\" /><path clip-path=\"url(#clip060)\" d=\"M1037.03 1517.37 Q1033.42 1517.37 1031.59 1520.93 Q1029.78 1524.47 1029.78 1531.6 Q1029.78 1538.71 1031.59 1542.27 Q1033.42 1545.82 1037.03 1545.82 Q1040.66 1545.82 1042.47 1542.27 Q1044.3 1538.71 1044.3 1531.6 Q1044.3 1524.47 1042.47 1520.93 Q1040.66 1517.37 1037.03 1517.37 M1037.03 1513.66 Q1042.84 1513.66 1045.9 1518.27 Q1048.97 1522.85 1048.97 1531.6 Q1048.97 1540.33 1045.9 1544.94 Q1042.84 1549.52 1037.03 1549.52 Q1031.22 1549.52 1028.14 1544.94 Q1025.09 1540.33 1025.09 1531.6 Q1025.09 1522.85 1028.14 1518.27 Q1031.22 1513.66 1037.03 1513.66 Z\" fill=\"#000000\" fill-rule=\"nonzero\" fill-opacity=\"1\" /><path clip-path=\"url(#clip060)\" d=\"M1433.79 1530.21 Q1437.15 1530.93 1439.02 1533.2 Q1440.92 1535.47 1440.92 1538.8 Q1440.92 1543.92 1437.4 1546.72 Q1433.88 1549.52 1427.4 1549.52 Q1425.23 1549.52 1422.91 1549.08 Q1420.62 1548.66 1418.17 1547.81 L1418.17 1543.29 Q1420.11 1544.43 1422.43 1545.01 Q1424.74 1545.58 1427.26 1545.58 Q1431.66 1545.58 1433.95 1543.85 Q1436.27 1542.11 1436.27 1538.8 Q1436.27 1535.75 1434.12 1534.03 Q1431.99 1532.3 1428.17 1532.3 L1424.14 1532.3 L1424.14 1528.45 L1428.35 1528.45 Q1431.8 1528.45 1433.63 1527.09 Q1435.46 1525.7 1435.46 1523.11 Q1435.46 1520.45 1433.56 1519.03 Q1431.68 1517.6 1428.17 1517.6 Q1426.25 1517.6 1424.05 1518.01 Q1421.85 1518.43 1419.21 1519.31 L1419.21 1515.14 Q1421.87 1514.4 1424.18 1514.03 Q1426.52 1513.66 1428.58 1513.66 Q1433.91 1513.66 1437.01 1516.09 Q1440.11 1518.5 1440.11 1522.62 Q1440.11 1525.49 1438.47 1527.48 Q1436.82 1529.45 1433.79 1530.21 Z\" fill=\"#000000\" fill-rule=\"nonzero\" fill-opacity=\"1\" /><path clip-path=\"url(#clip060)\" d=\"M1459.79 1517.37 Q1456.18 1517.37 1454.35 1520.93 Q1452.54 1524.47 1452.54 1531.6 Q1452.54 1538.71 1454.35 1542.27 Q1456.18 1545.82 1459.79 1545.82 Q1463.42 1545.82 1465.23 1542.27 Q1467.06 1538.71 1467.06 1531.6 Q1467.06 1524.47 1465.23 1520.93 Q1463.42 1517.37 1459.79 1517.37 M1459.79 1513.66 Q1465.6 1513.66 1468.65 1518.27 Q1471.73 1522.85 1471.73 1531.6 Q1471.73 1540.33 1468.65 1544.94 Q1465.6 1549.52 1459.79 1549.52 Q1453.98 1549.52 1450.9 1544.94 Q1447.84 1540.33 1447.84 1531.6 Q1447.84 1522.85 1450.9 1518.27 Q1453.98 1513.66 1459.79 1513.66 Z\" fill=\"#000000\" fill-rule=\"nonzero\" fill-opacity=\"1\" /><path clip-path=\"url(#clip060)\" d=\"M1855.95 1518.36 L1844.14 1536.81 L1855.95 1536.81 L1855.95 1518.36 M1854.72 1514.29 L1860.6 1514.29 L1860.6 1536.81 L1865.53 1536.81 L1865.53 1540.7 L1860.6 1540.7 L1860.6 1548.85 L1855.95 1548.85 L1855.95 1540.7 L1840.34 1540.7 L1840.34 1536.19 L1854.72 1514.29 Z\" fill=\"#000000\" fill-rule=\"nonzero\" fill-opacity=\"1\" /><path clip-path=\"url(#clip060)\" d=\"M1883.26 1517.37 Q1879.65 1517.37 1877.82 1520.93 Q1876.02 1524.47 1876.02 1531.6 Q1876.02 1538.71 1877.82 1542.27 Q1879.65 1545.82 1883.26 1545.82 Q1886.89 1545.82 1888.7 1542.27 Q1890.53 1538.71 1890.53 1531.6 Q1890.53 1524.47 1888.7 1520.93 Q1886.89 1517.37 1883.26 1517.37 M1883.26 1513.66 Q1889.07 1513.66 1892.13 1518.27 Q1895.21 1522.85 1895.21 1531.6 Q1895.21 1540.33 1892.13 1544.94 Q1889.07 1549.52 1883.26 1549.52 Q1877.45 1549.52 1874.37 1544.94 Q1871.32 1540.33 1871.32 1531.6 Q1871.32 1522.85 1874.37 1518.27 Q1877.45 1513.66 1883.26 1513.66 Z\" fill=\"#000000\" fill-rule=\"nonzero\" fill-opacity=\"1\" /><path clip-path=\"url(#clip060)\" d=\"M2265.3 1514.29 L2283.66 1514.29 L2283.66 1518.22 L2269.58 1518.22 L2269.58 1526.7 Q2270.6 1526.35 2271.62 1526.19 Q2272.64 1526 2273.66 1526 Q2279.44 1526 2282.82 1529.17 Q2286.2 1532.34 2286.2 1537.76 Q2286.2 1543.34 2282.73 1546.44 Q2279.26 1549.52 2272.94 1549.52 Q2270.76 1549.52 2268.49 1549.15 Q2266.25 1548.78 2263.84 1548.04 L2263.84 1543.34 Q2265.92 1544.47 2268.15 1545.03 Q2270.37 1545.58 2272.85 1545.58 Q2276.85 1545.58 2279.19 1543.48 Q2281.53 1541.37 2281.53 1537.76 Q2281.53 1534.15 2279.19 1532.04 Q2276.85 1529.94 2272.85 1529.94 Q2270.97 1529.94 2269.1 1530.35 Q2267.24 1530.77 2265.3 1531.65 L2265.3 1514.29 Z\" fill=\"#000000\" fill-rule=\"nonzero\" fill-opacity=\"1\" /><path clip-path=\"url(#clip060)\" d=\"M2305.42 1517.37 Q2301.8 1517.37 2299.98 1520.93 Q2298.17 1524.47 2298.17 1531.6 Q2298.17 1538.71 2299.98 1542.27 Q2301.8 1545.82 2305.42 1545.82 Q2309.05 1545.82 2310.86 1542.27 Q2312.68 1538.71 2312.68 1531.6 Q2312.68 1524.47 2310.86 1520.93 Q2309.05 1517.37 2305.42 1517.37 M2305.42 1513.66 Q2311.23 1513.66 2314.28 1518.27 Q2317.36 1522.85 2317.36 1531.6 Q2317.36 1540.33 2314.28 1544.94 Q2311.23 1549.52 2305.42 1549.52 Q2299.61 1549.52 2296.53 1544.94 Q2293.47 1540.33 2293.47 1531.6 Q2293.47 1522.85 2296.53 1518.27 Q2299.61 1513.66 2305.42 1513.66 Z\" fill=\"#000000\" fill-rule=\"nonzero\" fill-opacity=\"1\" /><polyline clip-path=\"url(#clip062)\" style=\"stroke:#000000; stroke-linecap:round; stroke-linejoin:round; stroke-width:2; stroke-opacity:0.1; fill:none\" points=\"156.598,1476.51 2352.76,1476.51 \"/>\n",
       "<polyline clip-path=\"url(#clip062)\" style=\"stroke:#000000; stroke-linecap:round; stroke-linejoin:round; stroke-width:2; stroke-opacity:0.1; fill:none\" points=\"156.598,1189.7 2352.76,1189.7 \"/>\n",
       "<polyline clip-path=\"url(#clip062)\" style=\"stroke:#000000; stroke-linecap:round; stroke-linejoin:round; stroke-width:2; stroke-opacity:0.1; fill:none\" points=\"156.598,902.9 2352.76,902.9 \"/>\n",
       "<polyline clip-path=\"url(#clip062)\" style=\"stroke:#000000; stroke-linecap:round; stroke-linejoin:round; stroke-width:2; stroke-opacity:0.1; fill:none\" points=\"156.598,616.095 2352.76,616.095 \"/>\n",
       "<polyline clip-path=\"url(#clip062)\" style=\"stroke:#000000; stroke-linecap:round; stroke-linejoin:round; stroke-width:2; stroke-opacity:0.1; fill:none\" points=\"156.598,329.29 2352.76,329.29 \"/>\n",
       "<polyline clip-path=\"url(#clip060)\" style=\"stroke:#000000; stroke-linecap:round; stroke-linejoin:round; stroke-width:4; stroke-opacity:1; fill:none\" points=\"156.598,1486.45 156.598,47.2441 \"/>\n",
       "<polyline clip-path=\"url(#clip060)\" style=\"stroke:#000000; stroke-linecap:round; stroke-linejoin:round; stroke-width:4; stroke-opacity:1; fill:none\" points=\"156.598,1476.51 175.496,1476.51 \"/>\n",
       "<polyline clip-path=\"url(#clip060)\" style=\"stroke:#000000; stroke-linecap:round; stroke-linejoin:round; stroke-width:4; stroke-opacity:1; fill:none\" points=\"156.598,1189.7 175.496,1189.7 \"/>\n",
       "<polyline clip-path=\"url(#clip060)\" style=\"stroke:#000000; stroke-linecap:round; stroke-linejoin:round; stroke-width:4; stroke-opacity:1; fill:none\" points=\"156.598,902.9 175.496,902.9 \"/>\n",
       "<polyline clip-path=\"url(#clip060)\" style=\"stroke:#000000; stroke-linecap:round; stroke-linejoin:round; stroke-width:4; stroke-opacity:1; fill:none\" points=\"156.598,616.095 175.496,616.095 \"/>\n",
       "<polyline clip-path=\"url(#clip060)\" style=\"stroke:#000000; stroke-linecap:round; stroke-linejoin:round; stroke-width:4; stroke-opacity:1; fill:none\" points=\"156.598,329.29 175.496,329.29 \"/>\n",
       "<path clip-path=\"url(#clip060)\" d=\"M63.4226 1462.31 Q59.8115 1462.31 57.9828 1465.87 Q56.1773 1469.41 56.1773 1476.54 Q56.1773 1483.65 57.9828 1487.22 Q59.8115 1490.76 63.4226 1490.76 Q67.0569 1490.76 68.8624 1487.22 Q70.6911 1483.65 70.6911 1476.54 Q70.6911 1469.41 68.8624 1465.87 Q67.0569 1462.31 63.4226 1462.31 M63.4226 1458.6 Q69.2328 1458.6 72.2883 1463.21 Q75.367 1467.79 75.367 1476.54 Q75.367 1485.27 72.2883 1489.88 Q69.2328 1494.46 63.4226 1494.46 Q57.6125 1494.46 54.5338 1489.88 Q51.4782 1485.27 51.4782 1476.54 Q51.4782 1467.79 54.5338 1463.21 Q57.6125 1458.6 63.4226 1458.6 Z\" fill=\"#000000\" fill-rule=\"nonzero\" fill-opacity=\"1\" /><path clip-path=\"url(#clip060)\" d=\"M83.5845 1487.91 L88.4688 1487.91 L88.4688 1493.79 L83.5845 1493.79 L83.5845 1487.91 Z\" fill=\"#000000\" fill-rule=\"nonzero\" fill-opacity=\"1\" /><path clip-path=\"url(#clip060)\" d=\"M108.654 1462.31 Q105.043 1462.31 103.214 1465.87 Q101.409 1469.41 101.409 1476.54 Q101.409 1483.65 103.214 1487.22 Q105.043 1490.76 108.654 1490.76 Q112.288 1490.76 114.094 1487.22 Q115.922 1483.65 115.922 1476.54 Q115.922 1469.41 114.094 1465.87 Q112.288 1462.31 108.654 1462.31 M108.654 1458.6 Q114.464 1458.6 117.52 1463.21 Q120.598 1467.79 120.598 1476.54 Q120.598 1485.27 117.52 1489.88 Q114.464 1494.46 108.654 1494.46 Q102.844 1494.46 99.765 1489.88 Q96.7095 1485.27 96.7095 1476.54 Q96.7095 1467.79 99.765 1463.21 Q102.844 1458.6 108.654 1458.6 Z\" fill=\"#000000\" fill-rule=\"nonzero\" fill-opacity=\"1\" /><path clip-path=\"url(#clip060)\" d=\"M65.0198 1175.5 Q61.4087 1175.5 59.58 1179.07 Q57.7745 1182.61 57.7745 1189.74 Q57.7745 1196.85 59.58 1200.41 Q61.4087 1203.95 65.0198 1203.95 Q68.6541 1203.95 70.4596 1200.41 Q72.2883 1196.85 72.2883 1189.74 Q72.2883 1182.61 70.4596 1179.07 Q68.6541 1175.5 65.0198 1175.5 M65.0198 1171.8 Q70.83 1171.8 73.8855 1176.41 Q76.9642 1180.99 76.9642 1189.74 Q76.9642 1198.47 73.8855 1203.07 Q70.83 1207.66 65.0198 1207.66 Q59.2097 1207.66 56.131 1203.07 Q53.0754 1198.47 53.0754 1189.74 Q53.0754 1180.99 56.131 1176.41 Q59.2097 1171.8 65.0198 1171.8 Z\" fill=\"#000000\" fill-rule=\"nonzero\" fill-opacity=\"1\" /><path clip-path=\"url(#clip060)\" d=\"M85.1818 1201.11 L90.066 1201.11 L90.066 1206.98 L85.1818 1206.98 L85.1818 1201.11 Z\" fill=\"#000000\" fill-rule=\"nonzero\" fill-opacity=\"1\" /><path clip-path=\"url(#clip060)\" d=\"M104.279 1203.05 L120.598 1203.05 L120.598 1206.98 L98.6539 1206.98 L98.6539 1203.05 Q101.316 1200.29 105.899 1195.67 Q110.506 1191.01 111.686 1189.67 Q113.932 1187.15 114.811 1185.41 Q115.714 1183.65 115.714 1181.96 Q115.714 1179.21 113.77 1177.47 Q111.848 1175.73 108.746 1175.73 Q106.547 1175.73 104.094 1176.5 Q101.663 1177.26 98.8854 1178.81 L98.8854 1174.09 Q101.709 1172.96 104.163 1172.38 Q106.617 1171.8 108.654 1171.8 Q114.024 1171.8 117.219 1174.48 Q120.413 1177.17 120.413 1181.66 Q120.413 1183.79 119.603 1185.71 Q118.816 1187.61 116.709 1190.2 Q116.131 1190.87 113.029 1194.09 Q109.927 1197.29 104.279 1203.05 Z\" fill=\"#000000\" fill-rule=\"nonzero\" fill-opacity=\"1\" /><path clip-path=\"url(#clip060)\" d=\"M62.9365 888.698 Q59.3254 888.698 57.4967 892.263 Q55.6912 895.805 55.6912 902.934 Q55.6912 910.041 57.4967 913.606 Q59.3254 917.147 62.9365 917.147 Q66.5707 917.147 68.3763 913.606 Q70.205 910.041 70.205 902.934 Q70.205 895.805 68.3763 892.263 Q66.5707 888.698 62.9365 888.698 M62.9365 884.995 Q68.7467 884.995 71.8022 889.601 Q74.8809 894.184 74.8809 902.934 Q74.8809 911.661 71.8022 916.268 Q68.7467 920.851 62.9365 920.851 Q57.1264 920.851 54.0477 916.268 Q50.9921 911.661 50.9921 902.934 Q50.9921 894.184 54.0477 889.601 Q57.1264 884.995 62.9365 884.995 Z\" fill=\"#000000\" fill-rule=\"nonzero\" fill-opacity=\"1\" /><path clip-path=\"url(#clip060)\" d=\"M83.0984 914.3 L87.9827 914.3 L87.9827 920.18 L83.0984 920.18 L83.0984 914.3 Z\" fill=\"#000000\" fill-rule=\"nonzero\" fill-opacity=\"1\" /><path clip-path=\"url(#clip060)\" d=\"M111.015 889.694 L99.2095 908.143 L111.015 908.143 L111.015 889.694 M109.788 885.62 L115.668 885.62 L115.668 908.143 L120.598 908.143 L120.598 912.031 L115.668 912.031 L115.668 920.18 L111.015 920.18 L111.015 912.031 L95.4132 912.031 L95.4132 907.518 L109.788 885.62 Z\" fill=\"#000000\" fill-rule=\"nonzero\" fill-opacity=\"1\" /><path clip-path=\"url(#clip060)\" d=\"M63.2606 601.893 Q59.6495 601.893 57.8208 605.458 Q56.0152 609 56.0152 616.129 Q56.0152 623.236 57.8208 626.801 Q59.6495 630.342 63.2606 630.342 Q66.8948 630.342 68.7004 626.801 Q70.5291 623.236 70.5291 616.129 Q70.5291 609 68.7004 605.458 Q66.8948 601.893 63.2606 601.893 M63.2606 598.19 Q69.0707 598.19 72.1263 602.796 Q75.205 607.379 75.205 616.129 Q75.205 624.856 72.1263 629.463 Q69.0707 634.046 63.2606 634.046 Q57.4504 634.046 54.3717 629.463 Q51.3162 624.856 51.3162 616.129 Q51.3162 607.379 54.3717 602.796 Q57.4504 598.19 63.2606 598.19 Z\" fill=\"#000000\" fill-rule=\"nonzero\" fill-opacity=\"1\" /><path clip-path=\"url(#clip060)\" d=\"M83.4225 627.495 L88.3067 627.495 L88.3067 633.375 L83.4225 633.375 L83.4225 627.495 Z\" fill=\"#000000\" fill-rule=\"nonzero\" fill-opacity=\"1\" /><path clip-path=\"url(#clip060)\" d=\"M109.071 614.231 Q105.922 614.231 104.071 616.384 Q102.242 618.537 102.242 622.287 Q102.242 626.014 104.071 628.189 Q105.922 630.342 109.071 630.342 Q112.219 630.342 114.047 628.189 Q115.899 626.014 115.899 622.287 Q115.899 618.537 114.047 616.384 Q112.219 614.231 109.071 614.231 M118.353 599.578 L118.353 603.838 Q116.594 603.004 114.788 602.565 Q113.006 602.125 111.246 602.125 Q106.617 602.125 104.163 605.25 Q101.733 608.375 101.385 614.694 Q102.751 612.68 104.811 611.615 Q106.871 610.527 109.348 610.527 Q114.557 610.527 117.566 613.699 Q120.598 616.847 120.598 622.287 Q120.598 627.611 117.45 630.828 Q114.302 634.046 109.071 634.046 Q103.075 634.046 99.9039 629.463 Q96.7326 624.856 96.7326 616.129 Q96.7326 607.935 100.621 603.074 Q104.51 598.19 111.061 598.19 Q112.82 598.19 114.603 598.537 Q116.408 598.884 118.353 599.578 Z\" fill=\"#000000\" fill-rule=\"nonzero\" fill-opacity=\"1\" /><path clip-path=\"url(#clip060)\" d=\"M63.5152 315.088 Q59.9041 315.088 58.0754 318.653 Q56.2699 322.195 56.2699 329.324 Q56.2699 336.431 58.0754 339.996 Q59.9041 343.537 63.5152 343.537 Q67.1494 343.537 68.955 339.996 Q70.7837 336.431 70.7837 329.324 Q70.7837 322.195 68.955 318.653 Q67.1494 315.088 63.5152 315.088 M63.5152 311.385 Q69.3254 311.385 72.3809 315.991 Q75.4596 320.574 75.4596 329.324 Q75.4596 338.051 72.3809 342.658 Q69.3254 347.241 63.5152 347.241 Q57.7051 347.241 54.6264 342.658 Q51.5708 338.051 51.5708 329.324 Q51.5708 320.574 54.6264 315.991 Q57.7051 311.385 63.5152 311.385 Z\" fill=\"#000000\" fill-rule=\"nonzero\" fill-opacity=\"1\" /><path clip-path=\"url(#clip060)\" d=\"M83.6771 340.69 L88.5614 340.69 L88.5614 346.57 L83.6771 346.57 L83.6771 340.69 Z\" fill=\"#000000\" fill-rule=\"nonzero\" fill-opacity=\"1\" /><path clip-path=\"url(#clip060)\" d=\"M108.746 330.158 Q105.413 330.158 103.492 331.94 Q101.594 333.722 101.594 336.847 Q101.594 339.972 103.492 341.755 Q105.413 343.537 108.746 343.537 Q112.08 343.537 114.001 341.755 Q115.922 339.949 115.922 336.847 Q115.922 333.722 114.001 331.94 Q112.103 330.158 108.746 330.158 M104.071 328.167 Q101.061 327.426 99.3715 325.366 Q97.7048 323.306 97.7048 320.343 Q97.7048 316.199 100.645 313.792 Q103.608 311.385 108.746 311.385 Q113.908 311.385 116.848 313.792 Q119.788 316.199 119.788 320.343 Q119.788 323.306 118.098 325.366 Q116.432 327.426 113.445 328.167 Q116.825 328.954 118.7 331.246 Q120.598 333.537 120.598 336.847 Q120.598 341.871 117.52 344.556 Q114.464 347.241 108.746 347.241 Q103.029 347.241 99.9502 344.556 Q96.8947 341.871 96.8947 336.847 Q96.8947 333.537 98.7928 331.246 Q100.691 328.954 104.071 328.167 M102.358 320.783 Q102.358 323.468 104.024 324.972 Q105.714 326.477 108.746 326.477 Q111.756 326.477 113.445 324.972 Q115.158 323.468 115.158 320.783 Q115.158 318.098 113.445 316.593 Q111.756 315.088 108.746 315.088 Q105.714 315.088 104.024 316.593 Q102.358 318.098 102.358 320.783 Z\" fill=\"#000000\" fill-rule=\"nonzero\" fill-opacity=\"1\" /><path clip-path=\"url(#clip062)\" d=\"M218.754 508.995 L261.036 1445.72 L303.319 1252.01 L345.601 1221.41 L387.884 346.701 L430.167 1083.69 L472.449 1296.7 L514.732 1434.66 L557.014 1279.74 L599.297 1152.19 L641.58 1314.44 L683.862 1171.02 L726.145 129.07 L768.427 87.9763 L810.71 1021.34 L852.992 332.357 L895.275 726.211 L937.558 773.481 L979.84 1200.72 L1022.12 1090.7 L1064.41 1123.26 L1106.69 1043.09 L1148.97 1137.87 L1191.25 1134.06 L1233.54 1168.96 L1275.82 1146.27 L1318.1 1169.85 L1360.38 1244.9 L1402.67 1229.4 L1444.95 913.853 L1487.23 909.534 L1529.51 875.863 L1571.8 161.096 L1614.08 520.923 L1656.36 863.651 L1698.64 773.087 L1740.93 286.49 L1783.21 849.109 L1825.49 1339.33 L1867.77 579.131 L1910.06 419.847 L1952.34 265.337 L1994.62 400.101 L2036.9 885.443 L2079.19 442.015 L2121.47 358.319 L2163.75 232.086 L2206.04 515.746 L2248.32 1332.02 L2290.6 1098.11 L2290.6 1098.11 L2248.32 1332.02 L2206.04 515.746 L2163.75 232.086 L2121.47 358.319 L2079.19 442.015 L2036.9 885.443 L1994.62 400.101 L1952.34 265.337 L1910.06 419.847 L1867.77 579.131 L1825.49 1339.33 L1783.21 849.109 L1740.93 286.49 L1698.64 773.087 L1656.36 863.651 L1614.08 520.923 L1571.8 161.096 L1529.51 875.863 L1487.23 909.534 L1444.95 212.086 L1402.67 393.486 L1360.38 423.056 L1318.1 327.145 L1275.82 318.498 L1233.54 360.46 L1191.25 291.951 L1148.97 320.764 L1106.69 259.525 L1064.41 313.049 L1022.12 263.668 L979.84 1200.72 L937.558 773.481 L895.275 726.211 L852.992 332.357 L810.71 1021.34 L768.427 87.9763 L726.145 129.07 L683.862 1171.02 L641.58 1314.44 L599.297 1152.19 L557.014 1279.74 L514.732 1434.66 L472.449 1296.7 L430.167 1083.69 L387.884 346.701 L345.601 1221.41 L303.319 1252.01 L261.036 1445.72 L218.754 508.995  Z\" fill=\"#009af9\" fill-rule=\"evenodd\" fill-opacity=\"0.5\"/>\n",
       "<polyline clip-path=\"url(#clip062)\" style=\"stroke:#009af9; stroke-linecap:round; stroke-linejoin:round; stroke-width:4; stroke-opacity:1; fill:none\" points=\"218.754,508.995 261.036,1445.72 303.319,1252.01 345.601,1221.41 387.884,346.701 430.167,1083.69 472.449,1296.7 514.732,1434.66 557.014,1279.74 599.297,1152.19 641.58,1314.44 683.862,1171.02 726.145,129.07 768.427,87.9763 810.71,1021.34 852.992,332.357 895.275,726.211 937.558,773.481 979.84,1200.72 1022.12,677.186 1064.41,718.153 1106.69,651.306 1148.97,729.316 1191.25,713.004 1233.54,764.708 1275.82,732.385 1318.1,748.499 1360.38,833.977 1402.67,811.443 1444.95,562.97 1487.23,909.534 1529.51,875.863 1571.8,161.096 1614.08,520.923 1656.36,863.651 1698.64,773.087 1740.93,286.49 1783.21,849.109 1825.49,1339.33 1867.77,579.131 1910.06,419.847 1952.34,265.337 1994.62,400.101 2036.9,885.443 2079.19,442.015 2121.47,358.319 2163.75,232.086 2206.04,515.746 2248.32,1332.02 2290.6,1098.11 \"/>\n",
       "<path clip-path=\"url(#clip060)\" d=\"M229.803 198.898 L501.85 198.898 L501.85 95.2176 L229.803 95.2176  Z\" fill=\"#ffffff\" fill-rule=\"evenodd\" fill-opacity=\"1\"/>\n",
       "<polyline clip-path=\"url(#clip060)\" style=\"stroke:#000000; stroke-linecap:round; stroke-linejoin:round; stroke-width:4; stroke-opacity:1; fill:none\" points=\"229.803,198.898 501.85,198.898 501.85,95.2176 229.803,95.2176 229.803,198.898 \"/>\n",
       "<polyline clip-path=\"url(#clip060)\" style=\"stroke:#009af9; stroke-linecap:round; stroke-linejoin:round; stroke-width:4; stroke-opacity:1; fill:none\" points=\"254.205,147.058 400.616,147.058 \"/>\n",
       "<path clip-path=\"url(#clip060)\" d=\"M438.86 166.745 Q437.054 171.375 435.342 172.787 Q433.629 174.199 430.758 174.199 L427.355 174.199 L427.355 170.634 L429.855 170.634 Q431.615 170.634 432.587 169.8 Q433.559 168.967 434.74 165.865 L435.504 163.921 L425.018 138.412 L429.531 138.412 L437.633 158.689 L445.735 138.412 L450.249 138.412 L438.86 166.745 Z\" fill=\"#000000\" fill-rule=\"nonzero\" fill-opacity=\"1\" /><path clip-path=\"url(#clip060)\" d=\"M457.54 160.402 L465.179 160.402 L465.179 134.037 L456.869 135.703 L456.869 131.444 L465.133 129.778 L469.809 129.778 L469.809 160.402 L477.448 160.402 L477.448 164.338 L457.54 164.338 L457.54 160.402 Z\" fill=\"#000000\" fill-rule=\"nonzero\" fill-opacity=\"1\" /></svg>\n"
      ],
      "text/html": [
       "<?xml version=\"1.0\" encoding=\"utf-8\"?>\n",
       "<svg xmlns=\"http://www.w3.org/2000/svg\" xmlns:xlink=\"http://www.w3.org/1999/xlink\" width=\"600\" height=\"400\" viewBox=\"0 0 2400 1600\">\n",
       "<defs>\n",
       "  <clipPath id=\"clip110\">\n",
       "    <rect x=\"0\" y=\"0\" width=\"2400\" height=\"1600\"/>\n",
       "  </clipPath>\n",
       "</defs>\n",
       "<path clip-path=\"url(#clip110)\" d=\"M0 1600 L2400 1600 L2400 8.88178e-14 L0 8.88178e-14  Z\" fill=\"#ffffff\" fill-rule=\"evenodd\" fill-opacity=\"1\"/>\n",
       "<defs>\n",
       "  <clipPath id=\"clip111\">\n",
       "    <rect x=\"480\" y=\"0\" width=\"1681\" height=\"1600\"/>\n",
       "  </clipPath>\n",
       "</defs>\n",
       "<path clip-path=\"url(#clip110)\" d=\"M156.598 1486.45 L2352.76 1486.45 L2352.76 47.2441 L156.598 47.2441  Z\" fill=\"#ffffff\" fill-rule=\"evenodd\" fill-opacity=\"1\"/>\n",
       "<defs>\n",
       "  <clipPath id=\"clip112\">\n",
       "    <rect x=\"156\" y=\"47\" width=\"2197\" height=\"1440\"/>\n",
       "  </clipPath>\n",
       "</defs>\n",
       "<polyline clip-path=\"url(#clip112)\" style=\"stroke:#000000; stroke-linecap:round; stroke-linejoin:round; stroke-width:2; stroke-opacity:0.1; fill:none\" points=\"176.471,1486.45 176.471,47.2441 \"/>\n",
       "<polyline clip-path=\"url(#clip112)\" style=\"stroke:#000000; stroke-linecap:round; stroke-linejoin:round; stroke-width:2; stroke-opacity:0.1; fill:none\" points=\"599.297,1486.45 599.297,47.2441 \"/>\n",
       "<polyline clip-path=\"url(#clip112)\" style=\"stroke:#000000; stroke-linecap:round; stroke-linejoin:round; stroke-width:2; stroke-opacity:0.1; fill:none\" points=\"1022.12,1486.45 1022.12,47.2441 \"/>\n",
       "<polyline clip-path=\"url(#clip112)\" style=\"stroke:#000000; stroke-linecap:round; stroke-linejoin:round; stroke-width:2; stroke-opacity:0.1; fill:none\" points=\"1444.95,1486.45 1444.95,47.2441 \"/>\n",
       "<polyline clip-path=\"url(#clip112)\" style=\"stroke:#000000; stroke-linecap:round; stroke-linejoin:round; stroke-width:2; stroke-opacity:0.1; fill:none\" points=\"1867.77,1486.45 1867.77,47.2441 \"/>\n",
       "<polyline clip-path=\"url(#clip112)\" style=\"stroke:#000000; stroke-linecap:round; stroke-linejoin:round; stroke-width:2; stroke-opacity:0.1; fill:none\" points=\"2290.6,1486.45 2290.6,47.2441 \"/>\n",
       "<polyline clip-path=\"url(#clip110)\" style=\"stroke:#000000; stroke-linecap:round; stroke-linejoin:round; stroke-width:4; stroke-opacity:1; fill:none\" points=\"156.598,1486.45 2352.76,1486.45 \"/>\n",
       "<polyline clip-path=\"url(#clip110)\" style=\"stroke:#000000; stroke-linecap:round; stroke-linejoin:round; stroke-width:4; stroke-opacity:1; fill:none\" points=\"176.471,1486.45 176.471,1467.55 \"/>\n",
       "<polyline clip-path=\"url(#clip110)\" style=\"stroke:#000000; stroke-linecap:round; stroke-linejoin:round; stroke-width:4; stroke-opacity:1; fill:none\" points=\"599.297,1486.45 599.297,1467.55 \"/>\n",
       "<polyline clip-path=\"url(#clip110)\" style=\"stroke:#000000; stroke-linecap:round; stroke-linejoin:round; stroke-width:4; stroke-opacity:1; fill:none\" points=\"1022.12,1486.45 1022.12,1467.55 \"/>\n",
       "<polyline clip-path=\"url(#clip110)\" style=\"stroke:#000000; stroke-linecap:round; stroke-linejoin:round; stroke-width:4; stroke-opacity:1; fill:none\" points=\"1444.95,1486.45 1444.95,1467.55 \"/>\n",
       "<polyline clip-path=\"url(#clip110)\" style=\"stroke:#000000; stroke-linecap:round; stroke-linejoin:round; stroke-width:4; stroke-opacity:1; fill:none\" points=\"1867.77,1486.45 1867.77,1467.55 \"/>\n",
       "<polyline clip-path=\"url(#clip110)\" style=\"stroke:#000000; stroke-linecap:round; stroke-linejoin:round; stroke-width:4; stroke-opacity:1; fill:none\" points=\"2290.6,1486.45 2290.6,1467.55 \"/>\n",
       "<path clip-path=\"url(#clip110)\" d=\"M176.471 1517.37 Q172.86 1517.37 171.031 1520.93 Q169.226 1524.47 169.226 1531.6 Q169.226 1538.71 171.031 1542.27 Q172.86 1545.82 176.471 1545.82 Q180.105 1545.82 181.911 1542.27 Q183.74 1538.71 183.74 1531.6 Q183.74 1524.47 181.911 1520.93 Q180.105 1517.37 176.471 1517.37 M176.471 1513.66 Q182.281 1513.66 185.337 1518.27 Q188.415 1522.85 188.415 1531.6 Q188.415 1540.33 185.337 1544.94 Q182.281 1549.52 176.471 1549.52 Q170.661 1549.52 167.582 1544.94 Q164.527 1540.33 164.527 1531.6 Q164.527 1522.85 167.582 1518.27 Q170.661 1513.66 176.471 1513.66 Z\" fill=\"#000000\" fill-rule=\"nonzero\" fill-opacity=\"1\" /><path clip-path=\"url(#clip110)\" d=\"M573.985 1544.91 L581.623 1544.91 L581.623 1518.55 L573.313 1520.21 L573.313 1515.95 L581.577 1514.29 L586.253 1514.29 L586.253 1544.91 L593.892 1544.91 L593.892 1548.85 L573.985 1548.85 L573.985 1544.91 Z\" fill=\"#000000\" fill-rule=\"nonzero\" fill-opacity=\"1\" /><path clip-path=\"url(#clip110)\" d=\"M613.336 1517.37 Q609.725 1517.37 607.896 1520.93 Q606.091 1524.47 606.091 1531.6 Q606.091 1538.71 607.896 1542.27 Q609.725 1545.82 613.336 1545.82 Q616.97 1545.82 618.776 1542.27 Q620.605 1538.71 620.605 1531.6 Q620.605 1524.47 618.776 1520.93 Q616.97 1517.37 613.336 1517.37 M613.336 1513.66 Q619.146 1513.66 622.202 1518.27 Q625.281 1522.85 625.281 1531.6 Q625.281 1540.33 622.202 1544.94 Q619.146 1549.52 613.336 1549.52 Q607.526 1549.52 604.447 1544.94 Q601.392 1540.33 601.392 1531.6 Q601.392 1522.85 604.447 1518.27 Q607.526 1513.66 613.336 1513.66 Z\" fill=\"#000000\" fill-rule=\"nonzero\" fill-opacity=\"1\" /><path clip-path=\"url(#clip110)\" d=\"M1000.9 1544.91 L1017.22 1544.91 L1017.22 1548.85 L995.271 1548.85 L995.271 1544.91 Q997.933 1542.16 1002.52 1537.53 Q1007.12 1532.88 1008.3 1531.53 Q1010.55 1529.01 1011.43 1527.27 Q1012.33 1525.51 1012.33 1523.82 Q1012.33 1521.07 1010.39 1519.33 Q1008.47 1517.6 1005.36 1517.6 Q1003.16 1517.6 1000.71 1518.36 Q998.28 1519.13 995.503 1520.68 L995.503 1515.95 Q998.327 1514.82 1000.78 1514.24 Q1003.23 1513.66 1005.27 1513.66 Q1010.64 1513.66 1013.84 1516.35 Q1017.03 1519.03 1017.03 1523.52 Q1017.03 1525.65 1016.22 1527.57 Q1015.43 1529.47 1013.33 1532.07 Q1012.75 1532.74 1009.65 1535.95 Q1006.54 1539.15 1000.9 1544.91 Z\" fill=\"#000000\" fill-rule=\"nonzero\" fill-opacity=\"1\" /><path clip-path=\"url(#clip110)\" d=\"M1037.03 1517.37 Q1033.42 1517.37 1031.59 1520.93 Q1029.78 1524.47 1029.78 1531.6 Q1029.78 1538.71 1031.59 1542.27 Q1033.42 1545.82 1037.03 1545.82 Q1040.66 1545.82 1042.47 1542.27 Q1044.3 1538.71 1044.3 1531.6 Q1044.3 1524.47 1042.47 1520.93 Q1040.66 1517.37 1037.03 1517.37 M1037.03 1513.66 Q1042.84 1513.66 1045.9 1518.27 Q1048.97 1522.85 1048.97 1531.6 Q1048.97 1540.33 1045.9 1544.94 Q1042.84 1549.52 1037.03 1549.52 Q1031.22 1549.52 1028.14 1544.94 Q1025.09 1540.33 1025.09 1531.6 Q1025.09 1522.85 1028.14 1518.27 Q1031.22 1513.66 1037.03 1513.66 Z\" fill=\"#000000\" fill-rule=\"nonzero\" fill-opacity=\"1\" /><path clip-path=\"url(#clip110)\" d=\"M1433.79 1530.21 Q1437.15 1530.93 1439.02 1533.2 Q1440.92 1535.47 1440.92 1538.8 Q1440.92 1543.92 1437.4 1546.72 Q1433.88 1549.52 1427.4 1549.52 Q1425.23 1549.52 1422.91 1549.08 Q1420.62 1548.66 1418.17 1547.81 L1418.17 1543.29 Q1420.11 1544.43 1422.43 1545.01 Q1424.74 1545.58 1427.26 1545.58 Q1431.66 1545.58 1433.95 1543.85 Q1436.27 1542.11 1436.27 1538.8 Q1436.27 1535.75 1434.12 1534.03 Q1431.99 1532.3 1428.17 1532.3 L1424.14 1532.3 L1424.14 1528.45 L1428.35 1528.45 Q1431.8 1528.45 1433.63 1527.09 Q1435.46 1525.7 1435.46 1523.11 Q1435.46 1520.45 1433.56 1519.03 Q1431.68 1517.6 1428.17 1517.6 Q1426.25 1517.6 1424.05 1518.01 Q1421.85 1518.43 1419.21 1519.31 L1419.21 1515.14 Q1421.87 1514.4 1424.18 1514.03 Q1426.52 1513.66 1428.58 1513.66 Q1433.91 1513.66 1437.01 1516.09 Q1440.11 1518.5 1440.11 1522.62 Q1440.11 1525.49 1438.47 1527.48 Q1436.82 1529.45 1433.79 1530.21 Z\" fill=\"#000000\" fill-rule=\"nonzero\" fill-opacity=\"1\" /><path clip-path=\"url(#clip110)\" d=\"M1459.79 1517.37 Q1456.18 1517.37 1454.35 1520.93 Q1452.54 1524.47 1452.54 1531.6 Q1452.54 1538.71 1454.35 1542.27 Q1456.18 1545.82 1459.79 1545.82 Q1463.42 1545.82 1465.23 1542.27 Q1467.06 1538.71 1467.06 1531.6 Q1467.06 1524.47 1465.23 1520.93 Q1463.42 1517.37 1459.79 1517.37 M1459.79 1513.66 Q1465.6 1513.66 1468.65 1518.27 Q1471.73 1522.85 1471.73 1531.6 Q1471.73 1540.33 1468.65 1544.94 Q1465.6 1549.52 1459.79 1549.52 Q1453.98 1549.52 1450.9 1544.94 Q1447.84 1540.33 1447.84 1531.6 Q1447.84 1522.85 1450.9 1518.27 Q1453.98 1513.66 1459.79 1513.66 Z\" fill=\"#000000\" fill-rule=\"nonzero\" fill-opacity=\"1\" /><path clip-path=\"url(#clip110)\" d=\"M1855.95 1518.36 L1844.14 1536.81 L1855.95 1536.81 L1855.95 1518.36 M1854.72 1514.29 L1860.6 1514.29 L1860.6 1536.81 L1865.53 1536.81 L1865.53 1540.7 L1860.6 1540.7 L1860.6 1548.85 L1855.95 1548.85 L1855.95 1540.7 L1840.34 1540.7 L1840.34 1536.19 L1854.72 1514.29 Z\" fill=\"#000000\" fill-rule=\"nonzero\" fill-opacity=\"1\" /><path clip-path=\"url(#clip110)\" d=\"M1883.26 1517.37 Q1879.65 1517.37 1877.82 1520.93 Q1876.02 1524.47 1876.02 1531.6 Q1876.02 1538.71 1877.82 1542.27 Q1879.65 1545.82 1883.26 1545.82 Q1886.89 1545.82 1888.7 1542.27 Q1890.53 1538.71 1890.53 1531.6 Q1890.53 1524.47 1888.7 1520.93 Q1886.89 1517.37 1883.26 1517.37 M1883.26 1513.66 Q1889.07 1513.66 1892.13 1518.27 Q1895.21 1522.85 1895.21 1531.6 Q1895.21 1540.33 1892.13 1544.94 Q1889.07 1549.52 1883.26 1549.52 Q1877.45 1549.52 1874.37 1544.94 Q1871.32 1540.33 1871.32 1531.6 Q1871.32 1522.85 1874.37 1518.27 Q1877.45 1513.66 1883.26 1513.66 Z\" fill=\"#000000\" fill-rule=\"nonzero\" fill-opacity=\"1\" /><path clip-path=\"url(#clip110)\" d=\"M2265.3 1514.29 L2283.66 1514.29 L2283.66 1518.22 L2269.58 1518.22 L2269.58 1526.7 Q2270.6 1526.35 2271.62 1526.19 Q2272.64 1526 2273.66 1526 Q2279.44 1526 2282.82 1529.17 Q2286.2 1532.34 2286.2 1537.76 Q2286.2 1543.34 2282.73 1546.44 Q2279.26 1549.52 2272.94 1549.52 Q2270.76 1549.52 2268.49 1549.15 Q2266.25 1548.78 2263.84 1548.04 L2263.84 1543.34 Q2265.92 1544.47 2268.15 1545.03 Q2270.37 1545.58 2272.85 1545.58 Q2276.85 1545.58 2279.19 1543.48 Q2281.53 1541.37 2281.53 1537.76 Q2281.53 1534.15 2279.19 1532.04 Q2276.85 1529.94 2272.85 1529.94 Q2270.97 1529.94 2269.1 1530.35 Q2267.24 1530.77 2265.3 1531.65 L2265.3 1514.29 Z\" fill=\"#000000\" fill-rule=\"nonzero\" fill-opacity=\"1\" /><path clip-path=\"url(#clip110)\" d=\"M2305.42 1517.37 Q2301.8 1517.37 2299.98 1520.93 Q2298.17 1524.47 2298.17 1531.6 Q2298.17 1538.71 2299.98 1542.27 Q2301.8 1545.82 2305.42 1545.82 Q2309.05 1545.82 2310.86 1542.27 Q2312.68 1538.71 2312.68 1531.6 Q2312.68 1524.47 2310.86 1520.93 Q2309.05 1517.37 2305.42 1517.37 M2305.42 1513.66 Q2311.23 1513.66 2314.28 1518.27 Q2317.36 1522.85 2317.36 1531.6 Q2317.36 1540.33 2314.28 1544.94 Q2311.23 1549.52 2305.42 1549.52 Q2299.61 1549.52 2296.53 1544.94 Q2293.47 1540.33 2293.47 1531.6 Q2293.47 1522.85 2296.53 1518.27 Q2299.61 1513.66 2305.42 1513.66 Z\" fill=\"#000000\" fill-rule=\"nonzero\" fill-opacity=\"1\" /><polyline clip-path=\"url(#clip112)\" style=\"stroke:#000000; stroke-linecap:round; stroke-linejoin:round; stroke-width:2; stroke-opacity:0.1; fill:none\" points=\"156.598,1476.51 2352.76,1476.51 \"/>\n",
       "<polyline clip-path=\"url(#clip112)\" style=\"stroke:#000000; stroke-linecap:round; stroke-linejoin:round; stroke-width:2; stroke-opacity:0.1; fill:none\" points=\"156.598,1189.7 2352.76,1189.7 \"/>\n",
       "<polyline clip-path=\"url(#clip112)\" style=\"stroke:#000000; stroke-linecap:round; stroke-linejoin:round; stroke-width:2; stroke-opacity:0.1; fill:none\" points=\"156.598,902.9 2352.76,902.9 \"/>\n",
       "<polyline clip-path=\"url(#clip112)\" style=\"stroke:#000000; stroke-linecap:round; stroke-linejoin:round; stroke-width:2; stroke-opacity:0.1; fill:none\" points=\"156.598,616.095 2352.76,616.095 \"/>\n",
       "<polyline clip-path=\"url(#clip112)\" style=\"stroke:#000000; stroke-linecap:round; stroke-linejoin:round; stroke-width:2; stroke-opacity:0.1; fill:none\" points=\"156.598,329.29 2352.76,329.29 \"/>\n",
       "<polyline clip-path=\"url(#clip110)\" style=\"stroke:#000000; stroke-linecap:round; stroke-linejoin:round; stroke-width:4; stroke-opacity:1; fill:none\" points=\"156.598,1486.45 156.598,47.2441 \"/>\n",
       "<polyline clip-path=\"url(#clip110)\" style=\"stroke:#000000; stroke-linecap:round; stroke-linejoin:round; stroke-width:4; stroke-opacity:1; fill:none\" points=\"156.598,1476.51 175.496,1476.51 \"/>\n",
       "<polyline clip-path=\"url(#clip110)\" style=\"stroke:#000000; stroke-linecap:round; stroke-linejoin:round; stroke-width:4; stroke-opacity:1; fill:none\" points=\"156.598,1189.7 175.496,1189.7 \"/>\n",
       "<polyline clip-path=\"url(#clip110)\" style=\"stroke:#000000; stroke-linecap:round; stroke-linejoin:round; stroke-width:4; stroke-opacity:1; fill:none\" points=\"156.598,902.9 175.496,902.9 \"/>\n",
       "<polyline clip-path=\"url(#clip110)\" style=\"stroke:#000000; stroke-linecap:round; stroke-linejoin:round; stroke-width:4; stroke-opacity:1; fill:none\" points=\"156.598,616.095 175.496,616.095 \"/>\n",
       "<polyline clip-path=\"url(#clip110)\" style=\"stroke:#000000; stroke-linecap:round; stroke-linejoin:round; stroke-width:4; stroke-opacity:1; fill:none\" points=\"156.598,329.29 175.496,329.29 \"/>\n",
       "<path clip-path=\"url(#clip110)\" d=\"M63.4226 1462.31 Q59.8115 1462.31 57.9828 1465.87 Q56.1773 1469.41 56.1773 1476.54 Q56.1773 1483.65 57.9828 1487.22 Q59.8115 1490.76 63.4226 1490.76 Q67.0569 1490.76 68.8624 1487.22 Q70.6911 1483.65 70.6911 1476.54 Q70.6911 1469.41 68.8624 1465.87 Q67.0569 1462.31 63.4226 1462.31 M63.4226 1458.6 Q69.2328 1458.6 72.2883 1463.21 Q75.367 1467.79 75.367 1476.54 Q75.367 1485.27 72.2883 1489.88 Q69.2328 1494.46 63.4226 1494.46 Q57.6125 1494.46 54.5338 1489.88 Q51.4782 1485.27 51.4782 1476.54 Q51.4782 1467.79 54.5338 1463.21 Q57.6125 1458.6 63.4226 1458.6 Z\" fill=\"#000000\" fill-rule=\"nonzero\" fill-opacity=\"1\" /><path clip-path=\"url(#clip110)\" d=\"M83.5845 1487.91 L88.4688 1487.91 L88.4688 1493.79 L83.5845 1493.79 L83.5845 1487.91 Z\" fill=\"#000000\" fill-rule=\"nonzero\" fill-opacity=\"1\" /><path clip-path=\"url(#clip110)\" d=\"M108.654 1462.31 Q105.043 1462.31 103.214 1465.87 Q101.409 1469.41 101.409 1476.54 Q101.409 1483.65 103.214 1487.22 Q105.043 1490.76 108.654 1490.76 Q112.288 1490.76 114.094 1487.22 Q115.922 1483.65 115.922 1476.54 Q115.922 1469.41 114.094 1465.87 Q112.288 1462.31 108.654 1462.31 M108.654 1458.6 Q114.464 1458.6 117.52 1463.21 Q120.598 1467.79 120.598 1476.54 Q120.598 1485.27 117.52 1489.88 Q114.464 1494.46 108.654 1494.46 Q102.844 1494.46 99.765 1489.88 Q96.7095 1485.27 96.7095 1476.54 Q96.7095 1467.79 99.765 1463.21 Q102.844 1458.6 108.654 1458.6 Z\" fill=\"#000000\" fill-rule=\"nonzero\" fill-opacity=\"1\" /><path clip-path=\"url(#clip110)\" d=\"M65.0198 1175.5 Q61.4087 1175.5 59.58 1179.07 Q57.7745 1182.61 57.7745 1189.74 Q57.7745 1196.85 59.58 1200.41 Q61.4087 1203.95 65.0198 1203.95 Q68.6541 1203.95 70.4596 1200.41 Q72.2883 1196.85 72.2883 1189.74 Q72.2883 1182.61 70.4596 1179.07 Q68.6541 1175.5 65.0198 1175.5 M65.0198 1171.8 Q70.83 1171.8 73.8855 1176.41 Q76.9642 1180.99 76.9642 1189.74 Q76.9642 1198.47 73.8855 1203.07 Q70.83 1207.66 65.0198 1207.66 Q59.2097 1207.66 56.131 1203.07 Q53.0754 1198.47 53.0754 1189.74 Q53.0754 1180.99 56.131 1176.41 Q59.2097 1171.8 65.0198 1171.8 Z\" fill=\"#000000\" fill-rule=\"nonzero\" fill-opacity=\"1\" /><path clip-path=\"url(#clip110)\" d=\"M85.1818 1201.11 L90.066 1201.11 L90.066 1206.98 L85.1818 1206.98 L85.1818 1201.11 Z\" fill=\"#000000\" fill-rule=\"nonzero\" fill-opacity=\"1\" /><path clip-path=\"url(#clip110)\" d=\"M104.279 1203.05 L120.598 1203.05 L120.598 1206.98 L98.6539 1206.98 L98.6539 1203.05 Q101.316 1200.29 105.899 1195.67 Q110.506 1191.01 111.686 1189.67 Q113.932 1187.15 114.811 1185.41 Q115.714 1183.65 115.714 1181.96 Q115.714 1179.21 113.77 1177.47 Q111.848 1175.73 108.746 1175.73 Q106.547 1175.73 104.094 1176.5 Q101.663 1177.26 98.8854 1178.81 L98.8854 1174.09 Q101.709 1172.96 104.163 1172.38 Q106.617 1171.8 108.654 1171.8 Q114.024 1171.8 117.219 1174.48 Q120.413 1177.17 120.413 1181.66 Q120.413 1183.79 119.603 1185.71 Q118.816 1187.61 116.709 1190.2 Q116.131 1190.87 113.029 1194.09 Q109.927 1197.29 104.279 1203.05 Z\" fill=\"#000000\" fill-rule=\"nonzero\" fill-opacity=\"1\" /><path clip-path=\"url(#clip110)\" d=\"M62.9365 888.698 Q59.3254 888.698 57.4967 892.263 Q55.6912 895.805 55.6912 902.934 Q55.6912 910.041 57.4967 913.606 Q59.3254 917.147 62.9365 917.147 Q66.5707 917.147 68.3763 913.606 Q70.205 910.041 70.205 902.934 Q70.205 895.805 68.3763 892.263 Q66.5707 888.698 62.9365 888.698 M62.9365 884.995 Q68.7467 884.995 71.8022 889.601 Q74.8809 894.184 74.8809 902.934 Q74.8809 911.661 71.8022 916.268 Q68.7467 920.851 62.9365 920.851 Q57.1264 920.851 54.0477 916.268 Q50.9921 911.661 50.9921 902.934 Q50.9921 894.184 54.0477 889.601 Q57.1264 884.995 62.9365 884.995 Z\" fill=\"#000000\" fill-rule=\"nonzero\" fill-opacity=\"1\" /><path clip-path=\"url(#clip110)\" d=\"M83.0984 914.3 L87.9827 914.3 L87.9827 920.18 L83.0984 920.18 L83.0984 914.3 Z\" fill=\"#000000\" fill-rule=\"nonzero\" fill-opacity=\"1\" /><path clip-path=\"url(#clip110)\" d=\"M111.015 889.694 L99.2095 908.143 L111.015 908.143 L111.015 889.694 M109.788 885.62 L115.668 885.62 L115.668 908.143 L120.598 908.143 L120.598 912.031 L115.668 912.031 L115.668 920.18 L111.015 920.18 L111.015 912.031 L95.4132 912.031 L95.4132 907.518 L109.788 885.62 Z\" fill=\"#000000\" fill-rule=\"nonzero\" fill-opacity=\"1\" /><path clip-path=\"url(#clip110)\" d=\"M63.2606 601.893 Q59.6495 601.893 57.8208 605.458 Q56.0152 609 56.0152 616.129 Q56.0152 623.236 57.8208 626.801 Q59.6495 630.342 63.2606 630.342 Q66.8948 630.342 68.7004 626.801 Q70.5291 623.236 70.5291 616.129 Q70.5291 609 68.7004 605.458 Q66.8948 601.893 63.2606 601.893 M63.2606 598.19 Q69.0707 598.19 72.1263 602.796 Q75.205 607.379 75.205 616.129 Q75.205 624.856 72.1263 629.463 Q69.0707 634.046 63.2606 634.046 Q57.4504 634.046 54.3717 629.463 Q51.3162 624.856 51.3162 616.129 Q51.3162 607.379 54.3717 602.796 Q57.4504 598.19 63.2606 598.19 Z\" fill=\"#000000\" fill-rule=\"nonzero\" fill-opacity=\"1\" /><path clip-path=\"url(#clip110)\" d=\"M83.4225 627.495 L88.3067 627.495 L88.3067 633.375 L83.4225 633.375 L83.4225 627.495 Z\" fill=\"#000000\" fill-rule=\"nonzero\" fill-opacity=\"1\" /><path clip-path=\"url(#clip110)\" d=\"M109.071 614.231 Q105.922 614.231 104.071 616.384 Q102.242 618.537 102.242 622.287 Q102.242 626.014 104.071 628.189 Q105.922 630.342 109.071 630.342 Q112.219 630.342 114.047 628.189 Q115.899 626.014 115.899 622.287 Q115.899 618.537 114.047 616.384 Q112.219 614.231 109.071 614.231 M118.353 599.578 L118.353 603.838 Q116.594 603.004 114.788 602.565 Q113.006 602.125 111.246 602.125 Q106.617 602.125 104.163 605.25 Q101.733 608.375 101.385 614.694 Q102.751 612.68 104.811 611.615 Q106.871 610.527 109.348 610.527 Q114.557 610.527 117.566 613.699 Q120.598 616.847 120.598 622.287 Q120.598 627.611 117.45 630.828 Q114.302 634.046 109.071 634.046 Q103.075 634.046 99.9039 629.463 Q96.7326 624.856 96.7326 616.129 Q96.7326 607.935 100.621 603.074 Q104.51 598.19 111.061 598.19 Q112.82 598.19 114.603 598.537 Q116.408 598.884 118.353 599.578 Z\" fill=\"#000000\" fill-rule=\"nonzero\" fill-opacity=\"1\" /><path clip-path=\"url(#clip110)\" d=\"M63.5152 315.088 Q59.9041 315.088 58.0754 318.653 Q56.2699 322.195 56.2699 329.324 Q56.2699 336.431 58.0754 339.996 Q59.9041 343.537 63.5152 343.537 Q67.1494 343.537 68.955 339.996 Q70.7837 336.431 70.7837 329.324 Q70.7837 322.195 68.955 318.653 Q67.1494 315.088 63.5152 315.088 M63.5152 311.385 Q69.3254 311.385 72.3809 315.991 Q75.4596 320.574 75.4596 329.324 Q75.4596 338.051 72.3809 342.658 Q69.3254 347.241 63.5152 347.241 Q57.7051 347.241 54.6264 342.658 Q51.5708 338.051 51.5708 329.324 Q51.5708 320.574 54.6264 315.991 Q57.7051 311.385 63.5152 311.385 Z\" fill=\"#000000\" fill-rule=\"nonzero\" fill-opacity=\"1\" /><path clip-path=\"url(#clip110)\" d=\"M83.6771 340.69 L88.5614 340.69 L88.5614 346.57 L83.6771 346.57 L83.6771 340.69 Z\" fill=\"#000000\" fill-rule=\"nonzero\" fill-opacity=\"1\" /><path clip-path=\"url(#clip110)\" d=\"M108.746 330.158 Q105.413 330.158 103.492 331.94 Q101.594 333.722 101.594 336.847 Q101.594 339.972 103.492 341.755 Q105.413 343.537 108.746 343.537 Q112.08 343.537 114.001 341.755 Q115.922 339.949 115.922 336.847 Q115.922 333.722 114.001 331.94 Q112.103 330.158 108.746 330.158 M104.071 328.167 Q101.061 327.426 99.3715 325.366 Q97.7048 323.306 97.7048 320.343 Q97.7048 316.199 100.645 313.792 Q103.608 311.385 108.746 311.385 Q113.908 311.385 116.848 313.792 Q119.788 316.199 119.788 320.343 Q119.788 323.306 118.098 325.366 Q116.432 327.426 113.445 328.167 Q116.825 328.954 118.7 331.246 Q120.598 333.537 120.598 336.847 Q120.598 341.871 117.52 344.556 Q114.464 347.241 108.746 347.241 Q103.029 347.241 99.9502 344.556 Q96.8947 341.871 96.8947 336.847 Q96.8947 333.537 98.7928 331.246 Q100.691 328.954 104.071 328.167 M102.358 320.783 Q102.358 323.468 104.024 324.972 Q105.714 326.477 108.746 326.477 Q111.756 326.477 113.445 324.972 Q115.158 323.468 115.158 320.783 Q115.158 318.098 113.445 316.593 Q111.756 315.088 108.746 315.088 Q105.714 315.088 104.024 316.593 Q102.358 318.098 102.358 320.783 Z\" fill=\"#000000\" fill-rule=\"nonzero\" fill-opacity=\"1\" /><path clip-path=\"url(#clip112)\" d=\"M218.754 508.995 L261.036 1445.72 L303.319 1252.01 L345.601 1221.41 L387.884 346.701 L430.167 1083.69 L472.449 1296.7 L514.732 1434.66 L557.014 1279.74 L599.297 1152.19 L641.58 1314.44 L683.862 1171.02 L726.145 129.07 L768.427 87.9763 L810.71 1021.34 L852.992 332.357 L895.275 726.211 L937.558 773.481 L979.84 1200.72 L1022.12 1090.7 L1064.41 1123.26 L1106.69 1043.09 L1148.97 1137.87 L1191.25 1134.06 L1233.54 1168.96 L1275.82 1146.27 L1318.1 1169.85 L1360.38 1244.9 L1402.67 1229.4 L1444.95 913.853 L1487.23 909.534 L1529.51 875.863 L1571.8 161.096 L1614.08 520.923 L1656.36 863.651 L1698.64 773.087 L1740.93 286.49 L1783.21 849.109 L1825.49 1339.33 L1867.77 579.131 L1910.06 419.847 L1952.34 265.337 L1994.62 400.101 L2036.9 885.443 L2079.19 442.015 L2121.47 358.319 L2163.75 232.086 L2206.04 515.746 L2248.32 1332.02 L2290.6 1098.11 L2290.6 1098.11 L2248.32 1332.02 L2206.04 515.746 L2163.75 232.086 L2121.47 358.319 L2079.19 442.015 L2036.9 885.443 L1994.62 400.101 L1952.34 265.337 L1910.06 419.847 L1867.77 579.131 L1825.49 1339.33 L1783.21 849.109 L1740.93 286.49 L1698.64 773.087 L1656.36 863.651 L1614.08 520.923 L1571.8 161.096 L1529.51 875.863 L1487.23 909.534 L1444.95 212.086 L1402.67 393.486 L1360.38 423.056 L1318.1 327.145 L1275.82 318.498 L1233.54 360.46 L1191.25 291.951 L1148.97 320.764 L1106.69 259.525 L1064.41 313.049 L1022.12 263.668 L979.84 1200.72 L937.558 773.481 L895.275 726.211 L852.992 332.357 L810.71 1021.34 L768.427 87.9763 L726.145 129.07 L683.862 1171.02 L641.58 1314.44 L599.297 1152.19 L557.014 1279.74 L514.732 1434.66 L472.449 1296.7 L430.167 1083.69 L387.884 346.701 L345.601 1221.41 L303.319 1252.01 L261.036 1445.72 L218.754 508.995  Z\" fill=\"#009af9\" fill-rule=\"evenodd\" fill-opacity=\"0.5\"/>\n",
       "<polyline clip-path=\"url(#clip112)\" style=\"stroke:#009af9; stroke-linecap:round; stroke-linejoin:round; stroke-width:4; stroke-opacity:1; fill:none\" points=\"218.754,508.995 261.036,1445.72 303.319,1252.01 345.601,1221.41 387.884,346.701 430.167,1083.69 472.449,1296.7 514.732,1434.66 557.014,1279.74 599.297,1152.19 641.58,1314.44 683.862,1171.02 726.145,129.07 768.427,87.9763 810.71,1021.34 852.992,332.357 895.275,726.211 937.558,773.481 979.84,1200.72 1022.12,677.186 1064.41,718.153 1106.69,651.306 1148.97,729.316 1191.25,713.004 1233.54,764.708 1275.82,732.385 1318.1,748.499 1360.38,833.977 1402.67,811.443 1444.95,562.97 1487.23,909.534 1529.51,875.863 1571.8,161.096 1614.08,520.923 1656.36,863.651 1698.64,773.087 1740.93,286.49 1783.21,849.109 1825.49,1339.33 1867.77,579.131 1910.06,419.847 1952.34,265.337 1994.62,400.101 2036.9,885.443 2079.19,442.015 2121.47,358.319 2163.75,232.086 2206.04,515.746 2248.32,1332.02 2290.6,1098.11 \"/>\n",
       "<path clip-path=\"url(#clip110)\" d=\"M229.803 198.898 L501.85 198.898 L501.85 95.2176 L229.803 95.2176  Z\" fill=\"#ffffff\" fill-rule=\"evenodd\" fill-opacity=\"1\"/>\n",
       "<polyline clip-path=\"url(#clip110)\" style=\"stroke:#000000; stroke-linecap:round; stroke-linejoin:round; stroke-width:4; stroke-opacity:1; fill:none\" points=\"229.803,198.898 501.85,198.898 501.85,95.2176 229.803,95.2176 229.803,198.898 \"/>\n",
       "<polyline clip-path=\"url(#clip110)\" style=\"stroke:#009af9; stroke-linecap:round; stroke-linejoin:round; stroke-width:4; stroke-opacity:1; fill:none\" points=\"254.205,147.058 400.616,147.058 \"/>\n",
       "<path clip-path=\"url(#clip110)\" d=\"M438.86 166.745 Q437.054 171.375 435.342 172.787 Q433.629 174.199 430.758 174.199 L427.355 174.199 L427.355 170.634 L429.855 170.634 Q431.615 170.634 432.587 169.8 Q433.559 168.967 434.74 165.865 L435.504 163.921 L425.018 138.412 L429.531 138.412 L437.633 158.689 L445.735 138.412 L450.249 138.412 L438.86 166.745 Z\" fill=\"#000000\" fill-rule=\"nonzero\" fill-opacity=\"1\" /><path clip-path=\"url(#clip110)\" d=\"M457.54 160.402 L465.179 160.402 L465.179 134.037 L456.869 135.703 L456.869 131.444 L465.133 129.778 L469.809 129.778 L469.809 160.402 L477.448 160.402 L477.448 164.338 L457.54 164.338 L457.54 160.402 Z\" fill=\"#000000\" fill-rule=\"nonzero\" fill-opacity=\"1\" /></svg>\n"
      ]
     },
     "metadata": {},
     "output_type": "display_data"
    }
   ],
   "source": [
    "plot(mean_ts, ribbon=std_ts)"
   ]
  },
  {
   "cell_type": "markdown",
   "metadata": {},
   "source": [
    "----"
   ]
  },
  {
   "cell_type": "markdown",
   "metadata": {},
   "source": [
    "# Attempt 3 - 5 sites"
   ]
  },
  {
   "cell_type": "code",
   "execution_count": 209,
   "metadata": {},
   "outputs": [],
   "source": [
    "s_og = siteinds(\"S=1/2\", 5); # original indices\n",
    "ts = rand(5)\n",
    "mps = randomMPS(ComplexF64, s_og; linkdims=4);\n",
    "interp_sites = [3, 4];\n",
    "mps_length = length(mps);"
   ]
  },
  {
   "cell_type": "code",
   "execution_count": 210,
   "metadata": {},
   "outputs": [],
   "source": [
    "mps\n",
    "orthogonalize!(mps, 1)\n",
    "A = mps[1];"
   ]
  },
  {
   "cell_type": "code",
   "execution_count": 211,
   "metadata": {},
   "outputs": [
    {
     "data": {
      "text/plain": [
       "2×2 Matrix{ComplexF64}:\n",
       " 0.690517-5.55168e-18im  0.151165+0.106317im\n",
       " 0.151165-0.106317im     0.309483-2.71718e-18im"
      ]
     },
     "metadata": {},
     "output_type": "display_data"
    }
   ],
   "source": [
    "rdm = prime(A, s_og[1]) * dag(A)\n",
    "rdm_m = matrix(rdm)"
   ]
  },
  {
   "cell_type": "code",
   "execution_count": 212,
   "metadata": {},
   "outputs": [
    {
     "data": {
      "text/plain": [
       "ITensor ord=1 (dim=4|id=889|\"Link,l=1\")\n",
       "NDTensors.Dense{ComplexF64, Vector{ComplexF64}}"
      ]
     },
     "metadata": {},
     "output_type": "display_data"
    }
   ],
   "source": [
    "x1 = ts[1]\n",
    "known_state = [exp(1im * (3π/2) * x1) * cospi(0.5 * x1), exp(-1im * (3π/2) * x1) * sinpi(0.5 * x1)]\n",
    "known_state_as_ITensor = ITensor(known_state, s_og[1])\n",
    "# make measurement at the site\n",
    "Am = A * dag(known_state_as_ITensor)\n",
    "A_new = mps[2] * Am\n",
    "proba_state = get_probability_density(known_x, rdm_m)\n",
    "Am *= 1/sqrt(proba_state)"
   ]
  },
  {
   "cell_type": "code",
   "execution_count": 213,
   "metadata": {},
   "outputs": [
    {
     "data": {
      "text/plain": [
       "0.9239662159166782"
      ]
     },
     "metadata": {},
     "output_type": "display_data"
    }
   ],
   "source": [
    "norm(Am)"
   ]
  },
  {
   "cell_type": "code",
   "execution_count": 203,
   "metadata": {},
   "outputs": [
    {
     "data": {
      "text/plain": [
       "ITensor ord=2 (dim=2|id=799|\"S=1/2,Site,n=2\") (dim=4|id=58|\"Link,l=2\")\n",
       "NDTensors.Dense{ComplexF64, Vector{ComplexF64}}"
      ]
     },
     "metadata": {},
     "output_type": "display_data"
    }
   ],
   "source": [
    "mps[2] *= Am"
   ]
  },
  {
   "cell_type": "markdown",
   "metadata": {},
   "source": [
    "Make new mps"
   ]
  },
  {
   "cell_type": "code",
   "execution_count": 204,
   "metadata": {},
   "outputs": [
    {
     "data": {
      "text/plain": [
       "MPS\n",
       "[1] ((dim=2|id=799|\"S=1/2,Site,n=2\"), (dim=4|id=58|\"Link,l=2\"))\n",
       "[2] ((dim=4|id=58|\"Link,l=2\"), (dim=2|id=739|\"S=1/2,Site,n=3\"), (dim=4|id=813|\"Link,l=3\"))\n",
       "[3] ((dim=4|id=813|\"Link,l=3\"), (dim=2|id=375|\"S=1/2,Site,n=4\"), (dim=2|id=222|\"Link,l=4\"))\n",
       "[4] ((dim=2|id=222|\"Link,l=4\"), (dim=2|id=738|\"S=1/2,Site,n=5\"))\n"
      ]
     },
     "metadata": {},
     "output_type": "display_data"
    }
   ],
   "source": [
    "mps_after_1 = MPS(mps[2:end])"
   ]
  },
  {
   "cell_type": "code",
   "execution_count": 205,
   "metadata": {},
   "outputs": [
    {
     "data": {
      "text/plain": [
       "1.1279500737712607"
      ]
     },
     "metadata": {},
     "output_type": "display_data"
    }
   ],
   "source": [
    "norm(mps_after_1)"
   ]
  },
  {
   "cell_type": "code",
   "execution_count": null,
   "metadata": {},
   "outputs": [],
   "source": [
    "for i in 1:mps_length\n",
    "    s_current = siteinds(mps) # keep track of changing s since mps shrinks\n",
    "    A = mps[i]\n",
    "    if i ∉ interp_sites\n",
    "        println(\"Measuring site $i\")\n",
    "        # find correct location in mps for original site index\n",
    "        mps_loc = findsite(mps, s_og[i]) # mps changes length\n",
    "        # put into right canonical form\n",
    "        orthogonalize!(mps, mps_loc)\n",
    "        # get rdm\n",
    "        rdm = prime(A, s_current[i]) * dag(A)\n",
    "        rdm_m = matrix(rdm)\n",
    "        known_x = ts[i]\n",
    "        known_state = [exp(1im * (3π/2) * known_x) * cospi(0.5 * known_x), exp(-1im * (3π/2) * known_x) * sinpi(0.5 * known_x)]\n",
    "        known_state_as_ITensor = ITensor(known_state, s[i])\n",
    "        # make measurement at the site\n",
    "        Am = A * dag(known_state_as_ITensor)\n",
    "        # if not last site, absorb into neighbour\n",
    "\n",
    "        if i != length(mps)\n",
    "            A_new = mps[(i+1)] * Am\n",
    "            # normalise by the probability of the known state\n",
    "            proba_state = get_probability_density(known_x, rdm_m)\n",
    "            A_new *= 1/sqrt(proba_state)\n",
    "            A = A_new\n",
    "        end\n",
    "\n",
    "        # make a new mps with A as the first site\n",
    "        mps_new = MPS((length(mps) - 1))\n",
    "        mps_new[1] = A_new\n",
    "\n",
    "    else\n",
    "        println(\"Skipping site $i\")\n",
    "    end\n",
    "end"
   ]
  },
  {
   "cell_type": "code",
   "execution_count": 173,
   "metadata": {},
   "outputs": [
    {
     "data": {
      "text/plain": [
       "1"
      ]
     },
     "metadata": {},
     "output_type": "display_data"
    }
   ],
   "source": [
    "findsite(mps, s_og[1])"
   ]
  },
  {
   "cell_type": "code",
   "execution_count": 160,
   "metadata": {},
   "outputs": [],
   "source": [
    "orthogonalize!(mps, 1);"
   ]
  },
  {
   "cell_type": "code",
   "execution_count": null,
   "metadata": {},
   "outputs": [],
   "source": [
    "A = mps[1]\n",
    "known_x = 0.9\n",
    "known_state = [exp(1im * (3π/2) * known_x) * cospi(0.5 * known_x), exp(-1im * (3π/2) * known_x) * sinpi(0.5 * known_x)]\n",
    "known_state_as_ITensor = ITensor(known_state, s[1]);\n",
    "Am = A * dag(known_state_as_ITensor)\n",
    "A_new = MPS_after_s2[5] * Am"
   ]
  }
 ],
 "metadata": {
  "kernelspec": {
   "display_name": "Julia 1.10.2",
   "language": "julia",
   "name": "julia-1.10"
  },
  "language_info": {
   "file_extension": ".jl",
   "mimetype": "application/julia",
   "name": "julia",
   "version": "1.10.2"
  }
 },
 "nbformat": 4,
 "nbformat_minor": 2
}
