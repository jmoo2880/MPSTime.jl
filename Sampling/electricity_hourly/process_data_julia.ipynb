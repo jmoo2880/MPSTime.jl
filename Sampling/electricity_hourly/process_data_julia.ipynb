{
 "cells": [
  {
   "cell_type": "code",
   "execution_count": 27,
   "metadata": {},
   "outputs": [],
   "source": [
    "using Plots\n",
    "using JLD2\n",
    "using DelimitedFiles\n",
    "using Normalization\n",
    "using StatsBase"
   ]
  },
  {
   "cell_type": "code",
   "execution_count": 22,
   "metadata": {},
   "outputs": [],
   "source": [
    "X_train = readdlm(\"electricity_X_train.txt\");\n",
    "y_train = Int.(readdlm(\"electricity_y_train.txt\")[:,1]);\n",
    "X_test = readdlm(\"electricity_X_test.txt\");\n",
    "y_test = Int.(readdlm(\"electricity_y_test.txt\")[:,1]);"
   ]
  },
  {
   "cell_type": "code",
   "execution_count": 24,
   "metadata": {},
   "outputs": [],
   "source": [
    "#@save \"electricity_train.jld2\" X_train y_train\n",
    "#@save \"electricity_test.jld2\" X_test y_test"
   ]
  },
  {
   "cell_type": "markdown",
   "metadata": {},
   "source": [
    "household 100"
   ]
  },
  {
   "cell_type": "code",
   "execution_count": 34,
   "metadata": {},
   "outputs": [],
   "source": [
    "X_train = readdlm(\"electricity100_X_train.txt\");\n",
    "y_train = Int.(readdlm(\"electricity100_y_train.txt\")[:,1]);\n",
    "X_test = readdlm(\"electricity100_X_test.txt\");\n",
    "y_test = Int.(readdlm(\"electricity100_y_test.txt\")[:,1]);"
   ]
  },
  {
   "cell_type": "code",
   "execution_count": 35,
   "metadata": {},
   "outputs": [],
   "source": [
    "@save \"electricity100_train.jld2\" X_train y_train\n",
    "@save \"electricity100_test.jld2\" X_test y_test"
   ]
  },
  {
   "cell_type": "code",
   "execution_count": null,
   "metadata": {},
   "outputs": [],
   "source": []
  }
 ],
 "metadata": {
  "kernelspec": {
   "display_name": "Julia 1.10.2",
   "language": "julia",
   "name": "julia-1.10"
  },
  "language_info": {
   "file_extension": ".jl",
   "mimetype": "application/julia",
   "name": "julia",
   "version": "1.10.2"
  }
 },
 "nbformat": 4,
 "nbformat_minor": 2
}
