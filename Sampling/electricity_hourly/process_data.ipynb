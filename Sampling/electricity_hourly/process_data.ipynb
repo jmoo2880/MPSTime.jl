{
 "cells": [
  {
   "cell_type": "code",
   "execution_count": 284,
   "metadata": {},
   "outputs": [],
   "source": [
    "import aeon\n",
    "from aeon.datasets import load_from_tsf_file\n",
    "import seaborn as sns\n",
    "import matplotlib.pyplot as plt\n",
    "import pandas as pd\n",
    "import numpy as np\n",
    "import datetime\n",
    "import pycatch22 as catch22\n",
    "from sklearn.svm import SVC\n",
    "from sklearn.model_selection import train_test_split\n",
    "from sklearn.preprocessing import StandardScaler, RobustScaler, MinMaxScaler"
   ]
  },
  {
   "cell_type": "code",
   "execution_count": 51,
   "metadata": {},
   "outputs": [],
   "source": [
    "df, metadata = load_from_tsf_file(\"/Users/joshua/Documents/QuantumInspiredML/Sampling/electricity_hourly/electricity_hourly_dataset.tsf\")"
   ]
  },
  {
   "cell_type": "code",
   "execution_count": 52,
   "metadata": {},
   "outputs": [
    {
     "data": {
      "text/plain": [
       "{'frequency': 'hourly',\n",
       " 'forecast_horizon': None,\n",
       " 'contain_missing_values': False,\n",
       " 'contain_equal_length': True}"
      ]
     },
     "execution_count": 52,
     "metadata": {},
     "output_type": "execute_result"
    }
   ],
   "source": [
    "metadata"
   ]
  },
  {
   "cell_type": "code",
   "execution_count": 53,
   "metadata": {},
   "outputs": [],
   "source": [
    "ts1 = df.iloc[1].series_value.to_numpy()"
   ]
  },
  {
   "cell_type": "code",
   "execution_count": 54,
   "metadata": {},
   "outputs": [
    {
     "data": {
      "text/plain": [
       "1096.0"
      ]
     },
     "execution_count": 54,
     "metadata": {},
     "output_type": "execute_result"
    }
   ],
   "source": [
    "len(ts1)/24"
   ]
  },
  {
   "cell_type": "markdown",
   "metadata": {},
   "source": [
    "# How can we turn this into an interpolation problem?"
   ]
  },
  {
   "cell_type": "markdown",
   "metadata": {},
   "source": [
    "Weekend versus weekday? Aggregate all households."
   ]
  },
  {
   "cell_type": "code",
   "execution_count": 55,
   "metadata": {},
   "outputs": [
    {
     "data": {
      "text/html": [
       "<div>\n",
       "<style scoped>\n",
       "    .dataframe tbody tr th:only-of-type {\n",
       "        vertical-align: middle;\n",
       "    }\n",
       "\n",
       "    .dataframe tbody tr th {\n",
       "        vertical-align: top;\n",
       "    }\n",
       "\n",
       "    .dataframe thead th {\n",
       "        text-align: right;\n",
       "    }\n",
       "</style>\n",
       "<table border=\"1\" class=\"dataframe\">\n",
       "  <thead>\n",
       "    <tr style=\"text-align: right;\">\n",
       "      <th></th>\n",
       "      <th>series_name</th>\n",
       "      <th>start_timestamp</th>\n",
       "      <th>series_value</th>\n",
       "    </tr>\n",
       "  </thead>\n",
       "  <tbody>\n",
       "    <tr>\n",
       "      <th>0</th>\n",
       "      <td>T1</td>\n",
       "      <td>2012-01-01 00:00:01</td>\n",
       "      <td>[14.0, 18.0, 21.0, 20.0, 22.0, 20.0, 20.0, 20....</td>\n",
       "    </tr>\n",
       "    <tr>\n",
       "      <th>1</th>\n",
       "      <td>T2</td>\n",
       "      <td>2012-01-01 00:00:01</td>\n",
       "      <td>[69.0, 92.0, 96.0, 92.0, 91.0, 92.0, 91.0, 92....</td>\n",
       "    </tr>\n",
       "    <tr>\n",
       "      <th>2</th>\n",
       "      <td>T3</td>\n",
       "      <td>2012-01-01 00:00:01</td>\n",
       "      <td>[234.0, 312.0, 312.0, 312.0, 312.0, 187.0, 138...</td>\n",
       "    </tr>\n",
       "    <tr>\n",
       "      <th>3</th>\n",
       "      <td>T4</td>\n",
       "      <td>2012-01-01 00:00:01</td>\n",
       "      <td>[415.0, 556.0, 560.0, 443.0, 346.0, 340.0, 376...</td>\n",
       "    </tr>\n",
       "    <tr>\n",
       "      <th>4</th>\n",
       "      <td>T5</td>\n",
       "      <td>2012-01-01 00:00:01</td>\n",
       "      <td>[215.0, 292.0, 272.0, 213.0, 190.0, 178.0, 199...</td>\n",
       "    </tr>\n",
       "    <tr>\n",
       "      <th>...</th>\n",
       "      <td>...</td>\n",
       "      <td>...</td>\n",
       "      <td>...</td>\n",
       "    </tr>\n",
       "    <tr>\n",
       "      <th>316</th>\n",
       "      <td>T317</td>\n",
       "      <td>2012-01-01 00:00:01</td>\n",
       "      <td>[48.0, 65.0, 64.0, 65.0, 75.0, 64.0, 65.0, 69....</td>\n",
       "    </tr>\n",
       "    <tr>\n",
       "      <th>317</th>\n",
       "      <td>T318</td>\n",
       "      <td>2012-01-01 00:00:01</td>\n",
       "      <td>[38.0, 47.0, 43.0, 39.0, 40.0, 39.0, 49.0, 55....</td>\n",
       "    </tr>\n",
       "    <tr>\n",
       "      <th>318</th>\n",
       "      <td>T319</td>\n",
       "      <td>2012-01-01 00:00:01</td>\n",
       "      <td>[1558.0, 2177.0, 2193.0, 1315.0, 1378.0, 1250....</td>\n",
       "    </tr>\n",
       "    <tr>\n",
       "      <th>319</th>\n",
       "      <td>T320</td>\n",
       "      <td>2012-01-01 00:00:01</td>\n",
       "      <td>[182.0, 253.0, 218.0, 195.0, 191.0, 185.0, 191...</td>\n",
       "    </tr>\n",
       "    <tr>\n",
       "      <th>320</th>\n",
       "      <td>T321</td>\n",
       "      <td>2012-01-01 00:00:01</td>\n",
       "      <td>[2162.0, 2835.0, 2764.0, 2735.0, 2721.0, 2742....</td>\n",
       "    </tr>\n",
       "  </tbody>\n",
       "</table>\n",
       "<p>321 rows × 3 columns</p>\n",
       "</div>"
      ],
      "text/plain": [
       "    series_name     start_timestamp  \\\n",
       "0            T1 2012-01-01 00:00:01   \n",
       "1            T2 2012-01-01 00:00:01   \n",
       "2            T3 2012-01-01 00:00:01   \n",
       "3            T4 2012-01-01 00:00:01   \n",
       "4            T5 2012-01-01 00:00:01   \n",
       "..          ...                 ...   \n",
       "316        T317 2012-01-01 00:00:01   \n",
       "317        T318 2012-01-01 00:00:01   \n",
       "318        T319 2012-01-01 00:00:01   \n",
       "319        T320 2012-01-01 00:00:01   \n",
       "320        T321 2012-01-01 00:00:01   \n",
       "\n",
       "                                          series_value  \n",
       "0    [14.0, 18.0, 21.0, 20.0, 22.0, 20.0, 20.0, 20....  \n",
       "1    [69.0, 92.0, 96.0, 92.0, 91.0, 92.0, 91.0, 92....  \n",
       "2    [234.0, 312.0, 312.0, 312.0, 312.0, 187.0, 138...  \n",
       "3    [415.0, 556.0, 560.0, 443.0, 346.0, 340.0, 376...  \n",
       "4    [215.0, 292.0, 272.0, 213.0, 190.0, 178.0, 199...  \n",
       "..                                                 ...  \n",
       "316  [48.0, 65.0, 64.0, 65.0, 75.0, 64.0, 65.0, 69....  \n",
       "317  [38.0, 47.0, 43.0, 39.0, 40.0, 39.0, 49.0, 55....  \n",
       "318  [1558.0, 2177.0, 2193.0, 1315.0, 1378.0, 1250....  \n",
       "319  [182.0, 253.0, 218.0, 195.0, 191.0, 185.0, 191...  \n",
       "320  [2162.0, 2835.0, 2764.0, 2735.0, 2721.0, 2742....  \n",
       "\n",
       "[321 rows x 3 columns]"
      ]
     },
     "execution_count": 55,
     "metadata": {},
     "output_type": "execute_result"
    }
   ],
   "source": [
    "df"
   ]
  },
  {
   "cell_type": "code",
   "execution_count": 196,
   "metadata": {},
   "outputs": [
    {
     "data": {
      "text/plain": [
       "'Sunday'"
      ]
     },
     "execution_count": 196,
     "metadata": {},
     "output_type": "execute_result"
    }
   ],
   "source": [
    "df.iloc[1].start_timestamp.day_name()"
   ]
  },
  {
   "cell_type": "code",
   "execution_count": 195,
   "metadata": {},
   "outputs": [],
   "source": [
    "ts1 = df.iloc[1].series_value.to_numpy()"
   ]
  },
  {
   "cell_type": "markdown",
   "metadata": {},
   "source": [
    "Try and window the data"
   ]
  },
  {
   "cell_type": "code",
   "execution_count": 145,
   "metadata": {},
   "outputs": [
    {
     "data": {
      "text/plain": [
       "1096.0"
      ]
     },
     "execution_count": 145,
     "metadata": {},
     "output_type": "execute_result"
    }
   ],
   "source": [
    "len(ts1)/24.0"
   ]
  },
  {
   "cell_type": "code",
   "execution_count": 211,
   "metadata": {},
   "outputs": [],
   "source": [
    "windows = np.zeros(shape=(1096, 24))\n",
    "labels = np.zeros(1096)\n",
    "lower = 0\n",
    "upper = 24\n",
    "current_date = df.iloc[1].start_timestamp\n",
    "for i in range(0, 1096):\n",
    "    windows[i, :] = ts1[lower:upper]\n",
    "    lower = upper\n",
    "    upper += 24\n",
    "    if (current_date.day_of_week == 5) or (current_date.day_of_week == 6):\n",
    "        labels[i] = 1\n",
    "    current_date += datetime.timedelta(hours=24) "
   ]
  },
  {
   "cell_type": "code",
   "execution_count": 234,
   "metadata": {},
   "outputs": [
    {
     "name": "stdout",
     "output_type": "stream",
     "text": [
      "Num class 0: 783 | Num class 1: 313\n"
     ]
    }
   ],
   "source": [
    "class_0_idxs = np.argwhere(labels == 0).flatten()\n",
    "class_1_idxs = np.argwhere(labels == 1).flatten()\n",
    "print(f\"Num class 0: {len(class_0_idxs)} | Num class 1: {len(class_1_idxs)}\") "
   ]
  },
  {
   "cell_type": "markdown",
   "metadata": {},
   "source": [
    "Make an 80/20 train/test split"
   ]
  },
  {
   "cell_type": "code",
   "execution_count": 290,
   "metadata": {},
   "outputs": [],
   "source": [
    "from sktime.classification.feature_based import Catch22Classifier\n",
    "from sktime.classification.ensemble import Ra"
   ]
  },
  {
   "cell_type": "code",
   "execution_count": 238,
   "metadata": {},
   "outputs": [],
   "source": [
    "X_train, X_test, y_train, y_test = train_test_split(windows, labels, test_size=0.2, random_state=42)"
   ]
  },
  {
   "cell_type": "code",
   "execution_count": 295,
   "metadata": {},
   "outputs": [],
   "source": [
    "ss_fit = StandardScaler().fit(X_train)\n",
    "X_train_scaled = ss_fit.transform(X_train)\n",
    "X_test_scaled = ss_fit.transform(X_test)"
   ]
  },
  {
   "cell_type": "code",
   "execution_count": 296,
   "metadata": {},
   "outputs": [
    {
     "data": {
      "text/plain": [
       "0.9136363636363637"
      ]
     },
     "execution_count": 296,
     "metadata": {},
     "output_type": "execute_result"
    }
   ],
   "source": [
    "svc_fit = SVC().fit(X_train_scaled, y_train)\n",
    "svc_fit.score(X_test_scaled, y_test)"
   ]
  },
  {
   "cell_type": "code",
   "execution_count": 314,
   "metadata": {},
   "outputs": [],
   "source": [
    "#np.savetxt(\"electricity_y_test.txt\", y_test)"
   ]
  },
  {
   "cell_type": "code",
   "execution_count": null,
   "metadata": {},
   "outputs": [],
   "source": []
  }
 ],
 "metadata": {
  "kernelspec": {
   "display_name": "Python 3",
   "language": "python",
   "name": "python3"
  },
  "language_info": {
   "codemirror_mode": {
    "name": "ipython",
    "version": 3
   },
   "file_extension": ".py",
   "mimetype": "text/x-python",
   "name": "python",
   "nbconvert_exporter": "python",
   "pygments_lexer": "ipython3",
   "version": "3.9.6"
  }
 },
 "nbformat": 4,
 "nbformat_minor": 2
}
