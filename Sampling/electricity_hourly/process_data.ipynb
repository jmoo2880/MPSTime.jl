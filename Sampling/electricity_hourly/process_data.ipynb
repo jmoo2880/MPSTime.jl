{
 "cells": [
  {
   "cell_type": "code",
   "execution_count": 561,
   "metadata": {},
   "outputs": [],
   "source": [
    "import aeon\n",
    "from aeon.datasets import load_from_tsf_file\n",
    "import seaborn as sns\n",
    "import matplotlib.pyplot as plt\n",
    "import pandas as pd\n",
    "from random import choices\n",
    "import numpy as np\n",
    "import datetime\n",
    "import pycatch22 as catch22\n",
    "from sklearn.svm import SVC\n",
    "from sklearn.model_selection import train_test_split\n",
    "from sklearn.preprocessing import StandardScaler, RobustScaler, MinMaxScaler"
   ]
  },
  {
   "cell_type": "code",
   "execution_count": 562,
   "metadata": {},
   "outputs": [],
   "source": [
    "df, metadata = load_from_tsf_file(\"/Users/joshua/Documents/QuantumInspiredML/Sampling/electricity_hourly/electricity_hourly_dataset.tsf\")"
   ]
  },
  {
   "cell_type": "code",
   "execution_count": 563,
   "metadata": {},
   "outputs": [
    {
     "data": {
      "text/plain": [
       "{'frequency': 'hourly',\n",
       " 'forecast_horizon': None,\n",
       " 'contain_missing_values': False,\n",
       " 'contain_equal_length': True}"
      ]
     },
     "execution_count": 563,
     "metadata": {},
     "output_type": "execute_result"
    }
   ],
   "source": [
    "metadata"
   ]
  },
  {
   "cell_type": "code",
   "execution_count": 564,
   "metadata": {},
   "outputs": [],
   "source": [
    "ts100 = df.iloc[100].series_value.to_numpy()"
   ]
  },
  {
   "cell_type": "code",
   "execution_count": 565,
   "metadata": {},
   "outputs": [
    {
     "data": {
      "text/plain": [
       "1096.0"
      ]
     },
     "execution_count": 565,
     "metadata": {},
     "output_type": "execute_result"
    }
   ],
   "source": [
    "len(ts100)/24"
   ]
  },
  {
   "cell_type": "markdown",
   "metadata": {},
   "source": [
    "# How can we turn this into an interpolation problem?"
   ]
  },
  {
   "cell_type": "markdown",
   "metadata": {},
   "source": [
    "Weekend versus weekday? Aggregate all households."
   ]
  },
  {
   "cell_type": "code",
   "execution_count": 566,
   "metadata": {},
   "outputs": [
    {
     "data": {
      "text/html": [
       "<div>\n",
       "<style scoped>\n",
       "    .dataframe tbody tr th:only-of-type {\n",
       "        vertical-align: middle;\n",
       "    }\n",
       "\n",
       "    .dataframe tbody tr th {\n",
       "        vertical-align: top;\n",
       "    }\n",
       "\n",
       "    .dataframe thead th {\n",
       "        text-align: right;\n",
       "    }\n",
       "</style>\n",
       "<table border=\"1\" class=\"dataframe\">\n",
       "  <thead>\n",
       "    <tr style=\"text-align: right;\">\n",
       "      <th></th>\n",
       "      <th>series_name</th>\n",
       "      <th>start_timestamp</th>\n",
       "      <th>series_value</th>\n",
       "    </tr>\n",
       "  </thead>\n",
       "  <tbody>\n",
       "    <tr>\n",
       "      <th>0</th>\n",
       "      <td>T1</td>\n",
       "      <td>2012-01-01 00:00:01</td>\n",
       "      <td>[14.0, 18.0, 21.0, 20.0, 22.0, 20.0, 20.0, 20....</td>\n",
       "    </tr>\n",
       "    <tr>\n",
       "      <th>1</th>\n",
       "      <td>T2</td>\n",
       "      <td>2012-01-01 00:00:01</td>\n",
       "      <td>[69.0, 92.0, 96.0, 92.0, 91.0, 92.0, 91.0, 92....</td>\n",
       "    </tr>\n",
       "    <tr>\n",
       "      <th>2</th>\n",
       "      <td>T3</td>\n",
       "      <td>2012-01-01 00:00:01</td>\n",
       "      <td>[234.0, 312.0, 312.0, 312.0, 312.0, 187.0, 138...</td>\n",
       "    </tr>\n",
       "    <tr>\n",
       "      <th>3</th>\n",
       "      <td>T4</td>\n",
       "      <td>2012-01-01 00:00:01</td>\n",
       "      <td>[415.0, 556.0, 560.0, 443.0, 346.0, 340.0, 376...</td>\n",
       "    </tr>\n",
       "    <tr>\n",
       "      <th>4</th>\n",
       "      <td>T5</td>\n",
       "      <td>2012-01-01 00:00:01</td>\n",
       "      <td>[215.0, 292.0, 272.0, 213.0, 190.0, 178.0, 199...</td>\n",
       "    </tr>\n",
       "    <tr>\n",
       "      <th>...</th>\n",
       "      <td>...</td>\n",
       "      <td>...</td>\n",
       "      <td>...</td>\n",
       "    </tr>\n",
       "    <tr>\n",
       "      <th>316</th>\n",
       "      <td>T317</td>\n",
       "      <td>2012-01-01 00:00:01</td>\n",
       "      <td>[48.0, 65.0, 64.0, 65.0, 75.0, 64.0, 65.0, 69....</td>\n",
       "    </tr>\n",
       "    <tr>\n",
       "      <th>317</th>\n",
       "      <td>T318</td>\n",
       "      <td>2012-01-01 00:00:01</td>\n",
       "      <td>[38.0, 47.0, 43.0, 39.0, 40.0, 39.0, 49.0, 55....</td>\n",
       "    </tr>\n",
       "    <tr>\n",
       "      <th>318</th>\n",
       "      <td>T319</td>\n",
       "      <td>2012-01-01 00:00:01</td>\n",
       "      <td>[1558.0, 2177.0, 2193.0, 1315.0, 1378.0, 1250....</td>\n",
       "    </tr>\n",
       "    <tr>\n",
       "      <th>319</th>\n",
       "      <td>T320</td>\n",
       "      <td>2012-01-01 00:00:01</td>\n",
       "      <td>[182.0, 253.0, 218.0, 195.0, 191.0, 185.0, 191...</td>\n",
       "    </tr>\n",
       "    <tr>\n",
       "      <th>320</th>\n",
       "      <td>T321</td>\n",
       "      <td>2012-01-01 00:00:01</td>\n",
       "      <td>[2162.0, 2835.0, 2764.0, 2735.0, 2721.0, 2742....</td>\n",
       "    </tr>\n",
       "  </tbody>\n",
       "</table>\n",
       "<p>321 rows × 3 columns</p>\n",
       "</div>"
      ],
      "text/plain": [
       "    series_name     start_timestamp  \\\n",
       "0            T1 2012-01-01 00:00:01   \n",
       "1            T2 2012-01-01 00:00:01   \n",
       "2            T3 2012-01-01 00:00:01   \n",
       "3            T4 2012-01-01 00:00:01   \n",
       "4            T5 2012-01-01 00:00:01   \n",
       "..          ...                 ...   \n",
       "316        T317 2012-01-01 00:00:01   \n",
       "317        T318 2012-01-01 00:00:01   \n",
       "318        T319 2012-01-01 00:00:01   \n",
       "319        T320 2012-01-01 00:00:01   \n",
       "320        T321 2012-01-01 00:00:01   \n",
       "\n",
       "                                          series_value  \n",
       "0    [14.0, 18.0, 21.0, 20.0, 22.0, 20.0, 20.0, 20....  \n",
       "1    [69.0, 92.0, 96.0, 92.0, 91.0, 92.0, 91.0, 92....  \n",
       "2    [234.0, 312.0, 312.0, 312.0, 312.0, 187.0, 138...  \n",
       "3    [415.0, 556.0, 560.0, 443.0, 346.0, 340.0, 376...  \n",
       "4    [215.0, 292.0, 272.0, 213.0, 190.0, 178.0, 199...  \n",
       "..                                                 ...  \n",
       "316  [48.0, 65.0, 64.0, 65.0, 75.0, 64.0, 65.0, 69....  \n",
       "317  [38.0, 47.0, 43.0, 39.0, 40.0, 39.0, 49.0, 55....  \n",
       "318  [1558.0, 2177.0, 2193.0, 1315.0, 1378.0, 1250....  \n",
       "319  [182.0, 253.0, 218.0, 195.0, 191.0, 185.0, 191...  \n",
       "320  [2162.0, 2835.0, 2764.0, 2735.0, 2721.0, 2742....  \n",
       "\n",
       "[321 rows x 3 columns]"
      ]
     },
     "execution_count": 566,
     "metadata": {},
     "output_type": "execute_result"
    }
   ],
   "source": [
    "df"
   ]
  },
  {
   "cell_type": "code",
   "execution_count": 569,
   "metadata": {},
   "outputs": [
    {
     "data": {
      "text/plain": [
       "'Sunday'"
      ]
     },
     "execution_count": 569,
     "metadata": {},
     "output_type": "execute_result"
    }
   ],
   "source": [
    "df.iloc[100].start_timestamp.day_name()"
   ]
  },
  {
   "cell_type": "code",
   "execution_count": 570,
   "metadata": {},
   "outputs": [],
   "source": [
    "ts100 = df.iloc[100].series_value.to_numpy()"
   ]
  },
  {
   "cell_type": "markdown",
   "metadata": {},
   "source": [
    "Try and window the data"
   ]
  },
  {
   "cell_type": "code",
   "execution_count": 571,
   "metadata": {},
   "outputs": [
    {
     "data": {
      "text/plain": [
       "1096.0"
      ]
     },
     "execution_count": 571,
     "metadata": {},
     "output_type": "execute_result"
    }
   ],
   "source": [
    "len(ts100)/24.0"
   ]
  },
  {
   "cell_type": "code",
   "execution_count": 572,
   "metadata": {},
   "outputs": [],
   "source": [
    "windows = np.zeros(shape=(1096, 24))\n",
    "labels = np.zeros(1096)\n",
    "lower = 0\n",
    "upper = 24\n",
    "current_date = df.iloc[1].start_timestamp\n",
    "for i in range(0, 1096):\n",
    "    windows[i, :] = ts100[lower:upper]\n",
    "    lower = upper\n",
    "    upper += 24\n",
    "    if (current_date.day_of_week == 5) or (current_date.day_of_week == 6):\n",
    "        labels[i] = 1\n",
    "    current_date += datetime.timedelta(hours=24) "
   ]
  },
  {
   "cell_type": "code",
   "execution_count": 573,
   "metadata": {},
   "outputs": [
    {
     "name": "stdout",
     "output_type": "stream",
     "text": [
      "Num class 0: 783 | Num class 1: 313\n"
     ]
    }
   ],
   "source": [
    "class_0_idxs = np.argwhere(labels == 0).flatten()\n",
    "class_1_idxs = np.argwhere(labels == 1).flatten()\n",
    "print(f\"Num class 0: {len(class_0_idxs)} | Num class 1: {len(class_1_idxs)}\") "
   ]
  },
  {
   "cell_type": "markdown",
   "metadata": {},
   "source": [
    "Make an 80/20 train/test split"
   ]
  },
  {
   "cell_type": "code",
   "execution_count": 574,
   "metadata": {},
   "outputs": [],
   "source": [
    "X_train, X_test, y_train, y_test = train_test_split(windows, labels, test_size=0.2, random_state=42)"
   ]
  },
  {
   "cell_type": "code",
   "execution_count": 575,
   "metadata": {},
   "outputs": [],
   "source": [
    "ss_fit = StandardScaler().fit(X_train)\n",
    "X_train_scaled = ss_fit.transform(X_train)\n",
    "X_test_scaled = ss_fit.transform(X_test)"
   ]
  },
  {
   "cell_type": "code",
   "execution_count": 576,
   "metadata": {},
   "outputs": [
    {
     "data": {
      "text/plain": [
       "0.9818181818181818"
      ]
     },
     "execution_count": 576,
     "metadata": {},
     "output_type": "execute_result"
    }
   ],
   "source": [
    "svc_fit = SVC().fit(X_train_scaled, y_train)\n",
    "svc_fit.score(X_test_scaled, y_test)"
   ]
  },
  {
   "cell_type": "code",
   "execution_count": 577,
   "metadata": {},
   "outputs": [],
   "source": [
    "# save all data\n",
    "np.savetxt(\"electricity100_X_train.txt\", X_train)\n",
    "np.savetxt(\"electricity100_X_test.txt\", X_test)\n",
    "np.savetxt(\"electricity100_y_train.txt\", y_train)\n",
    "np.savetxt(\"electricity100_y_test.txt\", y_test)"
   ]
  },
  {
   "cell_type": "markdown",
   "metadata": {},
   "source": [
    "# Aggregate all households"
   ]
  },
  {
   "cell_type": "code",
   "execution_count": null,
   "metadata": {},
   "outputs": [],
   "source": []
  },
  {
   "cell_type": "code",
   "execution_count": 537,
   "metadata": {},
   "outputs": [],
   "source": [
    "ts_all = [df.iloc[i].series_value.to_numpy() for i in range(321)]"
   ]
  },
  {
   "cell_type": "code",
   "execution_count": 538,
   "metadata": {},
   "outputs": [],
   "source": [
    "windows_all = list()\n",
    "labels_all = list()\n",
    "for household in range(321):\n",
    "    windows = np.zeros(shape=(1096, 24))\n",
    "    labels = np.zeros(1096)\n",
    "    lower = 0\n",
    "    upper = 24\n",
    "    current_date = df.iloc[1].start_timestamp\n",
    "    for i in range(0, 1096):\n",
    "        windows[i, :] = ts_all[household][lower:upper]\n",
    "        lower = upper\n",
    "        upper += 24\n",
    "        if (current_date.day_of_week == 5) or (current_date.day_of_week == 6):\n",
    "            labels[i] = 1\n",
    "        current_date += datetime.timedelta(hours=24) \n",
    "    windows_all.append(windows)\n",
    "    labels_all.append(labels)"
   ]
  },
  {
   "cell_type": "code",
   "execution_count": 539,
   "metadata": {},
   "outputs": [
    {
     "data": {
      "text/plain": [
       "Text(0.5, 1.0, 'Label : 0.0')"
      ]
     },
     "execution_count": 539,
     "metadata": {},
     "output_type": "execute_result"
    },
    {
     "data": {
      "image/png": "[encoded data removed]",
      "text/plain": [
       "<Figure size 640x480 with 1 Axes>"
      ]
     },
     "metadata": {},
     "output_type": "display_data"
    }
   ],
   "source": [
    "idx = 8\n",
    "plt.plot(windows_all[3][idx])\n",
    "plt.title(f\"Label : {labels_all[3][idx]}\")"
   ]
  },
  {
   "cell_type": "markdown",
   "metadata": {},
   "source": [
    "All households have same timestamps and labels so we can use the same indices"
   ]
  },
  {
   "cell_type": "code",
   "execution_count": 540,
   "metadata": {},
   "outputs": [],
   "source": [
    "class0_idxs = np.argwhere(labels_all[0] == 0).flatten()\n",
    "class1_idxs = np.argwhere(labels_all[0] == 1).flatten()"
   ]
  },
  {
   "cell_type": "code",
   "execution_count": 541,
   "metadata": {},
   "outputs": [],
   "source": [
    "class_0_all_windows_all_households = [windows_all[i][class0_idxs] for i in range(321)]\n",
    "class_1_all_windows_all_households = [windows_all[i][class1_idxs] for i in range(321)]"
   ]
  },
  {
   "cell_type": "code",
   "execution_count": 542,
   "metadata": {},
   "outputs": [
    {
     "data": {
      "text/plain": [
       "(321, 313, 24)"
      ]
     },
     "execution_count": 542,
     "metadata": {},
     "output_type": "execute_result"
    }
   ],
   "source": [
    "class_0_all_windows_all_households = np.array(class_0_all_windows_all_households)\n",
    "class_1_all_windows_all_households = np.array(class_1_all_windows_all_households)\n",
    "class_1_all_windows_all_households.shape"
   ]
  },
  {
   "cell_type": "code",
   "execution_count": 543,
   "metadata": {},
   "outputs": [],
   "source": [
    "class_0_final_ts = class_0_all_windows_all_households.reshape(321*783, 24)\n",
    "class_1_final_ts = class_1_all_windows_all_households.reshape(321*313, 24)"
   ]
  },
  {
   "cell_type": "code",
   "execution_count": 544,
   "metadata": {},
   "outputs": [
    {
     "data": {
      "text/plain": [
       "(100473, 24)"
      ]
     },
     "execution_count": 544,
     "metadata": {},
     "output_type": "execute_result"
    }
   ],
   "source": [
    "class_1_final_ts.shape"
   ]
  },
  {
   "cell_type": "code",
   "execution_count": 545,
   "metadata": {},
   "outputs": [],
   "source": [
    "all_class_0_ts = list()"
   ]
  },
  {
   "cell_type": "code",
   "execution_count": 546,
   "metadata": {},
   "outputs": [
    {
     "data": {
      "text/plain": [
       "321"
      ]
     },
     "execution_count": 546,
     "metadata": {},
     "output_type": "execute_result"
    }
   ],
   "source": [
    "len(ts_all)"
   ]
  },
  {
   "cell_type": "code",
   "execution_count": 547,
   "metadata": {},
   "outputs": [
    {
     "data": {
      "text/plain": [
       "251343"
      ]
     },
     "execution_count": 547,
     "metadata": {},
     "output_type": "execute_result"
    }
   ],
   "source": [
    "len(class0_idxs) * len(ts_all)"
   ]
  },
  {
   "cell_type": "code",
   "execution_count": 548,
   "metadata": {},
   "outputs": [
    {
     "data": {
      "text/plain": [
       "100473"
      ]
     },
     "execution_count": 548,
     "metadata": {},
     "output_type": "execute_result"
    }
   ],
   "source": [
    "len(class1_idxs) * len(ts_all)"
   ]
  },
  {
   "cell_type": "markdown",
   "metadata": {},
   "source": [
    "Loop through and make class 0 and class 1 matrices"
   ]
  },
  {
   "cell_type": "code",
   "execution_count": 549,
   "metadata": {},
   "outputs": [
    {
     "name": "stdout",
     "output_type": "stream",
     "text": [
      "251343\n",
      "100473\n"
     ]
    }
   ],
   "source": [
    "print(len(class_0_final_ts))\n",
    "print(len(class_1_final_ts))"
   ]
  },
  {
   "cell_type": "markdown",
   "metadata": {},
   "source": [
    "Now we can make it balanced by taking a random subset of N samples. Let's do 5000 samples per class."
   ]
  },
  {
   "cell_type": "code",
   "execution_count": 550,
   "metadata": {},
   "outputs": [
    {
     "data": {
      "text/plain": [
       "array([ 18.,  18.,  17.,  16.,  15.,  15.,  14.,  14.,  67.,  68.,  66.,\n",
       "        69.,  71.,  56.,  33.,  70., 102.,  23.,  67.,  47.,  29.,  74.,\n",
       "        56.,  56.])"
      ]
     },
     "execution_count": 550,
     "metadata": {},
     "output_type": "execute_result"
    }
   ],
   "source": [
    "class_0_final_ts[1]"
   ]
  },
  {
   "cell_type": "code",
   "execution_count": 551,
   "metadata": {},
   "outputs": [],
   "source": [
    "class_0_subset_idxs = np.random.choice(np.arange(len(class_0_final_ts)), size=5000, replace=False)\n",
    "class_1_subset_idxs = np.random.choice(np.arange(len(class_1_final_ts)), size=5000, replace=False)"
   ]
  },
  {
   "cell_type": "code",
   "execution_count": 552,
   "metadata": {},
   "outputs": [],
   "source": [
    "class_0_subset_ts = class_0_final_ts[class_0_subset_idxs, :]\n",
    "class_1_subset_ts = class_1_final_ts[class_1_subset_idxs, :]"
   ]
  },
  {
   "cell_type": "code",
   "execution_count": 553,
   "metadata": {},
   "outputs": [],
   "source": [
    "class_0_subset_labels = np.zeros(5000)\n",
    "class_1_subset_labels = np.ones(5000)"
   ]
  },
  {
   "cell_type": "code",
   "execution_count": 554,
   "metadata": {},
   "outputs": [],
   "source": [
    "subset_combined = np.vstack([class_0_subset_ts, class_1_subset_ts])\n",
    "labels_combined = np.concatenate([class_0_subset_labels, class_1_subset_labels])"
   ]
  },
  {
   "cell_type": "code",
   "execution_count": 555,
   "metadata": {},
   "outputs": [],
   "source": [
    "X_train_sub, X_test_sub, y_train_sub, y_test_sub = train_test_split(subset_combined, labels_combined, test_size=0.3, random_state=42)"
   ]
  },
  {
   "cell_type": "code",
   "execution_count": 556,
   "metadata": {},
   "outputs": [],
   "source": [
    "ss_fit = StandardScaler().fit(X_train_sub)\n",
    "X_train_scaled = ss_fit.transform(X_train_sub)\n",
    "X_test_scaled = ss_fit.transform(X_test_sub)"
   ]
  },
  {
   "cell_type": "code",
   "execution_count": 558,
   "metadata": {},
   "outputs": [
    {
     "data": {
      "text/plain": [
       "0.48833333333333334"
      ]
     },
     "execution_count": 558,
     "metadata": {},
     "output_type": "execute_result"
    }
   ],
   "source": [
    "svc_fit = SVC().fit(X_train_sub, y_train_sub)\n",
    "svc_fit.score(X_test_sub, y_test_sub)"
   ]
  },
  {
   "cell_type": "code",
   "execution_count": null,
   "metadata": {},
   "outputs": [],
   "source": []
  }
 ],
 "metadata": {
  "kernelspec": {
   "display_name": "Python 3",
   "language": "python",
   "name": "python3"
  },
  "language_info": {
   "codemirror_mode": {
    "name": "ipython",
    "version": 3
   },
   "file_extension": ".py",
   "mimetype": "text/x-python",
   "name": "python",
   "nbconvert_exporter": "python",
   "pygments_lexer": "ipython3",
   "version": "3.9.6"
  }
 },
 "nbformat": 4,
 "nbformat_minor": 2
}
