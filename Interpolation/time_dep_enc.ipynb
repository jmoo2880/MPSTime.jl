{
 "cells": [
  {
   "cell_type": "code",
   "execution_count": 35,
   "metadata": {},
   "outputs": [],
   "source": [
    "using ITensors\n",
    "include(\"../LogLoss/structs.jl\");\n",
    "include(\"../LogLoss/encodings.jl\");\n",
    "using Random, Distributions\n",
    "using StatsPlots"
   ]
  },
  {
   "cell_type": "code",
   "execution_count": 16,
   "metadata": {},
   "outputs": [
    {
     "data": {
      "text/plain": [
       "SplitBasis(Hist Split Stoudenmire)"
      ]
     },
     "metadata": {},
     "output_type": "display_data"
    }
   ],
   "source": [
    "trial_basis = SplitBasis(\"Hist Split\", \"Stoudenmire\")"
   ]
  },
  {
   "cell_type": "code",
   "execution_count": 52,
   "metadata": {},
   "outputs": [],
   "source": [
    "dataset = rand(Uniform(0, 1), (100, 5));"
   ]
  },
  {
   "cell_type": "code",
   "execution_count": 39,
   "metadata": {},
   "outputs": [
    {
     "data": {
      "text/plain": [
       "5-element Vector{Vector{Float64}}:\n",
       " [0.0, 0.05661754934919361, 0.16294771851398465, 0.3186470657161396, 0.38707191295606064, 0.467035778760092, 0.5870803013710604, 0.6466977501386456, 0.7553905759276793, 0.8798159627080451, 1.0]\n",
       " [0.0, 0.13977725835576282, 0.2315692229495817, 0.28764484258759604, 0.39458579050366743, 0.6009195055943646, 0.6752784914841644, 0.7691688198251883, 0.8323545266797916, 0.9250731818126827, 1.0]\n",
       " [0.0, 0.14772611774779631, 0.299545584128809, 0.4012521000500769, 0.47666041393228054, 0.5251300684517926, 0.6293204653009934, 0.796304164623922, 0.877097911786122, 0.9610277125786575, 1.0]\n",
       " [0.0, 0.05868388219035592, 0.18341936299543532, 0.23274745483566, 0.39943332393626485, 0.4340730349798505, 0.5587074782642288, 0.6631161781517494, 0.7880450990295782, 0.8711178443521234, 1.0]\n",
       " [0.0, 0.18520800619346833, 0.30205593453981494, 0.4326177918216357, 0.46733458589537163, 0.5370610473304153, 0.6180200576374533, 0.7362761113057179, 0.858867755962968, 0.9058591962473725, 1.0]"
      ]
     },
     "metadata": {},
     "output_type": "display_data"
    }
   ],
   "source": [
    "trial_basis.splitmethod(dataset, 10, 0, 1)"
   ]
  },
  {
   "cell_type": "code",
   "execution_count": 189,
   "metadata": {},
   "outputs": [
    {
     "data": {
      "text/plain": [
       "Options\n",
       "  nsweeps: Int64 20\n",
       "  chi_max: Int64 20\n",
       "  cutoff: Float64 1.0e-10\n",
       "  update_iters: Int64 1\n",
       "  verbosity: Int64 0\n",
       "  dtype: ComplexF64 <: Number\n",
       "  lg_iter: KLD_iter (function of type typeof(KLD_iter))\n",
       "  bbopt: BBOpt\n",
       "  track_cost: Bool false\n",
       "  eta: Float64 0.05\n",
       "  rescale: Tuple{Bool, Bool}\n",
       "  d: Int64 8\n",
       "  aux_basis_dim: Int64 2\n",
       "  encoding: SplitBasis\n"
      ]
     },
     "metadata": {},
     "output_type": "display_data"
    }
   ],
   "source": [
    "opts2 = Options(; nsweeps=20, chi_max=20,  update_iters=1, verbosity=0, dtype=Complex{Float64}, lg_iter=KLD_iter,\n",
    "bbopt=BBOpt(\"CustomGD\"), track_cost=false, eta=0.05, rescale = (false, true), d=8, aux_basis_dim=2, encoding=SplitBasis(\"Hist Split\", \"Stoudenmire\"))"
   ]
  },
  {
   "cell_type": "code",
   "execution_count": 190,
   "metadata": {},
   "outputs": [],
   "source": [
    "s = siteinds(8, 5);"
   ]
  },
  {
   "cell_type": "code",
   "execution_count": 191,
   "metadata": {},
   "outputs": [
    {
     "data": {
      "text/plain": [
       "100-element Vector{Int64}:\n",
       " 1\n",
       " 1\n",
       " 1\n",
       " 0\n",
       " 0\n",
       " 1\n",
       " 1\n",
       " 0\n",
       " 0\n",
       " 0\n",
       " ⋮\n",
       " 0\n",
       " 0\n",
       " 1\n",
       " 0\n",
       " 0\n",
       " 1\n",
       " 1\n",
       " 1\n",
       " 0"
      ]
     },
     "metadata": {},
     "output_type": "display_data"
    }
   ],
   "source": [
    "y = rand([0, 1], 100)"
   ]
  },
  {
   "cell_type": "code",
   "execution_count": 193,
   "metadata": {},
   "outputs": [
    {
     "data": {
      "text/plain": [
       "2-element Vector{Vector{Any}}:\n",
       " []\n",
       " [[[0.0, 0.27834939485729887, 0.5066947370921807, 0.722440466035096, 1.0], [0.0, 0.24223656817802391, 0.4130325177894598, 0.6870340301449538, 1.0], [0.0, 0.21062580491740113, 0.3813719028494877, 0.662803990561182, 1.0], [0.0, 0.2101233377462326, 0.44383137800440925, 0.795518780760192, 1.0], [0.0, 0.21706438905822556, 0.48266632064614834, 0.7114139614449508, 1.0]], 2, Basis(Stoudenmire)]"
      ]
     },
     "metadata": {},
     "output_type": "display_data"
    }
   ],
   "source": [
    "enc_args = opts2.encoding.init(dataset, y; opts=opts2)"
   ]
  },
  {
   "cell_type": "code",
   "execution_count": 165,
   "metadata": {},
   "outputs": [
    {
     "data": {
      "text/plain": [
       "8-element Vector{ComplexF64}:\n",
       " -0.10297916915752506 + 0.83865077342183im\n",
       " -0.06518494074249358 - 0.5308588272403406im\n",
       "                  0.0 + 0.0im\n",
       "                  0.0 + 0.0im\n",
       "                  0.0 + 0.0im\n",
       "                  0.0 + 0.0im\n",
       "                  0.0 + 0.0im\n",
       "                  0.0 + 0.0im"
      ]
     },
     "metadata": {},
     "output_type": "display_data"
    }
   ],
   "source": [
    "out_vec = opts.encoding.encode(0.1, opts.d, 1, enc_args...)"
   ]
  },
  {
   "cell_type": "code",
   "execution_count": 185,
   "metadata": {},
   "outputs": [
    {
     "data": {
      "text/plain": [
       "Options\n",
       "  nsweeps: Int64 20\n",
       "  chi_max: Int64 20\n",
       "  cutoff: Float64 1.0e-10\n",
       "  update_iters: Int64 1\n",
       "  verbosity: Int64 0\n",
       "  dtype: ComplexF64 <: Number\n",
       "  lg_iter: KLD_iter (function of type typeof(KLD_iter))\n",
       "  bbopt: BBOpt\n",
       "  track_cost: Bool false\n",
       "  eta: Float64 0.05\n",
       "  rescale: Tuple{Bool, Bool}\n",
       "  d: Int64 2\n",
       "  aux_basis_dim: Int64 2\n",
       "  encoding: Basis\n"
      ]
     },
     "metadata": {},
     "output_type": "display_data"
    }
   ],
   "source": [
    "opts = Options(; nsweeps=20, chi_max=20,  update_iters=1, verbosity=0, dtype=Complex{Float64}, lg_iter=KLD_iter,\n",
    "bbopt=BBOpt(\"CustomGD\"), track_cost=false, eta=0.05, rescale = (false, true), d=2, aux_basis_dim=2, encoding=Basis(\"Stoudenmire\"))"
   ]
  },
  {
   "cell_type": "code",
   "execution_count": 172,
   "metadata": {},
   "outputs": [],
   "source": [
    "enc_args = opts.encoding.init"
   ]
  },
  {
   "cell_type": "code",
   "execution_count": 208,
   "metadata": {},
   "outputs": [
    {
     "data": {
      "text/plain": [
       "get_state (generic function with 3 methods)"
      ]
     },
     "metadata": {},
     "output_type": "display_data"
    }
   ],
   "source": [
    "function get_state(x::Float64, opts::Options)\n",
    "    \"\"\"Get the state for a time independent encoding\"\"\"\n",
    "    if !opts.encoding.istimedependent    \n",
    "        enc_args = []\n",
    "        state = opts.encoding.encode(x, opts.d, enc_args...)\n",
    "    else\n",
    "        error(\"Expected a time independent encoding.\")\n",
    "    end\n",
    "\n",
    "    return state\n",
    "\n",
    "end\n",
    "function get_state(x::Float64, opts::Options, enc_args::Vector{Vector{Any}}, \n",
    "    j::Int)\n",
    "    \"\"\"Get the state for a time dependent encoding\"\"\"\n",
    "    if opts.encoding.istimedependent\n",
    "        state = opts.encoding.encode(x, opts.d, j, enc_args...)\n",
    "    else\n",
    "        error(\"Expected a time dependent encoding.\")\n",
    "    end\n",
    "\n",
    "    return state\n",
    "    \n",
    "end"
   ]
  },
  {
   "cell_type": "code",
   "execution_count": 211,
   "metadata": {},
   "outputs": [
    {
     "data": {
      "text/plain": [
       "8-element Vector{ComplexF64}:\n",
       "                  0.0 + 0.0im\n",
       "                  0.0 + 0.0im\n",
       " -0.04207486899682563 - 0.11192506559274748im\n",
       "   -0.349353757847636 + 0.9293301011850926im\n",
       "                  0.0 + 0.0im\n",
       "                  0.0 + 0.0im\n",
       "                  0.0 + 0.0im\n",
       "                  0.0 + 0.0im"
      ]
     },
     "metadata": {},
     "output_type": "display_data"
    }
   ],
   "source": [
    "out = get_state(0.4, opts2, enc_args, 2)"
   ]
  },
  {
   "cell_type": "code",
   "execution_count": 213,
   "metadata": {},
   "outputs": [
    {
     "data": {
      "text/plain": [
       "(0, 1)"
      ]
     },
     "metadata": {},
     "output_type": "display_data"
    }
   ],
   "source": [
    "opts.encoding.range"
   ]
  },
  {
   "cell_type": "code",
   "execution_count": null,
   "metadata": {},
   "outputs": [],
   "source": []
  }
 ],
 "metadata": {
  "kernelspec": {
   "display_name": "Julia 1.10.2",
   "language": "julia",
   "name": "julia-1.10"
  },
  "language_info": {
   "file_extension": ".jl",
   "mimetype": "application/julia",
   "name": "julia",
   "version": "1.10.2"
  }
 },
 "nbformat": 4,
 "nbformat_minor": 2
}
